{
 "cells": [
  {
   "cell_type": "markdown",
   "metadata": {
    "id": "pyLiOELn3yzE"
   },
   "source": [
    "### **Curso 275 - INTRODUÇÃO A CIENCIA DE DADOS**\n",
    "### SCC - ICMC - USP\n",
    "### 2o. SEMESTRE DE 2021\n",
    "\n",
    "**Profa. Dra. Roseli Ap. Francelin Romero**\n",
    "**Monitor: Kenzo Sakiyama**"
   ]
  },
  {
   "cell_type": "markdown",
   "metadata": {
    "id": "YhIwpfof4AzZ"
   },
   "source": [
    "## **Questão 01**.\n",
    "\n",
    "Considere o dataset `Adult Data Set` disponível no arquivo `adult.csv`. A ideia desse dataset é classificar se um determinado indivíduo recebe mais ou menos de 50.000 dólares/ano (atributo `Income`). **Dados faltantes são representados pelo caractere `?`**. Fazendo uma breve exploração dos dados e responda as seguintes questões comprovando por meio de código correspondente: <br>\n",
    "a) quantos atributos numéricos existem? (0.5) <br> \n",
    "b) quantos atributos categóricos existem? (0.5) <br>\n",
    "c) Se existem dados faltantes, quais são eles e quantos são? (1.0) <br>\n",
    "\n"
   ]
  },
  {
   "cell_type": "code",
   "execution_count": 1,
   "metadata": {
    "id": "ZgG1e4XQm5RI"
   },
   "outputs": [],
   "source": [
    "import pandas as pd"
   ]
  },
  {
   "cell_type": "code",
   "execution_count": 2,
   "metadata": {},
   "outputs": [
    {
     "name": "stdout",
     "output_type": "stream",
     "text": [
      "Existem 9 atributos categóricos\n",
      "Existem 6 atributos numéricos\n",
      "\n",
      "\n",
      "\n",
      "\n",
      "Dados faltantes\n"
     ]
    },
    {
     "data": {
      "text/plain": [
       "age                  0\n",
       "workclass         1836\n",
       "fnlwgt               0\n",
       "education            0\n",
       "education-num        0\n",
       "marital-status       0\n",
       "occupation        1843\n",
       "relationship         0\n",
       "race                 0\n",
       "sex                  0\n",
       "capital-gain         0\n",
       "capital-loss         0\n",
       "hours-per-week       0\n",
       "native-country     583\n",
       "income               0\n",
       "dtype: int64"
      ]
     },
     "execution_count": 2,
     "metadata": {},
     "output_type": "execute_result"
    }
   ],
   "source": [
    "# código de resolução\n",
    "adult_dataset = pd.read_csv(\"adult.csv\")\n",
    "adult_dataset\n",
    "\n",
    "\n",
    "features_categoricos = adult_dataset.dtypes==object\n",
    "features_categoricos = adult_dataset.columns[features_categoricos].tolist()\n",
    "\n",
    "features_numericos = adult_dataset.dtypes!=object\n",
    "features_numericos = adult_dataset.columns[features_numericos].tolist()\n",
    "\n",
    "print(f\"Existem {len(features_categoricos)} atributos categóricos\")\n",
    "print(f\"Existem {len(features_numericos)} atributos numéricos\")\n",
    "\n",
    "\n",
    "print(\"\\n\\n\\n\\nDados faltantes\")\n",
    "adult_dataset[adult_dataset == \"?\"].count()"
   ]
  },
  {
   "cell_type": "markdown",
   "metadata": {
    "id": "9xi1I_T6_M7g"
   },
   "source": [
    "### **Questão 02**.\n",
    "\n",
    "Considere o dataset `Iris` presente no aquivo 'iris.csv'. Determine qual o par de atributos que possui menor correlação de Pearson (em valor absoluto) e qual o valor da correlação. Comprove a resposta por meio de código correspondente. (1.0)\n",
    "\n",
    " "
   ]
  },
  {
   "cell_type": "code",
   "execution_count": 3,
   "metadata": {},
   "outputs": [
    {
     "name": "stdout",
     "output_type": "stream",
     "text": [
      "O atributo com a menor correlação de person é o que tem o sepal width com o sepal length. Tendo um valor absoluto de -0.109369\n"
     ]
    },
    {
     "data": {
      "text/html": [
       "<div>\n",
       "<style scoped>\n",
       "    .dataframe tbody tr th:only-of-type {\n",
       "        vertical-align: middle;\n",
       "    }\n",
       "\n",
       "    .dataframe tbody tr th {\n",
       "        vertical-align: top;\n",
       "    }\n",
       "\n",
       "    .dataframe thead th {\n",
       "        text-align: right;\n",
       "    }\n",
       "</style>\n",
       "<table border=\"1\" class=\"dataframe\">\n",
       "  <thead>\n",
       "    <tr style=\"text-align: right;\">\n",
       "      <th></th>\n",
       "      <th>sepal length</th>\n",
       "      <th>sepal width</th>\n",
       "      <th>petal length</th>\n",
       "      <th>petal width</th>\n",
       "    </tr>\n",
       "  </thead>\n",
       "  <tbody>\n",
       "    <tr>\n",
       "      <th>sepal length</th>\n",
       "      <td>1.000000</td>\n",
       "      <td>-0.109369</td>\n",
       "      <td>0.871754</td>\n",
       "      <td>0.817954</td>\n",
       "    </tr>\n",
       "    <tr>\n",
       "      <th>sepal width</th>\n",
       "      <td>-0.109369</td>\n",
       "      <td>1.000000</td>\n",
       "      <td>-0.420516</td>\n",
       "      <td>-0.356544</td>\n",
       "    </tr>\n",
       "    <tr>\n",
       "      <th>petal length</th>\n",
       "      <td>0.871754</td>\n",
       "      <td>-0.420516</td>\n",
       "      <td>1.000000</td>\n",
       "      <td>0.962757</td>\n",
       "    </tr>\n",
       "    <tr>\n",
       "      <th>petal width</th>\n",
       "      <td>0.817954</td>\n",
       "      <td>-0.356544</td>\n",
       "      <td>0.962757</td>\n",
       "      <td>1.000000</td>\n",
       "    </tr>\n",
       "  </tbody>\n",
       "</table>\n",
       "</div>"
      ],
      "text/plain": [
       "              sepal length  sepal width  petal length  petal width\n",
       "sepal length      1.000000    -0.109369      0.871754     0.817954\n",
       "sepal width      -0.109369     1.000000     -0.420516    -0.356544\n",
       "petal length      0.871754    -0.420516      1.000000     0.962757\n",
       "petal width       0.817954    -0.356544      0.962757     1.000000"
      ]
     },
     "execution_count": 3,
     "metadata": {},
     "output_type": "execute_result"
    },
    {
     "data": {
      "image/png": "[encoded data removed]",
      "text/plain": [
       "<Figure size 432x288 with 2 Axes>"
      ]
     },
     "metadata": {
      "needs_background": "light"
     },
     "output_type": "display_data"
    }
   ],
   "source": [
    "import numpy as np\n",
    "import seaborn as sns\n",
    "import matplotlib.pyplot as plt\n",
    "\n",
    "iris_dataset = pd.read_csv(\"iris.csv\")\n",
    "correlations = iris_dataset.corr(method='pearson')\n",
    "\n",
    "sns.heatmap(correlations)\n",
    "\n",
    "print(\"O atributo com a menor correlação de person é o que tem o sepal width com o sepal length. Tendo um valor absoluto de -0.109369\")\n",
    "correlations"
   ]
  },
  {
   "cell_type": "markdown",
   "metadata": {
    "id": "cYrnJF-Q4msx"
   },
   "source": [
    "## **Questão 03**.\n",
    "Considere o conjunto de regressão houses_to_rent modificado, disponível no arquivo houses_modified.csv. A ideia desse dataset é estimar o valor de alguel (rent amount (R$)) de um determinado imóvel. Para essa questão você deve:\n",
    "\n",
    "Carregue o arquivo em um dataframe. Pede-se: <br>\n",
    "a) gerar um gráfico do tipo boxplot para o atributo rent amount (R$). (0.5) <br>\n",
    "b) com base no boxplot, o que se pode dizer sobre o tipo de distribuição dos dados em termos da medida de obliquidade. Justifique sua resposta por meio de código correspondente. (1.5)\n",
    " "
   ]
  },
  {
   "cell_type": "code",
   "execution_count": 4,
   "metadata": {},
   "outputs": [
    {
     "name": "stderr",
     "output_type": "stream",
     "text": [
      "/opt/anaconda/lib/python3.8/site-packages/seaborn/_decorators.py:36: FutureWarning: Pass the following variable as a keyword arg: x. From version 0.12, the only valid positional argument will be `data`, and passing other arguments without an explicit keyword will result in an error or misinterpretation.\n",
      "  warnings.warn(\n"
     ]
    },
    {
     "data": {
      "image/png": "[encoded data removed]",
      "text/plain": [
       "<Figure size 432x288 with 1 Axes>"
      ]
     },
     "metadata": {
      "needs_background": "light"
     },
     "output_type": "display_data"
    },
    {
     "name": "stdout",
     "output_type": "stream",
     "text": [
      "Olhando pro valor de obliquidade pode-ser dizer que os dados estão voltados mais esquerda, apresentando obliquidade positiva igual a: 1.8388773035440982\n"
     ]
    }
   ],
   "source": [
    "\n",
    "houses_modified = pd.read_csv(\"houses_modified.csv\")\n",
    "\n",
    "plt.grid()\n",
    "sns.boxplot(houses_modified[\"rent amount (R$)\"])\n",
    "plt.show()\n",
    "\n",
    "print(f\"Olhando pro valor de obliquidade pode-ser dizer que os dados estão voltados mais esquerda, apresentando obliquidade positiva igual a: {houses_modified['rent amount (R$)'].skew()}\")"
   ]
  },
  {
   "cell_type": "markdown",
   "metadata": {
    "id": "mbHlibuO4yMn"
   },
   "source": [
    "## **Questão 04**.\n",
    "Suponha que em um problema de classificação binária de um dataset balanceado, um cientista de dados treinou três modelos diferentes e obteve as seguintes acurácias em um determinado conjunto de treino/teste:\n",
    "\n",
    "Modelo A: Treino = 0.95, Teste = 0.38 <br>\n",
    "Modelo B: Treino = 0.75, Teste = 0.74 <br>\n",
    "Modelo C: Treino = 0.35, Teste = 0.75 <br>\n",
    "\n",
    "Dentre os modelos avaliados, qual seria o melhor? Justifique sua resposta. (2.0)\n",
    "\n",
    " "
   ]
  },
  {
   "cell_type": "code",
   "execution_count": 5,
   "metadata": {},
   "outputs": [
    {
     "name": "stdout",
     "output_type": "stream",
     "text": [
      "O modelo B seria o melhor porque ele apresenta uma boa acurácia na parte de treino e na parte de teste. Valores muito distoantes entre o teste e o treino pode indicar ou uma memorização dos resultados (quando o valor do treino é muito maior do que o do treino, como no modelo A) ou que ele ainda não 'aprendeu' o suficiente (como no modelo C)\n"
     ]
    }
   ],
   "source": [
    "print(\"O modelo B seria o melhor porque ele apresenta uma boa acurácia na parte de treino e na parte de teste. Valores muito distoantes entre o teste e o treino pode indicar ou uma memorização dos resultados (quando o valor do treino é muito maior do que o do treino, como no modelo A) ou que ele ainda não 'aprendeu' o suficiente (como no modelo C)\")"
   ]
  },
  {
   "cell_type": "markdown",
   "metadata": {
    "id": "Fs9zof1I5oOF"
   },
   "source": [
    "## **Questão 5**\n",
    "\n",
    "Compare dois classificadores na base dados Breast Cancer e indique o mais adequado para a base de dados (3.0). Siga as instruções: \n",
    "\n",
    "- Utilize os códigos disponíveis para carregar e processar os dados.\n",
    "- Utilize os modelos SVM e KNN com os parâmetros padrão do sklearn.\n",
    "- Escolha uma técnica de validação cruzada para avaliar os modelos (ex:  *train test split* [(holdout)](https://scikit-learn.org/stable/modules/generated/sklearn.model_selection.train_test_split.html#sklearn.model_selection.train_test_split) , [K-fold](https://scikit-learn.org/stable/modules/generated/sklearn.model_selection.KFold.html) ou [Stratified K-Fold](https://scikit-learn.org/stable/modules/generated/sklearn.model_selection.StratifiedKFold.html#sklearn.model_selection.StratifiedKFold)  para K=10).\n",
    "- Escolha uma métrica adequada para classificação para comparar os modelos (ex: acurácia, precisão, revocação ou AUC.)\n",
    "\n",
    "<!-- Execute o código abaixo que projeta dois classificadores: SVM e KNN (usando os parâmetros padrão do sklearn) na base de dados Breast Cancer, e obtenha o score dos modelos obtidos no conjunto de treinamento.\n",
    "\n",
    "Investige os modelos criados de acordo com a capacidade de se ajustar aos dados de treinamento e estime a generalização utilizando o conjunto de teste. Você também pode usar outras técnicas de avaliação, como validação cruzada (com 5 ou 10 folds por exemplo).\n",
    "\n",
    "Com base na sua investigação escolha, indique o modelo mais adequado a ser escolhido, justificando sua escolha. -->\n",
    "\n",
    "\n"
   ]
  },
  {
   "cell_type": "markdown",
   "metadata": {
    "id": "1GQyUw-cFkdW"
   },
   "source": [
    "## Carregando conjunto de dados"
   ]
  },
  {
   "cell_type": "code",
   "execution_count": 6,
   "metadata": {
    "id": "XofPrNsC-Qkt"
   },
   "outputs": [],
   "source": [
    "from sklearn.datasets import load_breast_cancer"
   ]
  },
  {
   "cell_type": "code",
   "execution_count": 7,
   "metadata": {
    "id": "FcuCNClK-3y0"
   },
   "outputs": [],
   "source": [
    "# Carregando os dados\n",
    "raw_data = load_breast_cancer()\n",
    "df = pd.DataFrame(raw_data.data, columns=raw_data.feature_names)\n",
    "df[\"class\"] = raw_data.target"
   ]
  },
  {
   "cell_type": "code",
   "execution_count": 8,
   "metadata": {
    "colab": {
     "base_uri": "https://localhost:8080/",
     "height": 261
    },
    "id": "5xJVyoEW-3vU",
    "outputId": "2b380e0e-f964-4803-a1c6-11118a7fa347"
   },
   "outputs": [
    {
     "data": {
      "text/html": [
       "<div>\n",
       "<style scoped>\n",
       "    .dataframe tbody tr th:only-of-type {\n",
       "        vertical-align: middle;\n",
       "    }\n",
       "\n",
       "    .dataframe tbody tr th {\n",
       "        vertical-align: top;\n",
       "    }\n",
       "\n",
       "    .dataframe thead th {\n",
       "        text-align: right;\n",
       "    }\n",
       "</style>\n",
       "<table border=\"1\" class=\"dataframe\">\n",
       "  <thead>\n",
       "    <tr style=\"text-align: right;\">\n",
       "      <th></th>\n",
       "      <th>mean radius</th>\n",
       "      <th>mean texture</th>\n",
       "      <th>mean perimeter</th>\n",
       "      <th>mean area</th>\n",
       "      <th>mean smoothness</th>\n",
       "      <th>mean compactness</th>\n",
       "      <th>mean concavity</th>\n",
       "      <th>mean concave points</th>\n",
       "      <th>mean symmetry</th>\n",
       "      <th>mean fractal dimension</th>\n",
       "      <th>...</th>\n",
       "      <th>worst texture</th>\n",
       "      <th>worst perimeter</th>\n",
       "      <th>worst area</th>\n",
       "      <th>worst smoothness</th>\n",
       "      <th>worst compactness</th>\n",
       "      <th>worst concavity</th>\n",
       "      <th>worst concave points</th>\n",
       "      <th>worst symmetry</th>\n",
       "      <th>worst fractal dimension</th>\n",
       "      <th>class</th>\n",
       "    </tr>\n",
       "  </thead>\n",
       "  <tbody>\n",
       "    <tr>\n",
       "      <th>0</th>\n",
       "      <td>17.99</td>\n",
       "      <td>10.38</td>\n",
       "      <td>122.80</td>\n",
       "      <td>1001.0</td>\n",
       "      <td>0.11840</td>\n",
       "      <td>0.27760</td>\n",
       "      <td>0.3001</td>\n",
       "      <td>0.14710</td>\n",
       "      <td>0.2419</td>\n",
       "      <td>0.07871</td>\n",
       "      <td>...</td>\n",
       "      <td>17.33</td>\n",
       "      <td>184.60</td>\n",
       "      <td>2019.0</td>\n",
       "      <td>0.1622</td>\n",
       "      <td>0.6656</td>\n",
       "      <td>0.7119</td>\n",
       "      <td>0.2654</td>\n",
       "      <td>0.4601</td>\n",
       "      <td>0.11890</td>\n",
       "      <td>0</td>\n",
       "    </tr>\n",
       "    <tr>\n",
       "      <th>1</th>\n",
       "      <td>20.57</td>\n",
       "      <td>17.77</td>\n",
       "      <td>132.90</td>\n",
       "      <td>1326.0</td>\n",
       "      <td>0.08474</td>\n",
       "      <td>0.07864</td>\n",
       "      <td>0.0869</td>\n",
       "      <td>0.07017</td>\n",
       "      <td>0.1812</td>\n",
       "      <td>0.05667</td>\n",
       "      <td>...</td>\n",
       "      <td>23.41</td>\n",
       "      <td>158.80</td>\n",
       "      <td>1956.0</td>\n",
       "      <td>0.1238</td>\n",
       "      <td>0.1866</td>\n",
       "      <td>0.2416</td>\n",
       "      <td>0.1860</td>\n",
       "      <td>0.2750</td>\n",
       "      <td>0.08902</td>\n",
       "      <td>0</td>\n",
       "    </tr>\n",
       "    <tr>\n",
       "      <th>2</th>\n",
       "      <td>19.69</td>\n",
       "      <td>21.25</td>\n",
       "      <td>130.00</td>\n",
       "      <td>1203.0</td>\n",
       "      <td>0.10960</td>\n",
       "      <td>0.15990</td>\n",
       "      <td>0.1974</td>\n",
       "      <td>0.12790</td>\n",
       "      <td>0.2069</td>\n",
       "      <td>0.05999</td>\n",
       "      <td>...</td>\n",
       "      <td>25.53</td>\n",
       "      <td>152.50</td>\n",
       "      <td>1709.0</td>\n",
       "      <td>0.1444</td>\n",
       "      <td>0.4245</td>\n",
       "      <td>0.4504</td>\n",
       "      <td>0.2430</td>\n",
       "      <td>0.3613</td>\n",
       "      <td>0.08758</td>\n",
       "      <td>0</td>\n",
       "    </tr>\n",
       "    <tr>\n",
       "      <th>3</th>\n",
       "      <td>11.42</td>\n",
       "      <td>20.38</td>\n",
       "      <td>77.58</td>\n",
       "      <td>386.1</td>\n",
       "      <td>0.14250</td>\n",
       "      <td>0.28390</td>\n",
       "      <td>0.2414</td>\n",
       "      <td>0.10520</td>\n",
       "      <td>0.2597</td>\n",
       "      <td>0.09744</td>\n",
       "      <td>...</td>\n",
       "      <td>26.50</td>\n",
       "      <td>98.87</td>\n",
       "      <td>567.7</td>\n",
       "      <td>0.2098</td>\n",
       "      <td>0.8663</td>\n",
       "      <td>0.6869</td>\n",
       "      <td>0.2575</td>\n",
       "      <td>0.6638</td>\n",
       "      <td>0.17300</td>\n",
       "      <td>0</td>\n",
       "    </tr>\n",
       "    <tr>\n",
       "      <th>4</th>\n",
       "      <td>20.29</td>\n",
       "      <td>14.34</td>\n",
       "      <td>135.10</td>\n",
       "      <td>1297.0</td>\n",
       "      <td>0.10030</td>\n",
       "      <td>0.13280</td>\n",
       "      <td>0.1980</td>\n",
       "      <td>0.10430</td>\n",
       "      <td>0.1809</td>\n",
       "      <td>0.05883</td>\n",
       "      <td>...</td>\n",
       "      <td>16.67</td>\n",
       "      <td>152.20</td>\n",
       "      <td>1575.0</td>\n",
       "      <td>0.1374</td>\n",
       "      <td>0.2050</td>\n",
       "      <td>0.4000</td>\n",
       "      <td>0.1625</td>\n",
       "      <td>0.2364</td>\n",
       "      <td>0.07678</td>\n",
       "      <td>0</td>\n",
       "    </tr>\n",
       "  </tbody>\n",
       "</table>\n",
       "<p>5 rows × 31 columns</p>\n",
       "</div>"
      ],
      "text/plain": [
       "   mean radius  mean texture  mean perimeter  mean area  mean smoothness  \\\n",
       "0        17.99         10.38          122.80     1001.0          0.11840   \n",
       "1        20.57         17.77          132.90     1326.0          0.08474   \n",
       "2        19.69         21.25          130.00     1203.0          0.10960   \n",
       "3        11.42         20.38           77.58      386.1          0.14250   \n",
       "4        20.29         14.34          135.10     1297.0          0.10030   \n",
       "\n",
       "   mean compactness  mean concavity  mean concave points  mean symmetry  \\\n",
       "0           0.27760          0.3001              0.14710         0.2419   \n",
       "1           0.07864          0.0869              0.07017         0.1812   \n",
       "2           0.15990          0.1974              0.12790         0.2069   \n",
       "3           0.28390          0.2414              0.10520         0.2597   \n",
       "4           0.13280          0.1980              0.10430         0.1809   \n",
       "\n",
       "   mean fractal dimension  ...  worst texture  worst perimeter  worst area  \\\n",
       "0                 0.07871  ...          17.33           184.60      2019.0   \n",
       "1                 0.05667  ...          23.41           158.80      1956.0   \n",
       "2                 0.05999  ...          25.53           152.50      1709.0   \n",
       "3                 0.09744  ...          26.50            98.87       567.7   \n",
       "4                 0.05883  ...          16.67           152.20      1575.0   \n",
       "\n",
       "   worst smoothness  worst compactness  worst concavity  worst concave points  \\\n",
       "0            0.1622             0.6656           0.7119                0.2654   \n",
       "1            0.1238             0.1866           0.2416                0.1860   \n",
       "2            0.1444             0.4245           0.4504                0.2430   \n",
       "3            0.2098             0.8663           0.6869                0.2575   \n",
       "4            0.1374             0.2050           0.4000                0.1625   \n",
       "\n",
       "   worst symmetry  worst fractal dimension  class  \n",
       "0          0.4601                  0.11890      0  \n",
       "1          0.2750                  0.08902      0  \n",
       "2          0.3613                  0.08758      0  \n",
       "3          0.6638                  0.17300      0  \n",
       "4          0.2364                  0.07678      0  \n",
       "\n",
       "[5 rows x 31 columns]"
      ]
     },
     "execution_count": 8,
     "metadata": {},
     "output_type": "execute_result"
    }
   ],
   "source": [
    "df.head()"
   ]
  },
  {
   "cell_type": "markdown",
   "metadata": {
    "id": "r_w1AZTKFnWv"
   },
   "source": [
    "## Definindo pre-processamento simples"
   ]
  },
  {
   "cell_type": "code",
   "execution_count": 9,
   "metadata": {
    "id": "2ChFdvTa_Tib"
   },
   "outputs": [],
   "source": [
    "# Preprocessamento simples\n",
    "from sklearn.preprocessing import MinMaxScaler, StandardScaler\n",
    "\n",
    "def preprocess(x, y):\n",
    "    scaler = MinMaxScaler()\n",
    "    scaler.fit(x)\n",
    "\n",
    "    x_novo = scaler.transform(x)\n",
    "    y_novo = y\n",
    "    \n",
    "    return x_novo, y_novo"
   ]
  },
  {
   "cell_type": "markdown",
   "metadata": {
    "id": "sCTHTBf-FrgV"
   },
   "source": [
    "## Comparação de modelos de aprendizado de máquina"
   ]
  },
  {
   "cell_type": "code",
   "execution_count": 10,
   "metadata": {
    "id": "XVrTWXkr7lkR",
    "scrolled": true
   },
   "outputs": [],
   "source": [
    "from sklearn.svm import SVC\n",
    "from sklearn.neighbors import KNeighborsClassifier\n",
    "from sklearn import datasets, metrics\n",
    "from sklearn.model_selection import train_test_split, KFold, StratifiedKFold\n",
    "import numpy as np\n",
    "import matplotlib.pyplot as plt\n",
    "\n",
    "# Configurando seed para que os experimentos sejam reprodutíveis. NÃO MODIFICAR!\n",
    "np.random.seed(1234)\n",
    "\n",
    "X = df.drop(columns=\"class\").values\n",
    "y = df[\"class\"].values\n",
    "\n",
    "\n",
    "classificadores = {\n",
    "  \"SVC\" : {\"modelo\": SVC(), \"precision_score\": [], \"accuracy_score\": [],  \"recall_score\": []},\n",
    "  \"KNN k=5\" : {\"modelo\": KNeighborsClassifier(n_neighbors=5, n_jobs=-1 ),  \n",
    "               \"precision_score\": [], \"accuracy_score\": [],  \"recall_score\": []}\n",
    "}\n",
    "\n",
    "kf = KFold(n_splits = 10)\n",
    "for train_index, test_index in kf.split(X):\n",
    "    for classificador_name in classificadores:\n",
    "        X_train, X_test = X[train_index], X[test_index]\n",
    "        y_train, y_test = y[train_index], y[test_index]\n",
    "\n",
    "        classificadores[classificador_name][\"modelo\"].fit(X=X_train, y=y_train) # 2) Fit\n",
    "\n",
    "        # valores preditos pelo classificador\n",
    "        y_pred = classificadores[classificador_name][\"modelo\"].predict(X_test)  # 3) Predict\n",
    "        y_test = np.array(y_test)\n",
    "        \n",
    "        \n",
    "        # Classificadores\n",
    "        classificadores[classificador_name][\"precision_score\"].append(metrics.precision_score(y_test, y_pred))\n",
    "        classificadores[classificador_name][\"accuracy_score\"].append(metrics.accuracy_score(y_test, y_pred))\n",
    "        classificadores[classificador_name][\"recall_score\"].append(metrics.recall_score(y_test, y_pred))\n",
    "        "
   ]
  },
  {
   "cell_type": "code",
   "execution_count": 11,
   "metadata": {
    "id": "oyxQQ-ysAF-q"
   },
   "outputs": [
    {
     "name": "stdout",
     "output_type": "stream",
     "text": [
      "SVC\n",
      "Precision score: 87.68%\n",
      "Accuracy score: 91.58%\n",
      "Recall score: 98.29%\n",
      "\n",
      "\n",
      "\n",
      "\n",
      "\n",
      "Precision score: 90.42%\n",
      "Accuracy score: 92.63%\n",
      "Recall score: 96.41%\n"
     ]
    }
   ],
   "source": [
    "print(\"SVC\")\n",
    "\n",
    "print(\"Precision score: {:.2f}%\".format(100 * np.mean(classificadores[\"SVC\"][\"precision_score\"])))\n",
    "print(\"Accuracy score: {:.2f}%\".format(100 * np.mean(classificadores[\"SVC\"][\"accuracy_score\"])))\n",
    "print(\"Recall score: {:.2f}%\".format(100 * np.mean(classificadores[\"SVC\"][\"recall_score\"])))\n",
    "\n",
    "print(\"\\n\\n\\n\\n\")\n",
    "print(\"Precision score: {:.2f}%\".format(100 * np.mean(classificadores[\"KNN k=5\"][\"precision_score\"])))\n",
    "print(\"Accuracy score: {:.2f}%\".format(100 * np.mean(classificadores[\"KNN k=5\"][\"accuracy_score\"])))\n",
    "print(\"Recall score: {:.2f}%\".format(100 * np.mean(classificadores[\"KNN k=5\"][\"recall_score\"])))\n"
   ]
  },
  {
   "cell_type": "code",
   "execution_count": null,
   "metadata": {},
   "outputs": [],
   "source": []
  }
 ],
 "metadata": {
  "colab": {
   "collapsed_sections": [],
   "name": "Prova2CD_21.ipynb",
   "provenance": []
  },
  "kernelspec": {
   "display_name": "Python 3",
   "language": "python",
   "name": "python3"
  },
  "language_info": {
   "codemirror_mode": {
    "name": "ipython",
    "version": 3
   },
   "file_extension": ".py",
   "mimetype": "text/x-python",
   "name": "python",
   "nbconvert_exporter": "python",
   "pygments_lexer": "ipython3",
   "version": "3.8.8"
  }
 },
 "nbformat": 4,
 "nbformat_minor": 1
}
