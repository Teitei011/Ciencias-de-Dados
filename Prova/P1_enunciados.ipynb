{
 "cells": [
  {
   "cell_type": "markdown",
   "metadata": {},
   "source": [
    "# SCC0275: Introdução a Ciência de Dados - 2o Semestre de 2021\n",
    "\n",
    "# P1\n",
    "\n",
    "### Profa. Roseli A. F. Romero\n",
    "\n",
    "### Monitor: Kenzo Sakiyama\n",
    "\n",
    "Alunos:\n",
    "\n",
    "\n",
    "1.   Stefan Taiguara Couperus Leal - 10414866\n"
   ]
  },
  {
   "cell_type": "markdown",
   "metadata": {},
   "source": [
    "# Parte 1\n",
    "\n",
    "Suponha que duas cidades diferentes tenham te fornecido as temperaturas máximas (celsius) durante diferente dias do ano.\n",
    "Os dados foram disponibilizados no arquivo \"cidades.csv\".\n",
    "\n",
    "As leituras estão em ordem cronológica, porém, o sensor da cidade 1 falhou em alguns dias."
   ]
  },
  {
   "cell_type": "markdown",
   "metadata": {},
   "source": [
    "# Questão 1\n",
    "\n",
    "- a) Para a cidade 1, substitua os valores ausentes pela média das leituras do dia anterior e do dia seguinte.  (1 pt)\n",
    "- b) Calcule a média e a variância de temperatura no ano para cada cidade. (1 pt)\n"
   ]
  },
  {
   "cell_type": "code",
   "execution_count": 1,
   "metadata": {},
   "outputs": [],
   "source": [
    "import matplotlib.pyplot as plt\n",
    "import seaborn as sns\n",
    "import pandas as pd\n",
    "import numpy as np\n"
   ]
  },
  {
   "cell_type": "code",
   "execution_count": 2,
   "metadata": {},
   "outputs": [
    {
     "data": {
      "text/html": [
       "<div>\n",
       "<style scoped>\n",
       "    .dataframe tbody tr th:only-of-type {\n",
       "        vertical-align: middle;\n",
       "    }\n",
       "\n",
       "    .dataframe tbody tr th {\n",
       "        vertical-align: top;\n",
       "    }\n",
       "\n",
       "    .dataframe thead th {\n",
       "        text-align: right;\n",
       "    }\n",
       "</style>\n",
       "<table border=\"1\" class=\"dataframe\">\n",
       "  <thead>\n",
       "    <tr style=\"text-align: right;\">\n",
       "      <th></th>\n",
       "      <th>Temperatura_C1</th>\n",
       "      <th>Temperatura_C2</th>\n",
       "    </tr>\n",
       "  </thead>\n",
       "  <tbody>\n",
       "    <tr>\n",
       "      <th>0</th>\n",
       "      <td>9.404436</td>\n",
       "      <td>35.023209</td>\n",
       "    </tr>\n",
       "    <tr>\n",
       "      <th>1</th>\n",
       "      <td>24.284961</td>\n",
       "      <td>21.885523</td>\n",
       "    </tr>\n",
       "    <tr>\n",
       "      <th>2</th>\n",
       "      <td>28.210288</td>\n",
       "      <td>37.283873</td>\n",
       "    </tr>\n",
       "    <tr>\n",
       "      <th>3</th>\n",
       "      <td>4.463036</td>\n",
       "      <td>20.855662</td>\n",
       "    </tr>\n",
       "    <tr>\n",
       "      <th>4</th>\n",
       "      <td>25.764866</td>\n",
       "      <td>22.793028</td>\n",
       "    </tr>\n",
       "    <tr>\n",
       "      <th>...</th>\n",
       "      <td>...</td>\n",
       "      <td>...</td>\n",
       "    </tr>\n",
       "    <tr>\n",
       "      <th>360</th>\n",
       "      <td>24.985491</td>\n",
       "      <td>21.498136</td>\n",
       "    </tr>\n",
       "    <tr>\n",
       "      <th>361</th>\n",
       "      <td>21.459225</td>\n",
       "      <td>37.876996</td>\n",
       "    </tr>\n",
       "    <tr>\n",
       "      <th>362</th>\n",
       "      <td>21.590632</td>\n",
       "      <td>24.468403</td>\n",
       "    </tr>\n",
       "    <tr>\n",
       "      <th>363</th>\n",
       "      <td>20.679643</td>\n",
       "      <td>21.403285</td>\n",
       "    </tr>\n",
       "    <tr>\n",
       "      <th>364</th>\n",
       "      <td>25.984384</td>\n",
       "      <td>22.667860</td>\n",
       "    </tr>\n",
       "  </tbody>\n",
       "</table>\n",
       "<p>365 rows × 2 columns</p>\n",
       "</div>"
      ],
      "text/plain": [
       "     Temperatura_C1  Temperatura_C2\n",
       "0          9.404436       35.023209\n",
       "1         24.284961       21.885523\n",
       "2         28.210288       37.283873\n",
       "3          4.463036       20.855662\n",
       "4         25.764866       22.793028\n",
       "..              ...             ...\n",
       "360       24.985491       21.498136\n",
       "361       21.459225       37.876996\n",
       "362       21.590632       24.468403\n",
       "363       20.679643       21.403285\n",
       "364       25.984384       22.667860\n",
       "\n",
       "[365 rows x 2 columns]"
      ]
     },
     "execution_count": 2,
     "metadata": {},
     "output_type": "execute_result"
    }
   ],
   "source": [
    "cidades_df = pd.read_csv(\"cidades.csv\", index_col=0)\n",
    "cidades_df"
   ]
  },
  {
   "cell_type": "code",
   "execution_count": 3,
   "metadata": {},
   "outputs": [
    {
     "name": "stdout",
     "output_type": "stream",
     "text": [
      "Cidade 1\n",
      "Média: 24.01263872662399\n",
      "Variância: 58.03887191610903\n",
      "\n",
      "\n",
      "\n",
      "Cidade 2\n",
      "Média: 27.82079587783114\n",
      "Variância: 47.662194949961105\n"
     ]
    },
    {
     "name": "stderr",
     "output_type": "stream",
     "text": [
      "/tmp/ipykernel_47861/3146638100.py:5: SettingWithCopyWarning: \n",
      "A value is trying to be set on a copy of a slice from a DataFrame\n",
      "\n",
      "See the caveats in the documentation: https://pandas.pydata.org/pandas-docs/stable/user_guide/indexing.html#returning-a-view-versus-a-copy\n",
      "  cidades_df['Temperatura_C1'][i] = (cidades_df['Temperatura_C1'][i - 1] + cidades_df['Temperatura_C1'][i + 1]) / 2\n"
     ]
    }
   ],
   "source": [
    "# código de solução\n",
    "cidades_df.fillna(\"nan\",inplace=True)\n",
    "for i in range(len(cidades_df)):\n",
    "    if (cidades_df['Temperatura_C1'][i] == \"nan\"):\n",
    "        cidades_df['Temperatura_C1'][i] = (cidades_df['Temperatura_C1'][i - 1] + cidades_df['Temperatura_C1'][i + 1]) / 2\n",
    "\n",
    "\n",
    "# Média e variancia para cada cidade\n",
    "\n",
    "print(\"Cidade 1\")\n",
    "print(f\"Média: {np.mean(cidades_df['Temperatura_C1'])}\")\n",
    "print(f\"Variância: {np.var(cidades_df['Temperatura_C1'])}\")\n",
    "\n",
    "print(\"\\n\\n\\nCidade 2\")\n",
    "print(f\"Média: {np.mean(cidades_df['Temperatura_C2'])}\")\n",
    "print(f\"Variância: {np.var(cidades_df['Temperatura_C2'])}\")"
   ]
  },
  {
   "cell_type": "markdown",
   "metadata": {},
   "source": [
    "# Questão 2.\n",
    "\n",
    "- a) Analisando os valores de temperatura para a cidade 2, pode-se se dizer que os dados são multimodais (mais de uma moda)? Justifique. (1 pt)\n",
    "    - Sugestão: Visualize os dados através de um histograma.\n",
    "- b) Determine a quantidade de dias quentes para cada cidade. Consideramos um dia como quente caso sua temperatura máxima tenha sido maior ou igual 25 graus celsius. (1 pt)\n"
   ]
  },
  {
   "cell_type": "code",
   "execution_count": 4,
   "metadata": {},
   "outputs": [
    {
     "name": "stdout",
     "output_type": "stream",
     "text": [
      "Sim, os dados são multimodais como mostra o histograma abaixo\n",
      "A cidade c1 teve 173 dias quentes\n",
      "A cidade c2 teve 228 dias quentes\n"
     ]
    },
    {
     "data": {
      "image/png": "[encoded data removed]",
      "text/plain": [
       "<Figure size 432x288 with 1 Axes>"
      ]
     },
     "metadata": {
      "needs_background": "light"
     },
     "output_type": "display_data"
    }
   ],
   "source": [
    "# código de solução\n",
    "cidades_df[\"Temperatura_C2\"].hist()\n",
    "\n",
    "print(\"Sim, os dados são multimodais como mostra o histograma abaixo\")\n",
    "\n",
    "\n",
    "dias_quentes_c2 =  np.count_nonzero(cidades_df[\"Temperatura_C2\"] <= 25)\n",
    "dias_quentes_c1 = np.count_nonzero(cidades_df[\"Temperatura_C1\"] <= 25)\n",
    "\n",
    "print(f\"A cidade c1 teve {dias_quentes_c1} dias quentes\")\n",
    "print(f\"A cidade c2 teve {dias_quentes_c2} dias quentes\")"
   ]
  },
  {
   "cell_type": "markdown",
   "metadata": {},
   "source": [
    "# Questão 3\n",
    "\n",
    "- a) Faça um boxplot para os valores de temperatura de cada cidade. Em seguida, identifique qual das cidades possui a maior quantidade de outliers nos seus valores de temperatura. Justifique. (1 pt)\n",
    "- b) Com base no boxplot gerado para a cidade 1, qual é o valor aproximado do quartil Q2? (0.5 pt)\n",
    "- c) Com base no boxplot gerado para a cidade 2, qual é o valor do quartil Q3? (0.5 pt)"
   ]
  },
  {
   "cell_type": "markdown",
   "metadata": {},
   "source": [
    "* **a)** A cidade que tem mais outliers é a cidade c1, como se observa pelo boxplot da mesma"
   ]
  },
  {
   "cell_type": "code",
   "execution_count": 5,
   "metadata": {},
   "outputs": [
    {
     "name": "stdout",
     "output_type": "stream",
     "text": [
      "Q2 da cidade 1 é 25\n"
     ]
    },
    {
     "data": {
      "image/png": "[encoded data removed]",
      "text/plain": [
       "<Figure size 432x288 with 1 Axes>"
      ]
     },
     "metadata": {},
     "output_type": "display_data"
    }
   ],
   "source": [
    "# código de solução\n",
    "sns.set_theme(style=\"whitegrid\")\n",
    "ax= sns.boxplot(x=cidades_df[\"Temperatura_C1\"])\n",
    "\n",
    "print(\"Q2 da cidade 1 é 25\")"
   ]
  },
  {
   "cell_type": "code",
   "execution_count": 6,
   "metadata": {},
   "outputs": [
    {
     "name": "stdout",
     "output_type": "stream",
     "text": [
      "O Q3 da cidade 2 é 36\n"
     ]
    },
    {
     "data": {
      "image/png": "[encoded data removed]",
      "text/plain": [
       "<Figure size 432x288 with 1 Axes>"
      ]
     },
     "metadata": {},
     "output_type": "display_data"
    }
   ],
   "source": [
    "sns.boxplot(x = cidades_df[\"Temperatura_C2\"])\n",
    "print(\"O Q3 da cidade 2 é 36\")"
   ]
  },
  {
   "cell_type": "markdown",
   "metadata": {},
   "source": [
    "# Parte 2\n",
    "\n",
    "O dataset \"Breast Cancer Wisconsin\" é um dataset que contém 699 instâncias, cada uma com 10 atributos númericos e 1 atributo correspondente a classe. A idéia do dataset é conseguir classificar um tumor como benigno ou maligno a partir de 10 variáveis descritivas. Foi adicionado um cabeçalho no arquivo original para facilitar seu manuseio."
   ]
  },
  {
   "cell_type": "code",
   "execution_count": 7,
   "metadata": {},
   "outputs": [
    {
     "data": {
      "text/html": [
       "<div>\n",
       "<style scoped>\n",
       "    .dataframe tbody tr th:only-of-type {\n",
       "        vertical-align: middle;\n",
       "    }\n",
       "\n",
       "    .dataframe tbody tr th {\n",
       "        vertical-align: top;\n",
       "    }\n",
       "\n",
       "    .dataframe thead th {\n",
       "        text-align: right;\n",
       "    }\n",
       "</style>\n",
       "<table border=\"1\" class=\"dataframe\">\n",
       "  <thead>\n",
       "    <tr style=\"text-align: right;\">\n",
       "      <th></th>\n",
       "      <th>id</th>\n",
       "      <th>clump_thickness</th>\n",
       "      <th>u_cell_size</th>\n",
       "      <th>u_cell_shape</th>\n",
       "      <th>marg_adhesion</th>\n",
       "      <th>epi_cell_size</th>\n",
       "      <th>bare_nuclei</th>\n",
       "      <th>bland_chrom</th>\n",
       "      <th>norm_nucl</th>\n",
       "      <th>mitoses</th>\n",
       "      <th>class</th>\n",
       "    </tr>\n",
       "  </thead>\n",
       "  <tbody>\n",
       "    <tr>\n",
       "      <th>0</th>\n",
       "      <td>1000025</td>\n",
       "      <td>5</td>\n",
       "      <td>1</td>\n",
       "      <td>1</td>\n",
       "      <td>1</td>\n",
       "      <td>2</td>\n",
       "      <td>1.0</td>\n",
       "      <td>3</td>\n",
       "      <td>1</td>\n",
       "      <td>1</td>\n",
       "      <td>2</td>\n",
       "    </tr>\n",
       "    <tr>\n",
       "      <th>1</th>\n",
       "      <td>1002945</td>\n",
       "      <td>5</td>\n",
       "      <td>4</td>\n",
       "      <td>4</td>\n",
       "      <td>5</td>\n",
       "      <td>7</td>\n",
       "      <td>10.0</td>\n",
       "      <td>3</td>\n",
       "      <td>2</td>\n",
       "      <td>1</td>\n",
       "      <td>2</td>\n",
       "    </tr>\n",
       "    <tr>\n",
       "      <th>2</th>\n",
       "      <td>1015425</td>\n",
       "      <td>3</td>\n",
       "      <td>1</td>\n",
       "      <td>1</td>\n",
       "      <td>1</td>\n",
       "      <td>2</td>\n",
       "      <td>2.0</td>\n",
       "      <td>3</td>\n",
       "      <td>1</td>\n",
       "      <td>1</td>\n",
       "      <td>2</td>\n",
       "    </tr>\n",
       "    <tr>\n",
       "      <th>3</th>\n",
       "      <td>1016277</td>\n",
       "      <td>6</td>\n",
       "      <td>8</td>\n",
       "      <td>8</td>\n",
       "      <td>1</td>\n",
       "      <td>3</td>\n",
       "      <td>4.0</td>\n",
       "      <td>3</td>\n",
       "      <td>7</td>\n",
       "      <td>1</td>\n",
       "      <td>2</td>\n",
       "    </tr>\n",
       "    <tr>\n",
       "      <th>4</th>\n",
       "      <td>1017023</td>\n",
       "      <td>4</td>\n",
       "      <td>1</td>\n",
       "      <td>1</td>\n",
       "      <td>3</td>\n",
       "      <td>2</td>\n",
       "      <td>1.0</td>\n",
       "      <td>3</td>\n",
       "      <td>1</td>\n",
       "      <td>1</td>\n",
       "      <td>2</td>\n",
       "    </tr>\n",
       "    <tr>\n",
       "      <th>...</th>\n",
       "      <td>...</td>\n",
       "      <td>...</td>\n",
       "      <td>...</td>\n",
       "      <td>...</td>\n",
       "      <td>...</td>\n",
       "      <td>...</td>\n",
       "      <td>...</td>\n",
       "      <td>...</td>\n",
       "      <td>...</td>\n",
       "      <td>...</td>\n",
       "      <td>...</td>\n",
       "    </tr>\n",
       "    <tr>\n",
       "      <th>694</th>\n",
       "      <td>776715</td>\n",
       "      <td>3</td>\n",
       "      <td>1</td>\n",
       "      <td>1</td>\n",
       "      <td>1</td>\n",
       "      <td>3</td>\n",
       "      <td>2.0</td>\n",
       "      <td>1</td>\n",
       "      <td>1</td>\n",
       "      <td>1</td>\n",
       "      <td>2</td>\n",
       "    </tr>\n",
       "    <tr>\n",
       "      <th>695</th>\n",
       "      <td>841769</td>\n",
       "      <td>2</td>\n",
       "      <td>1</td>\n",
       "      <td>1</td>\n",
       "      <td>1</td>\n",
       "      <td>2</td>\n",
       "      <td>1.0</td>\n",
       "      <td>1</td>\n",
       "      <td>1</td>\n",
       "      <td>1</td>\n",
       "      <td>2</td>\n",
       "    </tr>\n",
       "    <tr>\n",
       "      <th>696</th>\n",
       "      <td>888820</td>\n",
       "      <td>5</td>\n",
       "      <td>10</td>\n",
       "      <td>10</td>\n",
       "      <td>3</td>\n",
       "      <td>7</td>\n",
       "      <td>3.0</td>\n",
       "      <td>8</td>\n",
       "      <td>10</td>\n",
       "      <td>2</td>\n",
       "      <td>4</td>\n",
       "    </tr>\n",
       "    <tr>\n",
       "      <th>697</th>\n",
       "      <td>897471</td>\n",
       "      <td>4</td>\n",
       "      <td>8</td>\n",
       "      <td>6</td>\n",
       "      <td>4</td>\n",
       "      <td>3</td>\n",
       "      <td>4.0</td>\n",
       "      <td>10</td>\n",
       "      <td>6</td>\n",
       "      <td>1</td>\n",
       "      <td>4</td>\n",
       "    </tr>\n",
       "    <tr>\n",
       "      <th>698</th>\n",
       "      <td>897471</td>\n",
       "      <td>4</td>\n",
       "      <td>8</td>\n",
       "      <td>8</td>\n",
       "      <td>5</td>\n",
       "      <td>4</td>\n",
       "      <td>5.0</td>\n",
       "      <td>10</td>\n",
       "      <td>4</td>\n",
       "      <td>1</td>\n",
       "      <td>4</td>\n",
       "    </tr>\n",
       "  </tbody>\n",
       "</table>\n",
       "<p>683 rows × 11 columns</p>\n",
       "</div>"
      ],
      "text/plain": [
       "          id  clump_thickness  u_cell_size  u_cell_shape  marg_adhesion  \\\n",
       "0    1000025                5            1             1              1   \n",
       "1    1002945                5            4             4              5   \n",
       "2    1015425                3            1             1              1   \n",
       "3    1016277                6            8             8              1   \n",
       "4    1017023                4            1             1              3   \n",
       "..       ...              ...          ...           ...            ...   \n",
       "694   776715                3            1             1              1   \n",
       "695   841769                2            1             1              1   \n",
       "696   888820                5           10            10              3   \n",
       "697   897471                4            8             6              4   \n",
       "698   897471                4            8             8              5   \n",
       "\n",
       "     epi_cell_size  bare_nuclei  bland_chrom  norm_nucl  mitoses  class  \n",
       "0                2          1.0            3          1        1      2  \n",
       "1                7         10.0            3          2        1      2  \n",
       "2                2          2.0            3          1        1      2  \n",
       "3                3          4.0            3          7        1      2  \n",
       "4                2          1.0            3          1        1      2  \n",
       "..             ...          ...          ...        ...      ...    ...  \n",
       "694              3          2.0            1          1        1      2  \n",
       "695              2          1.0            1          1        1      2  \n",
       "696              7          3.0            8         10        2      4  \n",
       "697              3          4.0           10          6        1      4  \n",
       "698              4          5.0           10          4        1      4  \n",
       "\n",
       "[683 rows x 11 columns]"
      ]
     },
     "execution_count": 7,
     "metadata": {},
     "output_type": "execute_result"
    }
   ],
   "source": [
    "# Removendo valores ausentes por simplicidade\n",
    "data_df = pd.read_csv(\"breast-cancer-wisconsin.data\", na_values='?').dropna()\n",
    "data_df"
   ]
  },
  {
   "cell_type": "markdown",
   "metadata": {},
   "source": [
    "# Questão 4 \n",
    "- a) Reduza o número de atributos escolhendo os 3 mais relevantes. Justifique sua resposta. (1 pt)\n",
    "- b) Comente a distribuição dos valores de **um** dos atributos selecionados. Sugestão: escolha uma forma de visualização (ex: histograma ou boxplot) e comente momentos calculados a partir dos valores. (1 pt)"
   ]
  },
  {
   "cell_type": "code",
   "execution_count": 8,
   "metadata": {},
   "outputs": [
    {
     "data": {
      "text/plain": [
       "<AxesSubplot:>"
      ]
     },
     "execution_count": 8,
     "metadata": {},
     "output_type": "execute_result"
    },
    {
     "data": {
      "image/png": "[encoded data removed]",
      "text/plain": [
       "<Figure size 432x288 with 2 Axes>"
      ]
     },
     "metadata": {},
     "output_type": "display_data"
    }
   ],
   "source": [
    "sns.heatmap(data_df.corr(),\n",
    "            cmap=\"GnBu\"\n",
    "           )\n",
    "\n",
    "\n",
    "#correlação, histogramas e comentar os momentos"
   ]
  },
  {
   "cell_type": "code",
   "execution_count": 16,
   "metadata": {},
   "outputs": [
    {
     "name": "stdout",
     "output_type": "stream",
     "text": [
      "Os três atributos que mais pesam no diagnóstico são: u_cell_size, u_cell_shape, bland_chrom\n"
     ]
    }
   ],
   "source": [
    "# u_cell_size, u_cell_shape, bland_chrom\n",
    "\n",
    "print(\"Os três atributos que mais pesam no diagnóstico são: u_cell_size, u_cell_shape, bland_chrom\")\n",
    "new_dataset = data_df.loc[:, [ \"u_cell_size\", \"u_cell_shape\", \"bland_chrom\"]]\n",
    "\n",
    "# sns.boxplot(new_dataset)"
   ]
  },
  {
   "cell_type": "markdown",
   "metadata": {},
   "source": [
    "# Questão 5\n",
    "- a) Considerando os 10 atributos originais (sem o atributo classe), reduza a dimensionalidade dos dados usando a técnica PCA, mantendo uma variância acima de 90%. (1 pt)\n",
    "- b) Quantos componentes são necessários para manter a variância de 90%? (1 pt)"
   ]
  },
  {
   "cell_type": "code",
   "execution_count": 17,
   "metadata": {},
   "outputs": [],
   "source": [
    "from sklearn.decomposition import PCA\n",
    "from sklearn.preprocessing import StandardScaler"
   ]
  },
  {
   "cell_type": "code",
   "execution_count": 18,
   "metadata": {},
   "outputs": [],
   "source": [
    "scaler = StandardScaler()\n",
    "pca = PCA()"
   ]
  },
  {
   "cell_type": "code",
   "execution_count": 19,
   "metadata": {},
   "outputs": [
    {
     "data": {
      "text/plain": [
       "PCA()"
      ]
     },
     "execution_count": 19,
     "metadata": {},
     "output_type": "execute_result"
    }
   ],
   "source": [
    "values = data_df.drop(columns=\"class\").values\n",
    "pca.fit(scaler.fit_transform(values))"
   ]
  },
  {
   "cell_type": "code",
   "execution_count": 20,
   "metadata": {},
   "outputs": [
    {
     "name": "stdout",
     "output_type": "stream",
     "text": [
      "Para atingir variância acima de 90% é necessário 6 atributos\n"
     ]
    }
   ],
   "source": [
    "soma = 0\n",
    "\n",
    "for i, ratio  in enumerate(pca.explained_variance_ratio_):\n",
    "    soma += ratio * 100\n",
    "    if(soma >= 90):\n",
    "        print(f\"Para atingir variância acima de 90% é necessário {i+1} atributos\")\n",
    "        break"
   ]
  },
  {
   "cell_type": "code",
   "execution_count": 21,
   "metadata": {},
   "outputs": [],
   "source": [
    "pca = PCA(n_components=6)\n",
    "new_values = pca.fit_transform(scaler.fit_transform(values))"
   ]
  },
  {
   "cell_type": "code",
   "execution_count": null,
   "metadata": {},
   "outputs": [],
   "source": []
  },
  {
   "cell_type": "code",
   "execution_count": null,
   "metadata": {},
   "outputs": [],
   "source": []
  }
 ],
 "metadata": {
  "interpreter": {
   "hash": "15dd738912741cafc329f532bc5a7bf40f04fdecea46f4fb13ca1958e96d04fc"
  },
  "kernelspec": {
   "display_name": "Python 3 (ipykernel)",
   "language": "python",
   "name": "python3"
  },
  "language_info": {
   "codemirror_mode": {
    "name": "ipython",
    "version": 3
   },
   "file_extension": ".py",
   "mimetype": "text/x-python",
   "name": "python",
   "nbconvert_exporter": "python",
   "pygments_lexer": "ipython3",
   "version": "3.9.7"
  }
 },
 "nbformat": 4,
 "nbformat_minor": 2
}
