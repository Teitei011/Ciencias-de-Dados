{
 "cells": [
  {
   "cell_type": "markdown",
   "metadata": {
    "id": "N6XYFKos4acb"
   },
   "source": [
    "# SCC0275: Introdução a Ciência de Dados - 1o Semestre de 2021\n",
    "# SCC0275 - Exercício 4\n",
    "\n",
    "### Profa. Roseli A. F. Romero\n",
    "\n",
    "### Monitor: Kenzo Sakiyama\n",
    "\n",
    "Nro do grupo:\n",
    "\n",
    "Alunos:\n",
    "\n",
    "\n",
    "1.   Stefan Taiguara Couperus Leal - 10414866\n"
   ]
  },
  {
   "cell_type": "code",
   "execution_count": 1,
   "metadata": {
    "colab": {
     "base_uri": "https://localhost:8080/"
    },
    "executionInfo": {
     "elapsed": 638,
     "status": "ok",
     "timestamp": 1633227094422,
     "user": {
      "displayName": "Kenzo Miranda Sakiyama",
      "photoUrl": "https://lh3.googleusercontent.com/a/default-user=s64",
      "userId": "17190914206091993570"
     },
     "user_tz": 240
    },
    "id": "onsim1jjigv0",
    "outputId": "21f1b2bc-b065-4795-84a6-9aa22fbdc3fc"
   },
   "outputs": [
    {
     "name": "stdout",
     "output_type": "stream",
     "text": [
      "<class 'pandas.core.frame.DataFrame'>\n",
      "RangeIndex: 155 entries, 0 to 154\n",
      "Data columns (total 20 columns):\n",
      " #   Column           Non-Null Count  Dtype  \n",
      "---  ------           --------------  -----  \n",
      " 0   AGE              155 non-null    int64  \n",
      " 1   SEX              155 non-null    object \n",
      " 2   STEROID          154 non-null    object \n",
      " 3   ANTIVIRALS       155 non-null    object \n",
      " 4   FATIGUE          154 non-null    object \n",
      " 5   MALAISE          154 non-null    object \n",
      " 6   ANOREXIA         154 non-null    object \n",
      " 7   LIVER_BIG        145 non-null    object \n",
      " 8   LIVER_FIRM       144 non-null    object \n",
      " 9   SPLEEN_PALPABLE  150 non-null    object \n",
      " 10  SPIDERS          150 non-null    object \n",
      " 11  ASCITES          150 non-null    object \n",
      " 12  VARICES          150 non-null    object \n",
      " 13  BILIRUBIN        149 non-null    float64\n",
      " 14  ALK_PHOSPHATE    126 non-null    float64\n",
      " 15  SGOT             151 non-null    float64\n",
      " 16  ALBUMIN          139 non-null    float64\n",
      " 17  PROTIME          88 non-null     float64\n",
      " 18  HISTOLOGY        155 non-null    object \n",
      " 19  Class            155 non-null    int64  \n",
      "dtypes: float64(5), int64(2), object(13)\n",
      "memory usage: 24.3+ KB\n"
     ]
    }
   ],
   "source": [
    "import pandas as pd\n",
    "import seaborn as sns \n",
    "\n",
    "data = pd.read_csv(\"dataset_hepatitis.csv\", na_values=\"?\")\n",
    "data.info()"
   ]
  },
  {
   "cell_type": "code",
   "execution_count": 2,
   "metadata": {
    "colab": {
     "base_uri": "https://localhost:8080/",
     "height": 226
    },
    "executionInfo": {
     "elapsed": 331,
     "status": "ok",
     "timestamp": 1633227178886,
     "user": {
      "displayName": "Kenzo Miranda Sakiyama",
      "photoUrl": "https://lh3.googleusercontent.com/a/default-user=s64",
      "userId": "17190914206091993570"
     },
     "user_tz": 240
    },
    "id": "C6Ghgwz_7PHy",
    "outputId": "bbc93e42-f836-4b7b-bede-f1fb78746eee"
   },
   "outputs": [
    {
     "data": {
      "text/html": [
       "<div>\n",
       "<style scoped>\n",
       "    .dataframe tbody tr th:only-of-type {\n",
       "        vertical-align: middle;\n",
       "    }\n",
       "\n",
       "    .dataframe tbody tr th {\n",
       "        vertical-align: top;\n",
       "    }\n",
       "\n",
       "    .dataframe thead th {\n",
       "        text-align: right;\n",
       "    }\n",
       "</style>\n",
       "<table border=\"1\" class=\"dataframe\">\n",
       "  <thead>\n",
       "    <tr style=\"text-align: right;\">\n",
       "      <th></th>\n",
       "      <th>AGE</th>\n",
       "      <th>SEX</th>\n",
       "      <th>STEROID</th>\n",
       "      <th>ANTIVIRALS</th>\n",
       "      <th>FATIGUE</th>\n",
       "      <th>MALAISE</th>\n",
       "      <th>ANOREXIA</th>\n",
       "      <th>LIVER_BIG</th>\n",
       "      <th>LIVER_FIRM</th>\n",
       "      <th>SPLEEN_PALPABLE</th>\n",
       "      <th>SPIDERS</th>\n",
       "      <th>ASCITES</th>\n",
       "      <th>VARICES</th>\n",
       "      <th>BILIRUBIN</th>\n",
       "      <th>ALK_PHOSPHATE</th>\n",
       "      <th>SGOT</th>\n",
       "      <th>ALBUMIN</th>\n",
       "      <th>PROTIME</th>\n",
       "      <th>HISTOLOGY</th>\n",
       "      <th>Class</th>\n",
       "    </tr>\n",
       "  </thead>\n",
       "  <tbody>\n",
       "    <tr>\n",
       "      <th>0</th>\n",
       "      <td>30</td>\n",
       "      <td>male</td>\n",
       "      <td>no</td>\n",
       "      <td>no</td>\n",
       "      <td>no</td>\n",
       "      <td>no</td>\n",
       "      <td>no</td>\n",
       "      <td>no</td>\n",
       "      <td>no</td>\n",
       "      <td>no</td>\n",
       "      <td>no</td>\n",
       "      <td>no</td>\n",
       "      <td>no</td>\n",
       "      <td>1.0</td>\n",
       "      <td>85.0</td>\n",
       "      <td>18.0</td>\n",
       "      <td>4.0</td>\n",
       "      <td>NaN</td>\n",
       "      <td>no</td>\n",
       "      <td>1</td>\n",
       "    </tr>\n",
       "    <tr>\n",
       "      <th>1</th>\n",
       "      <td>50</td>\n",
       "      <td>female</td>\n",
       "      <td>no</td>\n",
       "      <td>no</td>\n",
       "      <td>yes</td>\n",
       "      <td>no</td>\n",
       "      <td>no</td>\n",
       "      <td>no</td>\n",
       "      <td>no</td>\n",
       "      <td>no</td>\n",
       "      <td>no</td>\n",
       "      <td>no</td>\n",
       "      <td>no</td>\n",
       "      <td>0.9</td>\n",
       "      <td>135.0</td>\n",
       "      <td>42.0</td>\n",
       "      <td>3.5</td>\n",
       "      <td>NaN</td>\n",
       "      <td>no</td>\n",
       "      <td>1</td>\n",
       "    </tr>\n",
       "    <tr>\n",
       "      <th>2</th>\n",
       "      <td>78</td>\n",
       "      <td>female</td>\n",
       "      <td>yes</td>\n",
       "      <td>no</td>\n",
       "      <td>yes</td>\n",
       "      <td>no</td>\n",
       "      <td>no</td>\n",
       "      <td>yes</td>\n",
       "      <td>no</td>\n",
       "      <td>no</td>\n",
       "      <td>no</td>\n",
       "      <td>no</td>\n",
       "      <td>no</td>\n",
       "      <td>0.7</td>\n",
       "      <td>96.0</td>\n",
       "      <td>32.0</td>\n",
       "      <td>4.0</td>\n",
       "      <td>NaN</td>\n",
       "      <td>no</td>\n",
       "      <td>1</td>\n",
       "    </tr>\n",
       "    <tr>\n",
       "      <th>3</th>\n",
       "      <td>31</td>\n",
       "      <td>female</td>\n",
       "      <td>NaN</td>\n",
       "      <td>yes</td>\n",
       "      <td>no</td>\n",
       "      <td>no</td>\n",
       "      <td>no</td>\n",
       "      <td>yes</td>\n",
       "      <td>no</td>\n",
       "      <td>no</td>\n",
       "      <td>no</td>\n",
       "      <td>no</td>\n",
       "      <td>no</td>\n",
       "      <td>0.7</td>\n",
       "      <td>46.0</td>\n",
       "      <td>52.0</td>\n",
       "      <td>4.0</td>\n",
       "      <td>80.0</td>\n",
       "      <td>no</td>\n",
       "      <td>1</td>\n",
       "    </tr>\n",
       "    <tr>\n",
       "      <th>4</th>\n",
       "      <td>34</td>\n",
       "      <td>female</td>\n",
       "      <td>yes</td>\n",
       "      <td>no</td>\n",
       "      <td>no</td>\n",
       "      <td>no</td>\n",
       "      <td>no</td>\n",
       "      <td>yes</td>\n",
       "      <td>no</td>\n",
       "      <td>no</td>\n",
       "      <td>no</td>\n",
       "      <td>no</td>\n",
       "      <td>no</td>\n",
       "      <td>1.0</td>\n",
       "      <td>NaN</td>\n",
       "      <td>200.0</td>\n",
       "      <td>4.0</td>\n",
       "      <td>NaN</td>\n",
       "      <td>no</td>\n",
       "      <td>1</td>\n",
       "    </tr>\n",
       "  </tbody>\n",
       "</table>\n",
       "</div>"
      ],
      "text/plain": [
       "   AGE     SEX STEROID ANTIVIRALS FATIGUE MALAISE ANOREXIA LIVER_BIG  \\\n",
       "0   30    male      no         no      no      no       no        no   \n",
       "1   50  female      no         no     yes      no       no        no   \n",
       "2   78  female     yes         no     yes      no       no       yes   \n",
       "3   31  female     NaN        yes      no      no       no       yes   \n",
       "4   34  female     yes         no      no      no       no       yes   \n",
       "\n",
       "  LIVER_FIRM SPLEEN_PALPABLE SPIDERS ASCITES VARICES  BILIRUBIN  \\\n",
       "0         no              no      no      no      no        1.0   \n",
       "1         no              no      no      no      no        0.9   \n",
       "2         no              no      no      no      no        0.7   \n",
       "3         no              no      no      no      no        0.7   \n",
       "4         no              no      no      no      no        1.0   \n",
       "\n",
       "   ALK_PHOSPHATE   SGOT  ALBUMIN  PROTIME HISTOLOGY  Class  \n",
       "0           85.0   18.0      4.0      NaN        no      1  \n",
       "1          135.0   42.0      3.5      NaN        no      1  \n",
       "2           96.0   32.0      4.0      NaN        no      1  \n",
       "3           46.0   52.0      4.0     80.0        no      1  \n",
       "4            NaN  200.0      4.0      NaN        no      1  "
      ]
     },
     "execution_count": 2,
     "metadata": {},
     "output_type": "execute_result"
    }
   ],
   "source": [
    "data.head()"
   ]
  },
  {
   "cell_type": "markdown",
   "metadata": {
    "id": "Bkp3fM9u6uAQ"
   },
   "source": [
    "# Questão 1\n",
    "\n",
    "- a) Mostre que o atributo \"BILIRUBIN\" contém outliers\n",
    "- b) Para o atributo citado, calcule a cerca inferior (LF) e superior (UF) para cada um dos atributos. Substitua o valor dos outliers pela cerca mais próxima (consultar Aula 3!). Para ser considerados outlier, os valores devem estar fora dos limites das cercas inferior ou superior.\n",
    "- c) Compare boxplots de antes e depois da remoção de outliers utilizando as cercas."
   ]
  },
  {
   "cell_type": "code",
   "execution_count": 3,
   "metadata": {
    "id": "jzgSZjvi8x86"
   },
   "outputs": [
    {
     "ename": "NameError",
     "evalue": "name 'plt' is not defined",
     "output_type": "error",
     "traceback": [
      "\u001b[0;31m---------------------------------------------------------------------------\u001b[0m",
      "\u001b[0;31mNameError\u001b[0m                                 Traceback (most recent call last)",
      "\u001b[0;32m/tmp/ipykernel_20742/3627873102.py\u001b[0m in \u001b[0;36m<module>\u001b[0;34m\u001b[0m\n\u001b[1;32m     20\u001b[0m     \u001b[0msns\u001b[0m\u001b[0;34m.\u001b[0m\u001b[0mboxplot\u001b[0m\u001b[0;34m(\u001b[0m\u001b[0mdata\u001b[0m\u001b[0;34m=\u001b[0m\u001b[0mdf\u001b[0m\u001b[0;34m[\u001b[0m\u001b[0mnome_attr\u001b[0m\u001b[0;34m]\u001b[0m\u001b[0;34m)\u001b[0m\u001b[0;34m\u001b[0m\u001b[0;34m\u001b[0m\u001b[0m\n\u001b[1;32m     21\u001b[0m \u001b[0;34m\u001b[0m\u001b[0m\n\u001b[0;32m---> 22\u001b[0;31m \u001b[0mlf_uf\u001b[0m\u001b[0;34m(\u001b[0m\u001b[0mdata\u001b[0m\u001b[0;34m,\u001b[0m \u001b[0;34m\"BILIRUBIN\"\u001b[0m\u001b[0;34m)\u001b[0m\u001b[0;34m\u001b[0m\u001b[0;34m\u001b[0m\u001b[0m\n\u001b[0m",
      "\u001b[0;32m/tmp/ipykernel_20742/3627873102.py\u001b[0m in \u001b[0;36mlf_uf\u001b[0;34m(df, nome_attr)\u001b[0m\n\u001b[1;32m      1\u001b[0m \u001b[0;32mdef\u001b[0m \u001b[0mlf_uf\u001b[0m\u001b[0;34m(\u001b[0m\u001b[0mdf\u001b[0m\u001b[0;34m,\u001b[0m \u001b[0mnome_attr\u001b[0m\u001b[0;34m)\u001b[0m\u001b[0;34m:\u001b[0m\u001b[0;34m\u001b[0m\u001b[0;34m\u001b[0m\u001b[0m\n\u001b[1;32m      2\u001b[0m     \u001b[0msns\u001b[0m\u001b[0;34m.\u001b[0m\u001b[0mboxplot\u001b[0m\u001b[0;34m(\u001b[0m\u001b[0mdata\u001b[0m\u001b[0;34m=\u001b[0m\u001b[0mdf\u001b[0m\u001b[0;34m[\u001b[0m\u001b[0mnome_attr\u001b[0m\u001b[0;34m]\u001b[0m\u001b[0;34m)\u001b[0m\u001b[0;34m\u001b[0m\u001b[0;34m\u001b[0m\u001b[0m\n\u001b[0;32m----> 3\u001b[0;31m     \u001b[0mplt\u001b[0m\u001b[0;34m.\u001b[0m\u001b[0mshow\u001b[0m\u001b[0;34m(\u001b[0m\u001b[0;34m)\u001b[0m\u001b[0;34m\u001b[0m\u001b[0;34m\u001b[0m\u001b[0m\n\u001b[0m\u001b[1;32m      4\u001b[0m \u001b[0;34m\u001b[0m\u001b[0m\n\u001b[1;32m      5\u001b[0m     \u001b[0mdf\u001b[0m \u001b[0;34m=\u001b[0m \u001b[0mdf\u001b[0m\u001b[0;34m.\u001b[0m\u001b[0mcopy\u001b[0m\u001b[0;34m(\u001b[0m\u001b[0mdeep\u001b[0m\u001b[0;34m=\u001b[0m\u001b[0;32mTrue\u001b[0m\u001b[0;34m)\u001b[0m\u001b[0;34m\u001b[0m\u001b[0;34m\u001b[0m\u001b[0m\n",
      "\u001b[0;31mNameError\u001b[0m: name 'plt' is not defined"
     ]
    },
    {
     "data": {
      "image/png": "[encoded data removed]",
      "text/plain": [
       "<Figure size 432x288 with 1 Axes>"
      ]
     },
     "metadata": {
      "needs_background": "light"
     },
     "output_type": "display_data"
    }
   ],
   "source": [
    "def lf_uf(df, nome_attr):\n",
    "    sns.boxplot(data=df[nome_attr])\n",
    "\n",
    "    df = df.copy(deep=True)\n",
    "    \n",
    "    Q1 = df[nome_attr].quantile(0.25)\n",
    "    Q3 = df[nome_attr].quantile(0.75)\n",
    "    IQR = Q3 - Q1\n",
    "    \n",
    "    lf = Q1 - 1.5 * IQR\n",
    "    uf = Q3 + 1.5 * IQR\n",
    "    \n",
    "    print(f\"Lower Fence:  {lf}\")\n",
    "    print(f\"Upper Fence: {uf}\")\n",
    "    \n",
    "    df[nome_attr] = np.where((df[nome_attr] < lf), lf, df[nome_attr])\n",
    "    df[nome_attr] = np.where((df[nome_attr] > uf), uf, df[nome_attr])\n",
    "    \n",
    "    sns.boxplot(data=df[nome_attr])\n",
    "\n",
    "lf_uf(data, \"BILIRUBIN\")"
   ]
  },
  {
   "cell_type": "markdown",
   "metadata": {
    "id": "moJyvejhYFNw"
   },
   "source": [
    "Para os próximos exercícios você pode continuar usando o conjunto de dados sem outliers no atributo analisado, ou usar os dados originais."
   ]
  },
  {
   "cell_type": "markdown",
   "metadata": {
    "id": "sP3VGYQAkZlb"
   },
   "source": [
    "### Questão 02. \n",
    "\n",
    "Crie uma lista com atributos numéricos e outra com os atributos categóricos da base. Verifique quantos são numéricos e quantos são categóricos.\n",
    "\n",
    "- Lembre-se de não considerar o atributo classe."
   ]
  },
  {
   "cell_type": "code",
   "execution_count": null,
   "metadata": {},
   "outputs": [],
   "source": [
    "data.head()"
   ]
  },
  {
   "cell_type": "code",
   "execution_count": null,
   "metadata": {
    "id": "S4Doe7ikj7Yd"
   },
   "outputs": [],
   "source": [
    "features_numericos = [\"AGE\", \"BILIRUBIN\", \"ALK_PHOSPHATE\", \"SGOT\", \"ALBUMIN\"]\n",
    "\n",
    "features_categoricos = [\"SEX\", \"STEROID\", \"ANTIVIRALS\", \"FATIGUE\", \"MALAISE\", \"ANOREXIA\", \"LIVER_BIG\", \"LIVER_FIRM\", \"SPLEEN_PALPABLE\", \"SPIDERS\", \"ASCITES\",\"VARICES\"]"
   ]
  },
  {
   "cell_type": "markdown",
   "metadata": {
    "id": "mezzly52i0ii"
   },
   "source": [
    "### Questão 03.\n",
    "\n",
    "Nessa questão, você irá fazer o pré-processamento dos dados.\n",
    "\n",
    "Você deve:\n",
    "\n",
    "\n",
    "*   **Para os dados numéricos:** substitua os valores faltantes utilizando a estratégia de média - `mean` (`sklearn.impute.SimpleImputer`). Depois padronize o intervalo dessas variáveis (`sklearn.preprocessing.StandardScaler`)\n",
    "*   **Para os dados categóricos:** substitua os valores faltantes utilizando a estratégia de mais frequentes - `most_frequent` (`sklearn.impute.SimpleImputer`). Depois converta os dados categóricos para uma representação numérica (`sklearn.preprocessing.OneHotEncoder`),\n",
    "\n",
    "Lembre-se de utilizar as classes `sklearn.pipeline.Pipeline` e `sklearn.compose.ColumnTransformer` conforme consta no material complementar. "
   ]
  },
  {
   "cell_type": "code",
   "execution_count": null,
   "metadata": {
    "id": "8HdIstr-jdFf"
   },
   "outputs": [],
   "source": [
    "from sklearn.pipeline import Pipeline\n",
    "from sklearn.preprocessing import StandardScaler\n",
    "from sklearn.compose import ColumnTransformer\n",
    "from sklearn.impute import SimpleImputer\n",
    "from sklearn.preprocessing import OneHotEncoder\n",
    "import numpy as np\n",
    "\n",
    "def transformar_base(df, features_numericos, features_categoricos):\n",
    "    \n",
    "    # Criando os pipelines\n",
    "    pipeline_numerico = Pipeline(steps=[\n",
    "        ('imputer', SimpleImputer(strategy='mean')),\n",
    "        ('scaler', StandardScaler())])\n",
    "\n",
    "    pipeline_categorico = Pipeline(steps=[\n",
    "        ('imputer', SimpleImputer(strategy='most_frequent')),\n",
    "        ('onehot', OneHotEncoder())])\n",
    "\n",
    "    # Criando a transformação do conjunto de dados:\n",
    "    transformacao = ColumnTransformer(\n",
    "        transformers=[\n",
    "            ('transformacao numerica', pipeline_numerico, features_numericos),\n",
    "            ('transformacao categorica', pipeline_categorico, features_categoricos),        \n",
    "        ])\n",
    "\n",
    "    # Aplicando a transformação no dataset:\n",
    "    dados_transformados = transformacao.fit_transform(df)\n",
    "    \n",
    "    return dados_transformados\n",
    "#     dados_transformados.round(2)"
   ]
  },
  {
   "cell_type": "code",
   "execution_count": null,
   "metadata": {
    "id": "UVVQoDtCwjRO"
   },
   "outputs": [],
   "source": [
    "transformar_base(data, features_numericos, features_categoricos)"
   ]
  },
  {
   "cell_type": "markdown",
   "metadata": {
    "id": "ait62uihDkGU"
   },
   "source": [
    "### Questão 04\n",
    "\n",
    "Compare o número de atributos antes e depois do pre-processamento. \n"
   ]
  },
  {
   "cell_type": "markdown",
   "metadata": {
    "id": "LjYXqEDr97H6"
   },
   "source": [
    "Resposta:"
   ]
  },
  {
   "cell_type": "code",
   "execution_count": null,
   "metadata": {
    "id": "y9jGirW6wpX6"
   },
   "outputs": [],
   "source": [
    "transform_data = transformar_base(data, features_numericos, features_categoricos)\n",
    "\n",
    "print(f\"Número de atributos antes do processamento: {data.shape[1]}\")\n",
    "print(f\"Número de atributos depois do processamento: {transform_data.shape[1]}\")"
   ]
  },
  {
   "cell_type": "markdown",
   "metadata": {
    "id": "uruWctrdED07"
   },
   "source": [
    "### Questão 05\n",
    "\n",
    "Cite uma vantagem e uma desvantagem do pre-processamento realizado"
   ]
  },
  {
   "cell_type": "markdown",
   "metadata": {
    "id": "syBhRzlj9-Qo"
   },
   "source": [
    "Resposta: "
   ]
  },
  {
   "cell_type": "code",
   "execution_count": null,
   "metadata": {
    "id": "ersdpLmg9-l_"
   },
   "outputs": [],
   "source": [
    "print(\"A vantagem é que é mais fácil de usar esses dados para fazer análise mais detalhada (e.g. Aprendizado de Máquina)\")"
   ]
  },
  {
   "cell_type": "code",
   "execution_count": null,
   "metadata": {},
   "outputs": [],
   "source": []
  }
 ],
 "metadata": {
  "colab": {
   "collapsed_sections": [],
   "name": "Ex4.ipynb",
   "provenance": [
    {
     "file_id": "1dT0ydaJwyBt6ootKokW8c5IgF92OP0Us",
     "timestamp": 1623817049552
    }
   ]
  },
  "kernelspec": {
   "display_name": "Python 3 (ipykernel)",
   "language": "python",
   "name": "python3"
  },
  "language_info": {
   "codemirror_mode": {
    "name": "ipython",
    "version": 3
   },
   "file_extension": ".py",
   "mimetype": "text/x-python",
   "name": "python",
   "nbconvert_exporter": "python",
   "pygments_lexer": "ipython3",
   "version": "3.9.7"
  }
 },
 "nbformat": 4,
 "nbformat_minor": 1
}
