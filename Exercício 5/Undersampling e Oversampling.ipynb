{
 "cells": [
  {
   "cell_type": "markdown",
   "metadata": {
    "id": "PCEww9wQ_DuR"
   },
   "source": [
    "# Undersampling e Oversampling\n",
    "\n",
    "Desbalanceamento de dados é um problema muito comum nos conjuntos de dados. Duas possíveis soluções são a subamostragem (undersampling) aleatória e a superamostragem (oversampling) aleatória. O exemplo a seguir mostra um exemplo simples de como isso pode ser feito utilizando a biblioteca Pandas.\n",
    "\n",
    "---"
   ]
  },
  {
   "cell_type": "markdown",
   "metadata": {
    "id": "JfbHMx3TAUZ9"
   },
   "source": [
    "## Exploração inicial dos dados:\n",
    "\n",
    "Criando conjunto de dados artificial, desbalanceado:"
   ]
  },
  {
   "cell_type": "code",
   "execution_count": 1,
   "metadata": {
    "colab": {
     "base_uri": "https://localhost:8080/",
     "height": 692
    },
    "executionInfo": {
     "elapsed": 1903,
     "status": "ok",
     "timestamp": 1620996310515,
     "user": {
      "displayName": "Guilherme Nardari",
      "photoUrl": "",
      "userId": "04838521268930040889"
     },
     "user_tz": 180
    },
    "id": "-T50DAWgkXNk",
    "outputId": "a5e86dc3-3306-448c-a0b1-a2e07318f575"
   },
   "outputs": [
    {
     "data": {
      "text/plain": [
       "array([[<AxesSubplot:title={'center':'idade'}>,\n",
       "        <AxesSubplot:title={'center':'sexo'}>],\n",
       "       [<AxesSubplot:title={'center':'altura'}>,\n",
       "        <AxesSubplot:title={'center':'classe'}>]], dtype=object)"
      ]
     },
     "execution_count": 1,
     "metadata": {},
     "output_type": "execute_result"
    },
    {
     "data": {
      "image/png": "[encoded data removed]",
      "text/plain": [
       "<Figure size 1080x720 with 4 Axes>"
      ]
     },
     "metadata": {
      "needs_background": "light"
     },
     "output_type": "display_data"
    }
   ],
   "source": [
    "from matplotlib import pyplot as plt\n",
    "import pandas as pd\n",
    "import numpy as np\n",
    "# Dados de exemplo\n",
    "dados = pd.DataFrame({\n",
    "    'idade': np.round(np.random.normal(loc=30, scale=10, size=1000)),\n",
    "    'sexo': np.random.choice([0, 1], 1000), # 0 homem, 1 mulher\n",
    "    'altura': np.round(np.random.normal(loc=1.6, scale=.15, size=1000), 2),\n",
    "    'classe':  np.random.choice([0, 1], 1000, p=[0.05, 0.95])\n",
    "    })\n",
    "\n",
    "plt.rcParams['figure.figsize'] = [15, 10]\n",
    "dados.hist()"
   ]
  },
  {
   "cell_type": "markdown",
   "metadata": {
    "id": "oSaws6ohAftx"
   },
   "source": [
    "Nota-se um grande desbalanceamento das classes através do histograma da variável alvo `classe`"
   ]
  },
  {
   "cell_type": "code",
   "execution_count": 2,
   "metadata": {
    "colab": {
     "base_uri": "https://localhost:8080/"
    },
    "executionInfo": {
     "elapsed": 2018,
     "status": "ok",
     "timestamp": 1620993219741,
     "user": {
      "displayName": "Guilherme Nardari",
      "photoUrl": "",
      "userId": "04838521268930040889"
     },
     "user_tz": 180
    },
    "id": "G7bBl3Gk5A_6",
    "outputId": "443b318d-3696-4e8a-ab3f-583affa34163"
   },
   "outputs": [
    {
     "data": {
      "text/plain": [
       "1    952\n",
       "0     48\n",
       "Name: classe, dtype: int64"
      ]
     },
     "execution_count": 2,
     "metadata": {},
     "output_type": "execute_result"
    }
   ],
   "source": [
    "dados['classe'].value_counts()"
   ]
  },
  {
   "cell_type": "markdown",
   "metadata": {
    "id": "L2jaa8hSjrYm"
   },
   "source": [
    "A função `value_counts()` confirma o desbalanceamento: há **955** ocorrências da classe 1 e apenas **45** da classe 0."
   ]
  },
  {
   "cell_type": "markdown",
   "metadata": {
    "id": "ERETh-wqAyns"
   },
   "source": [
    "---\n",
    "\n",
    "## Superamostragem - Oversampling"
   ]
  },
  {
   "cell_type": "markdown",
   "metadata": {
    "id": "FXDlAxkdBGRZ"
   },
   "source": [
    "Na superamostragem vamos aumentar o número de elementos da classe menos representada.\n",
    "\n",
    "Primeiro vamos separar as tuplas do nosso conjunto de dados em que a classe é igual à 0:"
   ]
  },
  {
   "cell_type": "code",
   "execution_count": 3,
   "metadata": {
    "colab": {
     "base_uri": "https://localhost:8080/",
     "height": 402
    },
    "executionInfo": {
     "elapsed": 2487,
     "status": "ok",
     "timestamp": 1620993220212,
     "user": {
      "displayName": "Guilherme Nardari",
      "photoUrl": "",
      "userId": "04838521268930040889"
     },
     "user_tz": 180
    },
    "id": "adbIQX_oBM2Y",
    "outputId": "409ed889-ef5d-4e8c-d599-89887b6b958e"
   },
   "outputs": [
    {
     "data": {
      "text/html": [
       "<div>\n",
       "<style scoped>\n",
       "    .dataframe tbody tr th:only-of-type {\n",
       "        vertical-align: middle;\n",
       "    }\n",
       "\n",
       "    .dataframe tbody tr th {\n",
       "        vertical-align: top;\n",
       "    }\n",
       "\n",
       "    .dataframe thead th {\n",
       "        text-align: right;\n",
       "    }\n",
       "</style>\n",
       "<table border=\"1\" class=\"dataframe\">\n",
       "  <thead>\n",
       "    <tr style=\"text-align: right;\">\n",
       "      <th></th>\n",
       "      <th>idade</th>\n",
       "      <th>sexo</th>\n",
       "      <th>altura</th>\n",
       "      <th>classe</th>\n",
       "    </tr>\n",
       "  </thead>\n",
       "  <tbody>\n",
       "    <tr>\n",
       "      <th>32</th>\n",
       "      <td>20.0</td>\n",
       "      <td>0</td>\n",
       "      <td>1.53</td>\n",
       "      <td>0</td>\n",
       "    </tr>\n",
       "    <tr>\n",
       "      <th>36</th>\n",
       "      <td>25.0</td>\n",
       "      <td>0</td>\n",
       "      <td>1.52</td>\n",
       "      <td>0</td>\n",
       "    </tr>\n",
       "    <tr>\n",
       "      <th>61</th>\n",
       "      <td>36.0</td>\n",
       "      <td>1</td>\n",
       "      <td>1.77</td>\n",
       "      <td>0</td>\n",
       "    </tr>\n",
       "    <tr>\n",
       "      <th>64</th>\n",
       "      <td>9.0</td>\n",
       "      <td>1</td>\n",
       "      <td>1.86</td>\n",
       "      <td>0</td>\n",
       "    </tr>\n",
       "    <tr>\n",
       "      <th>94</th>\n",
       "      <td>22.0</td>\n",
       "      <td>0</td>\n",
       "      <td>1.82</td>\n",
       "      <td>0</td>\n",
       "    </tr>\n",
       "    <tr>\n",
       "      <th>95</th>\n",
       "      <td>44.0</td>\n",
       "      <td>1</td>\n",
       "      <td>1.58</td>\n",
       "      <td>0</td>\n",
       "    </tr>\n",
       "    <tr>\n",
       "      <th>100</th>\n",
       "      <td>53.0</td>\n",
       "      <td>0</td>\n",
       "      <td>1.50</td>\n",
       "      <td>0</td>\n",
       "    </tr>\n",
       "    <tr>\n",
       "      <th>149</th>\n",
       "      <td>54.0</td>\n",
       "      <td>0</td>\n",
       "      <td>1.63</td>\n",
       "      <td>0</td>\n",
       "    </tr>\n",
       "    <tr>\n",
       "      <th>177</th>\n",
       "      <td>34.0</td>\n",
       "      <td>0</td>\n",
       "      <td>1.54</td>\n",
       "      <td>0</td>\n",
       "    </tr>\n",
       "    <tr>\n",
       "      <th>186</th>\n",
       "      <td>33.0</td>\n",
       "      <td>1</td>\n",
       "      <td>1.48</td>\n",
       "      <td>0</td>\n",
       "    </tr>\n",
       "    <tr>\n",
       "      <th>194</th>\n",
       "      <td>36.0</td>\n",
       "      <td>1</td>\n",
       "      <td>1.45</td>\n",
       "      <td>0</td>\n",
       "    </tr>\n",
       "    <tr>\n",
       "      <th>200</th>\n",
       "      <td>13.0</td>\n",
       "      <td>0</td>\n",
       "      <td>1.48</td>\n",
       "      <td>0</td>\n",
       "    </tr>\n",
       "    <tr>\n",
       "      <th>223</th>\n",
       "      <td>31.0</td>\n",
       "      <td>0</td>\n",
       "      <td>1.87</td>\n",
       "      <td>0</td>\n",
       "    </tr>\n",
       "    <tr>\n",
       "      <th>226</th>\n",
       "      <td>22.0</td>\n",
       "      <td>1</td>\n",
       "      <td>1.65</td>\n",
       "      <td>0</td>\n",
       "    </tr>\n",
       "    <tr>\n",
       "      <th>234</th>\n",
       "      <td>32.0</td>\n",
       "      <td>0</td>\n",
       "      <td>1.67</td>\n",
       "      <td>0</td>\n",
       "    </tr>\n",
       "    <tr>\n",
       "      <th>256</th>\n",
       "      <td>20.0</td>\n",
       "      <td>1</td>\n",
       "      <td>1.55</td>\n",
       "      <td>0</td>\n",
       "    </tr>\n",
       "    <tr>\n",
       "      <th>272</th>\n",
       "      <td>35.0</td>\n",
       "      <td>0</td>\n",
       "      <td>1.84</td>\n",
       "      <td>0</td>\n",
       "    </tr>\n",
       "    <tr>\n",
       "      <th>387</th>\n",
       "      <td>53.0</td>\n",
       "      <td>1</td>\n",
       "      <td>1.56</td>\n",
       "      <td>0</td>\n",
       "    </tr>\n",
       "    <tr>\n",
       "      <th>453</th>\n",
       "      <td>33.0</td>\n",
       "      <td>0</td>\n",
       "      <td>1.55</td>\n",
       "      <td>0</td>\n",
       "    </tr>\n",
       "    <tr>\n",
       "      <th>459</th>\n",
       "      <td>27.0</td>\n",
       "      <td>0</td>\n",
       "      <td>1.56</td>\n",
       "      <td>0</td>\n",
       "    </tr>\n",
       "    <tr>\n",
       "      <th>497</th>\n",
       "      <td>35.0</td>\n",
       "      <td>0</td>\n",
       "      <td>1.39</td>\n",
       "      <td>0</td>\n",
       "    </tr>\n",
       "    <tr>\n",
       "      <th>509</th>\n",
       "      <td>22.0</td>\n",
       "      <td>1</td>\n",
       "      <td>1.61</td>\n",
       "      <td>0</td>\n",
       "    </tr>\n",
       "    <tr>\n",
       "      <th>510</th>\n",
       "      <td>40.0</td>\n",
       "      <td>1</td>\n",
       "      <td>1.60</td>\n",
       "      <td>0</td>\n",
       "    </tr>\n",
       "    <tr>\n",
       "      <th>534</th>\n",
       "      <td>39.0</td>\n",
       "      <td>1</td>\n",
       "      <td>1.44</td>\n",
       "      <td>0</td>\n",
       "    </tr>\n",
       "    <tr>\n",
       "      <th>540</th>\n",
       "      <td>45.0</td>\n",
       "      <td>1</td>\n",
       "      <td>1.58</td>\n",
       "      <td>0</td>\n",
       "    </tr>\n",
       "    <tr>\n",
       "      <th>579</th>\n",
       "      <td>28.0</td>\n",
       "      <td>1</td>\n",
       "      <td>1.62</td>\n",
       "      <td>0</td>\n",
       "    </tr>\n",
       "    <tr>\n",
       "      <th>599</th>\n",
       "      <td>38.0</td>\n",
       "      <td>0</td>\n",
       "      <td>1.58</td>\n",
       "      <td>0</td>\n",
       "    </tr>\n",
       "    <tr>\n",
       "      <th>601</th>\n",
       "      <td>26.0</td>\n",
       "      <td>1</td>\n",
       "      <td>1.45</td>\n",
       "      <td>0</td>\n",
       "    </tr>\n",
       "    <tr>\n",
       "      <th>644</th>\n",
       "      <td>19.0</td>\n",
       "      <td>0</td>\n",
       "      <td>1.62</td>\n",
       "      <td>0</td>\n",
       "    </tr>\n",
       "    <tr>\n",
       "      <th>656</th>\n",
       "      <td>32.0</td>\n",
       "      <td>1</td>\n",
       "      <td>1.50</td>\n",
       "      <td>0</td>\n",
       "    </tr>\n",
       "    <tr>\n",
       "      <th>657</th>\n",
       "      <td>28.0</td>\n",
       "      <td>1</td>\n",
       "      <td>1.79</td>\n",
       "      <td>0</td>\n",
       "    </tr>\n",
       "    <tr>\n",
       "      <th>668</th>\n",
       "      <td>31.0</td>\n",
       "      <td>1</td>\n",
       "      <td>1.67</td>\n",
       "      <td>0</td>\n",
       "    </tr>\n",
       "    <tr>\n",
       "      <th>711</th>\n",
       "      <td>35.0</td>\n",
       "      <td>1</td>\n",
       "      <td>1.46</td>\n",
       "      <td>0</td>\n",
       "    </tr>\n",
       "    <tr>\n",
       "      <th>726</th>\n",
       "      <td>15.0</td>\n",
       "      <td>1</td>\n",
       "      <td>1.53</td>\n",
       "      <td>0</td>\n",
       "    </tr>\n",
       "    <tr>\n",
       "      <th>737</th>\n",
       "      <td>28.0</td>\n",
       "      <td>1</td>\n",
       "      <td>1.88</td>\n",
       "      <td>0</td>\n",
       "    </tr>\n",
       "    <tr>\n",
       "      <th>741</th>\n",
       "      <td>13.0</td>\n",
       "      <td>0</td>\n",
       "      <td>1.71</td>\n",
       "      <td>0</td>\n",
       "    </tr>\n",
       "    <tr>\n",
       "      <th>754</th>\n",
       "      <td>16.0</td>\n",
       "      <td>0</td>\n",
       "      <td>1.66</td>\n",
       "      <td>0</td>\n",
       "    </tr>\n",
       "    <tr>\n",
       "      <th>790</th>\n",
       "      <td>32.0</td>\n",
       "      <td>1</td>\n",
       "      <td>1.73</td>\n",
       "      <td>0</td>\n",
       "    </tr>\n",
       "    <tr>\n",
       "      <th>818</th>\n",
       "      <td>27.0</td>\n",
       "      <td>0</td>\n",
       "      <td>1.45</td>\n",
       "      <td>0</td>\n",
       "    </tr>\n",
       "    <tr>\n",
       "      <th>829</th>\n",
       "      <td>21.0</td>\n",
       "      <td>0</td>\n",
       "      <td>2.02</td>\n",
       "      <td>0</td>\n",
       "    </tr>\n",
       "    <tr>\n",
       "      <th>850</th>\n",
       "      <td>37.0</td>\n",
       "      <td>1</td>\n",
       "      <td>1.91</td>\n",
       "      <td>0</td>\n",
       "    </tr>\n",
       "    <tr>\n",
       "      <th>851</th>\n",
       "      <td>22.0</td>\n",
       "      <td>1</td>\n",
       "      <td>1.58</td>\n",
       "      <td>0</td>\n",
       "    </tr>\n",
       "    <tr>\n",
       "      <th>884</th>\n",
       "      <td>33.0</td>\n",
       "      <td>0</td>\n",
       "      <td>1.67</td>\n",
       "      <td>0</td>\n",
       "    </tr>\n",
       "    <tr>\n",
       "      <th>901</th>\n",
       "      <td>12.0</td>\n",
       "      <td>1</td>\n",
       "      <td>1.64</td>\n",
       "      <td>0</td>\n",
       "    </tr>\n",
       "    <tr>\n",
       "      <th>938</th>\n",
       "      <td>45.0</td>\n",
       "      <td>0</td>\n",
       "      <td>1.63</td>\n",
       "      <td>0</td>\n",
       "    </tr>\n",
       "    <tr>\n",
       "      <th>963</th>\n",
       "      <td>33.0</td>\n",
       "      <td>1</td>\n",
       "      <td>1.48</td>\n",
       "      <td>0</td>\n",
       "    </tr>\n",
       "    <tr>\n",
       "      <th>985</th>\n",
       "      <td>37.0</td>\n",
       "      <td>1</td>\n",
       "      <td>1.36</td>\n",
       "      <td>0</td>\n",
       "    </tr>\n",
       "    <tr>\n",
       "      <th>993</th>\n",
       "      <td>20.0</td>\n",
       "      <td>1</td>\n",
       "      <td>1.42</td>\n",
       "      <td>0</td>\n",
       "    </tr>\n",
       "  </tbody>\n",
       "</table>\n",
       "</div>"
      ],
      "text/plain": [
       "     idade  sexo  altura  classe\n",
       "32    20.0     0    1.53       0\n",
       "36    25.0     0    1.52       0\n",
       "61    36.0     1    1.77       0\n",
       "64     9.0     1    1.86       0\n",
       "94    22.0     0    1.82       0\n",
       "95    44.0     1    1.58       0\n",
       "100   53.0     0    1.50       0\n",
       "149   54.0     0    1.63       0\n",
       "177   34.0     0    1.54       0\n",
       "186   33.0     1    1.48       0\n",
       "194   36.0     1    1.45       0\n",
       "200   13.0     0    1.48       0\n",
       "223   31.0     0    1.87       0\n",
       "226   22.0     1    1.65       0\n",
       "234   32.0     0    1.67       0\n",
       "256   20.0     1    1.55       0\n",
       "272   35.0     0    1.84       0\n",
       "387   53.0     1    1.56       0\n",
       "453   33.0     0    1.55       0\n",
       "459   27.0     0    1.56       0\n",
       "497   35.0     0    1.39       0\n",
       "509   22.0     1    1.61       0\n",
       "510   40.0     1    1.60       0\n",
       "534   39.0     1    1.44       0\n",
       "540   45.0     1    1.58       0\n",
       "579   28.0     1    1.62       0\n",
       "599   38.0     0    1.58       0\n",
       "601   26.0     1    1.45       0\n",
       "644   19.0     0    1.62       0\n",
       "656   32.0     1    1.50       0\n",
       "657   28.0     1    1.79       0\n",
       "668   31.0     1    1.67       0\n",
       "711   35.0     1    1.46       0\n",
       "726   15.0     1    1.53       0\n",
       "737   28.0     1    1.88       0\n",
       "741   13.0     0    1.71       0\n",
       "754   16.0     0    1.66       0\n",
       "790   32.0     1    1.73       0\n",
       "818   27.0     0    1.45       0\n",
       "829   21.0     0    2.02       0\n",
       "850   37.0     1    1.91       0\n",
       "851   22.0     1    1.58       0\n",
       "884   33.0     0    1.67       0\n",
       "901   12.0     1    1.64       0\n",
       "938   45.0     0    1.63       0\n",
       "963   33.0     1    1.48       0\n",
       "985   37.0     1    1.36       0\n",
       "993   20.0     1    1.42       0"
      ]
     },
     "execution_count": 3,
     "metadata": {},
     "output_type": "execute_result"
    }
   ],
   "source": [
    "classe_0 = dados[dados.classe == 0]\n",
    "classe_0"
   ]
  },
  {
   "cell_type": "code",
   "execution_count": 4,
   "metadata": {
    "colab": {
     "base_uri": "https://localhost:8080/"
    },
    "executionInfo": {
     "elapsed": 2486,
     "status": "ok",
     "timestamp": 1620993220213,
     "user": {
      "displayName": "Guilherme Nardari",
      "photoUrl": "",
      "userId": "04838521268930040889"
     },
     "user_tz": 180
    },
    "id": "kVHUtkf2COkO",
    "outputId": "8a1a62bd-ab42-4efd-c8f5-f980aa1a2c36"
   },
   "outputs": [
    {
     "data": {
      "text/plain": [
       "(48, 4)"
      ]
     },
     "execution_count": 4,
     "metadata": {},
     "output_type": "execute_result"
    }
   ],
   "source": [
    "classe_0.shape"
   ]
  },
  {
   "cell_type": "markdown",
   "metadata": {
    "id": "iqcfSC7ZBf-5"
   },
   "source": [
    "Agora vamos obter uma amostra de tamanho **955**, para que as classes fiquem igualmente distribuídas. Note que `replace` deve ser true, pois sem repetições não conseguiriamos criar uma amostra da classe `0` maior que **45**:"
   ]
  },
  {
   "cell_type": "code",
   "execution_count": 5,
   "metadata": {
    "colab": {
     "base_uri": "https://localhost:8080/",
     "height": 402
    },
    "executionInfo": {
     "elapsed": 2484,
     "status": "ok",
     "timestamp": 1620993220213,
     "user": {
      "displayName": "Guilherme Nardari",
      "photoUrl": "",
      "userId": "04838521268930040889"
     },
     "user_tz": 180
    },
    "id": "b2IrvM4PCFKr",
    "outputId": "e4a04714-a5c3-463a-d5df-e5d0ef7402dc"
   },
   "outputs": [
    {
     "data": {
      "text/html": [
       "<div>\n",
       "<style scoped>\n",
       "    .dataframe tbody tr th:only-of-type {\n",
       "        vertical-align: middle;\n",
       "    }\n",
       "\n",
       "    .dataframe tbody tr th {\n",
       "        vertical-align: top;\n",
       "    }\n",
       "\n",
       "    .dataframe thead th {\n",
       "        text-align: right;\n",
       "    }\n",
       "</style>\n",
       "<table border=\"1\" class=\"dataframe\">\n",
       "  <thead>\n",
       "    <tr style=\"text-align: right;\">\n",
       "      <th></th>\n",
       "      <th>idade</th>\n",
       "      <th>sexo</th>\n",
       "      <th>altura</th>\n",
       "      <th>classe</th>\n",
       "    </tr>\n",
       "  </thead>\n",
       "  <tbody>\n",
       "    <tr>\n",
       "      <th>95</th>\n",
       "      <td>44.0</td>\n",
       "      <td>1</td>\n",
       "      <td>1.58</td>\n",
       "      <td>0</td>\n",
       "    </tr>\n",
       "    <tr>\n",
       "      <th>200</th>\n",
       "      <td>13.0</td>\n",
       "      <td>0</td>\n",
       "      <td>1.48</td>\n",
       "      <td>0</td>\n",
       "    </tr>\n",
       "    <tr>\n",
       "      <th>884</th>\n",
       "      <td>33.0</td>\n",
       "      <td>0</td>\n",
       "      <td>1.67</td>\n",
       "      <td>0</td>\n",
       "    </tr>\n",
       "    <tr>\n",
       "      <th>100</th>\n",
       "      <td>53.0</td>\n",
       "      <td>0</td>\n",
       "      <td>1.50</td>\n",
       "      <td>0</td>\n",
       "    </tr>\n",
       "    <tr>\n",
       "      <th>851</th>\n",
       "      <td>22.0</td>\n",
       "      <td>1</td>\n",
       "      <td>1.58</td>\n",
       "      <td>0</td>\n",
       "    </tr>\n",
       "    <tr>\n",
       "      <th>...</th>\n",
       "      <td>...</td>\n",
       "      <td>...</td>\n",
       "      <td>...</td>\n",
       "      <td>...</td>\n",
       "    </tr>\n",
       "    <tr>\n",
       "      <th>985</th>\n",
       "      <td>37.0</td>\n",
       "      <td>1</td>\n",
       "      <td>1.36</td>\n",
       "      <td>0</td>\n",
       "    </tr>\n",
       "    <tr>\n",
       "      <th>601</th>\n",
       "      <td>26.0</td>\n",
       "      <td>1</td>\n",
       "      <td>1.45</td>\n",
       "      <td>0</td>\n",
       "    </tr>\n",
       "    <tr>\n",
       "      <th>644</th>\n",
       "      <td>19.0</td>\n",
       "      <td>0</td>\n",
       "      <td>1.62</td>\n",
       "      <td>0</td>\n",
       "    </tr>\n",
       "    <tr>\n",
       "      <th>510</th>\n",
       "      <td>40.0</td>\n",
       "      <td>1</td>\n",
       "      <td>1.60</td>\n",
       "      <td>0</td>\n",
       "    </tr>\n",
       "    <tr>\n",
       "      <th>223</th>\n",
       "      <td>31.0</td>\n",
       "      <td>0</td>\n",
       "      <td>1.87</td>\n",
       "      <td>0</td>\n",
       "    </tr>\n",
       "  </tbody>\n",
       "</table>\n",
       "<p>955 rows × 4 columns</p>\n",
       "</div>"
      ],
      "text/plain": [
       "     idade  sexo  altura  classe\n",
       "95    44.0     1    1.58       0\n",
       "200   13.0     0    1.48       0\n",
       "884   33.0     0    1.67       0\n",
       "100   53.0     0    1.50       0\n",
       "851   22.0     1    1.58       0\n",
       "..     ...   ...     ...     ...\n",
       "985   37.0     1    1.36       0\n",
       "601   26.0     1    1.45       0\n",
       "644   19.0     0    1.62       0\n",
       "510   40.0     1    1.60       0\n",
       "223   31.0     0    1.87       0\n",
       "\n",
       "[955 rows x 4 columns]"
      ]
     },
     "execution_count": 5,
     "metadata": {},
     "output_type": "execute_result"
    }
   ],
   "source": [
    "sample_0 = classe_0.sample(n=955, replace=True)\n",
    "sample_0"
   ]
  },
  {
   "cell_type": "markdown",
   "metadata": {
    "id": "k6jkqGtkCZSs"
   },
   "source": [
    "Agora vamos concatenar os dados da nossa amostra com os dados do conjunto original que possuiam classe igual à 1:"
   ]
  },
  {
   "cell_type": "code",
   "execution_count": 6,
   "metadata": {
    "colab": {
     "base_uri": "https://localhost:8080/",
     "height": 365
    },
    "executionInfo": {
     "elapsed": 2969,
     "status": "ok",
     "timestamp": 1620993220703,
     "user": {
      "displayName": "Guilherme Nardari",
      "photoUrl": "",
      "userId": "04838521268930040889"
     },
     "user_tz": 180
    },
    "id": "7VElDw-M7S80",
    "outputId": "d69372e2-7848-4bd2-99ab-e7ec95ea51bd"
   },
   "outputs": [
    {
     "data": {
      "text/plain": [
       "array([[<AxesSubplot:title={'center':'idade'}>,\n",
       "        <AxesSubplot:title={'center':'sexo'}>],\n",
       "       [<AxesSubplot:title={'center':'altura'}>,\n",
       "        <AxesSubplot:title={'center':'classe'}>]], dtype=object)"
      ]
     },
     "execution_count": 6,
     "metadata": {},
     "output_type": "execute_result"
    },
    {
     "data": {
      "image/png": "[encoded data removed]",
      "text/plain": [
       "<Figure size 1080x720 with 4 Axes>"
      ]
     },
     "metadata": {
      "needs_background": "light"
     },
     "output_type": "display_data"
    }
   ],
   "source": [
    "classe_1 = dados[dados.classe == 1]\n",
    "dados_upsampled = pd.concat([sample_0, classe_1])\n",
    "dados_upsampled.hist()"
   ]
  },
  {
   "cell_type": "markdown",
   "metadata": {
    "id": "dm09PW4CC2oz"
   },
   "source": [
    "Checando a distribuição das classes:"
   ]
  },
  {
   "cell_type": "code",
   "execution_count": 7,
   "metadata": {
    "colab": {
     "base_uri": "https://localhost:8080/",
     "height": 314
    },
    "executionInfo": {
     "elapsed": 2964,
     "status": "ok",
     "timestamp": 1620993220704,
     "user": {
      "displayName": "Guilherme Nardari",
      "photoUrl": "",
      "userId": "04838521268930040889"
     },
     "user_tz": 180
    },
    "id": "JwjB8xHjC1wi",
    "outputId": "6d72287d-74f3-4488-9465-be1184344c84"
   },
   "outputs": [
    {
     "data": {
      "text/plain": [
       "array([[<AxesSubplot:title={'center':'classe'}>]], dtype=object)"
      ]
     },
     "execution_count": 7,
     "metadata": {},
     "output_type": "execute_result"
    },
    {
     "data": {
      "image/png": "[encoded data removed]",
      "text/plain": [
       "<Figure size 1080x720 with 1 Axes>"
      ]
     },
     "metadata": {
      "needs_background": "light"
     },
     "output_type": "display_data"
    }
   ],
   "source": [
    "dados_upsampled.hist('classe')"
   ]
  },
  {
   "cell_type": "code",
   "execution_count": 8,
   "metadata": {
    "colab": {
     "base_uri": "https://localhost:8080/"
    },
    "executionInfo": {
     "elapsed": 2960,
     "status": "ok",
     "timestamp": 1620993220704,
     "user": {
      "displayName": "Guilherme Nardari",
      "photoUrl": "",
      "userId": "04838521268930040889"
     },
     "user_tz": 180
    },
    "id": "GEn5CNjkC6si",
    "outputId": "53c3786a-1f3d-4666-a825-1d1d6069c02d"
   },
   "outputs": [
    {
     "data": {
      "text/plain": [
       "0    955\n",
       "1    952\n",
       "Name: classe, dtype: int64"
      ]
     },
     "execution_count": 8,
     "metadata": {},
     "output_type": "execute_result"
    }
   ],
   "source": [
    "dados_upsampled['classe'].value_counts()"
   ]
  },
  {
   "cell_type": "code",
   "execution_count": 9,
   "metadata": {
    "colab": {
     "base_uri": "https://localhost:8080/",
     "height": 365
    },
    "executionInfo": {
     "elapsed": 3926,
     "status": "ok",
     "timestamp": 1620993221674,
     "user": {
      "displayName": "Guilherme Nardari",
      "photoUrl": "",
      "userId": "04838521268930040889"
     },
     "user_tz": 180
    },
    "id": "d7FO58_wGrYY",
    "outputId": "694d2974-400c-48e0-ec0e-53d5aea22ca0"
   },
   "outputs": [
    {
     "data": {
      "text/plain": [
       "array([[<AxesSubplot:title={'center':'idade'}>,\n",
       "        <AxesSubplot:title={'center':'sexo'}>],\n",
       "       [<AxesSubplot:title={'center':'altura'}>,\n",
       "        <AxesSubplot:title={'center':'classe'}>]], dtype=object)"
      ]
     },
     "execution_count": 9,
     "metadata": {},
     "output_type": "execute_result"
    },
    {
     "data": {
      "image/png": "[encoded data removed]",
      "text/plain": [
       "<Figure size 1080x720 with 4 Axes>"
      ]
     },
     "metadata": {
      "needs_background": "light"
     },
     "output_type": "display_data"
    }
   ],
   "source": [
    "dados_upsampled.hist()"
   ]
  },
  {
   "cell_type": "markdown",
   "metadata": {
    "id": "on_2GpZdDb3r"
   },
   "source": [
    "\n",
    "\n",
    "---\n",
    "\n",
    "## Subamostragem - Undersampling"
   ]
  },
  {
   "cell_type": "markdown",
   "metadata": {
    "id": "hGBX3gt7DrHf"
   },
   "source": [
    "Para a subamostragem, vamos diminuir o tamanho da classe predominante.\n",
    "\n",
    "Checando a distribuição das classes nos dados originais:"
   ]
  },
  {
   "cell_type": "code",
   "execution_count": 10,
   "metadata": {
    "colab": {
     "base_uri": "https://localhost:8080/"
    },
    "executionInfo": {
     "elapsed": 3921,
     "status": "ok",
     "timestamp": 1620993221674,
     "user": {
      "displayName": "Guilherme Nardari",
      "photoUrl": "",
      "userId": "04838521268930040889"
     },
     "user_tz": 180
    },
    "id": "ighyAMnZEX3M",
    "outputId": "c6976718-c332-48f6-95a1-b7a2ab57e93d"
   },
   "outputs": [
    {
     "data": {
      "text/plain": [
       "1    952\n",
       "0     48\n",
       "Name: classe, dtype: int64"
      ]
     },
     "execution_count": 10,
     "metadata": {},
     "output_type": "execute_result"
    }
   ],
   "source": [
    "dados['classe'].value_counts()"
   ]
  },
  {
   "cell_type": "markdown",
   "metadata": {
    "id": "tafL4FmyEdXK"
   },
   "source": [
    "Selecionando as tuplas em que a classe é igual à 1:"
   ]
  },
  {
   "cell_type": "code",
   "execution_count": 11,
   "metadata": {
    "colab": {
     "base_uri": "https://localhost:8080/",
     "height": 402
    },
    "executionInfo": {
     "elapsed": 3918,
     "status": "ok",
     "timestamp": 1620993221675,
     "user": {
      "displayName": "Guilherme Nardari",
      "photoUrl": "",
      "userId": "04838521268930040889"
     },
     "user_tz": 180
    },
    "id": "_wcJhbfyEdEf",
    "outputId": "765bab27-2c37-4325-f115-b33d9fe86229"
   },
   "outputs": [
    {
     "data": {
      "text/html": [
       "<div>\n",
       "<style scoped>\n",
       "    .dataframe tbody tr th:only-of-type {\n",
       "        vertical-align: middle;\n",
       "    }\n",
       "\n",
       "    .dataframe tbody tr th {\n",
       "        vertical-align: top;\n",
       "    }\n",
       "\n",
       "    .dataframe thead th {\n",
       "        text-align: right;\n",
       "    }\n",
       "</style>\n",
       "<table border=\"1\" class=\"dataframe\">\n",
       "  <thead>\n",
       "    <tr style=\"text-align: right;\">\n",
       "      <th></th>\n",
       "      <th>idade</th>\n",
       "      <th>sexo</th>\n",
       "      <th>altura</th>\n",
       "      <th>classe</th>\n",
       "    </tr>\n",
       "  </thead>\n",
       "  <tbody>\n",
       "    <tr>\n",
       "      <th>0</th>\n",
       "      <td>39.0</td>\n",
       "      <td>0</td>\n",
       "      <td>1.46</td>\n",
       "      <td>1</td>\n",
       "    </tr>\n",
       "    <tr>\n",
       "      <th>1</th>\n",
       "      <td>32.0</td>\n",
       "      <td>1</td>\n",
       "      <td>1.19</td>\n",
       "      <td>1</td>\n",
       "    </tr>\n",
       "    <tr>\n",
       "      <th>2</th>\n",
       "      <td>18.0</td>\n",
       "      <td>0</td>\n",
       "      <td>1.69</td>\n",
       "      <td>1</td>\n",
       "    </tr>\n",
       "    <tr>\n",
       "      <th>3</th>\n",
       "      <td>16.0</td>\n",
       "      <td>1</td>\n",
       "      <td>1.60</td>\n",
       "      <td>1</td>\n",
       "    </tr>\n",
       "    <tr>\n",
       "      <th>4</th>\n",
       "      <td>51.0</td>\n",
       "      <td>1</td>\n",
       "      <td>1.22</td>\n",
       "      <td>1</td>\n",
       "    </tr>\n",
       "    <tr>\n",
       "      <th>...</th>\n",
       "      <td>...</td>\n",
       "      <td>...</td>\n",
       "      <td>...</td>\n",
       "      <td>...</td>\n",
       "    </tr>\n",
       "    <tr>\n",
       "      <th>995</th>\n",
       "      <td>29.0</td>\n",
       "      <td>0</td>\n",
       "      <td>1.61</td>\n",
       "      <td>1</td>\n",
       "    </tr>\n",
       "    <tr>\n",
       "      <th>996</th>\n",
       "      <td>19.0</td>\n",
       "      <td>1</td>\n",
       "      <td>1.59</td>\n",
       "      <td>1</td>\n",
       "    </tr>\n",
       "    <tr>\n",
       "      <th>997</th>\n",
       "      <td>38.0</td>\n",
       "      <td>0</td>\n",
       "      <td>1.40</td>\n",
       "      <td>1</td>\n",
       "    </tr>\n",
       "    <tr>\n",
       "      <th>998</th>\n",
       "      <td>20.0</td>\n",
       "      <td>0</td>\n",
       "      <td>1.34</td>\n",
       "      <td>1</td>\n",
       "    </tr>\n",
       "    <tr>\n",
       "      <th>999</th>\n",
       "      <td>31.0</td>\n",
       "      <td>0</td>\n",
       "      <td>1.91</td>\n",
       "      <td>1</td>\n",
       "    </tr>\n",
       "  </tbody>\n",
       "</table>\n",
       "<p>952 rows × 4 columns</p>\n",
       "</div>"
      ],
      "text/plain": [
       "     idade  sexo  altura  classe\n",
       "0     39.0     0    1.46       1\n",
       "1     32.0     1    1.19       1\n",
       "2     18.0     0    1.69       1\n",
       "3     16.0     1    1.60       1\n",
       "4     51.0     1    1.22       1\n",
       "..     ...   ...     ...     ...\n",
       "995   29.0     0    1.61       1\n",
       "996   19.0     1    1.59       1\n",
       "997   38.0     0    1.40       1\n",
       "998   20.0     0    1.34       1\n",
       "999   31.0     0    1.91       1\n",
       "\n",
       "[952 rows x 4 columns]"
      ]
     },
     "execution_count": 11,
     "metadata": {},
     "output_type": "execute_result"
    }
   ],
   "source": [
    "classe_1 = dados[dados.classe == 1]\n",
    "classe_1"
   ]
  },
  {
   "cell_type": "markdown",
   "metadata": {
    "id": "YKzWj2w8Eual"
   },
   "source": [
    "Obtendo uma amostra de tamanho **45**. Note que, nesse caso, é interessante que nossa amostra possua elementos distintos, por isso `replace=False`:"
   ]
  },
  {
   "cell_type": "code",
   "execution_count": 12,
   "metadata": {
    "colab": {
     "base_uri": "https://localhost:8080/",
     "height": 1000
    },
    "executionInfo": {
     "elapsed": 3914,
     "status": "ok",
     "timestamp": 1620993221675,
     "user": {
      "displayName": "Guilherme Nardari",
      "photoUrl": "",
      "userId": "04838521268930040889"
     },
     "user_tz": 180
    },
    "id": "mDtwLkJX-pTE",
    "outputId": "afd8ac21-4bd4-43e3-d12a-7e5d99885441"
   },
   "outputs": [
    {
     "data": {
      "text/html": [
       "<div>\n",
       "<style scoped>\n",
       "    .dataframe tbody tr th:only-of-type {\n",
       "        vertical-align: middle;\n",
       "    }\n",
       "\n",
       "    .dataframe tbody tr th {\n",
       "        vertical-align: top;\n",
       "    }\n",
       "\n",
       "    .dataframe thead th {\n",
       "        text-align: right;\n",
       "    }\n",
       "</style>\n",
       "<table border=\"1\" class=\"dataframe\">\n",
       "  <thead>\n",
       "    <tr style=\"text-align: right;\">\n",
       "      <th></th>\n",
       "      <th>idade</th>\n",
       "      <th>sexo</th>\n",
       "      <th>altura</th>\n",
       "      <th>classe</th>\n",
       "    </tr>\n",
       "  </thead>\n",
       "  <tbody>\n",
       "    <tr>\n",
       "      <th>70</th>\n",
       "      <td>53.0</td>\n",
       "      <td>0</td>\n",
       "      <td>1.49</td>\n",
       "      <td>1</td>\n",
       "    </tr>\n",
       "    <tr>\n",
       "      <th>230</th>\n",
       "      <td>40.0</td>\n",
       "      <td>0</td>\n",
       "      <td>1.57</td>\n",
       "      <td>1</td>\n",
       "    </tr>\n",
       "    <tr>\n",
       "      <th>939</th>\n",
       "      <td>34.0</td>\n",
       "      <td>0</td>\n",
       "      <td>1.79</td>\n",
       "      <td>1</td>\n",
       "    </tr>\n",
       "    <tr>\n",
       "      <th>687</th>\n",
       "      <td>42.0</td>\n",
       "      <td>1</td>\n",
       "      <td>1.86</td>\n",
       "      <td>1</td>\n",
       "    </tr>\n",
       "    <tr>\n",
       "      <th>14</th>\n",
       "      <td>33.0</td>\n",
       "      <td>1</td>\n",
       "      <td>1.49</td>\n",
       "      <td>1</td>\n",
       "    </tr>\n",
       "    <tr>\n",
       "      <th>810</th>\n",
       "      <td>32.0</td>\n",
       "      <td>0</td>\n",
       "      <td>1.59</td>\n",
       "      <td>1</td>\n",
       "    </tr>\n",
       "    <tr>\n",
       "      <th>328</th>\n",
       "      <td>30.0</td>\n",
       "      <td>0</td>\n",
       "      <td>1.59</td>\n",
       "      <td>1</td>\n",
       "    </tr>\n",
       "    <tr>\n",
       "      <th>45</th>\n",
       "      <td>33.0</td>\n",
       "      <td>1</td>\n",
       "      <td>1.72</td>\n",
       "      <td>1</td>\n",
       "    </tr>\n",
       "    <tr>\n",
       "      <th>914</th>\n",
       "      <td>51.0</td>\n",
       "      <td>0</td>\n",
       "      <td>1.64</td>\n",
       "      <td>1</td>\n",
       "    </tr>\n",
       "    <tr>\n",
       "      <th>269</th>\n",
       "      <td>40.0</td>\n",
       "      <td>0</td>\n",
       "      <td>1.76</td>\n",
       "      <td>1</td>\n",
       "    </tr>\n",
       "    <tr>\n",
       "      <th>155</th>\n",
       "      <td>36.0</td>\n",
       "      <td>1</td>\n",
       "      <td>1.62</td>\n",
       "      <td>1</td>\n",
       "    </tr>\n",
       "    <tr>\n",
       "      <th>783</th>\n",
       "      <td>29.0</td>\n",
       "      <td>1</td>\n",
       "      <td>1.71</td>\n",
       "      <td>1</td>\n",
       "    </tr>\n",
       "    <tr>\n",
       "      <th>937</th>\n",
       "      <td>31.0</td>\n",
       "      <td>0</td>\n",
       "      <td>1.74</td>\n",
       "      <td>1</td>\n",
       "    </tr>\n",
       "    <tr>\n",
       "      <th>248</th>\n",
       "      <td>39.0</td>\n",
       "      <td>1</td>\n",
       "      <td>1.71</td>\n",
       "      <td>1</td>\n",
       "    </tr>\n",
       "    <tr>\n",
       "      <th>691</th>\n",
       "      <td>40.0</td>\n",
       "      <td>0</td>\n",
       "      <td>1.67</td>\n",
       "      <td>1</td>\n",
       "    </tr>\n",
       "    <tr>\n",
       "      <th>450</th>\n",
       "      <td>42.0</td>\n",
       "      <td>0</td>\n",
       "      <td>1.51</td>\n",
       "      <td>1</td>\n",
       "    </tr>\n",
       "    <tr>\n",
       "      <th>562</th>\n",
       "      <td>31.0</td>\n",
       "      <td>0</td>\n",
       "      <td>1.33</td>\n",
       "      <td>1</td>\n",
       "    </tr>\n",
       "    <tr>\n",
       "      <th>220</th>\n",
       "      <td>12.0</td>\n",
       "      <td>0</td>\n",
       "      <td>1.49</td>\n",
       "      <td>1</td>\n",
       "    </tr>\n",
       "    <tr>\n",
       "      <th>334</th>\n",
       "      <td>30.0</td>\n",
       "      <td>1</td>\n",
       "      <td>1.59</td>\n",
       "      <td>1</td>\n",
       "    </tr>\n",
       "    <tr>\n",
       "      <th>974</th>\n",
       "      <td>34.0</td>\n",
       "      <td>0</td>\n",
       "      <td>1.43</td>\n",
       "      <td>1</td>\n",
       "    </tr>\n",
       "    <tr>\n",
       "      <th>179</th>\n",
       "      <td>31.0</td>\n",
       "      <td>1</td>\n",
       "      <td>1.77</td>\n",
       "      <td>1</td>\n",
       "    </tr>\n",
       "    <tr>\n",
       "      <th>53</th>\n",
       "      <td>27.0</td>\n",
       "      <td>1</td>\n",
       "      <td>1.83</td>\n",
       "      <td>1</td>\n",
       "    </tr>\n",
       "    <tr>\n",
       "      <th>151</th>\n",
       "      <td>21.0</td>\n",
       "      <td>0</td>\n",
       "      <td>1.72</td>\n",
       "      <td>1</td>\n",
       "    </tr>\n",
       "    <tr>\n",
       "      <th>745</th>\n",
       "      <td>28.0</td>\n",
       "      <td>0</td>\n",
       "      <td>1.57</td>\n",
       "      <td>1</td>\n",
       "    </tr>\n",
       "    <tr>\n",
       "      <th>69</th>\n",
       "      <td>27.0</td>\n",
       "      <td>1</td>\n",
       "      <td>1.48</td>\n",
       "      <td>1</td>\n",
       "    </tr>\n",
       "    <tr>\n",
       "      <th>414</th>\n",
       "      <td>35.0</td>\n",
       "      <td>0</td>\n",
       "      <td>1.61</td>\n",
       "      <td>1</td>\n",
       "    </tr>\n",
       "    <tr>\n",
       "      <th>3</th>\n",
       "      <td>16.0</td>\n",
       "      <td>1</td>\n",
       "      <td>1.60</td>\n",
       "      <td>1</td>\n",
       "    </tr>\n",
       "    <tr>\n",
       "      <th>906</th>\n",
       "      <td>27.0</td>\n",
       "      <td>0</td>\n",
       "      <td>1.57</td>\n",
       "      <td>1</td>\n",
       "    </tr>\n",
       "    <tr>\n",
       "      <th>385</th>\n",
       "      <td>27.0</td>\n",
       "      <td>0</td>\n",
       "      <td>1.60</td>\n",
       "      <td>1</td>\n",
       "    </tr>\n",
       "    <tr>\n",
       "      <th>478</th>\n",
       "      <td>19.0</td>\n",
       "      <td>1</td>\n",
       "      <td>1.71</td>\n",
       "      <td>1</td>\n",
       "    </tr>\n",
       "    <tr>\n",
       "      <th>170</th>\n",
       "      <td>31.0</td>\n",
       "      <td>0</td>\n",
       "      <td>1.68</td>\n",
       "      <td>1</td>\n",
       "    </tr>\n",
       "    <tr>\n",
       "      <th>815</th>\n",
       "      <td>32.0</td>\n",
       "      <td>0</td>\n",
       "      <td>1.90</td>\n",
       "      <td>1</td>\n",
       "    </tr>\n",
       "    <tr>\n",
       "      <th>764</th>\n",
       "      <td>29.0</td>\n",
       "      <td>1</td>\n",
       "      <td>1.49</td>\n",
       "      <td>1</td>\n",
       "    </tr>\n",
       "    <tr>\n",
       "      <th>97</th>\n",
       "      <td>22.0</td>\n",
       "      <td>0</td>\n",
       "      <td>1.55</td>\n",
       "      <td>1</td>\n",
       "    </tr>\n",
       "    <tr>\n",
       "      <th>650</th>\n",
       "      <td>23.0</td>\n",
       "      <td>0</td>\n",
       "      <td>1.41</td>\n",
       "      <td>1</td>\n",
       "    </tr>\n",
       "    <tr>\n",
       "      <th>55</th>\n",
       "      <td>24.0</td>\n",
       "      <td>0</td>\n",
       "      <td>1.30</td>\n",
       "      <td>1</td>\n",
       "    </tr>\n",
       "    <tr>\n",
       "      <th>379</th>\n",
       "      <td>37.0</td>\n",
       "      <td>1</td>\n",
       "      <td>1.71</td>\n",
       "      <td>1</td>\n",
       "    </tr>\n",
       "    <tr>\n",
       "      <th>608</th>\n",
       "      <td>26.0</td>\n",
       "      <td>0</td>\n",
       "      <td>1.55</td>\n",
       "      <td>1</td>\n",
       "    </tr>\n",
       "    <tr>\n",
       "      <th>363</th>\n",
       "      <td>26.0</td>\n",
       "      <td>1</td>\n",
       "      <td>1.75</td>\n",
       "      <td>1</td>\n",
       "    </tr>\n",
       "    <tr>\n",
       "      <th>630</th>\n",
       "      <td>25.0</td>\n",
       "      <td>0</td>\n",
       "      <td>1.69</td>\n",
       "      <td>1</td>\n",
       "    </tr>\n",
       "    <tr>\n",
       "      <th>93</th>\n",
       "      <td>-7.0</td>\n",
       "      <td>0</td>\n",
       "      <td>1.37</td>\n",
       "      <td>1</td>\n",
       "    </tr>\n",
       "    <tr>\n",
       "      <th>355</th>\n",
       "      <td>30.0</td>\n",
       "      <td>0</td>\n",
       "      <td>1.63</td>\n",
       "      <td>1</td>\n",
       "    </tr>\n",
       "    <tr>\n",
       "      <th>877</th>\n",
       "      <td>37.0</td>\n",
       "      <td>0</td>\n",
       "      <td>1.51</td>\n",
       "      <td>1</td>\n",
       "    </tr>\n",
       "    <tr>\n",
       "      <th>927</th>\n",
       "      <td>36.0</td>\n",
       "      <td>0</td>\n",
       "      <td>1.69</td>\n",
       "      <td>1</td>\n",
       "    </tr>\n",
       "    <tr>\n",
       "      <th>311</th>\n",
       "      <td>28.0</td>\n",
       "      <td>0</td>\n",
       "      <td>1.37</td>\n",
       "      <td>1</td>\n",
       "    </tr>\n",
       "  </tbody>\n",
       "</table>\n",
       "</div>"
      ],
      "text/plain": [
       "     idade  sexo  altura  classe\n",
       "70    53.0     0    1.49       1\n",
       "230   40.0     0    1.57       1\n",
       "939   34.0     0    1.79       1\n",
       "687   42.0     1    1.86       1\n",
       "14    33.0     1    1.49       1\n",
       "810   32.0     0    1.59       1\n",
       "328   30.0     0    1.59       1\n",
       "45    33.0     1    1.72       1\n",
       "914   51.0     0    1.64       1\n",
       "269   40.0     0    1.76       1\n",
       "155   36.0     1    1.62       1\n",
       "783   29.0     1    1.71       1\n",
       "937   31.0     0    1.74       1\n",
       "248   39.0     1    1.71       1\n",
       "691   40.0     0    1.67       1\n",
       "450   42.0     0    1.51       1\n",
       "562   31.0     0    1.33       1\n",
       "220   12.0     0    1.49       1\n",
       "334   30.0     1    1.59       1\n",
       "974   34.0     0    1.43       1\n",
       "179   31.0     1    1.77       1\n",
       "53    27.0     1    1.83       1\n",
       "151   21.0     0    1.72       1\n",
       "745   28.0     0    1.57       1\n",
       "69    27.0     1    1.48       1\n",
       "414   35.0     0    1.61       1\n",
       "3     16.0     1    1.60       1\n",
       "906   27.0     0    1.57       1\n",
       "385   27.0     0    1.60       1\n",
       "478   19.0     1    1.71       1\n",
       "170   31.0     0    1.68       1\n",
       "815   32.0     0    1.90       1\n",
       "764   29.0     1    1.49       1\n",
       "97    22.0     0    1.55       1\n",
       "650   23.0     0    1.41       1\n",
       "55    24.0     0    1.30       1\n",
       "379   37.0     1    1.71       1\n",
       "608   26.0     0    1.55       1\n",
       "363   26.0     1    1.75       1\n",
       "630   25.0     0    1.69       1\n",
       "93    -7.0     0    1.37       1\n",
       "355   30.0     0    1.63       1\n",
       "877   37.0     0    1.51       1\n",
       "927   36.0     0    1.69       1\n",
       "311   28.0     0    1.37       1"
      ]
     },
     "execution_count": 12,
     "metadata": {},
     "output_type": "execute_result"
    }
   ],
   "source": [
    "sample_1 = classe_1.sample(n=45, replace=False)\n",
    "sample_1"
   ]
  },
  {
   "cell_type": "code",
   "execution_count": 13,
   "metadata": {
    "colab": {
     "base_uri": "https://localhost:8080/"
    },
    "executionInfo": {
     "elapsed": 3911,
     "status": "ok",
     "timestamp": 1620993221676,
     "user": {
      "displayName": "Guilherme Nardari",
      "photoUrl": "",
      "userId": "04838521268930040889"
     },
     "user_tz": 180
    },
    "id": "GExMtbd8FI6O",
    "outputId": "9dca4f89-8272-4c4a-d3e4-7a08b8caf98f"
   },
   "outputs": [
    {
     "data": {
      "text/plain": [
       "(45, 4)"
      ]
     },
     "execution_count": 13,
     "metadata": {},
     "output_type": "execute_result"
    }
   ],
   "source": [
    "sample_1.shape"
   ]
  },
  {
   "cell_type": "markdown",
   "metadata": {
    "id": "W2bvhm-KFM-H"
   },
   "source": [
    "Agora iremos concatenar a amostra com dados com os dados do conjunto original que possuiam classe igual a `0`:"
   ]
  },
  {
   "cell_type": "code",
   "execution_count": 14,
   "metadata": {
    "id": "5f1iLF41Fcit"
   },
   "outputs": [],
   "source": [
    "classe_0 = dados[dados.classe == 0]\n",
    "dados_downsampled = pd.concat([classe_0, sample_1])"
   ]
  },
  {
   "cell_type": "markdown",
   "metadata": {
    "id": "hlLBhMVZFl9E"
   },
   "source": [
    "Verificando a distribuição das classes:"
   ]
  },
  {
   "cell_type": "code",
   "execution_count": 15,
   "metadata": {
    "colab": {
     "base_uri": "https://localhost:8080/",
     "height": 314
    },
    "executionInfo": {
     "elapsed": 3906,
     "status": "ok",
     "timestamp": 1620993221677,
     "user": {
      "displayName": "Guilherme Nardari",
      "photoUrl": "",
      "userId": "04838521268930040889"
     },
     "user_tz": 180
    },
    "id": "k689AH21Fn1o",
    "outputId": "49632be9-c0bd-434a-e6a1-cba0c53fed45"
   },
   "outputs": [
    {
     "data": {
      "text/plain": [
       "array([[<AxesSubplot:title={'center':'classe'}>]], dtype=object)"
      ]
     },
     "execution_count": 15,
     "metadata": {},
     "output_type": "execute_result"
    },
    {
     "data": {
      "image/png": "[encoded data removed]",
      "text/plain": [
       "<Figure size 1080x720 with 1 Axes>"
      ]
     },
     "metadata": {
      "needs_background": "light"
     },
     "output_type": "display_data"
    }
   ],
   "source": [
    "dados_downsampled.hist('classe')"
   ]
  },
  {
   "cell_type": "code",
   "execution_count": 16,
   "metadata": {
    "colab": {
     "base_uri": "https://localhost:8080/"
    },
    "executionInfo": {
     "elapsed": 3902,
     "status": "ok",
     "timestamp": 1620993221677,
     "user": {
      "displayName": "Guilherme Nardari",
      "photoUrl": "",
      "userId": "04838521268930040889"
     },
     "user_tz": 180
    },
    "id": "dhk0zP-YFqGd",
    "outputId": "5b726c8a-042b-45ce-e683-b824d118fdd5"
   },
   "outputs": [
    {
     "data": {
      "text/plain": [
       "0    48\n",
       "1    45\n",
       "Name: classe, dtype: int64"
      ]
     },
     "execution_count": 16,
     "metadata": {},
     "output_type": "execute_result"
    }
   ],
   "source": [
    "dados_downsampled['classe'].value_counts()"
   ]
  },
  {
   "cell_type": "code",
   "execution_count": 17,
   "metadata": {
    "colab": {
     "base_uri": "https://localhost:8080/",
     "height": 365
    },
    "executionInfo": {
     "elapsed": 4807,
     "status": "ok",
     "timestamp": 1620993222586,
     "user": {
      "displayName": "Guilherme Nardari",
      "photoUrl": "",
      "userId": "04838521268930040889"
     },
     "user_tz": 180
    },
    "id": "AN-ysD3SHAeL",
    "outputId": "cce66e59-869e-4e11-ae78-dc83524f3212"
   },
   "outputs": [
    {
     "data": {
      "text/plain": [
       "array([[<AxesSubplot:title={'center':'idade'}>,\n",
       "        <AxesSubplot:title={'center':'sexo'}>],\n",
       "       [<AxesSubplot:title={'center':'altura'}>,\n",
       "        <AxesSubplot:title={'center':'classe'}>]], dtype=object)"
      ]
     },
     "execution_count": 17,
     "metadata": {},
     "output_type": "execute_result"
    },
    {
     "data": {
      "image/png": "[encoded data removed]",
      "text/plain": [
       "<Figure size 1080x720 with 4 Axes>"
      ]
     },
     "metadata": {
      "needs_background": "light"
     },
     "output_type": "display_data"
    }
   ],
   "source": [
    "dados_downsampled.hist()"
   ]
  },
  {
   "cell_type": "markdown",
   "metadata": {
    "id": "RChJQegru2vc"
   },
   "source": [
    "### Fazendo sampling dos exemplos e da classe quando estão em objetos diferentes"
   ]
  },
  {
   "cell_type": "code",
   "execution_count": 18,
   "metadata": {
    "id": "j-836oBTGdpH"
   },
   "outputs": [],
   "source": [
    "indices_0 = np.where(dados.classe == 0)[0]\n",
    "atributos = dados[['altura','sexo', 'idade']].to_numpy()\n",
    "classes = dados['classe'].to_numpy()\n",
    "\n",
    "indices_0_sample = np.random.choice(indices_0, size=10, replace=False)"
   ]
  },
  {
   "cell_type": "markdown",
   "metadata": {
    "id": "R7HT7Vaaj69w"
   },
   "source": [
    "\n",
    "\n",
    "---\n",
    "\n",
    "## Métricas de desempenho em conjuntos desbalanceados"
   ]
  },
  {
   "cell_type": "markdown",
   "metadata": {
    "id": "jnkFdOcWkBHa"
   },
   "source": [
    "Alguns cuidados são necessários ao medir desempenho em dados não balanceados. Por exemplo, suponha um classificador binário (`Some_classifier`) que sempre classifica uma entrada como a classe predominante do conjunto. Vamos calcular sua acurácia no conjunto de dados inicial:"
   ]
  },
  {
   "cell_type": "code",
   "execution_count": 21,
   "metadata": {
    "id": "68V_vzrzkL_i"
   },
   "outputs": [],
   "source": [
    "import numpy as np\n",
    "\n",
    "# Criando uma classe de classificador de exemplo\n",
    "class Some_classifier:\n",
    "    def __init__(self):\n",
    "        self.predict_value = None\n",
    "    def fit(self, X, y):\n",
    "        self.predict_value = y.mode()\n",
    "    def predict(self, X):\n",
    "        return np.repeat(1, X.shape[0])"
   ]
  },
  {
   "cell_type": "markdown",
   "metadata": {
    "id": "eZWkYzSrj-Ct"
   },
   "source": [
    "Separando em variáveis de entrada (`X`) e variáveis alvo (`y`) e calculando acurácia padrão:"
   ]
  },
  {
   "cell_type": "code",
   "execution_count": 20,
   "metadata": {
    "colab": {
     "base_uri": "https://localhost:8080/"
    },
    "executionInfo": {
     "elapsed": 630,
     "status": "ok",
     "timestamp": 1620993399596,
     "user": {
      "displayName": "Guilherme Nardari",
      "photoUrl": "",
      "userId": "04838521268930040889"
     },
     "user_tz": 180
    },
    "id": "A14nDQs7lYmf",
    "outputId": "474a5ded-0ef8-4681-d707-6b1fb698f839"
   },
   "outputs": [
    {
     "name": "stdout",
     "output_type": "stream",
     "text": [
      "Acurácia do classificador: 95.20%\n"
     ]
    }
   ],
   "source": [
    "from sklearn.metrics import accuracy_score\n",
    "\n",
    "# Separando o conjunto de dados\n",
    "X, y = dados.iloc[:, :-1], dados.iloc[:, -1]\n",
    "\n",
    "my_classifier = Some_classifier()\n",
    "my_classifier.fit(X, y)\n",
    "y_pred = my_classifier.predict(X)\n",
    "\n",
    "print(\"Acurácia do classificador: %.2f%%\" % (accuracy_score(y, y_pred)*100))"
   ]
  },
  {
   "cell_type": "markdown",
   "metadata": {
    "id": "cKSOqK2gkd0q"
   },
   "source": [
    "A medida de acurácia não representa muito bem o desempenho do nosso classificador."
   ]
  },
  {
   "cell_type": "markdown",
   "metadata": {
    "id": "UM6F09nbqlqC"
   },
   "source": [
    "Material que discute bem diferentes métricas para dados desbalanceados: https://machinelearningmastery.com/tour-of-evaluation-metrics-for-imbalanced-classification/"
   ]
  },
  {
   "cell_type": "markdown",
   "metadata": {
    "id": "Hd6D_7ScvW50"
   },
   "source": [
    "### Importante: Técnicas de amostragem devem ser feitas no conjunto de treinamento!"
   ]
  }
 ],
 "metadata": {
  "colab": {
   "name": "Undersampling e Oversampling.ipynb",
   "provenance": []
  },
  "kernelspec": {
   "display_name": "Python 3 (ipykernel)",
   "language": "python",
   "name": "python3"
  },
  "language_info": {
   "codemirror_mode": {
    "name": "ipython",
    "version": 3
   },
   "file_extension": ".py",
   "mimetype": "text/x-python",
   "name": "python",
   "nbconvert_exporter": "python",
   "pygments_lexer": "ipython3",
   "version": "3.9.7"
  }
 },
 "nbformat": 4,
 "nbformat_minor": 1
}
