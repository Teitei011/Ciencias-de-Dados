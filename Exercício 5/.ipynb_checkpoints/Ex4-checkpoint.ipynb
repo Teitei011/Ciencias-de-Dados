{
 "cells": [
  {
   "cell_type": "markdown",
   "metadata": {
    "id": "HaabIE4ETRhY"
   },
   "source": [
    "# SCC0275: Introdução a Ciência de Dados - 2o Semestre de 2021\n",
    "# SCC0275 - Exercício 4\n",
    "\n",
    "### Profa. Roseli A. F. Romero\n",
    "\n",
    "### Monitor: Kenzo Sakiyama\n",
    "\n",
    "Nro do grupo:\n",
    "\n",
    "Alunos:\n",
    "\n",
    "\n",
    "1.   List item\n",
    "2.   List item\n",
    "\n",
    "\n",
    "No dataset que será utilizado nesse exercício, cada elemento representa uma transação com cartões de crédito. \n",
    "\n",
    "A base possui 30 atributos. `Time` representa o tempo em segundos desde a primeira transação da base. `Amount` corresponde ao valor da transação.\n",
    "\n",
    "Outros 28 atributos numéricos anonimizados também são fornecidos, com 1 variável (`Class`) de saída onde 1 significa fraude e 0 transação normal.\n",
    "\n",
    "**Esse exerício possui material complementar (\"Undersampling e Oversampling\")**\n",
    "\n",
    "**Esse exerício possui material complementar (\"Undersampling e Oversampling\")**"
   ]
  },
  {
   "cell_type": "markdown",
   "metadata": {
    "id": "_YGNezFvvnES"
   },
   "source": [
    "### Questão 01.\n",
    "Carregue o dataset `creditcard_sampled.csv` e mostre a distribuição das classes:\n",
    "\n",
    "*   Via histograma\n",
    "*   Exibindo o número de ocorrências de cada classe\n",
    "\n"
   ]
  },
  {
   "cell_type": "code",
   "execution_count": null,
   "metadata": {
    "id": "jrUONCLc3DEx"
   },
   "outputs": [],
   "source": [
    "import pandas as pd\n",
    "import matplotlib.pyplot as plt\n",
    "import numpy as np\n"
   ]
  },
  {
   "cell_type": "code",
   "execution_count": null,
   "metadata": {
    "colab": {
     "base_uri": "https://localhost:8080/"
    },
    "executionInfo": {
     "elapsed": 258,
     "status": "ok",
     "timestamp": 1625598395265,
     "user": {
      "displayName": "Roseli Aparecida Romero",
      "photoUrl": "https://lh3.googleusercontent.com/a-/AOh14GggZ2rsPiv-FkQKH6F1V_dednAttO2KCXuETGpseA=s64",
      "userId": "13783755857862911011"
     },
     "user_tz": 180
    },
    "id": "8_mKl4wJ3UfK",
    "outputId": "6a9c7132-b59c-4e6d-9228-eb104d896bd6"
   },
   "outputs": [
    {
     "name": "stdout",
     "output_type": "stream",
     "text": [
      "<class 'pandas.core.frame.DataFrame'>\n",
      "Int64Index: 7582 entries, 541 to 168367\n",
      "Data columns (total 31 columns):\n",
      " #   Column  Non-Null Count  Dtype  \n",
      "---  ------  --------------  -----  \n",
      " 0   Time    7582 non-null   float64\n",
      " 1   V1      7582 non-null   float64\n",
      " 2   V2      7582 non-null   float64\n",
      " 3   V3      7582 non-null   float64\n",
      " 4   V4      7582 non-null   float64\n",
      " 5   V5      7582 non-null   float64\n",
      " 6   V6      7582 non-null   float64\n",
      " 7   V7      7582 non-null   float64\n",
      " 8   V8      7582 non-null   float64\n",
      " 9   V9      7582 non-null   float64\n",
      " 10  V10     7582 non-null   float64\n",
      " 11  V11     7582 non-null   float64\n",
      " 12  V12     7582 non-null   float64\n",
      " 13  V13     7582 non-null   float64\n",
      " 14  V14     7582 non-null   float64\n",
      " 15  V15     7582 non-null   float64\n",
      " 16  V16     7582 non-null   float64\n",
      " 17  V17     7582 non-null   float64\n",
      " 18  V18     7582 non-null   float64\n",
      " 19  V19     7582 non-null   float64\n",
      " 20  V20     7582 non-null   float64\n",
      " 21  V21     7582 non-null   float64\n",
      " 22  V22     7582 non-null   float64\n",
      " 23  V23     7582 non-null   float64\n",
      " 24  V24     7582 non-null   float64\n",
      " 25  V25     7582 non-null   float64\n",
      " 26  V26     7582 non-null   float64\n",
      " 27  V27     7582 non-null   float64\n",
      " 28  V28     7581 non-null   float64\n",
      " 29  Amount  7581 non-null   float64\n",
      " 30  Class   7581 non-null   float64\n",
      "dtypes: float64(31)\n",
      "memory usage: 1.9 MB\n"
     ]
    }
   ],
   "source": [
    "dados = pd.read_csv('/content/creditcard_sampled.csv', index_col=0)\n",
    "dados.info()"
   ]
  },
  {
   "cell_type": "markdown",
   "metadata": {
    "id": "Gx86EFEVfTHL"
   },
   "source": [
    "\n",
    "\n",
    "---\n",
    "\n",
    "### Questão 02.\n",
    "\n",
    "Separe o conjunto de dados em variáveis de entrada e variável alvo.\n",
    "\n",
    "* Dica: separe os dados em **DataFrames** distintos para facilitar as operações."
   ]
  },
  {
   "cell_type": "code",
   "execution_count": null,
   "metadata": {
    "id": "qpLjIsGMzUEU"
   },
   "outputs": [],
   "source": []
  },
  {
   "cell_type": "markdown",
   "metadata": {
    "id": "hh4__9wIT8h6"
   },
   "source": [
    "### Atenção\n",
    "Para as próximas questões, atente-se aos tipos de dados esperados por cada função. Caso necessário, altere-os conforme for melhor para sua implementação."
   ]
  },
  {
   "cell_type": "markdown",
   "metadata": {
    "id": "ITDds1CcO7M9"
   },
   "source": [
    "\n",
    "\n",
    "---\n",
    "\n",
    "### Questão 03.\n",
    "\n",
    "Crie uma função que aplique a técnica de subamostragem aleatória nesse conjunto de dados. \n",
    "- Sua função deve receber como entrada a base normalizada e as classes.\n",
    "\n",
    "- Sua função deve retornar um novo conjunto onde todas as classes devem ter o número de ocorrências da classe com **menor representatividade no conjunto de dados inicial** e um array com as respectivas labels.\n",
    "- Mostre o resultado plotando um histograma da distribuição resultante classes "
   ]
  },
  {
   "cell_type": "code",
   "execution_count": null,
   "metadata": {
    "id": "SU636BmTJzup"
   },
   "outputs": [],
   "source": [
    "def undersample(inputs: pd.DataFrame, targets: pd.DataFrame) -> (pd.DataFrame, pd.DataFrame):\n",
    "\n",
    "  \n",
    "  return undersampled_data, undersampled_targets\n",
    "\n",
    "# undersampled_data, undersampled_targets = undersample(inputs, targets)"
   ]
  },
  {
   "cell_type": "markdown",
   "metadata": {
    "id": "iJxBcsRMSEW4"
   },
   "source": [
    "\n",
    "\n",
    "---\n",
    "\n",
    "### Questão 04.\n",
    "\n",
    "Crie uma função que aplique a técnica de superamostragem aleatória nesse conjunto de dados. \n",
    "\n",
    "- Sua função deve receber como entrada a base normalizada e as classes.\n",
    "\n",
    "- Sua função deve receber como entrada a base original e retornar um novo conjunto de dados onde todas as classes devem ter o número de ocorrências da classe com **maior representatividade no conjunto de dados inicial** e um array com as respectivas labels.\n",
    "- Mostre o resultado plotando um histograma da distribuição resultante classes "
   ]
  },
  {
   "cell_type": "code",
   "execution_count": null,
   "metadata": {
    "id": "D5ElKqy5Kzvs"
   },
   "outputs": [],
   "source": [
    "def oversample(inputs: pd.DataFrame, targets: pd.DataFrame) -> (pd.DataFrame, pd.DataFrame): \n",
    "  return oversampled_data, oversampled_targets\n",
    "\n",
    "# oversampled_data, oversampled_targets = oversample(inputs, targets)"
   ]
  },
  {
   "cell_type": "markdown",
   "metadata": {
    "id": "0Ez_fGsJTdZ_"
   },
   "source": [
    "\n",
    "\n",
    "---\n",
    "\n",
    "### Questão 05.\n",
    "- Utilize o KFold com K = 10 no conjunto de dados `StratifiedKFold`. \n",
    "\n",
    "- Complete a função *model_tester* de forma que a base seja alterada caso uma função de amostragem seja passada como parâmetro.\n",
    "\n",
    "- Normalize as **variáveis de entrada** entre 0 e 1 (`sklearn.preprocessing.MinMaxScaler`). Lembre-se que não podemos utilizar dados do conjunto de teste durante o *fit* do objeto *scaler*\n",
    "\n",
    "- Teste o score de classificação, utilizando a função `model_tester` abaixo, para cada função criada nas questões anteriores utilizando os dados normalizados.\n",
    "\n",
    "- Compare os resultados das diferentes técnicas de amostragem."
   ]
  },
  {
   "cell_type": "code",
   "execution_count": null,
   "metadata": {
    "id": "iGof9cE6Lhzf"
   },
   "outputs": [],
   "source": [
    "from sklearn.svm import SVC\n",
    "from sklearn.tree import DecisionTreeClassifier\n",
    "from sklearn.model_selection import StratifiedKFold\n",
    "from sklearn.metrics import precision_score\n",
    "from sklearn.metrics import balanced_accuracy_score\n",
    "import numpy as np\n",
    "from sklearn.preprocessing import MinMaxScaler\n",
    "\n",
    "def model_tester(inputs, target, sampler_func=None, weights=None):\n",
    "  \"\"\"\n",
    "  Executa classificação do conjunto de dados passado\n",
    "  ---------------------------------------------------------------\n",
    "  inputs:     DataFrame contendo variáveis de entrada (X)\n",
    "  target:     DataFrame contendo variáveis alvo (y)  \n",
    "  sampler_func: Uma função que irá balancear os dados de acordo com a\n",
    "                distribuição das classes\n",
    "  weights:    Dicionário com o peso de cada classe. Cada chave do dicionário é\n",
    "              uma classe, e seu valor o associado a essa classe. Por exemplo, se\n",
    "              tivermos duas classes 0 e 1 com mesmo peso, teremos o dicionario:\n",
    "              {0: 0.5, 1: 0.5}\n",
    "\n",
    "  ---------------------------------------------------------------\n",
    "  Realiza a classificação em 3 modelos (SVM com kernel linear, \n",
    "  SVM com kernel polinomial de grau 3, Árvore de decisão)\n",
    "  O desempenho é calculado utilizando a acurácia balanceada.\n",
    "  \"\"\"\n",
    "  testes = {\n",
    "    \"SVM Linear\" : SVC(kernel='linear', class_weight=weights),\n",
    "    \"SVM Polinomial grau 3\" : SVC(kernel='poly', degree=3, class_weight=weights),\n",
    "    \"Decision Tree (gini)\" : DecisionTreeClassifier(criterion='gini', class_weight=weights)    \n",
    "  }\n",
    "  for teste in testes:\n",
    "    clf = testes[teste]\n",
    "    scores = []    \n",
    "   \n",
    "    skf = StratifiedKFold(n_splits=10) \n",
    "    for train_index, test_index in skf.split(inputs, targets):\n",
    "\n",
    "      # Separando exemplos de treino e teste\n",
    "      x_train, x_test = inputs.iloc[train_index], inputs.iloc[test_index]\n",
    "      y_train, y_test = targets.iloc[train_index], targets.iloc[test_index]\n",
    "\n",
    "      # Aplicando a amostragem\n",
    "      # a amostragem é aplicada no conjunto de TREINO. Deve-se manter o conjunto de teste intacto\n",
    "      if sampler_func is not None:\n",
    "        x_train, y_train = sampler_func(x_train, y_train)\n",
    "        x_train, y_train = x_train.values, y_train.values\n",
    "      else:\n",
    "        x_train, y_train = x_train.values, y_train.values\n",
    "\n",
    "      # transformando um vetor coluna em vetor 1D (linha) para evitar Warnings\n",
    "      y_train, y_test = np.ravel(y_train), np.ravel(y_test) \n",
    "\n",
    "      # Aplique seu preprocessamento aqui\n",
    "      ######\n",
    "      x_train = \n",
    "      x_test = \n",
    "      ######\n",
    "\n",
    "      clf.fit(x_train, y_train)\n",
    "      y_pred = clf.predict(x_test)\n",
    "\n",
    "      scores.append(balanced_accuracy_score(y_test, y_pred, sample_weight=weights)) \n",
    "\n",
    "    print(\"Score do classificador '%s': %.2f\" % (teste, np.mean(scores)*100))"
   ]
  },
  {
   "cell_type": "code",
   "execution_count": null,
   "metadata": {
    "id": "5LsrB3CTNOke"
   },
   "outputs": [],
   "source": [
    "print(\"--- original data ---\")\n",
    "model_tester(inputs, targets)\n",
    "\n",
    "print(\"--- oversampled_data ---\")\n",
    "model_tester(inputs, targets, oversample)\n",
    "\n",
    "print(\"--- undersampled_data ---\")\n",
    "model_tester(inputs, targets, undersample)"
   ]
  }
 ],
 "metadata": {
  "colab": {
   "collapsed_sections": [],
   "name": "Ex4.ipynb",
   "provenance": [
    {
     "file_id": "1HjZyZtG6_q8OQgUT8RpAhsxSzbn5HRPO",
     "timestamp": 1601986727315
    },
    {
     "file_id": "15HJOqk_IWMt_WBDBkdK96HF8Rm9g4o_r",
     "timestamp": 1588940384078
    },
    {
     "file_id": "1YGAsV9XGksB8g-Y04XZC32-srkzMf9my",
     "timestamp": 1551291992249
    }
   ]
  },
  "kernelspec": {
   "display_name": "Python 3 (ipykernel)",
   "language": "python",
   "name": "python3"
  },
  "language_info": {
   "codemirror_mode": {
    "name": "ipython",
    "version": 3
   },
   "file_extension": ".py",
   "mimetype": "text/x-python",
   "name": "python",
   "nbconvert_exporter": "python",
   "pygments_lexer": "ipython3",
   "version": "3.9.7"
  }
 },
 "nbformat": 4,
 "nbformat_minor": 1
}
