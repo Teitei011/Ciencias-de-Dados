{
 "cells": [
  {
   "cell_type": "markdown",
   "metadata": {
    "id": "3ZSuG_6fJoiD"
   },
   "source": [
    "# SCC-ICMC-USP - 2o. semestre de 2021\n",
    "# SCC0275 - Exercício 3\n",
    "\n",
    "### Profa. Roseli A. F. Romero\n",
    "\n",
    "### Monitor: Kenzo Sakiyama\n",
    "\n",
    "Alunos:\n",
    "\n",
    "\n",
    "1.   Stefan Taiguara Couperus Leal 10414866\n"
   ]
  },
  {
   "cell_type": "markdown",
   "metadata": {
    "id": "hgWXBpH2Jrap"
   },
   "source": [
    "# Carregando Iris"
   ]
  },
  {
   "cell_type": "code",
   "execution_count": 1,
   "metadata": {
    "id": "KUYunkgKJfnn"
   },
   "outputs": [],
   "source": [
    "import pandas as pd"
   ]
  },
  {
   "cell_type": "code",
   "execution_count": 75,
   "metadata": {
    "colab": {
     "base_uri": "https://localhost:8080/"
    },
    "executionInfo": {
     "elapsed": 278,
     "status": "ok",
     "timestamp": 1622560910700,
     "user": {
      "displayName": "Kenzo Miranda Sakiyama",
      "photoUrl": "",
      "userId": "17190914206091993570"
     },
     "user_tz": 240
    },
    "id": "XjhuPKHQJ_-T",
    "outputId": "9f66f127-8d33-45c4-d5e6-ff5e898559de"
   },
   "outputs": [
    {
     "data": {
      "text/html": [
       "<div>\n",
       "<style scoped>\n",
       "    .dataframe tbody tr th:only-of-type {\n",
       "        vertical-align: middle;\n",
       "    }\n",
       "\n",
       "    .dataframe tbody tr th {\n",
       "        vertical-align: top;\n",
       "    }\n",
       "\n",
       "    .dataframe thead th {\n",
       "        text-align: right;\n",
       "    }\n",
       "</style>\n",
       "<table border=\"1\" class=\"dataframe\">\n",
       "  <thead>\n",
       "    <tr style=\"text-align: right;\">\n",
       "      <th></th>\n",
       "      <th>A</th>\n",
       "      <th>B</th>\n",
       "      <th>C</th>\n",
       "      <th>D</th>\n",
       "      <th>E</th>\n",
       "      <th>F</th>\n",
       "    </tr>\n",
       "  </thead>\n",
       "  <tbody>\n",
       "    <tr>\n",
       "      <th>0</th>\n",
       "      <td>4.9</td>\n",
       "      <td>3.0</td>\n",
       "      <td>1.4</td>\n",
       "      <td>30.0</td>\n",
       "      <td>0.2</td>\n",
       "      <td>Iris-setosa</td>\n",
       "    </tr>\n",
       "    <tr>\n",
       "      <th>1</th>\n",
       "      <td>4.7</td>\n",
       "      <td>3.2</td>\n",
       "      <td>1.3</td>\n",
       "      <td>32.0</td>\n",
       "      <td>0.2</td>\n",
       "      <td>Iris-setosa</td>\n",
       "    </tr>\n",
       "    <tr>\n",
       "      <th>2</th>\n",
       "      <td>4.6</td>\n",
       "      <td>3.1</td>\n",
       "      <td>1.5</td>\n",
       "      <td>31.0</td>\n",
       "      <td>0.2</td>\n",
       "      <td>Iris-setosa</td>\n",
       "    </tr>\n",
       "    <tr>\n",
       "      <th>3</th>\n",
       "      <td>5.0</td>\n",
       "      <td>3.6</td>\n",
       "      <td>1.4</td>\n",
       "      <td>36.0</td>\n",
       "      <td>0.2</td>\n",
       "      <td>Iris-setosa</td>\n",
       "    </tr>\n",
       "    <tr>\n",
       "      <th>4</th>\n",
       "      <td>5.4</td>\n",
       "      <td>3.9</td>\n",
       "      <td>1.7</td>\n",
       "      <td>39.0</td>\n",
       "      <td>0.4</td>\n",
       "      <td>Iris-setosa</td>\n",
       "    </tr>\n",
       "    <tr>\n",
       "      <th>...</th>\n",
       "      <td>...</td>\n",
       "      <td>...</td>\n",
       "      <td>...</td>\n",
       "      <td>...</td>\n",
       "      <td>...</td>\n",
       "      <td>...</td>\n",
       "    </tr>\n",
       "    <tr>\n",
       "      <th>144</th>\n",
       "      <td>6.7</td>\n",
       "      <td>3.0</td>\n",
       "      <td>5.2</td>\n",
       "      <td>30.0</td>\n",
       "      <td>2.3</td>\n",
       "      <td>Iris-virginica</td>\n",
       "    </tr>\n",
       "    <tr>\n",
       "      <th>145</th>\n",
       "      <td>6.3</td>\n",
       "      <td>2.5</td>\n",
       "      <td>5.0</td>\n",
       "      <td>25.0</td>\n",
       "      <td>1.9</td>\n",
       "      <td>Iris-virginica</td>\n",
       "    </tr>\n",
       "    <tr>\n",
       "      <th>146</th>\n",
       "      <td>6.5</td>\n",
       "      <td>3.0</td>\n",
       "      <td>5.2</td>\n",
       "      <td>30.0</td>\n",
       "      <td>2.0</td>\n",
       "      <td>Iris-virginica</td>\n",
       "    </tr>\n",
       "    <tr>\n",
       "      <th>147</th>\n",
       "      <td>6.2</td>\n",
       "      <td>3.4</td>\n",
       "      <td>5.4</td>\n",
       "      <td>34.0</td>\n",
       "      <td>2.3</td>\n",
       "      <td>Iris-virginica</td>\n",
       "    </tr>\n",
       "    <tr>\n",
       "      <th>148</th>\n",
       "      <td>5.9</td>\n",
       "      <td>3.0</td>\n",
       "      <td>5.1</td>\n",
       "      <td>30.0</td>\n",
       "      <td>1.8</td>\n",
       "      <td>Iris-virginica</td>\n",
       "    </tr>\n",
       "  </tbody>\n",
       "</table>\n",
       "<p>149 rows × 6 columns</p>\n",
       "</div>"
      ],
      "text/plain": [
       "       A    B    C     D    E               F\n",
       "0    4.9  3.0  1.4  30.0  0.2     Iris-setosa\n",
       "1    4.7  3.2  1.3  32.0  0.2     Iris-setosa\n",
       "2    4.6  3.1  1.5  31.0  0.2     Iris-setosa\n",
       "3    5.0  3.6  1.4  36.0  0.2     Iris-setosa\n",
       "4    5.4  3.9  1.7  39.0  0.4     Iris-setosa\n",
       "..   ...  ...  ...   ...  ...             ...\n",
       "144  6.7  3.0  5.2  30.0  2.3  Iris-virginica\n",
       "145  6.3  2.5  5.0  25.0  1.9  Iris-virginica\n",
       "146  6.5  3.0  5.2  30.0  2.0  Iris-virginica\n",
       "147  6.2  3.4  5.4  34.0  2.3  Iris-virginica\n",
       "148  5.9  3.0  5.1  30.0  1.8  Iris-virginica\n",
       "\n",
       "[149 rows x 6 columns]"
      ]
     },
     "execution_count": 75,
     "metadata": {},
     "output_type": "execute_result"
    }
   ],
   "source": [
    "iris = pd.read_csv('iris_modif_novo.data', index_col=0)\n",
    "iris"
   ]
  },
  {
   "cell_type": "markdown",
   "metadata": {
    "id": "175he056539B"
   },
   "source": [
    "# Parte 1 - Correlação e Covariância\n",
    "\n",
    "Use o material de apoio \"Ferramentas de visualização e exploração de dados.ipynb\"."
   ]
  },
  {
   "cell_type": "markdown",
   "metadata": {
    "id": "GgMtYRy-5-mS"
   },
   "source": [
    "### Questão 01.\n",
    "* Calcule a matriz de covariância (`np.cov`)\n",
    "* Crie um heatmap (`sns.heatmap`) para cada matriz\n",
    "* Dica: Atente-se ao atributo rowvar. Lembre-se de **não** incluir o atributo classe/alvo."
   ]
  },
  {
   "cell_type": "code",
   "execution_count": 56,
   "metadata": {
    "id": "5yEGTqYc58p0"
   },
   "outputs": [],
   "source": [
    "import seaborn as sns\n",
    "import numpy as np\n",
    "import matplotlib.pyplot as plt\n",
    "\n",
    "\n",
    "plt.rcParams['figure.figsize'] = [10, 10]"
   ]
  },
  {
   "cell_type": "code",
   "execution_count": 86,
   "metadata": {},
   "outputs": [
    {
     "data": {
      "text/plain": [
       "array([[4.9, 3.0, 1.4, 30.0, 0.2],\n",
       "       [4.7, 3.2, 1.3, 32.0, 0.2],\n",
       "       [4.6, 3.1, 1.5, 31.0, 0.2],\n",
       "       [5.0, 3.6, 1.4, 36.0, 0.2],\n",
       "       [5.4, 3.9, 1.7, 39.0, 0.4],\n",
       "       [4.6, 3.4, 1.4, 34.0, 0.3],\n",
       "       [5.0, 3.4, 1.5, 34.0, 0.2],\n",
       "       [4.4, 2.9, 1.4, 29.0, 0.2],\n",
       "       [4.9, 3.1, 1.5, 31.0, 0.1],\n",
       "       [5.4, 3.7, 1.5, 37.0, 0.2],\n",
       "       [4.8, 3.4, 1.6, 34.0, 0.2],\n",
       "       [4.8, 3.0, 1.4, 30.0, 0.1],\n",
       "       [4.3, 3.0, 1.1, 30.0, 0.1],\n",
       "       [5.8, 4.0, 1.2, 40.0, 0.2],\n",
       "       [5.7, 4.4, 1.5, 44.0, 0.4],\n",
       "       [5.4, 3.9, 1.3, 39.0, 0.4],\n",
       "       [5.1, 3.5, 1.4, 35.0, 0.3],\n",
       "       [5.7, 3.8, 1.7, 38.0, 0.3],\n",
       "       [5.1, 3.8, 1.5, 38.0, 0.3],\n",
       "       [5.4, 3.4, 1.7, 34.0, 0.2],\n",
       "       [5.1, 3.7, 1.5, 37.0, 0.4],\n",
       "       [4.6, 3.6, 1.0, 36.0, 0.2],\n",
       "       [5.1, 3.3, 1.7, 33.0, 0.5],\n",
       "       [4.8, 3.4, 1.9, 34.0, 0.2],\n",
       "       [5.0, 3.0, 1.6, 30.0, 0.2],\n",
       "       [5.0, 3.4, 1.6, 34.0, 0.4],\n",
       "       [5.2, 3.5, 1.5, 35.0, 0.2],\n",
       "       [5.2, 3.4, 1.4, 34.0, 0.2],\n",
       "       [4.7, 3.2, 1.6, 32.0, 0.2],\n",
       "       [4.8, 3.1, 1.6, 31.0, 0.2],\n",
       "       [5.4, 3.4, 1.5, 34.0, 0.4],\n",
       "       [5.2, 4.1, 1.5, 41.0, 0.1],\n",
       "       [5.5, 4.2, 1.4, 42.0, 0.2],\n",
       "       [4.9, 3.1, 1.5, 31.0, 0.1],\n",
       "       [5.0, 3.2, 1.2, 32.0, 0.2],\n",
       "       [5.5, 3.5, 1.3, 35.0, 0.2],\n",
       "       [4.9, 3.1, 1.5, 31.0, 0.1],\n",
       "       [4.4, 3.0, 1.3, 30.0, 0.2],\n",
       "       [5.1, 3.4, 1.5, 34.0, 0.2],\n",
       "       [5.0, 3.5, 1.3, 35.0, 0.3],\n",
       "       [4.5, 2.3, 1.3, 23.0, 0.3],\n",
       "       [4.4, 3.2, 1.3, 32.0, 0.2],\n",
       "       [5.0, 3.5, 1.6, 35.0, 0.6],\n",
       "       [5.1, 3.8, 1.9, 38.0, 0.4],\n",
       "       [4.8, 3.0, 1.4, 30.0, 0.3],\n",
       "       [5.1, 3.8, 1.6, 38.0, 0.2],\n",
       "       [4.6, 3.2, 1.4, 32.0, 0.2],\n",
       "       [5.3, 3.7, 1.5, 37.0, 0.2],\n",
       "       [5.0, 3.3, 1.4, 33.0, 0.2],\n",
       "       [7.0, 3.2, 4.7, 32.0, 1.4],\n",
       "       [6.4, 3.2, 4.5, 32.0, 1.5],\n",
       "       [6.9, 3.1, 4.9, 31.0, 1.5],\n",
       "       [5.5, 2.3, 4.0, 23.0, 1.3],\n",
       "       [6.5, 2.8, 4.6, 28.0, 1.5],\n",
       "       [5.7, 2.8, 4.5, 28.0, 1.3],\n",
       "       [6.3, 3.3, 4.7, 33.0, 1.6],\n",
       "       [4.9, 2.4, 3.3, 24.0, 1.0],\n",
       "       [6.6, 2.9, 4.6, 29.0, 1.3],\n",
       "       [5.2, 2.7, 3.9, 27.0, 1.4],\n",
       "       [5.0, 2.0, 3.5, 20.0, 1.0],\n",
       "       [5.9, 3.0, 4.2, 30.0, 1.5],\n",
       "       [6.0, 2.2, 4.0, 22.0, 1.0],\n",
       "       [6.1, 2.9, 4.7, 29.0, 1.4],\n",
       "       [5.6, 2.9, 3.6, 29.0, 1.3],\n",
       "       [6.7, 3.1, 4.4, 31.0, 1.4],\n",
       "       [5.6, 3.0, 4.5, 30.0, 1.5],\n",
       "       [5.8, 2.7, 4.1, 27.0, 1.0],\n",
       "       [6.2, 2.2, 4.5, 22.0, 1.5],\n",
       "       [5.6, 2.5, 3.9, 25.0, 1.1],\n",
       "       [5.9, 3.2, 4.8, 32.0, 1.8],\n",
       "       [6.1, 2.8, 4.0, 28.0, 1.3],\n",
       "       [6.3, 2.5, 4.9, 25.0, 1.5],\n",
       "       [6.1, 2.8, 4.7, 28.0, 1.2],\n",
       "       [6.4, 2.9, 4.3, 29.0, 1.3],\n",
       "       [6.6, 3.0, 4.4, 30.0, 1.4],\n",
       "       [6.8, 2.8, 4.8, 28.0, 1.4],\n",
       "       [6.7, 3.0, 5.0, 30.0, 1.7],\n",
       "       [6.0, 2.9, 4.5, 29.0, 1.5],\n",
       "       [5.7, 2.6, 3.5, 26.0, 1.0],\n",
       "       [5.5, 2.4, 3.8, 24.0, 1.1],\n",
       "       [5.5, 2.4, 3.7, 24.0, 1.0],\n",
       "       [5.8, 2.7, 3.9, 27.0, 1.2],\n",
       "       [6.0, 2.7, 5.1, 27.0, 1.6],\n",
       "       [5.4, 3.0, 4.5, 30.0, 1.5],\n",
       "       [6.0, 3.4, 4.5, 34.0, 1.6],\n",
       "       [6.7, 3.1, 4.7, 31.0, 1.5],\n",
       "       [6.3, 2.3, 4.4, 23.0, 1.3],\n",
       "       [5.6, 3.0, 4.1, 30.0, 1.3],\n",
       "       [5.5, 2.5, 4.0, 25.0, 1.3],\n",
       "       [5.5, 2.6, 4.4, 26.0, 1.2],\n",
       "       [6.1, 3.0, 4.6, 30.0, 1.4],\n",
       "       [5.8, 2.6, 4.0, 26.0, 1.2],\n",
       "       [5.0, 2.3, 3.3, 23.0, 1.0],\n",
       "       [5.6, 2.7, 4.2, 27.0, 1.3],\n",
       "       [5.7, 3.0, 4.2, 30.0, 1.2],\n",
       "       [5.7, 2.9, 4.2, 29.0, 1.3],\n",
       "       [6.2, 2.9, 4.3, 29.0, 1.3],\n",
       "       [5.1, 2.5, 3.0, 25.0, 1.1],\n",
       "       [5.7, 2.8, 4.1, 28.0, 1.3],\n",
       "       [6.3, 3.3, 6.0, 33.0, 2.5],\n",
       "       [5.8, 2.7, 5.1, 27.0, 1.9],\n",
       "       [7.1, 3.0, 5.9, 30.0, 2.1],\n",
       "       [6.3, 2.9, 5.6, 29.0, 1.8],\n",
       "       [6.5, 3.0, 5.8, 30.0, 2.2],\n",
       "       [7.6, 3.0, 6.6, 30.0, 2.1],\n",
       "       [4.9, 2.5, 4.5, 25.0, 1.7],\n",
       "       [7.3, 2.9, 6.3, 29.0, 1.8],\n",
       "       [6.7, 2.5, 5.8, 25.0, 1.8],\n",
       "       [7.2, 3.6, 6.1, 36.0, 2.5],\n",
       "       [6.5, 3.2, 5.1, 32.0, 2.0],\n",
       "       [6.4, 2.7, 5.3, 27.0, 1.9],\n",
       "       [6.8, 3.0, 5.5, 30.0, 2.1],\n",
       "       [5.7, 2.5, 5.0, 25.0, 2.0],\n",
       "       [5.8, 2.8, 5.1, 28.0, 2.4],\n",
       "       [6.4, 3.2, 5.3, 32.0, 2.3],\n",
       "       [6.5, 3.0, 5.5, 30.0, 1.8],\n",
       "       [7.7, 3.8, 6.7, 38.0, 2.2],\n",
       "       [7.7, 2.6, 6.9, 26.0, 2.3],\n",
       "       [6.0, 2.2, 5.0, 22.0, 1.5],\n",
       "       [6.9, 3.2, 5.7, 32.0, 2.3],\n",
       "       [5.6, 2.8, 4.9, 28.0, 2.0],\n",
       "       [7.7, 2.8, 6.7, 28.0, 2.0],\n",
       "       [6.3, 2.7, 4.9, 27.0, 1.8],\n",
       "       [6.7, 3.3, 5.7, 33.0, 2.1],\n",
       "       [7.2, 3.2, 6.0, 32.0, 1.8],\n",
       "       [6.2, 2.8, 4.8, 28.0, 1.8],\n",
       "       [6.1, 3.0, 4.9, 30.0, 1.8],\n",
       "       [6.4, 2.8, 5.6, 28.0, 2.1],\n",
       "       [7.2, 3.0, 5.8, 30.0, 1.6],\n",
       "       [7.4, 2.8, 6.1, 28.0, 1.9],\n",
       "       [7.9, 3.8, 6.4, 38.0, 2.0],\n",
       "       [6.4, 2.8, 5.6, 28.0, 2.2],\n",
       "       [6.3, 2.8, 5.1, 28.0, 1.5],\n",
       "       [6.1, 2.6, 5.6, 26.0, 1.4],\n",
       "       [7.7, 3.0, 6.1, 30.0, 2.3],\n",
       "       [6.3, 3.4, 5.6, 34.0, 2.4],\n",
       "       [6.4, 3.1, 5.5, 31.0, 1.8],\n",
       "       [6.0, 3.0, 4.8, 30.0, 1.8],\n",
       "       [6.9, 3.1, 5.4, 31.0, 2.1],\n",
       "       [6.7, 3.1, 5.6, 31.0, 2.4],\n",
       "       [6.9, 3.1, 5.1, 31.0, 2.3],\n",
       "       [5.8, 2.7, 5.1, 27.0, 1.9],\n",
       "       [6.8, 3.2, 5.9, 32.0, 2.3],\n",
       "       [6.7, 3.3, 5.7, 33.0, 2.5],\n",
       "       [6.7, 3.0, 5.2, 30.0, 2.3],\n",
       "       [6.3, 2.5, 5.0, 25.0, 1.9],\n",
       "       [6.5, 3.0, 5.2, 30.0, 2.0],\n",
       "       [6.2, 3.4, 5.4, 34.0, 2.3],\n",
       "       [5.9, 3.0, 5.1, 30.0, 1.8]], dtype=object)"
      ]
     },
     "execution_count": 86,
     "metadata": {},
     "output_type": "execute_result"
    }
   ],
   "source": [
    "# Criando o target e o data \n",
    "target = np.array(iris.T.iloc[-1])\n",
    "data = np.array(iris.T.iloc[:-1]).T\n",
    "data "
   ]
  },
  {
   "cell_type": "code",
   "execution_count": 87,
   "metadata": {},
   "outputs": [
    {
     "data": {
      "text/plain": [
       "<AxesSubplot:>"
      ]
     },
     "execution_count": 87,
     "metadata": {},
     "output_type": "execute_result"
    },
    {
     "data": {
      "image/png": "[encoded data removed]",
      "text/plain": [
       "<Figure size 720x720 with 2 Axes>"
      ]
     },
     "metadata": {
      "needs_background": "light"
     },
     "output_type": "display_data"
    }
   ],
   "source": [
    "covariance_matrix = np.cov(data.astype(float), rowvar=False)\n",
    "sns.heatmap(covariance_matrix)"
   ]
  },
  {
   "cell_type": "markdown",
   "metadata": {
    "id": "52OuL1cl6Fvq"
   },
   "source": [
    "### Questão 02.\n",
    "Repita o exercício anterior para correlação (usando `pandas.DataFrame.corr` ou `np.corrcoef`) utilizando o método de Pearson. Gere um heatmap da matriz."
   ]
  },
  {
   "cell_type": "code",
   "execution_count": 94,
   "metadata": {
    "id": "-w5hwaFRByI4"
   },
   "outputs": [
    {
     "name": "stdout",
     "output_type": "stream",
     "text": [
      "          A         B         C         D         E\n",
      "A  1.000000 -0.103784  0.871283 -0.103784  0.816971\n",
      "B -0.103784  1.000000 -0.415218  1.000000 -0.350733\n",
      "C  0.871283 -0.415218  1.000000 -0.415218  0.962314\n",
      "D -0.103784  1.000000 -0.415218  1.000000 -0.350733\n",
      "E  0.816971 -0.350733  0.962314 -0.350733  1.000000\n"
     ]
    },
    {
     "data": {
      "text/plain": [
       "<AxesSubplot:>"
      ]
     },
     "execution_count": 94,
     "metadata": {},
     "output_type": "execute_result"
    },
    {
     "data": {
      "image/png": "[encoded data removed]",
      "text/plain": [
       "<Figure size 720x720 with 2 Axes>"
      ]
     },
     "metadata": {
      "needs_background": "light"
     },
     "output_type": "display_data"
    }
   ],
   "source": [
    "corr = df.corr(method=\"pearson\")\n",
    "print(corr)\n",
    "sns.heatmap(corr)"
   ]
  },
  {
   "cell_type": "markdown",
   "metadata": {
    "id": "W61tLdSI6d5r"
   },
   "source": [
    "### Questão 03.\n",
    "\n",
    "O método da Q2 apresenta alguma vantagem com relação ao método da Q1?"
   ]
  },
  {
   "cell_type": "markdown",
   "metadata": {
    "id": "_pWA8XXG6hSy"
   },
   "source": [
    "Resposta: O método da Q2 é muito mais fácil de se implementar do que o método de Q1, já que não há a necessidade de fazer qualquer tipo de manipulação no Dataframe"
   ]
  },
  {
   "cell_type": "markdown",
   "metadata": {
    "id": "M20FkOb64eP_"
   },
   "source": [
    "### Questão 04.\n",
    "\n",
    "- Identifique os atributos mais e menos correlacionados (em módulo) usando a correlação de Pearson.\n",
    "- Gere scatter plots (`matplotlib.pyplot.scatter`) destes pares de variáveis e comente como os dados estão distribuídos nos gráficos."
   ]
  },
  {
   "cell_type": "markdown",
   "metadata": {},
   "source": [
    "Resposta:"
   ]
  },
  {
   "cell_type": "code",
   "execution_count": 72,
   "metadata": {
    "id": "KmyHkAoG4uVB"
   },
   "outputs": [
    {
     "data": {
      "text/plain": [
       "<matplotlib.collections.PathCollection at 0x7f321631b910>"
      ]
     },
     "execution_count": 72,
     "metadata": {},
     "output_type": "execute_result"
    },
    {
     "data": {
      "image/png": "[encoded data removed]",
      "text/plain": [
       "<Figure size 720x720 with 1 Axes>"
      ]
     },
     "metadata": {
      "needs_background": "light"
     },
     "output_type": "display_data"
    }
   ],
   "source": [
    "plt.scatter(df[\"A\"], df[\"B\"])"
   ]
  },
  {
   "cell_type": "code",
   "execution_count": null,
   "metadata": {},
   "outputs": [],
   "source": []
  },
  {
   "cell_type": "markdown",
   "metadata": {
    "id": "Vb6iRD8i6kGc"
   },
   "source": [
    "### Questão 05.\n",
    "\n",
    "*  Utilizando o resultado da matriz de correlação, verifique se existe um atributo reduntante nessa base e crie um novo `Dataframe` sem ele e justifique."
   ]
  },
  {
   "cell_type": "code",
   "execution_count": null,
   "metadata": {
    "id": "Z6ks4dkS67yw"
   },
   "outputs": [],
   "source": [
    "iris_novo = iris.drop(columns=[])"
   ]
  },
  {
   "cell_type": "markdown",
   "metadata": {
    "id": "pYII7qiq5fzR"
   },
   "source": [
    "# Parte 2 - PCA\n",
    "\n",
    "Na segunda parte do exercício, focaremos na análise de um novo conjunto de dados. O novo conjunto de dados apresenta dados a respeito da composição química de vinhos de 3 diferentes origens. Uma descrição mais detalhada do conjunto de dados será apresentada a seguir. Fiquem a vontade para explorar o novo conjunto de dados como quiserem."
   ]
  },
  {
   "cell_type": "code",
   "execution_count": 89,
   "metadata": {
    "id": "qM-RumBQ_S6W"
   },
   "outputs": [],
   "source": [
    "from sklearn.datasets import load_wine"
   ]
  },
  {
   "cell_type": "code",
   "execution_count": 90,
   "metadata": {
    "colab": {
     "base_uri": "https://localhost:8080/"
    },
    "executionInfo": {
     "elapsed": 554,
     "status": "ok",
     "timestamp": 1632020966363,
     "user": {
      "displayName": "Kenzo Miranda Sakiyama",
      "photoUrl": "https://lh3.googleusercontent.com/a/default-user=s64",
      "userId": "17190914206091993570"
     },
     "user_tz": 240
    },
    "id": "Ql3vF5pm_VBv",
    "outputId": "ae8a3ea7-464a-4cce-ba80-902d4cd0b376"
   },
   "outputs": [
    {
     "name": "stdout",
     "output_type": "stream",
     "text": [
      ".. _wine_dataset:\n",
      "\n",
      "Wine recognition dataset\n",
      "------------------------\n",
      "\n",
      "**Data Set Characteristics:**\n",
      "\n",
      "    :Number of Instances: 178 (50 in each of three classes)\n",
      "    :Number of Attributes: 13 numeric, predictive attributes and the class\n",
      "    :Attribute Information:\n",
      " \t\t- Alcohol\n",
      " \t\t- Malic acid\n",
      " \t\t- Ash\n",
      "\t\t- Alcalinity of ash  \n",
      " \t\t- Magnesium\n",
      "\t\t- Total phenols\n",
      " \t\t- Flavanoids\n",
      " \t\t- Nonflavanoid phenols\n",
      " \t\t- Proanthocyanins\n",
      "\t\t- Color intensity\n",
      " \t\t- Hue\n",
      " \t\t- OD280/OD315 of diluted wines\n",
      " \t\t- Proline\n",
      "\n",
      "    - class:\n",
      "            - class_0\n",
      "            - class_1\n",
      "            - class_2\n",
      "\t\t\n",
      "    :Summary Statistics:\n",
      "    \n",
      "    ============================= ==== ===== ======= =====\n",
      "                                   Min   Max   Mean     SD\n",
      "    ============================= ==== ===== ======= =====\n",
      "    Alcohol:                      11.0  14.8    13.0   0.8\n",
      "    Malic Acid:                   0.74  5.80    2.34  1.12\n",
      "    Ash:                          1.36  3.23    2.36  0.27\n",
      "    Alcalinity of Ash:            10.6  30.0    19.5   3.3\n",
      "    Magnesium:                    70.0 162.0    99.7  14.3\n",
      "    Total Phenols:                0.98  3.88    2.29  0.63\n",
      "    Flavanoids:                   0.34  5.08    2.03  1.00\n",
      "    Nonflavanoid Phenols:         0.13  0.66    0.36  0.12\n",
      "    Proanthocyanins:              0.41  3.58    1.59  0.57\n",
      "    Colour Intensity:              1.3  13.0     5.1   2.3\n",
      "    Hue:                          0.48  1.71    0.96  0.23\n",
      "    OD280/OD315 of diluted wines: 1.27  4.00    2.61  0.71\n",
      "    Proline:                       278  1680     746   315\n",
      "    ============================= ==== ===== ======= =====\n",
      "\n",
      "    :Missing Attribute Values: None\n",
      "    :Class Distribution: class_0 (59), class_1 (71), class_2 (48)\n",
      "    :Creator: R.A. Fisher\n",
      "    :Donor: Michael Marshall (MARSHALL%PLU@io.arc.nasa.gov)\n",
      "    :Date: July, 1988\n",
      "\n",
      "This is a copy of UCI ML Wine recognition datasets.\n",
      "https://archive.ics.uci.edu/ml/machine-learning-databases/wine/wine.data\n",
      "\n",
      "The data is the results of a chemical analysis of wines grown in the same\n",
      "region in Italy by three different cultivators. There are thirteen different\n",
      "measurements taken for different constituents found in the three types of\n",
      "wine.\n",
      "\n",
      "Original Owners: \n",
      "\n",
      "Forina, M. et al, PARVUS - \n",
      "An Extendible Package for Data Exploration, Classification and Correlation. \n",
      "Institute of Pharmaceutical and Food Analysis and Technologies,\n",
      "Via Brigata Salerno, 16147 Genoa, Italy.\n",
      "\n",
      "Citation:\n",
      "\n",
      "Lichman, M. (2013). UCI Machine Learning Repository\n",
      "[https://archive.ics.uci.edu/ml]. Irvine, CA: University of California,\n",
      "School of Information and Computer Science. \n",
      "\n",
      ".. topic:: References\n",
      "\n",
      "  (1) S. Aeberhard, D. Coomans and O. de Vel, \n",
      "  Comparison of Classifiers in High Dimensional Settings, \n",
      "  Tech. Rep. no. 92-02, (1992), Dept. of Computer Science and Dept. of  \n",
      "  Mathematics and Statistics, James Cook University of North Queensland. \n",
      "  (Also submitted to Technometrics). \n",
      "\n",
      "  The data was used with many others for comparing various \n",
      "  classifiers. The classes are separable, though only RDA \n",
      "  has achieved 100% correct classification. \n",
      "  (RDA : 100%, QDA 99.4%, LDA 98.9%, 1NN 96.1% (z-transformed data)) \n",
      "  (All results using the leave-one-out technique) \n",
      "\n",
      "  (2) S. Aeberhard, D. Coomans and O. de Vel, \n",
      "  \"THE CLASSIFICATION PERFORMANCE OF RDA\" \n",
      "  Tech. Rep. no. 92-01, (1992), Dept. of Computer Science and Dept. of \n",
      "  Mathematics and Statistics, James Cook University of North Queensland. \n",
      "  (Also submitted to Journal of Chemometrics).\n",
      "\n"
     ]
    }
   ],
   "source": [
    "raw_data = load_wine()\n",
    "print(raw_data[\"DESCR\"])"
   ]
  },
  {
   "cell_type": "code",
   "execution_count": 91,
   "metadata": {
    "id": "oTAV-4R0_Yyh"
   },
   "outputs": [],
   "source": [
    "wine_df = pd.DataFrame(raw_data[\"data\"], columns=raw_data[\"feature_names\"])\n",
    "wine_df[\"class\"] = raw_data[\"target\"]"
   ]
  },
  {
   "cell_type": "code",
   "execution_count": 132,
   "metadata": {
    "colab": {
     "base_uri": "https://localhost:8080/",
     "height": 226
    },
    "executionInfo": {
     "elapsed": 405,
     "status": "ok",
     "timestamp": 1632020987442,
     "user": {
      "displayName": "Kenzo Miranda Sakiyama",
      "photoUrl": "https://lh3.googleusercontent.com/a/default-user=s64",
      "userId": "17190914206091993570"
     },
     "user_tz": 240
    },
    "id": "0yqpPHXI_ZKO",
    "outputId": "80c1db89-98a1-45b0-b183-059f0d74253f"
   },
   "outputs": [
    {
     "data": {
      "text/html": [
       "<div>\n",
       "<style scoped>\n",
       "    .dataframe tbody tr th:only-of-type {\n",
       "        vertical-align: middle;\n",
       "    }\n",
       "\n",
       "    .dataframe tbody tr th {\n",
       "        vertical-align: top;\n",
       "    }\n",
       "\n",
       "    .dataframe thead th {\n",
       "        text-align: right;\n",
       "    }\n",
       "</style>\n",
       "<table border=\"1\" class=\"dataframe\">\n",
       "  <thead>\n",
       "    <tr style=\"text-align: right;\">\n",
       "      <th></th>\n",
       "      <th>alcohol</th>\n",
       "      <th>malic_acid</th>\n",
       "      <th>ash</th>\n",
       "      <th>alcalinity_of_ash</th>\n",
       "      <th>magnesium</th>\n",
       "      <th>total_phenols</th>\n",
       "      <th>flavanoids</th>\n",
       "      <th>nonflavanoid_phenols</th>\n",
       "      <th>proanthocyanins</th>\n",
       "      <th>color_intensity</th>\n",
       "      <th>hue</th>\n",
       "      <th>od280/od315_of_diluted_wines</th>\n",
       "      <th>proline</th>\n",
       "      <th>class</th>\n",
       "    </tr>\n",
       "  </thead>\n",
       "  <tbody>\n",
       "    <tr>\n",
       "      <th>0</th>\n",
       "      <td>14.23</td>\n",
       "      <td>1.71</td>\n",
       "      <td>2.43</td>\n",
       "      <td>15.6</td>\n",
       "      <td>127.0</td>\n",
       "      <td>2.80</td>\n",
       "      <td>3.06</td>\n",
       "      <td>0.28</td>\n",
       "      <td>2.29</td>\n",
       "      <td>5.64</td>\n",
       "      <td>1.04</td>\n",
       "      <td>3.92</td>\n",
       "      <td>1065.0</td>\n",
       "      <td>0</td>\n",
       "    </tr>\n",
       "    <tr>\n",
       "      <th>1</th>\n",
       "      <td>13.20</td>\n",
       "      <td>1.78</td>\n",
       "      <td>2.14</td>\n",
       "      <td>11.2</td>\n",
       "      <td>100.0</td>\n",
       "      <td>2.65</td>\n",
       "      <td>2.76</td>\n",
       "      <td>0.26</td>\n",
       "      <td>1.28</td>\n",
       "      <td>4.38</td>\n",
       "      <td>1.05</td>\n",
       "      <td>3.40</td>\n",
       "      <td>1050.0</td>\n",
       "      <td>0</td>\n",
       "    </tr>\n",
       "    <tr>\n",
       "      <th>2</th>\n",
       "      <td>13.16</td>\n",
       "      <td>2.36</td>\n",
       "      <td>2.67</td>\n",
       "      <td>18.6</td>\n",
       "      <td>101.0</td>\n",
       "      <td>2.80</td>\n",
       "      <td>3.24</td>\n",
       "      <td>0.30</td>\n",
       "      <td>2.81</td>\n",
       "      <td>5.68</td>\n",
       "      <td>1.03</td>\n",
       "      <td>3.17</td>\n",
       "      <td>1185.0</td>\n",
       "      <td>0</td>\n",
       "    </tr>\n",
       "    <tr>\n",
       "      <th>3</th>\n",
       "      <td>14.37</td>\n",
       "      <td>1.95</td>\n",
       "      <td>2.50</td>\n",
       "      <td>16.8</td>\n",
       "      <td>113.0</td>\n",
       "      <td>3.85</td>\n",
       "      <td>3.49</td>\n",
       "      <td>0.24</td>\n",
       "      <td>2.18</td>\n",
       "      <td>7.80</td>\n",
       "      <td>0.86</td>\n",
       "      <td>3.45</td>\n",
       "      <td>1480.0</td>\n",
       "      <td>0</td>\n",
       "    </tr>\n",
       "    <tr>\n",
       "      <th>4</th>\n",
       "      <td>13.24</td>\n",
       "      <td>2.59</td>\n",
       "      <td>2.87</td>\n",
       "      <td>21.0</td>\n",
       "      <td>118.0</td>\n",
       "      <td>2.80</td>\n",
       "      <td>2.69</td>\n",
       "      <td>0.39</td>\n",
       "      <td>1.82</td>\n",
       "      <td>4.32</td>\n",
       "      <td>1.04</td>\n",
       "      <td>2.93</td>\n",
       "      <td>735.0</td>\n",
       "      <td>0</td>\n",
       "    </tr>\n",
       "  </tbody>\n",
       "</table>\n",
       "</div>"
      ],
      "text/plain": [
       "   alcohol  malic_acid   ash  alcalinity_of_ash  magnesium  total_phenols  \\\n",
       "0    14.23        1.71  2.43               15.6      127.0           2.80   \n",
       "1    13.20        1.78  2.14               11.2      100.0           2.65   \n",
       "2    13.16        2.36  2.67               18.6      101.0           2.80   \n",
       "3    14.37        1.95  2.50               16.8      113.0           3.85   \n",
       "4    13.24        2.59  2.87               21.0      118.0           2.80   \n",
       "\n",
       "   flavanoids  nonflavanoid_phenols  proanthocyanins  color_intensity   hue  \\\n",
       "0        3.06                  0.28             2.29             5.64  1.04   \n",
       "1        2.76                  0.26             1.28             4.38  1.05   \n",
       "2        3.24                  0.30             2.81             5.68  1.03   \n",
       "3        3.49                  0.24             2.18             7.80  0.86   \n",
       "4        2.69                  0.39             1.82             4.32  1.04   \n",
       "\n",
       "   od280/od315_of_diluted_wines  proline  class  \n",
       "0                          3.92   1065.0      0  \n",
       "1                          3.40   1050.0      0  \n",
       "2                          3.17   1185.0      0  \n",
       "3                          3.45   1480.0      0  \n",
       "4                          2.93    735.0      0  "
      ]
     },
     "execution_count": 132,
     "metadata": {},
     "output_type": "execute_result"
    }
   ],
   "source": [
    "wine_df.head()"
   ]
  },
  {
   "cell_type": "markdown",
   "metadata": {
    "id": "6o1tghlyLVEz"
   },
   "source": [
    "# Questão 01\n",
    "\n",
    "*     ***Observe que o conjunto de dados possuí apenas atributos numéricos***. Calcule todos os componentes principais utilizando PCA  (`sklearn.decomposition.PCA`). Lembre-se de padronizar os dados antes de aplica o PCA (sklearn.preprocessing.StandardScaler)\n",
    "* Determine quanta variância dos dados cada componente é capaz de captar.\n",
    "* ***Lembre-se*** de não considerar o atributo classe."
   ]
  },
  {
   "cell_type": "code",
   "execution_count": 93,
   "metadata": {
    "id": "eHJbPSN8LRuE"
   },
   "outputs": [],
   "source": [
    "from sklearn.decomposition import PCA\n",
    "from sklearn.preprocessing import StandardScaler"
   ]
  },
  {
   "cell_type": "code",
   "execution_count": 100,
   "metadata": {
    "id": "oMwcnrwTTWXU"
   },
   "outputs": [],
   "source": [
    "scaler = StandardScaler()\n",
    "pca = PCA()"
   ]
  },
  {
   "cell_type": "code",
   "execution_count": 101,
   "metadata": {},
   "outputs": [
    {
     "data": {
      "text/plain": [
       "(array([[ 3.31675081e+00, -1.44346263e+00, -1.65739045e-01, ...,\n",
       "         -4.51563395e-01,  5.40810414e-01, -6.62386309e-02],\n",
       "        [ 2.20946492e+00,  3.33392887e-01, -2.02645737e+00, ...,\n",
       "         -1.42657306e-01,  3.88237741e-01,  3.63650247e-03],\n",
       "        [ 2.51674015e+00, -1.03115130e+00,  9.82818670e-01, ...,\n",
       "         -2.86672847e-01,  5.83573183e-04,  2.17165104e-02],\n",
       "        ...,\n",
       "        [-2.67783946e+00, -2.76089913e+00, -9.40941877e-01, ...,\n",
       "          5.12492025e-01,  6.98766451e-01,  7.20776948e-02],\n",
       "        [-2.38701709e+00, -2.29734668e+00, -5.50696197e-01, ...,\n",
       "          2.99821968e-01,  3.39820654e-01, -2.18657605e-02],\n",
       "        [-3.20875816e+00, -2.76891957e+00,  1.01391366e+00, ...,\n",
       "         -2.29964331e-01, -1.88787963e-01, -3.23964720e-01]]),\n",
       " (178, 13))"
      ]
     },
     "execution_count": 101,
     "metadata": {},
     "output_type": "execute_result"
    }
   ],
   "source": [
    "scaled_values = scaler.fit_transform(wine_df.drop(columns=\"class\"))\n",
    "values = pca.fit_transform(scaled_values)\n",
    "values, values.shape"
   ]
  },
  {
   "cell_type": "code",
   "execution_count": 137,
   "metadata": {},
   "outputs": [
    {
     "name": "stdout",
     "output_type": "stream",
     "text": [
      "pca.explained_variance_ratio_: [0.36198848 0.1920749  0.11123631 0.0706903  0.06563294 0.04935823\n",
      " 0.04238679 0.02680749 0.02222153 0.01930019 0.01736836 0.01298233\n",
      " 0.00795215]\n"
     ]
    },
    {
     "data": {
      "text/plain": [
       "Text(0, 0.5, 'Acumulo da variância')"
      ]
     },
     "execution_count": 137,
     "metadata": {},
     "output_type": "execute_result"
    },
    {
     "data": {
      "image/png": "[encoded data removed]",
      "text/plain": [
       "<Figure size 720x720 with 1 Axes>"
      ]
     },
     "metadata": {
      "needs_background": "light"
     },
     "output_type": "display_data"
    }
   ],
   "source": [
    "# print(\"pca.explained_variance_: \" + str(pca.explained_variance_))\n",
    "# print(\"pca.explained_variance_ratio_.sum(): \" + str(pca.explained_variance_ratio_.sum()))\n",
    "print(\"pca.explained_variance_ratio_: \" + str(pca.explained_variance_ratio_))\n",
    "\n",
    "pca = PCA().fit(scaled_values)\n",
    "plt.grid()\n",
    "plt.title(\"Variância x Componente\")\n",
    "plt.plot(np.cumsum(pca.explained_variance_ratio_))\n",
    "plt.xlabel('Número de componentes')\n",
    "plt.ylabel('Acumulo da variância')"
   ]
  },
  {
   "cell_type": "markdown",
   "metadata": {
    "id": "zOtdXo91SyYy"
   },
   "source": [
    "# Questão 02\n",
    "\n",
    "- Reduza a dimensionalidade do conjunto de dados para apenas **duas dimensões**.\n",
    "- Qual o percentual da variância dos dados, duas componentes principais são capazes de captar?\n",
    "\n",
    "* Dica: use o método ***fit_transform()*** da classe PCA."
   ]
  },
  {
   "cell_type": "code",
   "execution_count": 142,
   "metadata": {
    "id": "3eTFk5QHQtoW"
   },
   "outputs": [
    {
     "name": "stdout",
     "output_type": "stream",
     "text": [
      "Percentual de variância para duas dimensões: 0.55\n"
     ]
    },
    {
     "data": {
      "image/png": "[encoded data removed]",
      "text/plain": [
       "<Figure size 720x720 with 2 Axes>"
      ]
     },
     "metadata": {
      "needs_background": "light"
     },
     "output_type": "display_data"
    }
   ],
   "source": [
    "pca = PCA(2)  # project from 13 to 2 dimensions\n",
    "projected = pca.fit_transform(scaled_values)\n",
    "print(\"Percentual de variância para duas dimensões: {:.02f}\".format(pca.explained_variance_ratio_[0] + pca.explained_variance_ratio_[1]))\n",
    "\n"
   ]
  },
  {
   "cell_type": "markdown",
   "metadata": {
    "id": "_bFREjEfTVP-"
   },
   "source": [
    "# Questão 03\n",
    "\n",
    "Faça um scatter-plot dos dados transformados e comente a distribuição dos dados.\n",
    "\n",
    "* Sugestão: Adicione cores diferentes para cada classe para facilitar a visualização\n",
    "* Pode-se utilizar o seaborn para realizar o plot (*sns.scatterplot*)"
   ]
  },
  {
   "cell_type": "code",
   "execution_count": null,
   "metadata": {
    "id": "xGo2yB2xBLm6"
   },
   "outputs": [],
   "source": [
    "import matplotlib.pyplot as plt\n",
    "import seaborn as sns"
   ]
  },
  {
   "cell_type": "code",
   "execution_count": 143,
   "metadata": {
    "id": "w4LL9U0GTzsL"
   },
   "outputs": [
    {
     "data": {
      "image/png": "[encoded data removed]",
      "text/plain": [
       "<Figure size 720x720 with 2 Axes>"
      ]
     },
     "metadata": {
      "needs_background": "light"
     },
     "output_type": "display_data"
    }
   ],
   "source": [
    "plt.grid()\n",
    "plt.scatter(projected[:, 0], projected[:, 1],\n",
    "            c=wine_df[\"class\"], edgecolor='none', alpha=0.5,\n",
    "            cmap=plt.cm.get_cmap('Spectral', 10))\n",
    "plt.xlabel('component 1')\n",
    "plt.ylabel('component 2')\n",
    "plt.colorbar();"
   ]
  },
  {
   "cell_type": "code",
   "execution_count": null,
   "metadata": {},
   "outputs": [],
   "source": []
  }
 ],
 "metadata": {
  "colab": {
   "authorship_tag": "ABX9TyPSBjDXUy+m0+GrPJ820RWh",
   "collapsed_sections": [],
   "name": "Ex3.ipynb",
   "provenance": []
  },
  "kernelspec": {
   "display_name": "Python 3 (ipykernel)",
   "language": "python",
   "name": "python3"
  },
  "language_info": {
   "codemirror_mode": {
    "name": "ipython",
    "version": 3
   },
   "file_extension": ".py",
   "mimetype": "text/x-python",
   "name": "python",
   "nbconvert_exporter": "python",
   "pygments_lexer": "ipython3",
   "version": "3.9.7"
  }
 },
 "nbformat": 4,
 "nbformat_minor": 1
}
