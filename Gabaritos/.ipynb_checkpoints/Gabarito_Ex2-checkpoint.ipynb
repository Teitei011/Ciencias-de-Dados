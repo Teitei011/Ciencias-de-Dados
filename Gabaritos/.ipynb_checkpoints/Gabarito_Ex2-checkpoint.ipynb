{
 "cells": [
  {
   "cell_type": "markdown",
   "metadata": {
    "id": "TJRza6JiKvwP"
   },
   "source": [
    "# SCC-ICMC-USP - 1o. semestre de 2021\n",
    "# SCC0275 - Exercício 3\n",
    "\n",
    "### Profa. Roseli A. F. Romero\n",
    "\n",
    "### Monitor: Kenzo Sakiyama\n",
    "\n",
    "Alunos:\n",
    "\n",
    "...\n",
    "\n",
    "\n",
    "## Dados unidimensionais\n",
    " \n",
    "Suponha dois conjuntos de dados, que representam as notas finais em uma dada disciplina de duas salas com 100 alunos. Os dados foram armazenados nos arquivos \"notas_salas01.txt\" e \"notas_salas02.txt\". \n",
    "\n",
    "Imagine que uma pessoa deseje comparar o desempenho das salas de aula. Considera-se que, **quanto mais alunos foram aprovados, melhor o desempenho da sala**. Suponha que para ser aprovado, um aluno deve ter nota maior que 50. \n",
    "\n",
    "Como medida inicial de desempenho, essa pessoa calculou a média dos dados através do código abaixo:"
   ]
  },
  {
   "cell_type": "code",
   "execution_count": 1,
   "metadata": {
    "executionInfo": {
     "elapsed": 1041,
     "status": "ok",
     "timestamp": 1632758935998,
     "user": {
      "displayName": "Kenzo Miranda Sakiyama",
      "photoUrl": "https://lh3.googleusercontent.com/a/default-user=s64",
      "userId": "17190914206091993570"
     },
     "user_tz": 240
    },
    "id": "0Rl_CxITsjsL"
   },
   "outputs": [],
   "source": [
    "import numpy as np\n",
    "import pandas as pd\n",
    "from scipy import stats"
   ]
  },
  {
   "cell_type": "code",
   "execution_count": 2,
   "metadata": {
    "colab": {
     "base_uri": "https://localhost:8080/"
    },
    "id": "qq5GloIcKq3j",
    "outputId": "22362203-dfa8-4e37-8851-2b2d8121d2d4"
   },
   "outputs": [
    {
     "ename": "OSError",
     "evalue": "notas_sala01.txt not found.",
     "output_type": "error",
     "traceback": [
      "\u001b[0;31m---------------------------------------------------------------------------\u001b[0m",
      "\u001b[0;31mOSError\u001b[0m                                   Traceback (most recent call last)",
      "\u001b[0;32m/tmp/ipykernel_16597/1649770850.py\u001b[0m in \u001b[0;36m<module>\u001b[0;34m\u001b[0m\n\u001b[1;32m      1\u001b[0m \u001b[0msalas\u001b[0m \u001b[0;34m=\u001b[0m \u001b[0;34m[\u001b[0m\u001b[0;34m]\u001b[0m\u001b[0;34m\u001b[0m\u001b[0;34m\u001b[0m\u001b[0m\n\u001b[0;32m----> 2\u001b[0;31m \u001b[0msalas\u001b[0m\u001b[0;34m.\u001b[0m\u001b[0mappend\u001b[0m\u001b[0;34m(\u001b[0m\u001b[0mnp\u001b[0m\u001b[0;34m.\u001b[0m\u001b[0mloadtxt\u001b[0m\u001b[0;34m(\u001b[0m\u001b[0;34m\"notas_sala01.txt\"\u001b[0m\u001b[0;34m)\u001b[0m\u001b[0;34m)\u001b[0m\u001b[0;34m\u001b[0m\u001b[0;34m\u001b[0m\u001b[0m\n\u001b[0m\u001b[1;32m      3\u001b[0m \u001b[0msalas\u001b[0m\u001b[0;34m.\u001b[0m\u001b[0mappend\u001b[0m\u001b[0;34m(\u001b[0m\u001b[0mnp\u001b[0m\u001b[0;34m.\u001b[0m\u001b[0mloadtxt\u001b[0m\u001b[0;34m(\u001b[0m\u001b[0;34m\"notas_sala02.txt\"\u001b[0m\u001b[0;34m)\u001b[0m\u001b[0;34m)\u001b[0m\u001b[0;34m\u001b[0m\u001b[0;34m\u001b[0m\u001b[0m\n\u001b[1;32m      4\u001b[0m \u001b[0;34m\u001b[0m\u001b[0m\n\u001b[1;32m      5\u001b[0m \u001b[0;32mfor\u001b[0m \u001b[0mi\u001b[0m \u001b[0;32min\u001b[0m \u001b[0mrange\u001b[0m\u001b[0;34m(\u001b[0m\u001b[0;36m0\u001b[0m\u001b[0;34m,\u001b[0m\u001b[0;36m2\u001b[0m\u001b[0;34m)\u001b[0m\u001b[0;34m:\u001b[0m\u001b[0;34m\u001b[0m\u001b[0;34m\u001b[0m\u001b[0m\n",
      "\u001b[0;32m/usr/lib/python3.9/site-packages/numpy/lib/npyio.py\u001b[0m in \u001b[0;36mloadtxt\u001b[0;34m(fname, dtype, comments, delimiter, converters, skiprows, usecols, unpack, ndmin, encoding, max_rows, like)\u001b[0m\n\u001b[1;32m   1065\u001b[0m             \u001b[0mfname\u001b[0m \u001b[0;34m=\u001b[0m \u001b[0mos_fspath\u001b[0m\u001b[0;34m(\u001b[0m\u001b[0mfname\u001b[0m\u001b[0;34m)\u001b[0m\u001b[0;34m\u001b[0m\u001b[0;34m\u001b[0m\u001b[0m\n\u001b[1;32m   1066\u001b[0m         \u001b[0;32mif\u001b[0m \u001b[0m_is_string_like\u001b[0m\u001b[0;34m(\u001b[0m\u001b[0mfname\u001b[0m\u001b[0;34m)\u001b[0m\u001b[0;34m:\u001b[0m\u001b[0;34m\u001b[0m\u001b[0;34m\u001b[0m\u001b[0m\n\u001b[0;32m-> 1067\u001b[0;31m             \u001b[0mfh\u001b[0m \u001b[0;34m=\u001b[0m \u001b[0mnp\u001b[0m\u001b[0;34m.\u001b[0m\u001b[0mlib\u001b[0m\u001b[0;34m.\u001b[0m\u001b[0m_datasource\u001b[0m\u001b[0;34m.\u001b[0m\u001b[0mopen\u001b[0m\u001b[0;34m(\u001b[0m\u001b[0mfname\u001b[0m\u001b[0;34m,\u001b[0m \u001b[0;34m'rt'\u001b[0m\u001b[0;34m,\u001b[0m \u001b[0mencoding\u001b[0m\u001b[0;34m=\u001b[0m\u001b[0mencoding\u001b[0m\u001b[0;34m)\u001b[0m\u001b[0;34m\u001b[0m\u001b[0;34m\u001b[0m\u001b[0m\n\u001b[0m\u001b[1;32m   1068\u001b[0m             \u001b[0mfencoding\u001b[0m \u001b[0;34m=\u001b[0m \u001b[0mgetattr\u001b[0m\u001b[0;34m(\u001b[0m\u001b[0mfh\u001b[0m\u001b[0;34m,\u001b[0m \u001b[0;34m'encoding'\u001b[0m\u001b[0;34m,\u001b[0m \u001b[0;34m'latin1'\u001b[0m\u001b[0;34m)\u001b[0m\u001b[0;34m\u001b[0m\u001b[0;34m\u001b[0m\u001b[0m\n\u001b[1;32m   1069\u001b[0m             \u001b[0mfh\u001b[0m \u001b[0;34m=\u001b[0m \u001b[0miter\u001b[0m\u001b[0;34m(\u001b[0m\u001b[0mfh\u001b[0m\u001b[0;34m)\u001b[0m\u001b[0;34m\u001b[0m\u001b[0;34m\u001b[0m\u001b[0m\n",
      "\u001b[0;32m/usr/lib/python3.9/site-packages/numpy/lib/_datasource.py\u001b[0m in \u001b[0;36mopen\u001b[0;34m(path, mode, destpath, encoding, newline)\u001b[0m\n\u001b[1;32m    191\u001b[0m \u001b[0;34m\u001b[0m\u001b[0m\n\u001b[1;32m    192\u001b[0m     \u001b[0mds\u001b[0m \u001b[0;34m=\u001b[0m \u001b[0mDataSource\u001b[0m\u001b[0;34m(\u001b[0m\u001b[0mdestpath\u001b[0m\u001b[0;34m)\u001b[0m\u001b[0;34m\u001b[0m\u001b[0;34m\u001b[0m\u001b[0m\n\u001b[0;32m--> 193\u001b[0;31m     \u001b[0;32mreturn\u001b[0m \u001b[0mds\u001b[0m\u001b[0;34m.\u001b[0m\u001b[0mopen\u001b[0m\u001b[0;34m(\u001b[0m\u001b[0mpath\u001b[0m\u001b[0;34m,\u001b[0m \u001b[0mmode\u001b[0m\u001b[0;34m,\u001b[0m \u001b[0mencoding\u001b[0m\u001b[0;34m=\u001b[0m\u001b[0mencoding\u001b[0m\u001b[0;34m,\u001b[0m \u001b[0mnewline\u001b[0m\u001b[0;34m=\u001b[0m\u001b[0mnewline\u001b[0m\u001b[0;34m)\u001b[0m\u001b[0;34m\u001b[0m\u001b[0;34m\u001b[0m\u001b[0m\n\u001b[0m\u001b[1;32m    194\u001b[0m \u001b[0;34m\u001b[0m\u001b[0m\n\u001b[1;32m    195\u001b[0m \u001b[0;34m\u001b[0m\u001b[0m\n",
      "\u001b[0;32m/usr/lib/python3.9/site-packages/numpy/lib/_datasource.py\u001b[0m in \u001b[0;36mopen\u001b[0;34m(self, path, mode, encoding, newline)\u001b[0m\n\u001b[1;32m    531\u001b[0m                                       encoding=encoding, newline=newline)\n\u001b[1;32m    532\u001b[0m         \u001b[0;32melse\u001b[0m\u001b[0;34m:\u001b[0m\u001b[0;34m\u001b[0m\u001b[0;34m\u001b[0m\u001b[0m\n\u001b[0;32m--> 533\u001b[0;31m             \u001b[0;32mraise\u001b[0m \u001b[0mIOError\u001b[0m\u001b[0;34m(\u001b[0m\u001b[0;34m\"%s not found.\"\u001b[0m \u001b[0;34m%\u001b[0m \u001b[0mpath\u001b[0m\u001b[0;34m)\u001b[0m\u001b[0;34m\u001b[0m\u001b[0;34m\u001b[0m\u001b[0m\n\u001b[0m\u001b[1;32m    534\u001b[0m \u001b[0;34m\u001b[0m\u001b[0m\n\u001b[1;32m    535\u001b[0m \u001b[0;34m\u001b[0m\u001b[0m\n",
      "\u001b[0;31mOSError\u001b[0m: notas_sala01.txt not found."
     ]
    }
   ],
   "source": [
    "salas = []\n",
    "salas.append(np.loadtxt(\"notas_sala01.txt\"))\n",
    "salas.append(np.loadtxt(\"notas_sala02.txt\"))\n",
    "\n",
    "for i in range(0,2):\n",
    "    print(\"--- Sala: %d ---\" % (i+1))\n",
    "    print(\"Média: %f\" % np.mean(salas[i]))        "
   ]
  },
  {
   "cell_type": "markdown",
   "metadata": {
    "id": "dKP6V_kbK4Tv"
   },
   "source": [
    "Com base na média, a pessoa concluiu que a sala 1 obteve um melhor desempenho que a sala 2. \n",
    "\n",
    "### Questão 01. \n",
    "Demonstre o porquê dessa conclusão estar equivocada.\n",
    "   - Sugestão: Transforme as estruturas `salas[0]` e `salas[1]` em estruturas do tipo `DataFrame` da biblioteca **pandas** e utilize as funções de histograma e/ou boxplot."
   ]
  },
  {
   "cell_type": "code",
   "execution_count": null,
   "metadata": {
    "colab": {
     "base_uri": "https://localhost:8080/",
     "height": 281
    },
    "id": "QKX00e2zKuy8",
    "outputId": "e67af20a-bb37-47ac-96cf-b4b8f13402fe"
   },
   "outputs": [],
   "source": [
    "df1 = pd.DataFrame(salas[0])\n",
    "df2 = pd.DataFrame(salas[1])\n",
    "\n",
    "h = df1.hist()"
   ]
  },
  {
   "cell_type": "code",
   "execution_count": null,
   "metadata": {
    "colab": {
     "base_uri": "https://localhost:8080/",
     "height": 281
    },
    "id": "yy4F4O29ryjZ",
    "outputId": "9c77698a-ebd0-4a28-87bf-e3b57347032f"
   },
   "outputs": [],
   "source": [
    "h2 = df2.hist()"
   ]
  },
  {
   "cell_type": "markdown",
   "metadata": {
    "id": "wqg4ENwAr9pA"
   },
   "source": [
    "Analisando os histogramas nota-se que no caso da sala 2 houve muito mais alunos com nota acima de 50. Portanto, embora a média da sala 1 seja maior devido a alguns casos de nota muito altas, na sala 2 mais alunos tiraram acima de 50 e como consequencia a sala 2 obteve um melhor desempenho."
   ]
  },
  {
   "cell_type": "markdown",
   "metadata": {
    "id": "xcf9ShzXLBFb"
   },
   "source": [
    "### Questão 02.\n",
    "Calcule o número de aprovados em cada uma das salas."
   ]
  },
  {
   "cell_type": "code",
   "execution_count": null,
   "metadata": {
    "colab": {
     "base_uri": "https://localhost:8080/"
    },
    "id": "uy1U8dEELKjz",
    "outputId": "6a7aa33d-e5d8-475e-94be-ad6781a166f2"
   },
   "outputs": [],
   "source": [
    "def num_alunos_aprovados(notas, media=50):\n",
    "  print(\"Número de aprovados na sala: %d\" % len(np.argwhere(notas > 50)))\n",
    "\n",
    "num_alunos_aprovados(salas[1])"
   ]
  },
  {
   "cell_type": "markdown",
   "metadata": {
    "id": "y_VnrhDimxHU"
   },
   "source": [
    "### Base Futebol\n",
    "\n",
    "Suponha que uma emissora de televisão te contratou para analisar o perfil dos jogadores do futebol europeu para que os narradores possam dizer estatísticas sobre eles durante os jogos.\n",
    "\n",
    "Os dados estão numa planilha chamada `players_sampled.csv`, onde cada linha contém os dados de um jogador e cada coluna possui um atributo. Essa base foi adaptada do site de competições de ciência de dados chamado [Kaggle](*https*://www.kaggle.com/hugomathien/soccer)."
   ]
  },
  {
   "cell_type": "code",
   "execution_count": null,
   "metadata": {
    "colab": {
     "base_uri": "https://localhost:8080/"
    },
    "executionInfo": {
     "elapsed": 815,
     "status": "ok",
     "timestamp": 1632758941564,
     "user": {
      "displayName": "Kenzo Miranda Sakiyama",
      "photoUrl": "https://lh3.googleusercontent.com/a/default-user=s64",
      "userId": "17190914206091993570"
     },
     "user_tz": 240
    },
    "id": "Q4TNT9dxlj0H",
    "outputId": "b64fda72-b8d7-43eb-8e8f-45900f1fe0df"
   },
   "outputs": [],
   "source": [
    "# Carregando a base\n",
    "df = pd.read_csv('/content/players_sampled.csv')\n",
    "df.info()"
   ]
  },
  {
   "cell_type": "markdown",
   "metadata": {
    "id": "UXgKevIdl-Mj"
   },
   "source": [
    "### Questão 03\n",
    "Para cada atributo da base, identifique quais são categoricos/nominais, ordinais, intervalares e racionais. (Não precisa ser em código)\n"
   ]
  },
  {
   "cell_type": "markdown",
   "metadata": {
    "id": "3jzWzl-wnMiT"
   },
   "source": [
    "Resposta:\n",
    "\n",
    "**Nominal/Categorico:** id, player_api_id, player_fifa_api_id, player_name\n",
    "\n",
    "**Intervalar**: birthday\n",
    "\n",
    "**Racional:** height, weight"
   ]
  },
  {
   "cell_type": "markdown",
   "metadata": {
    "id": "aQUKompInIsN"
   },
   "source": [
    "### Questão 4\n",
    "\n",
    "Formule 3 hipóteses sobre a base ou seus atributos que possam ser verificadas com os conceitos apresentados na disciplina.\n",
    "\n",
    "Ex: O atributo altura tem mais valores abaixo da média (obliquidade negativa)\n",
    "\n",
    "\n",
    "-   Hipótese 1: Há mais jogadores com alturas acima da média (obliquidade negativa). \n",
    "\n",
    "-   Hipótese 2: Há mais jogadores com peso acima da média (obliquidade negativa)\n",
    "\n",
    "-   Hipótese 3: As alturas dos jogadores apresentam uma distribuição mais achatada que a distribuição normal (curtose negativa). \n",
    "\n",
    "\n"
   ]
  },
  {
   "cell_type": "markdown",
   "metadata": {
    "id": "AgG914Mfn3tK"
   },
   "source": [
    "### Questão 5 Verifique se suas hipóteses são verdadeiras"
   ]
  },
  {
   "cell_type": "markdown",
   "metadata": {
    "id": "xO2fojD3LmlY"
   },
   "source": [
    "### Hipótese 1\n",
    "\n",
    "Analisando os valores de média, moda, mediana e obliquidade chegamos a conclusão que a hipótese é verdadeira, pois os valores de moda e mediana estão a direita do valor da média e sua obliquidade é negativa."
   ]
  },
  {
   "cell_type": "code",
   "execution_count": null,
   "metadata": {
    "executionInfo": {
     "elapsed": 34,
     "status": "ok",
     "timestamp": 1632759003981,
     "user": {
      "displayName": "Kenzo Miranda Sakiyama",
      "photoUrl": "https://lh3.googleusercontent.com/a/default-user=s64",
      "userId": "17190914206091993570"
     },
     "user_tz": 240
    },
    "id": "ycOLDgkgLJlu"
   },
   "outputs": [],
   "source": [
    "def h1(df):\n",
    "  \n",
    "  sample_values = df[\"height\"].values\n",
    "\n",
    "  df[\"height\"].hist()\n",
    "  print(f\"- O valor da sua média é {sample_values.mean()}\")\n",
    "  print(f\"- O valor da sua moda é {stats.mode(sample_values)}\")\n",
    "  print(f\"- O valor da sua mediana é {np.median(sample_values)}\")\n",
    "  print(f\"- O valor da sua obliquidade é {stats.skew(sample_values)}\")"
   ]
  },
  {
   "cell_type": "code",
   "execution_count": null,
   "metadata": {
    "colab": {
     "base_uri": "https://localhost:8080/",
     "height": 334
    },
    "executionInfo": {
     "elapsed": 31,
     "status": "ok",
     "timestamp": 1632759003986,
     "user": {
      "displayName": "Kenzo Miranda Sakiyama",
      "photoUrl": "https://lh3.googleusercontent.com/a/default-user=s64",
      "userId": "17190914206091993570"
     },
     "user_tz": 240
    },
    "id": "b8ATlRI_BRQe",
    "outputId": "8c816f48-1859-46f4-f440-ad582bc3fd73"
   },
   "outputs": [],
   "source": [
    "h1(df)"
   ]
  },
  {
   "cell_type": "markdown",
   "metadata": {
    "id": "5hOZET3DNGCG"
   },
   "source": [
    "### Hipotese 2\n",
    "\n",
    "Analisando os valores de média, moda, mediana e obliquidade conclui-se que a hipótese é falsa. O que ocorre é o contrário, predominam jogadores com peso abaixo da média, já que os valores de moda e mediana são menores que o valor da média e sua obliquidade é positiva."
   ]
  },
  {
   "cell_type": "code",
   "execution_count": null,
   "metadata": {
    "executionInfo": {
     "elapsed": 430,
     "status": "ok",
     "timestamp": 1632759031845,
     "user": {
      "displayName": "Kenzo Miranda Sakiyama",
      "photoUrl": "https://lh3.googleusercontent.com/a/default-user=s64",
      "userId": "17190914206091993570"
     },
     "user_tz": 240
    },
    "id": "eU1NUyJvNLnp"
   },
   "outputs": [],
   "source": [
    "def h2(df):\n",
    "\n",
    "  sample_values = df[\"weight\"].values\n",
    "\n",
    "  df[\"weight\"].hist()\n",
    "  print(f\"- O valor da sua média é {sample_values.mean()}\")\n",
    "  print(f\"- O valor da sua moda é {stats.mode(sample_values)}\")\n",
    "  print(f\"- O valor da sua mediana é {np.median(sample_values)}\")\n",
    "  print(f\"- O valor da sua obliquidade é {stats.skew(sample_values)}\")"
   ]
  },
  {
   "cell_type": "code",
   "execution_count": null,
   "metadata": {
    "colab": {
     "base_uri": "https://localhost:8080/",
     "height": 334
    },
    "executionInfo": {
     "elapsed": 11,
     "status": "ok",
     "timestamp": 1632759032493,
     "user": {
      "displayName": "Kenzo Miranda Sakiyama",
      "photoUrl": "https://lh3.googleusercontent.com/a/default-user=s64",
      "userId": "17190914206091993570"
     },
     "user_tz": 240
    },
    "id": "xCeedcszBThf",
    "outputId": "81ae8415-2865-4a3e-b3cc-696086ea3059"
   },
   "outputs": [],
   "source": [
    "h2(df)"
   ]
  },
  {
   "cell_type": "markdown",
   "metadata": {
    "id": "Ogbqbg5cOGnr"
   },
   "source": [
    "## Hipótese 3\n",
    "\n",
    "Observa-se pela análise do histograma dos valores de altura e do valor da kurtose que a hipótese é verdadeira. Observa-se que o valor da kurtose é negativo o que justifica a aparência achatada da distribuição."
   ]
  },
  {
   "cell_type": "code",
   "execution_count": null,
   "metadata": {
    "id": "QHwLOjd7MmQg"
   },
   "outputs": [],
   "source": [
    "def h3(df):\n",
    "\n",
    "  sample_values = df[\"height\"].values\n",
    "\n",
    "  df[\"height\"].hist()\n",
    "  print(f\"- O valor da kurtose é {stats.kurtosis(sample_values)}\")"
   ]
  },
  {
   "cell_type": "code",
   "execution_count": null,
   "metadata": {
    "colab": {
     "base_uri": "https://localhost:8080/",
     "height": 282
    },
    "executionInfo": {
     "elapsed": 3537,
     "status": "ok",
     "timestamp": 1619736659967,
     "user": {
      "displayName": "Kenzo Miranda Sakiyama",
      "photoUrl": "",
      "userId": "17190914206091993570"
     },
     "user_tz": 240
    },
    "id": "Gx5gsp3HOhQr",
    "outputId": "6a704efc-cdf3-4e0e-89f6-93c09fdef291"
   },
   "outputs": [],
   "source": [
    "h3(df)"
   ]
  },
  {
   "cell_type": "markdown",
   "metadata": {
    "id": "-J0xNb4Tnw6i"
   },
   "source": [
    "### Questão 6\n",
    "- Os pesos dos jogadores foram dados em libras. Transforme os pesos dos jogadores para quilos e substitua o valor antigo da coluna no DataFrame. Dica: 1 lb = 0.45359237 kg\n",
    "\n",
    "- Crie um novo atributo chamado \"age\" (idade) a partir da data de nascimento do jogador. Este atributo deve ser considerado nas próximas questões. A idade deve ser um número inteiro."
   ]
  },
  {
   "cell_type": "code",
   "execution_count": null,
   "metadata": {
    "colab": {
     "base_uri": "https://localhost:8080/"
    },
    "id": "CrvjUHYpoRiL",
    "outputId": "55c4ea56-6ade-4090-976b-41698033585e"
   },
   "outputs": [],
   "source": [
    "def lb_para_kg(df):\n",
    "  df['weight'] = df['weight'].map(lambda x: x*0.45359237)\n",
    "  return df\n",
    "\n",
    "df = lb_para_kg(df)\n",
    "df['weight']"
   ]
  },
  {
   "cell_type": "code",
   "execution_count": null,
   "metadata": {
    "id": "qilcIwZT2iJv"
   },
   "outputs": [],
   "source": [
    "# A biblioteca calendar ou a datetime podem te ajudar\n",
    "# Essa questão poderia ser feita de outras formas, como por exemplo utilizando a biblioteca datetime\n",
    "import time\n",
    "import calendar\n",
    "\n",
    "def calc_idade(df):\n",
    "  # strptime -> transforma a data no formato especificado pela string em struct_time (https://docs.python.org/3/library/time.html#time.struct_time)\n",
    "  # calendar.timegm -> recebe uma struct_time e transforma em unix timestamp\n",
    "  # time.time() nos da o tempo atual em unix timestamp. A diferença desse valor e da nossa data é quantos segundos de vida o jogador tem\n",
    "  # Dividimos o valor por 3.154e+7 para ter o resultado em anos.\n",
    "  # Era mais fácil resolver usando o pandas diretamente\n",
    "  age_calc = lambda x: (time.time() - calendar.timegm(time.strptime(x, '%Y-%m-%d %H:%M:%S'))) / 3.154e+7\n",
    "  df['age'] = df['birthday'].map(age_calc).astype(int)\n",
    "  return df"
   ]
  },
  {
   "cell_type": "markdown",
   "metadata": {
    "id": "5NJNcI7_oR_Z"
   },
   "source": [
    "### Questão 7\n",
    "Implemente a função que calcule o percetil de determinado atributo. (Atenção: As bibliotecas Numpy/Pandas possuem a função *quantile* você não deve usá-la em sua função). Os resultados também podem variar dependendo da implementação. Tente seguir a definição dos slides. "
   ]
  },
  {
   "cell_type": "code",
   "execution_count": null,
   "metadata": {
    "id": "XsgyV9umo_u0"
   },
   "outputs": [],
   "source": [
    "def percentile(df, nome_attr, pct):\n",
    "  '''\n",
    "  Parameters\n",
    "  - df: Dataframe com a base\n",
    "  - attr_name: Nome do atributo que queremos utilizar para computar o percentil\n",
    "  - pct: Percentil. Um número entre 0 e 1.\n",
    "  '''\n",
    "  col = df[nome_attr].sort_values()\n",
    "  idx = np.ceil(pct*len(col) + 0.5)\n",
    "  return col.iloc[int(idx)]"
   ]
  },
  {
   "cell_type": "markdown",
   "metadata": {
    "id": "8LoHeNtQpsWL"
   },
   "source": [
    "### Questão 08\n",
    "Utilizando sua função, calcule a mediana, 1º quartil, 3º quartil"
   ]
  },
  {
   "cell_type": "code",
   "execution_count": null,
   "metadata": {
    "colab": {
     "base_uri": "https://localhost:8080/"
    },
    "id": "VZYQceN_4NQr",
    "outputId": "4cb50d8e-78ff-4f4c-fabd-e6c0db5bc8c5"
   },
   "outputs": [],
   "source": [
    "print(percentile(df, 'weight', 0.25))\n",
    "print(percentile(df, 'weight', 0.50))\n",
    "print(percentile(df, 'weight', 0.75))\n",
    "\n",
    "# Comparando com numpy\n",
    "print(np.quantile(df['weight'], 0.25))\n",
    "print(np.quantile(df['weight'], 0.50))\n",
    "print(np.quantile(df['weight'], 0.75))"
   ]
  },
  {
   "cell_type": "markdown",
   "metadata": {
    "id": "bW_923Xp4Lub"
   },
   "source": [
    "# Questão 09\n",
    "\n",
    "Calcule os quatro momentos (média, variância, obliquidade e achatamento) dos atributos onde essas métricas fazem sentido.\n",
    "\n",
    "  - Dica: Utilize as bibliotecas **numpy** para média (mean) e variância (variance) e **Scipy.stats** para obliquidade (skew) e achatamento (kurtosis)."
   ]
  },
  {
   "cell_type": "code",
   "execution_count": null,
   "metadata": {
    "id": "BIRq-J0G5UVj"
   },
   "outputs": [],
   "source": [
    "def quatro_momentos(df, nome_attr):\n",
    "  print(\"--- Variável: {} ---\".format(nome_attr))\n",
    "  print(\"Média: %f\" % np.mean(df[nome_attr]))\n",
    "  print(\"Variância: %f\" % np.var(df[nome_attr]))\n",
    "  print(\"Obliquidade: %f\" % stats.skew(df[nome_attr]))\n",
    "  print(\"Achatamento: %f\" % stats.kurtosis(df[nome_attr]))"
   ]
  },
  {
   "cell_type": "code",
   "execution_count": null,
   "metadata": {
    "colab": {
     "base_uri": "https://localhost:8080/"
    },
    "id": "9LT2v-qC2-Zw",
    "outputId": "5e459a5d-7485-4b44-d9ec-5cc44f58d30b"
   },
   "outputs": [],
   "source": [
    "quatro_momentos(df, 'weight')\n",
    "# Mesma coisa para height e age"
   ]
  },
  {
   "cell_type": "markdown",
   "metadata": {
    "id": "-FSTKAZF5FSg"
   },
   "source": [
    "### Questão 10\n",
    "\n",
    "- Calcule o histograma e o boxplot dos atributos altura, peso e idade.\n",
    "- A distribuição dos atributos possui curvatura para algum lado ou são centrados?\n",
    "- A partir do Boxplot, verifique se os atributos tem outliers e justifique."
   ]
  },
  {
   "cell_type": "code",
   "execution_count": null,
   "metadata": {
    "id": "0jkiFH7W5T6-"
   },
   "outputs": [],
   "source": [
    "def hist(df, nome_attr):\n",
    "  df.hist(nome_attr, density=1)\n",
    "  df[nome_attr].plot.kde()\n",
    "\n",
    "def boxplot(df, nome_attr):\n",
    "    df.boxplot(nome_attr, showmeans=True)"
   ]
  },
  {
   "cell_type": "code",
   "execution_count": null,
   "metadata": {
    "colab": {
     "base_uri": "https://localhost:8080/",
     "height": 281
    },
    "id": "uBcaBxko3j9s",
    "outputId": "aebd5658-9d98-4cd2-cda2-96e1ee5e8005"
   },
   "outputs": [],
   "source": [
    "hist(df, 'weight')"
   ]
  },
  {
   "cell_type": "code",
   "execution_count": null,
   "metadata": {
    "colab": {
     "base_uri": "https://localhost:8080/",
     "height": 265
    },
    "id": "NsPHy7Iw3oDD",
    "outputId": "db6927cf-e530-4bab-e74e-6ba844d1bfbe"
   },
   "outputs": [],
   "source": [
    "boxplot(df, 'weight')"
   ]
  },
  {
   "cell_type": "code",
   "execution_count": null,
   "metadata": {
    "colab": {
     "base_uri": "https://localhost:8080/"
    },
    "id": "E1CUzgi9i5KI",
    "outputId": "328e378c-0144-4c88-bb84-691898f0eadf"
   },
   "outputs": [],
   "source": [
    "print(stats.skew(df['weight']))\n",
    "# Pelo boxplot, percebemos que a mediana (linha verde) e a média (triangulo verde) estão muito próximas, o que é um indício de simetria\n",
    "# A obliquidade é pouco maior que 0. Assim podemos considerar que a distribuição é aproximadamente simétrica"
   ]
  },
  {
   "cell_type": "code",
   "execution_count": null,
   "metadata": {
    "colab": {
     "base_uri": "https://localhost:8080/",
     "height": 281
    },
    "id": "mVnpZ1Tn3mVX",
    "outputId": "39598446-6939-42ae-9f80-7e7dd18b7be1"
   },
   "outputs": [],
   "source": [
    "hist(df, 'height')"
   ]
  },
  {
   "cell_type": "code",
   "execution_count": null,
   "metadata": {
    "colab": {
     "base_uri": "https://localhost:8080/",
     "height": 265
    },
    "id": "l_ZgG4GC3rc-",
    "outputId": "1553b404-736c-4a34-cf54-290d5048f43b"
   },
   "outputs": [],
   "source": [
    "boxplot(df, 'height')"
   ]
  },
  {
   "cell_type": "code",
   "execution_count": null,
   "metadata": {
    "colab": {
     "base_uri": "https://localhost:8080/"
    },
    "id": "H4Y_tgepjxwm",
    "outputId": "4f81b005-fc49-4bb8-8b1b-887ac04fecc2"
   },
   "outputs": [],
   "source": [
    "print(stats.skew(df['height']))\n",
    "# Pelo boxplot, percebemos que a mediana (linha verde) está acima da média (triangulo verde), o que é um indício de não-simetria\n",
    "# A obliquidade é negativa porém é um valor baixo. Assim podemos considerar que a distribuição possui leve cauda esquerda ou que é aproximadamente simétrica"
   ]
  },
  {
   "cell_type": "code",
   "execution_count": null,
   "metadata": {
    "colab": {
     "base_uri": "https://localhost:8080/",
     "height": 281
    },
    "id": "klIy6X8lkJ9h",
    "outputId": "c7e59a54-0a8e-4d41-f2b8-da9252c297a5"
   },
   "outputs": [],
   "source": [
    "hist(df, 'age')"
   ]
  },
  {
   "cell_type": "code",
   "execution_count": null,
   "metadata": {
    "colab": {
     "base_uri": "https://localhost:8080/",
     "height": 265
    },
    "id": "UbiMgnPakN6n",
    "outputId": "dfc1c3da-49b5-4884-e86b-038954f51732"
   },
   "outputs": [],
   "source": [
    "boxplot(df, 'age')"
   ]
  },
  {
   "cell_type": "code",
   "execution_count": null,
   "metadata": {
    "colab": {
     "base_uri": "https://localhost:8080/"
    },
    "id": "yy9kAo8skPSC",
    "outputId": "a88ebe71-6a16-4b2d-e480-d9a71fb4dd5b"
   },
   "outputs": [],
   "source": [
    "print(stats.skew(df['age']))\n",
    "# Pelo boxplot, percebemos que a mediana (linha verde) está acima da média (triangulo verde), o que é um indício de não-simetria\n",
    "# A obliquidade é positiva porém também num valor baixo.\n",
    "# Assim podemos considerar que a distribuição possui leve cauda direita em relação à media ou que é aproximadamente simétrica."
   ]
  }
 ],
 "metadata": {
  "colab": {
   "collapsed_sections": [],
   "name": "Gabarito_Ex2.ipynb",
   "provenance": []
  },
  "kernelspec": {
   "display_name": "Python 3 (ipykernel)",
   "language": "python",
   "name": "python3"
  },
  "language_info": {
   "codemirror_mode": {
    "name": "ipython",
    "version": 3
   },
   "file_extension": ".py",
   "mimetype": "text/x-python",
   "name": "python",
   "nbconvert_exporter": "python",
   "pygments_lexer": "ipython3",
   "version": "3.9.7"
  }
 },
 "nbformat": 4,
 "nbformat_minor": 1
}
