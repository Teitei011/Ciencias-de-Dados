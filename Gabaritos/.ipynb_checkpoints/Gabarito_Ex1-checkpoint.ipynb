{
 "cells": [
  {
   "cell_type": "markdown",
   "metadata": {
    "id": "1M7Xvyh0p8f5"
   },
   "source": [
    "## Dados multidimensionais\n",
    "\n",
    "#### 1. Importe as bibliotecas Numpy e Pandas e carregue o conjunto de dados Iris\n",
    "\n"
   ]
  },
  {
   "cell_type": "code",
   "execution_count": 1,
   "metadata": {
    "executionInfo": {
     "elapsed": 930,
     "status": "ok",
     "timestamp": 1618490010166,
     "user": {
      "displayName": "Guilherme Nardari",
      "photoUrl": "",
      "userId": "04838521268930040889"
     },
     "user_tz": 180
    },
    "id": "_2XBWWKfp8DD"
   },
   "outputs": [],
   "source": [
    "# Imports\n",
    "import pandas as pd\n",
    "import numpy as np"
   ]
  },
  {
   "cell_type": "code",
   "execution_count": 2,
   "metadata": {
    "colab": {
     "base_uri": "https://localhost:8080/"
    },
    "executionInfo": {
     "elapsed": 29489,
     "status": "ok",
     "timestamp": 1618489957329,
     "user": {
      "displayName": "Guilherme Nardari",
      "photoUrl": "",
      "userId": "04838521268930040889"
     },
     "user_tz": 180
    },
    "id": "y6xkLXiNqU9I",
    "outputId": "402c95d8-b4d9-42b2-955e-9ef8a094e65d"
   },
   "outputs": [
    {
     "ename": "ModuleNotFoundError",
     "evalue": "No module named 'google.colab'",
     "output_type": "error",
     "traceback": [
      "\u001b[0;31m---------------------------------------------------------------------------\u001b[0m",
      "\u001b[0;31mModuleNotFoundError\u001b[0m                       Traceback (most recent call last)",
      "\u001b[0;32m/tmp/ipykernel_16550/1857197167.py\u001b[0m in \u001b[0;36m<module>\u001b[0;34m\u001b[0m\n\u001b[1;32m      2\u001b[0m \u001b[0;31m# Permissão de leitura para o Drive\u001b[0m\u001b[0;34m\u001b[0m\u001b[0;34m\u001b[0m\u001b[0m\n\u001b[1;32m      3\u001b[0m \u001b[0;31m# Autorize o Collab a acessar seus arquivos no drive\u001b[0m\u001b[0;34m\u001b[0m\u001b[0;34m\u001b[0m\u001b[0m\n\u001b[0;32m----> 4\u001b[0;31m \u001b[0;32mfrom\u001b[0m \u001b[0mgoogle\u001b[0m\u001b[0;34m.\u001b[0m\u001b[0mcolab\u001b[0m \u001b[0;32mimport\u001b[0m \u001b[0mdrive\u001b[0m\u001b[0;34m\u001b[0m\u001b[0;34m\u001b[0m\u001b[0m\n\u001b[0m\u001b[1;32m      5\u001b[0m \u001b[0mdrive\u001b[0m\u001b[0;34m.\u001b[0m\u001b[0mmount\u001b[0m\u001b[0;34m(\u001b[0m\u001b[0;34m'/content/drive'\u001b[0m\u001b[0;34m)\u001b[0m\u001b[0;34m\u001b[0m\u001b[0;34m\u001b[0m\u001b[0m\n",
      "\u001b[0;31mModuleNotFoundError\u001b[0m: No module named 'google.colab'"
     ]
    }
   ],
   "source": [
    "# Carregando base de dados\n",
    "# Permissão de leitura para o Drive\n",
    "# Autorize o Collab a acessar seus arquivos no drive\n",
    "from google.colab import drive\n",
    "drive.mount('/content/drive')"
   ]
  },
  {
   "cell_type": "code",
   "execution_count": null,
   "metadata": {
    "colab": {
     "base_uri": "https://localhost:8080/",
     "height": 413
    },
    "executionInfo": {
     "elapsed": 1408,
     "status": "ok",
     "timestamp": 1618490014505,
     "user": {
      "displayName": "Guilherme Nardari",
      "photoUrl": "",
      "userId": "04838521268930040889"
     },
     "user_tz": 180
    },
    "id": "-VXfmidAhGP1",
    "outputId": "58e7b403-e9b6-49b3-aab4-aaa363586925"
   },
   "outputs": [],
   "source": [
    "iris = pd.read_csv(\"/content/drive/MyDrive/SCC5948/Aula 1/iris.data\",\n",
    "                       sep=\",\", header=None)\n",
    "iris"
   ]
  },
  {
   "cell_type": "markdown",
   "metadata": {
    "id": "FpaB6u7dqXa5"
   },
   "source": [
    "### [Sobre o Iris ](https://pt.wikipedia.org/wiki/Conjunto_de_dados_flor_Iris)\n",
    "O conjunto de dados consiste em amostras de três espécies de flores Iris ( Iris setosa, Iris virginica e Iris versicolor). Quatro atributos foram medidos em cada amostra: o comprimento e a largura das sépalas e pétalas, em centímetros.\n",
    "\n",
    "A estrutura das variáveis no arquivo é:\n",
    "\n",
    "1. comprimento sépala em cm\n",
    "2. largura sépala em cm\n",
    "3. comprimento da pétala em cm\n",
    "4. largura da pétala em cm\n",
    "5. classe:\n",
    "  - Iris Setosa\n",
    "  - Iris Versicolour\n",
    "  - Iris Virginica"
   ]
  },
  {
   "cell_type": "markdown",
   "metadata": {
    "id": "1B9BsWhIsmgg"
   },
   "source": [
    "#### 2. Coloque nomes nas colunas do DataFrame de acordo com a descrição acima"
   ]
  },
  {
   "cell_type": "code",
   "execution_count": null,
   "metadata": {
    "colab": {
     "base_uri": "https://localhost:8080/"
    },
    "executionInfo": {
     "elapsed": 883,
     "status": "ok",
     "timestamp": 1618490291255,
     "user": {
      "displayName": "Guilherme Nardari",
      "photoUrl": "",
      "userId": "04838521268930040889"
     },
     "user_tz": 180
    },
    "id": "v0d7ac3QsvBh",
    "outputId": "a6f46da9-0bf3-4273-f051-bbe9c8e43329"
   },
   "outputs": [],
   "source": [
    "def add_column_names(df):\n",
    "  df_with_names = df\n",
    "  df_with_names.columns = ['comprimento_sep', 'largura_sep', 'comprimento_pet', 'largura_pet', 'classe']\n",
    "  return df_with_names\n",
    "\n",
    "iris = add_column_names(iris)\n",
    "print(iris)"
   ]
  },
  {
   "cell_type": "markdown",
   "metadata": {
    "id": "PRwETVrfs9BP"
   },
   "source": [
    "#### 3. Usando Pandas, gere um histograma dos valores para cada um dos atributos (colunas) numéricos\n",
    "\n"
   ]
  },
  {
   "cell_type": "code",
   "execution_count": null,
   "metadata": {
    "colab": {
     "base_uri": "https://localhost:8080/",
     "height": 281
    },
    "executionInfo": {
     "elapsed": 1340,
     "status": "ok",
     "timestamp": 1618490314509,
     "user": {
      "displayName": "Guilherme Nardari",
      "photoUrl": "",
      "userId": "04838521268930040889"
     },
     "user_tz": 180
    },
    "id": "5ZVDuAEptBK2",
    "outputId": "9bbfcffa-9952-45eb-8212-8f58cdc243bc"
   },
   "outputs": [],
   "source": [
    "def show_histograms(df):\n",
    "  df.hist()\n",
    "show_histograms(iris)"
   ]
  },
  {
   "cell_type": "markdown",
   "metadata": {
    "id": "iV2FT2mKrTxL"
   },
   "source": [
    "#### 4. Mostre o histograma para cada classe de um atributo (recebido por parâmetro)\n",
    "\n",
    "---\n",
    "\n",
    "\n",
    "\n"
   ]
  },
  {
   "cell_type": "code",
   "execution_count": null,
   "metadata": {
    "colab": {
     "base_uri": "https://localhost:8080/",
     "height": 809
    },
    "executionInfo": {
     "elapsed": 1626,
     "status": "ok",
     "timestamp": 1618490928652,
     "user": {
      "displayName": "Guilherme Nardari",
      "photoUrl": "",
      "userId": "04838521268930040889"
     },
     "user_tz": 180
    },
    "id": "KL2WGIfJtIO4",
    "outputId": "afc5db8e-57d3-486a-b04d-24b9c0423b27"
   },
   "outputs": [],
   "source": [
    "def show_histogram_per_class(df, attr_name):\n",
    "  classes = pd.unique(iris['classe'])\n",
    "  for c in classes:\n",
    "    df[df.classe == c].hist(attr_name)\n",
    "show_histogram_per_class(iris, 'largura_sep')"
   ]
  },
  {
   "cell_type": "markdown",
   "metadata": {
    "id": "X_bHuB2GtnKE"
   },
   "source": [
    "#### 5. Todas as medições foram feitas em cm, crie uma nova coluna para cada atributo com seus valores em milímetros"
   ]
  },
  {
   "cell_type": "code",
   "execution_count": null,
   "metadata": {
    "id": "2-5ZxotvtmX8"
   },
   "outputs": [],
   "source": [
    "def add_mm_cols(df):\n",
    "  col_names = df.columns[:-1]\n",
    "  df_with_mm = df\n",
    "  for c in col_names:\n",
    "    df_with_mm[c + '_mm'] = df[c]*10\n",
    "  return df_with_mm\n",
    "add_mm_cols(iris)"
   ]
  },
  {
   "cell_type": "markdown",
   "metadata": {
    "id": "7OpjoytyuHxJ"
   },
   "source": [
    "### 6.  Conte o número de amostras por classe, retorne uma lista com 3 elementos com a contagem de cada classe\n"
   ]
  },
  {
   "cell_type": "code",
   "execution_count": null,
   "metadata": {
    "colab": {
     "base_uri": "https://localhost:8080/"
    },
    "executionInfo": {
     "elapsed": 1680,
     "status": "ok",
     "timestamp": 1618491347952,
     "user": {
      "displayName": "Guilherme Nardari",
      "photoUrl": "",
      "userId": "04838521268930040889"
     },
     "user_tz": 180
    },
    "id": "bcRCORe_uUpt",
    "outputId": "4e85e12e-31d9-47b0-966b-152d23073f0b"
   },
   "outputs": [],
   "source": [
    "def count_samples_per_class(df):\n",
    "  num_elems_class = []\n",
    "  classes = pd.unique(df.classe)\n",
    "  for c in classes:\n",
    "    num_c = (df.classe == c).sum()\n",
    "    num_elems_class.append(num_c)\n",
    "  return num_elems_class\n",
    "count_samples_per_class(iris)"
   ]
  },
  {
   "cell_type": "markdown",
   "metadata": {
    "id": "_jBX26yTut9N"
   },
   "source": [
    "#### 7. Dado um atributo, printe qual classe possui o maior e menor valor. Exemplo (não necessáriamente correto): \"A classe Iris-Setosa possui a menor medição de largura de sépala.\""
   ]
  },
  {
   "cell_type": "code",
   "execution_count": null,
   "metadata": {
    "colab": {
     "base_uri": "https://localhost:8080/"
    },
    "executionInfo": {
     "elapsed": 1240,
     "status": "ok",
     "timestamp": 1618491653171,
     "user": {
      "displayName": "Guilherme Nardari",
      "photoUrl": "",
      "userId": "04838521268930040889"
     },
     "user_tz": 180
    },
    "id": "q3qZwdfYutVM",
    "outputId": "3bc62f0f-f048-4cfe-9849-3989aeb9512a"
   },
   "outputs": [],
   "source": [
    "def min_max(df, attr_name):\n",
    "  # maximo\n",
    "  idx_max = df[attr_name].idxmax()\n",
    "  max_class_name = df.iloc[idx_max].classe\n",
    "\n",
    "  # minimo\n",
    "  idx_min = df[attr_name].idxmin()\n",
    "  min_class_name = df.iloc[idx_min].classe\n",
    "\n",
    "  print('A classe {} possui o maior {}'.format(max_class_name, attr_name))\n",
    "  print('A classe {} possui o menor {}'.format(min_class_name, attr_name))\n",
    "\n",
    "min_max(iris, 'largura_sep')"
   ]
  }
 ],
 "metadata": {
  "colab": {
   "collapsed_sections": [],
   "name": "Gabarito de Ex1.ipynb",
   "provenance": [
    {
     "file_id": "10fUzoZeTHoh6mJLSjcB9VfF1egAITKYQ",
     "timestamp": 1588941004379
    }
   ]
  },
  "kernelspec": {
   "display_name": "Python 3 (ipykernel)",
   "language": "python",
   "name": "python3"
  },
  "language_info": {
   "codemirror_mode": {
    "name": "ipython",
    "version": 3
   },
   "file_extension": ".py",
   "mimetype": "text/x-python",
   "name": "python",
   "nbconvert_exporter": "python",
   "pygments_lexer": "ipython3",
   "version": "3.9.7"
  }
 },
 "nbformat": 4,
 "nbformat_minor": 1
}
