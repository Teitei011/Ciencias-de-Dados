{
 "cells": [
  {
   "cell_type": "markdown",
   "metadata": {
    "id": "3ZSuG_6fJoiD"
   },
   "source": [
    "# SCC-ICMC-USP - 2o. semestre de 2021\n",
    "# SCC0275 - Exercício 3\n",
    "\n",
    "### Profa. Roseli A. F. Romero\n",
    "\n",
    "### Monitor: Kenzo Sakiyama\n",
    "\n",
    "Nro do grupo:\n",
    "\n",
    "Alunos:\n",
    "\n",
    "\n",
    "1.   List item\n",
    "2.   List item\n"
   ]
  },
  {
   "cell_type": "markdown",
   "metadata": {
    "id": "hgWXBpH2Jrap"
   },
   "source": [
    "# Carregando Iris"
   ]
  },
  {
   "cell_type": "code",
   "execution_count": 1,
   "metadata": {
    "id": "KUYunkgKJfnn"
   },
   "outputs": [],
   "source": [
    "import pandas as pd"
   ]
  },
  {
   "cell_type": "code",
   "execution_count": 2,
   "metadata": {
    "colab": {
     "base_uri": "https://localhost:8080/",
     "height": 424
    },
    "executionInfo": {
     "elapsed": 450,
     "status": "ok",
     "timestamp": 1632020809799,
     "user": {
      "displayName": "Kenzo Miranda Sakiyama",
      "photoUrl": "https://lh3.googleusercontent.com/a/default-user=s64",
      "userId": "17190914206091993570"
     },
     "user_tz": 240
    },
    "id": "XjhuPKHQJ_-T",
    "outputId": "9e8a84b9-e449-4267-c65e-7da71083c277"
   },
   "outputs": [
    {
     "data": {
      "text/html": [
       "<div>\n",
       "<style scoped>\n",
       "    .dataframe tbody tr th:only-of-type {\n",
       "        vertical-align: middle;\n",
       "    }\n",
       "\n",
       "    .dataframe tbody tr th {\n",
       "        vertical-align: top;\n",
       "    }\n",
       "\n",
       "    .dataframe thead th {\n",
       "        text-align: right;\n",
       "    }\n",
       "</style>\n",
       "<table border=\"1\" class=\"dataframe\">\n",
       "  <thead>\n",
       "    <tr style=\"text-align: right;\">\n",
       "      <th></th>\n",
       "      <th>A</th>\n",
       "      <th>B</th>\n",
       "      <th>C</th>\n",
       "      <th>D</th>\n",
       "      <th>E</th>\n",
       "      <th>F</th>\n",
       "    </tr>\n",
       "  </thead>\n",
       "  <tbody>\n",
       "    <tr>\n",
       "      <th>0</th>\n",
       "      <td>4.9</td>\n",
       "      <td>3.0</td>\n",
       "      <td>1.4</td>\n",
       "      <td>30.0</td>\n",
       "      <td>0.2</td>\n",
       "      <td>Iris-setosa</td>\n",
       "    </tr>\n",
       "    <tr>\n",
       "      <th>1</th>\n",
       "      <td>4.7</td>\n",
       "      <td>3.2</td>\n",
       "      <td>1.3</td>\n",
       "      <td>32.0</td>\n",
       "      <td>0.2</td>\n",
       "      <td>Iris-setosa</td>\n",
       "    </tr>\n",
       "    <tr>\n",
       "      <th>2</th>\n",
       "      <td>4.6</td>\n",
       "      <td>3.1</td>\n",
       "      <td>1.5</td>\n",
       "      <td>31.0</td>\n",
       "      <td>0.2</td>\n",
       "      <td>Iris-setosa</td>\n",
       "    </tr>\n",
       "    <tr>\n",
       "      <th>3</th>\n",
       "      <td>5.0</td>\n",
       "      <td>3.6</td>\n",
       "      <td>1.4</td>\n",
       "      <td>36.0</td>\n",
       "      <td>0.2</td>\n",
       "      <td>Iris-setosa</td>\n",
       "    </tr>\n",
       "    <tr>\n",
       "      <th>4</th>\n",
       "      <td>5.4</td>\n",
       "      <td>3.9</td>\n",
       "      <td>1.7</td>\n",
       "      <td>39.0</td>\n",
       "      <td>0.4</td>\n",
       "      <td>Iris-setosa</td>\n",
       "    </tr>\n",
       "    <tr>\n",
       "      <th>...</th>\n",
       "      <td>...</td>\n",
       "      <td>...</td>\n",
       "      <td>...</td>\n",
       "      <td>...</td>\n",
       "      <td>...</td>\n",
       "      <td>...</td>\n",
       "    </tr>\n",
       "    <tr>\n",
       "      <th>144</th>\n",
       "      <td>6.7</td>\n",
       "      <td>3.0</td>\n",
       "      <td>5.2</td>\n",
       "      <td>30.0</td>\n",
       "      <td>2.3</td>\n",
       "      <td>Iris-virginica</td>\n",
       "    </tr>\n",
       "    <tr>\n",
       "      <th>145</th>\n",
       "      <td>6.3</td>\n",
       "      <td>2.5</td>\n",
       "      <td>5.0</td>\n",
       "      <td>25.0</td>\n",
       "      <td>1.9</td>\n",
       "      <td>Iris-virginica</td>\n",
       "    </tr>\n",
       "    <tr>\n",
       "      <th>146</th>\n",
       "      <td>6.5</td>\n",
       "      <td>3.0</td>\n",
       "      <td>5.2</td>\n",
       "      <td>30.0</td>\n",
       "      <td>2.0</td>\n",
       "      <td>Iris-virginica</td>\n",
       "    </tr>\n",
       "    <tr>\n",
       "      <th>147</th>\n",
       "      <td>6.2</td>\n",
       "      <td>3.4</td>\n",
       "      <td>5.4</td>\n",
       "      <td>34.0</td>\n",
       "      <td>2.3</td>\n",
       "      <td>Iris-virginica</td>\n",
       "    </tr>\n",
       "    <tr>\n",
       "      <th>148</th>\n",
       "      <td>5.9</td>\n",
       "      <td>3.0</td>\n",
       "      <td>5.1</td>\n",
       "      <td>30.0</td>\n",
       "      <td>1.8</td>\n",
       "      <td>Iris-virginica</td>\n",
       "    </tr>\n",
       "  </tbody>\n",
       "</table>\n",
       "<p>149 rows × 6 columns</p>\n",
       "</div>"
      ],
      "text/plain": [
       "       A    B    C     D    E               F\n",
       "0    4.9  3.0  1.4  30.0  0.2     Iris-setosa\n",
       "1    4.7  3.2  1.3  32.0  0.2     Iris-setosa\n",
       "2    4.6  3.1  1.5  31.0  0.2     Iris-setosa\n",
       "3    5.0  3.6  1.4  36.0  0.2     Iris-setosa\n",
       "4    5.4  3.9  1.7  39.0  0.4     Iris-setosa\n",
       "..   ...  ...  ...   ...  ...             ...\n",
       "144  6.7  3.0  5.2  30.0  2.3  Iris-virginica\n",
       "145  6.3  2.5  5.0  25.0  1.9  Iris-virginica\n",
       "146  6.5  3.0  5.2  30.0  2.0  Iris-virginica\n",
       "147  6.2  3.4  5.4  34.0  2.3  Iris-virginica\n",
       "148  5.9  3.0  5.1  30.0  1.8  Iris-virginica\n",
       "\n",
       "[149 rows x 6 columns]"
      ]
     },
     "execution_count": 2,
     "metadata": {},
     "output_type": "execute_result"
    }
   ],
   "source": [
    "iris = pd.read_csv(\"iris_modif_novo.data\", index_col=0)\n",
    "iris"
   ]
  },
  {
   "cell_type": "markdown",
   "metadata": {
    "id": "175he056539B"
   },
   "source": [
    "# Parte 1 - Correlação e Covariância"
   ]
  },
  {
   "cell_type": "markdown",
   "metadata": {
    "id": "GgMtYRy-5-mS"
   },
   "source": [
    "### Questão 01.\n",
    "* Calcule a matriz de covariância (`np.cov`)\n",
    "* Crie um heatmap (`sns.heatmap`) para cada matriz\n",
    "* Dica: Atente-se ao atributo rowvar"
   ]
  },
  {
   "cell_type": "code",
   "execution_count": 3,
   "metadata": {
    "id": "5yEGTqYc58p0"
   },
   "outputs": [],
   "source": [
    "import seaborn as sns\n",
    "import numpy as np\n",
    "import matplotlib.pyplot as plt\n",
    "\n",
    "plt.rcParams['figure.figsize'] = [10, 10]"
   ]
  },
  {
   "cell_type": "code",
   "execution_count": 4,
   "metadata": {
    "id": "WJzWdJN97ORQ"
   },
   "outputs": [],
   "source": [
    "values_array = np.float64(iris.values[:, :-1]) # há necessidade de converter para float explicitamente...\n",
    "cov_matrix = np.cov(values_array, rowvar=False)"
   ]
  },
  {
   "cell_type": "code",
   "execution_count": 5,
   "metadata": {
    "colab": {
     "base_uri": "https://localhost:8080/",
     "height": 609
    },
    "executionInfo": {
     "elapsed": 26,
     "status": "ok",
     "timestamp": 1632020810600,
     "user": {
      "displayName": "Kenzo Miranda Sakiyama",
      "photoUrl": "https://lh3.googleusercontent.com/a/default-user=s64",
      "userId": "17190914206091993570"
     },
     "user_tz": 240
    },
    "id": "dD27GDe67OOU",
    "outputId": "7843d138-71dd-4c52-a5da-867ce14a34ed"
   },
   "outputs": [
    {
     "data": {
      "text/plain": [
       "<AxesSubplot:>"
      ]
     },
     "execution_count": 5,
     "metadata": {},
     "output_type": "execute_result"
    },
    {
     "data": {
      "image/png": "[encoded data removed]",
      "text/plain": [
       "<Figure size 720x720 with 2 Axes>"
      ]
     },
     "metadata": {
      "needs_background": "light"
     },
     "output_type": "display_data"
    }
   ],
   "source": [
    "sns.heatmap(cov_matrix,\n",
    "            annot=True,\n",
    "            xticklabels=iris.columns[:-1],\n",
    "            yticklabels=iris.columns[:-1],\n",
    "            cmap=\"GnBu\"\n",
    ")"
   ]
  },
  {
   "cell_type": "markdown",
   "metadata": {
    "id": "52OuL1cl6Fvq"
   },
   "source": [
    "### Questão 02.\n",
    "\n",
    "Repita o exercício anterior para correlação (usando `pandas.DataFrame.corr` ou `np.corrcoef`) utilizando o método de Pearson. Gere um heatmap da matriz."
   ]
  },
  {
   "cell_type": "code",
   "execution_count": 6,
   "metadata": {
    "colab": {
     "base_uri": "https://localhost:8080/",
     "height": 612
    },
    "executionInfo": {
     "elapsed": 609,
     "status": "ok",
     "timestamp": 1632020811193,
     "user": {
      "displayName": "Kenzo Miranda Sakiyama",
      "photoUrl": "https://lh3.googleusercontent.com/a/default-user=s64",
      "userId": "17190914206091993570"
     },
     "user_tz": 240
    },
    "id": "EoWRl5_k8ePp",
    "outputId": "37929861-009a-4530-df82-5f5535931065"
   },
   "outputs": [
    {
     "data": {
      "text/plain": [
       "<AxesSubplot:>"
      ]
     },
     "execution_count": 6,
     "metadata": {},
     "output_type": "execute_result"
    },
    {
     "data": {
      "image/png": "[encoded data removed]",
      "text/plain": [
       "<Figure size 720x720 with 2 Axes>"
      ]
     },
     "metadata": {
      "needs_background": "light"
     },
     "output_type": "display_data"
    }
   ],
   "source": [
    "sns.heatmap(iris.corr(),\n",
    "            annot=True,\n",
    "            cmap=\"GnBu\"\n",
    ")"
   ]
  },
  {
   "cell_type": "markdown",
   "metadata": {
    "id": "W61tLdSI6d5r"
   },
   "source": [
    "### Questão 03.\n",
    "\n",
    "O método da Q2 apresenta alguma vantagem com relação ao método da Q1?"
   ]
  },
  {
   "cell_type": "markdown",
   "metadata": {
    "id": "_pWA8XXG6hSy"
   },
   "source": [
    "Resposta: Sim. A análise de covariância é sensível à escala dos valores analisados e este fato fica visível na observação do heatmap. Para a covariância, o valor da variância do atributo \"D\" se destaca bastante dos demais, prejudicando a análise dos demais atributos. Já a análise de correlação, por ter valores limitados entre -1 e 1 não apresenta o problema da covariância, e seu heatmap fica mais \"uniforme\". Na análise de correlação, como os valores estão normalizados é mais fácil identificar a \"força\" das relações."
   ]
  },
  {
   "cell_type": "markdown",
   "metadata": {
    "id": "M20FkOb64eP_"
   },
   "source": [
    "### Questão 04.\n",
    "\n",
    "- Identifique os atributos mais e menos correlacionados (em módulo) usando a correlação de Pearson.\n",
    "- O que significa dizer que dois atributos possuem correlação **alta**?\n",
    "- O que significa dizer que dois atributos possuem correlação **baixa**?"
   ]
  },
  {
   "cell_type": "markdown",
   "metadata": {
    "id": "KmyHkAoG4uVB"
   },
   "source": [
    "Resposta:\n",
    "\n",
    "- Mais correlacionados: B e D (1). São fortemente diretamente proporcionais. Dados organizados linearmente.\n",
    "- Menos correlacionados: B e A (-0.1). Não há uma relação linear perceptível entre os dados."
   ]
  },
  {
   "cell_type": "markdown",
   "metadata": {
    "id": "Vb6iRD8i6kGc"
   },
   "source": [
    "### Questão 05.\n",
    "\n",
    "*  Utilizando o resultado da matriz de correlação, verifique se existe um atributo reduntante nessa base e crie um novo `Dataframe` sem ele e justifique."
   ]
  },
  {
   "cell_type": "code",
   "execution_count": 7,
   "metadata": {
    "id": "Z6ks4dkS67yw"
   },
   "outputs": [],
   "source": [
    "iris_novo = iris.drop(columns=[\"D\"])"
   ]
  },
  {
   "cell_type": "markdown",
   "metadata": {
    "id": "xH7w7kPV8pJC"
   },
   "source": [
    "Resposta: Observando a matriz de correlação, podemos observar que os atributos 'B' e 'D' possuem correlação máxima. Assim, podemos concluir que o atributo 'D', por exemplo, é redundante. Observando seus valores fica claro que os valores do atributo 'D' correspondem aos valores do atributo 'B' multiplicados por 10."
   ]
  },
  {
   "cell_type": "markdown",
   "metadata": {
    "id": "pYII7qiq5fzR"
   },
   "source": [
    "# Parte 2 - PCA\n",
    "\n",
    "Na segunda parte do exercício, focaremos na análise de um novo conjunto de dados. O novo conjunto de dados apresenta dados a respeito da composição química de vinhos de 3 diferentes origens. Uma descrição mais detalhada do conjunto de dados será apresentada a seguir."
   ]
  },
  {
   "cell_type": "code",
   "execution_count": 8,
   "metadata": {
    "id": "--SQ-fRz99c9"
   },
   "outputs": [],
   "source": [
    "from sklearn.datasets import load_wine"
   ]
  },
  {
   "cell_type": "code",
   "execution_count": 9,
   "metadata": {
    "id": "ooxVwubP-Jmd"
   },
   "outputs": [],
   "source": [
    "raw_data = load_wine()"
   ]
  },
  {
   "cell_type": "code",
   "execution_count": 10,
   "metadata": {
    "colab": {
     "base_uri": "https://localhost:8080/"
    },
    "executionInfo": {
     "elapsed": 57,
     "status": "ok",
     "timestamp": 1632020811197,
     "user": {
      "displayName": "Kenzo Miranda Sakiyama",
      "photoUrl": "https://lh3.googleusercontent.com/a/default-user=s64",
      "userId": "17190914206091993570"
     },
     "user_tz": 240
    },
    "id": "pspzLPtA-NXB",
    "outputId": "2e5e6d93-0c30-4d5d-b0e1-b4372a7e1ded"
   },
   "outputs": [
    {
     "name": "stdout",
     "output_type": "stream",
     "text": [
      ".. _wine_dataset:\n",
      "\n",
      "Wine recognition dataset\n",
      "------------------------\n",
      "\n",
      "**Data Set Characteristics:**\n",
      "\n",
      "    :Number of Instances: 178 (50 in each of three classes)\n",
      "    :Number of Attributes: 13 numeric, predictive attributes and the class\n",
      "    :Attribute Information:\n",
      " \t\t- Alcohol\n",
      " \t\t- Malic acid\n",
      " \t\t- Ash\n",
      "\t\t- Alcalinity of ash  \n",
      " \t\t- Magnesium\n",
      "\t\t- Total phenols\n",
      " \t\t- Flavanoids\n",
      " \t\t- Nonflavanoid phenols\n",
      " \t\t- Proanthocyanins\n",
      "\t\t- Color intensity\n",
      " \t\t- Hue\n",
      " \t\t- OD280/OD315 of diluted wines\n",
      " \t\t- Proline\n",
      "\n",
      "    - class:\n",
      "            - class_0\n",
      "            - class_1\n",
      "            - class_2\n",
      "\t\t\n",
      "    :Summary Statistics:\n",
      "    \n",
      "    ============================= ==== ===== ======= =====\n",
      "                                   Min   Max   Mean     SD\n",
      "    ============================= ==== ===== ======= =====\n",
      "    Alcohol:                      11.0  14.8    13.0   0.8\n",
      "    Malic Acid:                   0.74  5.80    2.34  1.12\n",
      "    Ash:                          1.36  3.23    2.36  0.27\n",
      "    Alcalinity of Ash:            10.6  30.0    19.5   3.3\n",
      "    Magnesium:                    70.0 162.0    99.7  14.3\n",
      "    Total Phenols:                0.98  3.88    2.29  0.63\n",
      "    Flavanoids:                   0.34  5.08    2.03  1.00\n",
      "    Nonflavanoid Phenols:         0.13  0.66    0.36  0.12\n",
      "    Proanthocyanins:              0.41  3.58    1.59  0.57\n",
      "    Colour Intensity:              1.3  13.0     5.1   2.3\n",
      "    Hue:                          0.48  1.71    0.96  0.23\n",
      "    OD280/OD315 of diluted wines: 1.27  4.00    2.61  0.71\n",
      "    Proline:                       278  1680     746   315\n",
      "    ============================= ==== ===== ======= =====\n",
      "\n",
      "    :Missing Attribute Values: None\n",
      "    :Class Distribution: class_0 (59), class_1 (71), class_2 (48)\n",
      "    :Creator: R.A. Fisher\n",
      "    :Donor: Michael Marshall (MARSHALL%PLU@io.arc.nasa.gov)\n",
      "    :Date: July, 1988\n",
      "\n",
      "This is a copy of UCI ML Wine recognition datasets.\n",
      "https://archive.ics.uci.edu/ml/machine-learning-databases/wine/wine.data\n",
      "\n",
      "The data is the results of a chemical analysis of wines grown in the same\n",
      "region in Italy by three different cultivators. There are thirteen different\n",
      "measurements taken for different constituents found in the three types of\n",
      "wine.\n",
      "\n",
      "Original Owners: \n",
      "\n",
      "Forina, M. et al, PARVUS - \n",
      "An Extendible Package for Data Exploration, Classification and Correlation. \n",
      "Institute of Pharmaceutical and Food Analysis and Technologies,\n",
      "Via Brigata Salerno, 16147 Genoa, Italy.\n",
      "\n",
      "Citation:\n",
      "\n",
      "Lichman, M. (2013). UCI Machine Learning Repository\n",
      "[https://archive.ics.uci.edu/ml]. Irvine, CA: University of California,\n",
      "School of Information and Computer Science. \n",
      "\n",
      ".. topic:: References\n",
      "\n",
      "  (1) S. Aeberhard, D. Coomans and O. de Vel, \n",
      "  Comparison of Classifiers in High Dimensional Settings, \n",
      "  Tech. Rep. no. 92-02, (1992), Dept. of Computer Science and Dept. of  \n",
      "  Mathematics and Statistics, James Cook University of North Queensland. \n",
      "  (Also submitted to Technometrics). \n",
      "\n",
      "  The data was used with many others for comparing various \n",
      "  classifiers. The classes are separable, though only RDA \n",
      "  has achieved 100% correct classification. \n",
      "  (RDA : 100%, QDA 99.4%, LDA 98.9%, 1NN 96.1% (z-transformed data)) \n",
      "  (All results using the leave-one-out technique) \n",
      "\n",
      "  (2) S. Aeberhard, D. Coomans and O. de Vel, \n",
      "  \"THE CLASSIFICATION PERFORMANCE OF RDA\" \n",
      "  Tech. Rep. no. 92-01, (1992), Dept. of Computer Science and Dept. of \n",
      "  Mathematics and Statistics, James Cook University of North Queensland. \n",
      "  (Also submitted to Journal of Chemometrics).\n",
      "\n"
     ]
    }
   ],
   "source": [
    "print(raw_data[\"DESCR\"])"
   ]
  },
  {
   "cell_type": "code",
   "execution_count": 11,
   "metadata": {
    "id": "SDevZYQa-ZVJ"
   },
   "outputs": [],
   "source": [
    "wine_df = pd.DataFrame(raw_data[\"data\"], columns=raw_data[\"feature_names\"])\n",
    "wine_df[\"class\"] = raw_data[\"target\"]"
   ]
  },
  {
   "cell_type": "code",
   "execution_count": 12,
   "metadata": {
    "colab": {
     "base_uri": "https://localhost:8080/",
     "height": 226
    },
    "executionInfo": {
     "elapsed": 49,
     "status": "ok",
     "timestamp": 1632020811199,
     "user": {
      "displayName": "Kenzo Miranda Sakiyama",
      "photoUrl": "https://lh3.googleusercontent.com/a/default-user=s64",
      "userId": "17190914206091993570"
     },
     "user_tz": 240
    },
    "id": "ZFXLtaj5-OMD",
    "outputId": "13ea49b5-5e15-4c3c-aac5-906edfee76e8"
   },
   "outputs": [
    {
     "data": {
      "text/html": [
       "<div>\n",
       "<style scoped>\n",
       "    .dataframe tbody tr th:only-of-type {\n",
       "        vertical-align: middle;\n",
       "    }\n",
       "\n",
       "    .dataframe tbody tr th {\n",
       "        vertical-align: top;\n",
       "    }\n",
       "\n",
       "    .dataframe thead th {\n",
       "        text-align: right;\n",
       "    }\n",
       "</style>\n",
       "<table border=\"1\" class=\"dataframe\">\n",
       "  <thead>\n",
       "    <tr style=\"text-align: right;\">\n",
       "      <th></th>\n",
       "      <th>alcohol</th>\n",
       "      <th>malic_acid</th>\n",
       "      <th>ash</th>\n",
       "      <th>alcalinity_of_ash</th>\n",
       "      <th>magnesium</th>\n",
       "      <th>total_phenols</th>\n",
       "      <th>flavanoids</th>\n",
       "      <th>nonflavanoid_phenols</th>\n",
       "      <th>proanthocyanins</th>\n",
       "      <th>color_intensity</th>\n",
       "      <th>hue</th>\n",
       "      <th>od280/od315_of_diluted_wines</th>\n",
       "      <th>proline</th>\n",
       "      <th>class</th>\n",
       "    </tr>\n",
       "  </thead>\n",
       "  <tbody>\n",
       "    <tr>\n",
       "      <th>0</th>\n",
       "      <td>14.23</td>\n",
       "      <td>1.71</td>\n",
       "      <td>2.43</td>\n",
       "      <td>15.6</td>\n",
       "      <td>127.0</td>\n",
       "      <td>2.80</td>\n",
       "      <td>3.06</td>\n",
       "      <td>0.28</td>\n",
       "      <td>2.29</td>\n",
       "      <td>5.64</td>\n",
       "      <td>1.04</td>\n",
       "      <td>3.92</td>\n",
       "      <td>1065.0</td>\n",
       "      <td>0</td>\n",
       "    </tr>\n",
       "    <tr>\n",
       "      <th>1</th>\n",
       "      <td>13.20</td>\n",
       "      <td>1.78</td>\n",
       "      <td>2.14</td>\n",
       "      <td>11.2</td>\n",
       "      <td>100.0</td>\n",
       "      <td>2.65</td>\n",
       "      <td>2.76</td>\n",
       "      <td>0.26</td>\n",
       "      <td>1.28</td>\n",
       "      <td>4.38</td>\n",
       "      <td>1.05</td>\n",
       "      <td>3.40</td>\n",
       "      <td>1050.0</td>\n",
       "      <td>0</td>\n",
       "    </tr>\n",
       "    <tr>\n",
       "      <th>2</th>\n",
       "      <td>13.16</td>\n",
       "      <td>2.36</td>\n",
       "      <td>2.67</td>\n",
       "      <td>18.6</td>\n",
       "      <td>101.0</td>\n",
       "      <td>2.80</td>\n",
       "      <td>3.24</td>\n",
       "      <td>0.30</td>\n",
       "      <td>2.81</td>\n",
       "      <td>5.68</td>\n",
       "      <td>1.03</td>\n",
       "      <td>3.17</td>\n",
       "      <td>1185.0</td>\n",
       "      <td>0</td>\n",
       "    </tr>\n",
       "    <tr>\n",
       "      <th>3</th>\n",
       "      <td>14.37</td>\n",
       "      <td>1.95</td>\n",
       "      <td>2.50</td>\n",
       "      <td>16.8</td>\n",
       "      <td>113.0</td>\n",
       "      <td>3.85</td>\n",
       "      <td>3.49</td>\n",
       "      <td>0.24</td>\n",
       "      <td>2.18</td>\n",
       "      <td>7.80</td>\n",
       "      <td>0.86</td>\n",
       "      <td>3.45</td>\n",
       "      <td>1480.0</td>\n",
       "      <td>0</td>\n",
       "    </tr>\n",
       "    <tr>\n",
       "      <th>4</th>\n",
       "      <td>13.24</td>\n",
       "      <td>2.59</td>\n",
       "      <td>2.87</td>\n",
       "      <td>21.0</td>\n",
       "      <td>118.0</td>\n",
       "      <td>2.80</td>\n",
       "      <td>2.69</td>\n",
       "      <td>0.39</td>\n",
       "      <td>1.82</td>\n",
       "      <td>4.32</td>\n",
       "      <td>1.04</td>\n",
       "      <td>2.93</td>\n",
       "      <td>735.0</td>\n",
       "      <td>0</td>\n",
       "    </tr>\n",
       "  </tbody>\n",
       "</table>\n",
       "</div>"
      ],
      "text/plain": [
       "   alcohol  malic_acid   ash  alcalinity_of_ash  magnesium  total_phenols  \\\n",
       "0    14.23        1.71  2.43               15.6      127.0           2.80   \n",
       "1    13.20        1.78  2.14               11.2      100.0           2.65   \n",
       "2    13.16        2.36  2.67               18.6      101.0           2.80   \n",
       "3    14.37        1.95  2.50               16.8      113.0           3.85   \n",
       "4    13.24        2.59  2.87               21.0      118.0           2.80   \n",
       "\n",
       "   flavanoids  nonflavanoid_phenols  proanthocyanins  color_intensity   hue  \\\n",
       "0        3.06                  0.28             2.29             5.64  1.04   \n",
       "1        2.76                  0.26             1.28             4.38  1.05   \n",
       "2        3.24                  0.30             2.81             5.68  1.03   \n",
       "3        3.49                  0.24             2.18             7.80  0.86   \n",
       "4        2.69                  0.39             1.82             4.32  1.04   \n",
       "\n",
       "   od280/od315_of_diluted_wines  proline  class  \n",
       "0                          3.92   1065.0      0  \n",
       "1                          3.40   1050.0      0  \n",
       "2                          3.17   1185.0      0  \n",
       "3                          3.45   1480.0      0  \n",
       "4                          2.93    735.0      0  "
      ]
     },
     "execution_count": 12,
     "metadata": {},
     "output_type": "execute_result"
    }
   ],
   "source": [
    "wine_df.head()"
   ]
  },
  {
   "cell_type": "markdown",
   "metadata": {
    "id": "6o1tghlyLVEz"
   },
   "source": [
    "# Questão 01\n",
    "\n",
    "*     ***Observe que o conjunto de dados possuí apenas atributos numéricos***. Calcule todos os componentes principais utilizando PCA  (`sklearn.decomposition.PCA`). Lembre-se de padronizar os dados antes de aplica o PCA (sklearn.preprocessing.StandardScaler)\n",
    "* Determine quanta variância dos dados cada componente é capaz de captar.\n",
    "* ***Lembre-se*** de não considerar o atributo classe."
   ]
  },
  {
   "cell_type": "code",
   "execution_count": 13,
   "metadata": {
    "id": "eHJbPSN8LRuE"
   },
   "outputs": [],
   "source": [
    "from sklearn.decomposition import PCA\n",
    "from sklearn.preprocessing import StandardScaler"
   ]
  },
  {
   "cell_type": "code",
   "execution_count": 14,
   "metadata": {
    "id": "oMwcnrwTTWXU"
   },
   "outputs": [],
   "source": [
    "# código de solução\n",
    "scaler = StandardScaler()\n",
    "pca = PCA()"
   ]
  },
  {
   "cell_type": "code",
   "execution_count": 15,
   "metadata": {
    "id": "1RPDwuz8_5L1"
   },
   "outputs": [],
   "source": [
    "values = wine_df.drop(columns=\"class\").values"
   ]
  },
  {
   "cell_type": "code",
   "execution_count": 16,
   "metadata": {
    "colab": {
     "base_uri": "https://localhost:8080/"
    },
    "executionInfo": {
     "elapsed": 49,
     "status": "ok",
     "timestamp": 1632020811205,
     "user": {
      "displayName": "Kenzo Miranda Sakiyama",
      "photoUrl": "https://lh3.googleusercontent.com/a/default-user=s64",
      "userId": "17190914206091993570"
     },
     "user_tz": 240
    },
    "id": "mV6OAqP1_93R",
    "outputId": "6a186fc7-9ce4-4e92-eb3d-93003fab176d"
   },
   "outputs": [
    {
     "data": {
      "text/plain": [
       "PCA()"
      ]
     },
     "execution_count": 16,
     "metadata": {},
     "output_type": "execute_result"
    }
   ],
   "source": [
    "pca.fit(scaler.fit_transform(values))"
   ]
  },
  {
   "cell_type": "code",
   "execution_count": 17,
   "metadata": {
    "colab": {
     "base_uri": "https://localhost:8080/"
    },
    "executionInfo": {
     "elapsed": 42,
     "status": "ok",
     "timestamp": 1632020811207,
     "user": {
      "displayName": "Kenzo Miranda Sakiyama",
      "photoUrl": "https://lh3.googleusercontent.com/a/default-user=s64",
      "userId": "17190914206091993570"
     },
     "user_tz": 240
    },
    "id": "AHWeJ45yADUP",
    "outputId": "271da041-f36d-445b-baa1-908012603e51"
   },
   "outputs": [
    {
     "name": "stdout",
     "output_type": "stream",
     "text": [
      "Z1 é responsável por 36.198848099926366 da variância total\n",
      "Z2 é responsável por 19.20749025700897 da variância total\n",
      "Z3 é responsável por 11.123630536249939 da variância total\n",
      "Z4 é responsável por 7.069030182714024 da variância total\n",
      "Z5 é responsável por 6.563293679648588 da variância total\n",
      "Z6 é responsável por 4.935823319222574 da variância total\n",
      "Z7 é responsável por 4.2386793226233115 da variância total\n",
      "Z8 é responsável por 2.680748948378864 da variância total\n",
      "Z9 é responsável por 2.2221534047897116 da variância total\n",
      "Z10 é responsável por 1.930019093944078 da variância total\n",
      "Z11 é responsável por 1.7368356899899153 da variância total\n",
      "Z12 é responsável por 1.2982325756042126 da variância total\n",
      "Z13 é responsável por 0.795214889899452 da variância total\n"
     ]
    }
   ],
   "source": [
    "for i, ratio in enumerate(pca.explained_variance_ratio_):\n",
    "    print(f\"Z{i+1} é responsável por {ratio*100} da variância total\")"
   ]
  },
  {
   "cell_type": "markdown",
   "metadata": {
    "id": "zOtdXo91SyYy"
   },
   "source": [
    "# Questão 02\n",
    "\n",
    "- Reduza a dimensionalidade do conjunto de dados para apenas **duas dimensões**.\n",
    "- Qual o percentual da variância dos dados, duas componentes principais são capazes de captar?\n",
    "\n",
    "* Dica: use o método ***fit_transform()*** da classe PCA."
   ]
  },
  {
   "cell_type": "code",
   "execution_count": 18,
   "metadata": {
    "id": "3eTFk5QHQtoW"
   },
   "outputs": [],
   "source": [
    "# código de solução\n",
    "pca = PCA(n_components=2)\n",
    "new_values = pca.fit_transform(scaler.fit_transform(values))"
   ]
  },
  {
   "cell_type": "code",
   "execution_count": 19,
   "metadata": {
    "colab": {
     "base_uri": "https://localhost:8080/"
    },
    "executionInfo": {
     "elapsed": 39,
     "status": "ok",
     "timestamp": 1632020811212,
     "user": {
      "displayName": "Kenzo Miranda Sakiyama",
      "photoUrl": "https://lh3.googleusercontent.com/a/default-user=s64",
      "userId": "17190914206091993570"
     },
     "user_tz": 240
    },
    "id": "Ye-bcf0pA4OQ",
    "outputId": "1d999c2f-25e8-44fa-ef1d-44d1abf5289b"
   },
   "outputs": [
    {
     "name": "stdout",
     "output_type": "stream",
     "text": [
      "- Duas componentes captam 0.5540633835693534 da variância dos dados.\n"
     ]
    }
   ],
   "source": [
    "print(f\"- Duas componentes captam {pca.explained_variance_ratio_.sum()} da variância dos dados.\")"
   ]
  },
  {
   "cell_type": "markdown",
   "metadata": {
    "id": "_bFREjEfTVP-"
   },
   "source": [
    "# Questão 03\n",
    "\n",
    "Faça um scatter-plot dos dados transformados e comente a distribuição dos dados.\n",
    "\n",
    "* Sugestão: Adicione cores diferentes para cada classe para facilitar a visualização\n",
    "* Pode-se utilizar o seaborn para realizar o plot (*sns.scatterplot*)"
   ]
  },
  {
   "cell_type": "code",
   "execution_count": 20,
   "metadata": {
    "id": "_Qc-0X0aBKWI"
   },
   "outputs": [],
   "source": [
    "import matplotlib.pyplot as plt\n",
    "import seaborn as sns"
   ]
  },
  {
   "cell_type": "code",
   "execution_count": 21,
   "metadata": {
    "colab": {
     "base_uri": "https://localhost:8080/",
     "height": 664
    },
    "executionInfo": {
     "elapsed": 612,
     "status": "ok",
     "timestamp": 1632020811790,
     "user": {
      "displayName": "Kenzo Miranda Sakiyama",
      "photoUrl": "https://lh3.googleusercontent.com/a/default-user=s64",
      "userId": "17190914206091993570"
     },
     "user_tz": 240
    },
    "id": "w4LL9U0GTzsL",
    "outputId": "000c3122-7dc6-4271-ac28-33a2783af9cf"
   },
   "outputs": [
    {
     "name": "stderr",
     "output_type": "stream",
     "text": [
      "/usr/lib/python3.9/site-packages/seaborn/_decorators.py:36: FutureWarning: Pass the following variable as a keyword arg: x. From version 0.12, the only valid positional argument will be `data`, and passing other arguments without an explicit keyword will result in an error or misinterpretation.\n",
      "  warnings.warn(\n"
     ]
    },
    {
     "data": {
      "text/plain": [
       "<AxesSubplot:>"
      ]
     },
     "execution_count": 21,
     "metadata": {},
     "output_type": "execute_result"
    },
    {
     "data": {
      "image/png": "[encoded data removed]",
      "text/plain": [
       "<Figure size 720x720 with 1 Axes>"
      ]
     },
     "metadata": {
      "needs_background": "light"
     },
     "output_type": "display_data"
    }
   ],
   "source": [
    "# código de solução\n",
    "y = raw_data[\"target\"]\n",
    "class_names = raw_data[\"target_names\"]\n",
    "classes = [class_names[i] for i in y]\n",
    "sns.scatterplot(new_values[:, 0], y=new_values[:, 1], hue=classes)"
   ]
  },
  {
   "cell_type": "code",
   "execution_count": 22,
   "metadata": {
    "id": "peY_OXl7BQhY"
   },
   "outputs": [],
   "source": [
    "# classes distintas em agrupamentos de pontos distintos"
   ]
  }
 ],
 "metadata": {
  "colab": {
   "authorship_tag": "ABX9TyN/tQUTmBp72sjj+OTk94jk",
   "collapsed_sections": [],
   "name": "Gabarito_Ex3.ipynb",
   "provenance": []
  },
  "kernelspec": {
   "display_name": "Python 3 (ipykernel)",
   "language": "python",
   "name": "python3"
  },
  "language_info": {
   "codemirror_mode": {
    "name": "ipython",
    "version": 3
   },
   "file_extension": ".py",
   "mimetype": "text/x-python",
   "name": "python",
   "nbconvert_exporter": "python",
   "pygments_lexer": "ipython3",
   "version": "3.9.7"
  }
 },
 "nbformat": 4,
 "nbformat_minor": 1
}
