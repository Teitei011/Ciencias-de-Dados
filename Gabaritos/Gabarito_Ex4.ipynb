{
 "cells": [
  {
   "cell_type": "markdown",
   "metadata": {
    "id": "N6XYFKos4acb"
   },
   "source": [
    "# SCC0275: Introdução a Ciência de Dados - 1o Semestre de 2021\n",
    "# SCC0275 - Exercício 4\n",
    "\n",
    "### Profa. Roseli A. F. Romero\n",
    "\n",
    "### Monitor: Kenzo Sakiyama\n",
    "\n",
    "Nro do grupo:\n",
    "\n",
    "Alunos:\n",
    "\n",
    "\n",
    "1.   List item\n",
    "2.   List item\n"
   ]
  },
  {
   "cell_type": "code",
   "execution_count": 1,
   "metadata": {
    "colab": {
     "base_uri": "https://localhost:8080/"
    },
    "executionInfo": {
     "elapsed": 638,
     "status": "ok",
     "timestamp": 1633227094422,
     "user": {
      "displayName": "Kenzo Miranda Sakiyama",
      "photoUrl": "https://lh3.googleusercontent.com/a/default-user=s64",
      "userId": "17190914206091993570"
     },
     "user_tz": 240
    },
    "id": "onsim1jjigv0",
    "outputId": "21f1b2bc-b065-4795-84a6-9aa22fbdc3fc"
   },
   "outputs": [
    {
     "name": "stdout",
     "output_type": "stream",
     "text": [
      "<class 'pandas.core.frame.DataFrame'>\n",
      "RangeIndex: 155 entries, 0 to 154\n",
      "Data columns (total 20 columns):\n",
      " #   Column           Non-Null Count  Dtype  \n",
      "---  ------           --------------  -----  \n",
      " 0   AGE              155 non-null    int64  \n",
      " 1   SEX              155 non-null    object \n",
      " 2   STEROID          154 non-null    object \n",
      " 3   ANTIVIRALS       155 non-null    object \n",
      " 4   FATIGUE          154 non-null    object \n",
      " 5   MALAISE          154 non-null    object \n",
      " 6   ANOREXIA         154 non-null    object \n",
      " 7   LIVER_BIG        145 non-null    object \n",
      " 8   LIVER_FIRM       144 non-null    object \n",
      " 9   SPLEEN_PALPABLE  150 non-null    object \n",
      " 10  SPIDERS          150 non-null    object \n",
      " 11  ASCITES          150 non-null    object \n",
      " 12  VARICES          150 non-null    object \n",
      " 13  BILIRUBIN        149 non-null    float64\n",
      " 14  ALK_PHOSPHATE    126 non-null    float64\n",
      " 15  SGOT             151 non-null    float64\n",
      " 16  ALBUMIN          139 non-null    float64\n",
      " 17  PROTIME          88 non-null     float64\n",
      " 18  HISTOLOGY        155 non-null    object \n",
      " 19  Class            155 non-null    int64  \n",
      "dtypes: float64(5), int64(2), object(13)\n",
      "memory usage: 24.3+ KB\n"
     ]
    }
   ],
   "source": [
    "import pandas as pd\n",
    "\n",
    "data = pd.read_csv(\"dataset_hepatitis.csv\", na_values=\"?\")\n",
    "data.info()"
   ]
  },
  {
   "cell_type": "code",
   "execution_count": 2,
   "metadata": {
    "colab": {
     "base_uri": "https://localhost:8080/",
     "height": 226
    },
    "executionInfo": {
     "elapsed": 331,
     "status": "ok",
     "timestamp": 1633227178886,
     "user": {
      "displayName": "Kenzo Miranda Sakiyama",
      "photoUrl": "https://lh3.googleusercontent.com/a/default-user=s64",
      "userId": "17190914206091993570"
     },
     "user_tz": 240
    },
    "id": "C6Ghgwz_7PHy",
    "outputId": "bbc93e42-f836-4b7b-bede-f1fb78746eee"
   },
   "outputs": [
    {
     "data": {
      "text/html": [
       "<div>\n",
       "<style scoped>\n",
       "    .dataframe tbody tr th:only-of-type {\n",
       "        vertical-align: middle;\n",
       "    }\n",
       "\n",
       "    .dataframe tbody tr th {\n",
       "        vertical-align: top;\n",
       "    }\n",
       "\n",
       "    .dataframe thead th {\n",
       "        text-align: right;\n",
       "    }\n",
       "</style>\n",
       "<table border=\"1\" class=\"dataframe\">\n",
       "  <thead>\n",
       "    <tr style=\"text-align: right;\">\n",
       "      <th></th>\n",
       "      <th>AGE</th>\n",
       "      <th>SEX</th>\n",
       "      <th>STEROID</th>\n",
       "      <th>ANTIVIRALS</th>\n",
       "      <th>FATIGUE</th>\n",
       "      <th>MALAISE</th>\n",
       "      <th>ANOREXIA</th>\n",
       "      <th>LIVER_BIG</th>\n",
       "      <th>LIVER_FIRM</th>\n",
       "      <th>SPLEEN_PALPABLE</th>\n",
       "      <th>SPIDERS</th>\n",
       "      <th>ASCITES</th>\n",
       "      <th>VARICES</th>\n",
       "      <th>BILIRUBIN</th>\n",
       "      <th>ALK_PHOSPHATE</th>\n",
       "      <th>SGOT</th>\n",
       "      <th>ALBUMIN</th>\n",
       "      <th>PROTIME</th>\n",
       "      <th>HISTOLOGY</th>\n",
       "      <th>Class</th>\n",
       "    </tr>\n",
       "  </thead>\n",
       "  <tbody>\n",
       "    <tr>\n",
       "      <th>0</th>\n",
       "      <td>30</td>\n",
       "      <td>male</td>\n",
       "      <td>no</td>\n",
       "      <td>no</td>\n",
       "      <td>no</td>\n",
       "      <td>no</td>\n",
       "      <td>no</td>\n",
       "      <td>no</td>\n",
       "      <td>no</td>\n",
       "      <td>no</td>\n",
       "      <td>no</td>\n",
       "      <td>no</td>\n",
       "      <td>no</td>\n",
       "      <td>1.0</td>\n",
       "      <td>85.0</td>\n",
       "      <td>18.0</td>\n",
       "      <td>4.0</td>\n",
       "      <td>NaN</td>\n",
       "      <td>no</td>\n",
       "      <td>1</td>\n",
       "    </tr>\n",
       "    <tr>\n",
       "      <th>1</th>\n",
       "      <td>50</td>\n",
       "      <td>female</td>\n",
       "      <td>no</td>\n",
       "      <td>no</td>\n",
       "      <td>yes</td>\n",
       "      <td>no</td>\n",
       "      <td>no</td>\n",
       "      <td>no</td>\n",
       "      <td>no</td>\n",
       "      <td>no</td>\n",
       "      <td>no</td>\n",
       "      <td>no</td>\n",
       "      <td>no</td>\n",
       "      <td>0.9</td>\n",
       "      <td>135.0</td>\n",
       "      <td>42.0</td>\n",
       "      <td>3.5</td>\n",
       "      <td>NaN</td>\n",
       "      <td>no</td>\n",
       "      <td>1</td>\n",
       "    </tr>\n",
       "    <tr>\n",
       "      <th>2</th>\n",
       "      <td>78</td>\n",
       "      <td>female</td>\n",
       "      <td>yes</td>\n",
       "      <td>no</td>\n",
       "      <td>yes</td>\n",
       "      <td>no</td>\n",
       "      <td>no</td>\n",
       "      <td>yes</td>\n",
       "      <td>no</td>\n",
       "      <td>no</td>\n",
       "      <td>no</td>\n",
       "      <td>no</td>\n",
       "      <td>no</td>\n",
       "      <td>0.7</td>\n",
       "      <td>96.0</td>\n",
       "      <td>32.0</td>\n",
       "      <td>4.0</td>\n",
       "      <td>NaN</td>\n",
       "      <td>no</td>\n",
       "      <td>1</td>\n",
       "    </tr>\n",
       "    <tr>\n",
       "      <th>3</th>\n",
       "      <td>31</td>\n",
       "      <td>female</td>\n",
       "      <td>NaN</td>\n",
       "      <td>yes</td>\n",
       "      <td>no</td>\n",
       "      <td>no</td>\n",
       "      <td>no</td>\n",
       "      <td>yes</td>\n",
       "      <td>no</td>\n",
       "      <td>no</td>\n",
       "      <td>no</td>\n",
       "      <td>no</td>\n",
       "      <td>no</td>\n",
       "      <td>0.7</td>\n",
       "      <td>46.0</td>\n",
       "      <td>52.0</td>\n",
       "      <td>4.0</td>\n",
       "      <td>80.0</td>\n",
       "      <td>no</td>\n",
       "      <td>1</td>\n",
       "    </tr>\n",
       "    <tr>\n",
       "      <th>4</th>\n",
       "      <td>34</td>\n",
       "      <td>female</td>\n",
       "      <td>yes</td>\n",
       "      <td>no</td>\n",
       "      <td>no</td>\n",
       "      <td>no</td>\n",
       "      <td>no</td>\n",
       "      <td>yes</td>\n",
       "      <td>no</td>\n",
       "      <td>no</td>\n",
       "      <td>no</td>\n",
       "      <td>no</td>\n",
       "      <td>no</td>\n",
       "      <td>1.0</td>\n",
       "      <td>NaN</td>\n",
       "      <td>200.0</td>\n",
       "      <td>4.0</td>\n",
       "      <td>NaN</td>\n",
       "      <td>no</td>\n",
       "      <td>1</td>\n",
       "    </tr>\n",
       "  </tbody>\n",
       "</table>\n",
       "</div>"
      ],
      "text/plain": [
       "   AGE     SEX STEROID ANTIVIRALS FATIGUE MALAISE ANOREXIA LIVER_BIG  \\\n",
       "0   30    male      no         no      no      no       no        no   \n",
       "1   50  female      no         no     yes      no       no        no   \n",
       "2   78  female     yes         no     yes      no       no       yes   \n",
       "3   31  female     NaN        yes      no      no       no       yes   \n",
       "4   34  female     yes         no      no      no       no       yes   \n",
       "\n",
       "  LIVER_FIRM SPLEEN_PALPABLE SPIDERS ASCITES VARICES  BILIRUBIN  \\\n",
       "0         no              no      no      no      no        1.0   \n",
       "1         no              no      no      no      no        0.9   \n",
       "2         no              no      no      no      no        0.7   \n",
       "3         no              no      no      no      no        0.7   \n",
       "4         no              no      no      no      no        1.0   \n",
       "\n",
       "   ALK_PHOSPHATE   SGOT  ALBUMIN  PROTIME HISTOLOGY  Class  \n",
       "0           85.0   18.0      4.0      NaN        no      1  \n",
       "1          135.0   42.0      3.5      NaN        no      1  \n",
       "2           96.0   32.0      4.0      NaN        no      1  \n",
       "3           46.0   52.0      4.0     80.0        no      1  \n",
       "4            NaN  200.0      4.0      NaN        no      1  "
      ]
     },
     "execution_count": 2,
     "metadata": {},
     "output_type": "execute_result"
    }
   ],
   "source": [
    "data.head()"
   ]
  },
  {
   "cell_type": "markdown",
   "metadata": {
    "id": "Bkp3fM9u6uAQ"
   },
   "source": [
    "# Questão 1\n",
    "\n",
    "- a) Mostre que o atributo \"BILIRUBIN\" contém outliers\n",
    "- b) Para o atributo citado, calcule a cerca inferior (LF) e superior (UF) para cada um dos atributos. Substitua o valor dos outliers pela cerca mais próxima (consultar Aula 3!). Para ser considerados outlier, os valores devem estar fora dos limites das cercas inferior ou superior.\n",
    "- c) Compare boxplots de antes e depois da remoção de outliers utilizando as cercas."
   ]
  },
  {
   "cell_type": "code",
   "execution_count": 3,
   "metadata": {
    "colab": {
     "base_uri": "https://localhost:8080/",
     "height": 282
    },
    "executionInfo": {
     "elapsed": 386,
     "status": "ok",
     "timestamp": 1633227442271,
     "user": {
      "displayName": "Kenzo Miranda Sakiyama",
      "photoUrl": "https://lh3.googleusercontent.com/a/default-user=s64",
      "userId": "17190914206091993570"
     },
     "user_tz": 240
    },
    "id": "DtS2UuiW6Jcs",
    "outputId": "e479fb5c-53a9-4281-da9b-602aa1b97579"
   },
   "outputs": [
    {
     "data": {
      "text/plain": [
       "<AxesSubplot:>"
      ]
     },
     "execution_count": 3,
     "metadata": {},
     "output_type": "execute_result"
    },
    {
     "data": {
      "image/png": "[encoded data removed]",
      "text/plain": [
       "<Figure size 432x288 with 1 Axes>"
      ]
     },
     "metadata": {
      "needs_background": "light"
     },
     "output_type": "display_data"
    }
   ],
   "source": [
    "# a) Outliers podem ser fácilmente detectados a partir de boxplots (Pontos acima ou abaixo das cercas mostradas pelo pandas)\n",
    "data.boxplot(\"BILIRUBIN\")"
   ]
  },
  {
   "cell_type": "code",
   "execution_count": 10,
   "metadata": {
    "id": "jzgSZjvi8x86"
   },
   "outputs": [],
   "source": [
    "def lf_uf(df, nome_attr):\n",
    "\n",
    "    df = df.copy(deep=True)\n",
    "\n",
    "    samples = df[nome_attr]\n",
    "\n",
    "    Q1 = samples.quantile(0.25)\n",
    "    Q3 = samples.quantile(0.75)\n",
    "    IQR = Q3 - Q1\n",
    "\n",
    "    LF = Q1 - 1.5*IQR\n",
    "    UF = Q3 + 1.5*IQR\n",
    "\n",
    "    print(f\"LF: {LF} // UF: {UF}\")\n",
    "\n",
    "    # Determinando indices a serem modificados\n",
    "    lower_than_LF = df[nome_attr] < LF\n",
    "    greater_than_UF = df[nome_attr] > UF\n",
    "\n",
    "    # Modificando valores\n",
    "    df.loc[lower_than_LF, nome_attr] = LF\n",
    "    df.loc[greater_than_UF, nome_attr] = UF\n",
    "\n",
    "    return df"
   ]
  },
  {
   "cell_type": "code",
   "execution_count": 5,
   "metadata": {
    "colab": {
     "base_uri": "https://localhost:8080/"
    },
    "executionInfo": {
     "elapsed": 343,
     "status": "ok",
     "timestamp": 1633227709710,
     "user": {
      "displayName": "Kenzo Miranda Sakiyama",
      "photoUrl": "https://lh3.googleusercontent.com/a/default-user=s64",
      "userId": "17190914206091993570"
     },
     "user_tz": 240
    },
    "id": "HmJUK-ky9F0b",
    "outputId": "bd367e2e-4e76-4766-de2e-ba6c69ced4dd"
   },
   "outputs": [
    {
     "name": "stdout",
     "output_type": "stream",
     "text": [
      "LF: -0.5000000000000002 // UF: 2.7\n"
     ]
    }
   ],
   "source": [
    "q1_df = lf_uf(data, \"BILIRUBIN\")"
   ]
  },
  {
   "cell_type": "code",
   "execution_count": 6,
   "metadata": {
    "colab": {
     "base_uri": "https://localhost:8080/",
     "height": 282
    },
    "executionInfo": {
     "elapsed": 372,
     "status": "ok",
     "timestamp": 1633227729713,
     "user": {
      "displayName": "Kenzo Miranda Sakiyama",
      "photoUrl": "https://lh3.googleusercontent.com/a/default-user=s64",
      "userId": "17190914206091993570"
     },
     "user_tz": 240
    },
    "id": "5yu-iDvh9S9v",
    "outputId": "950c3baa-2904-4f2c-ff1e-6dabbdbc0e91"
   },
   "outputs": [
    {
     "data": {
      "text/plain": [
       "<AxesSubplot:>"
      ]
     },
     "execution_count": 6,
     "metadata": {},
     "output_type": "execute_result"
    },
    {
     "data": {
      "image/png": "[encoded data removed]",
      "text/plain": [
       "<Figure size 432x288 with 1 Axes>"
      ]
     },
     "metadata": {
      "needs_background": "light"
     },
     "output_type": "display_data"
    }
   ],
   "source": [
    "q1_df.boxplot(\"BILIRUBIN\")"
   ]
  },
  {
   "cell_type": "markdown",
   "metadata": {
    "id": "moJyvejhYFNw"
   },
   "source": [
    "Para os próximos exercícios você pode continuar usando o conjunto de dados sem outliers no atributo analisado, ou usar os dados originais."
   ]
  },
  {
   "cell_type": "markdown",
   "metadata": {
    "id": "sP3VGYQAkZlb"
   },
   "source": [
    "### Questão 02. \n",
    "\n",
    "Crie uma lista com atributos numéricos e outra com os atributos categóricos da base. Verifique quantos são numéricos e quantos são categóricos.\n",
    "\n",
    "- Lembre-se de não considerar o atributo classe."
   ]
  },
  {
   "cell_type": "code",
   "execution_count": 7,
   "metadata": {
    "id": "S4Doe7ikj7Yd"
   },
   "outputs": [],
   "source": [
    "features_numericos = ['AGE', 'BILIRUBIN', 'ALK_PHOSPHATE', 'SGOT',\n",
    "                      'ALBUMIN', 'PROTIME']\n",
    "\n",
    "features_categoricos = [\"SEX\", \"STEROID\",\"ANTIVIRALS\",\"FATIGUE\",\"MALAISE\",\n",
    "                        \"ANOREXIA\",\"LIVER_BIG\",\"LIVER_FIRM\",\n",
    "                        \"SPLEEN_PALPABLE\",\"SPIDERS\",\"ASCITES\",\"VARICES\",\n",
    "                        \"HISTOLOGY\"]"
   ]
  },
  {
   "cell_type": "markdown",
   "metadata": {
    "id": "eVlVYT7I9xJU"
   },
   "source": [
    "6 numéricos e 13 categóricos."
   ]
  },
  {
   "cell_type": "markdown",
   "metadata": {
    "id": "mezzly52i0ii"
   },
   "source": [
    "### Questão 03.\n",
    "\n",
    "Nessa questão, você irá fazer o pré-processamento dos dados.\n",
    "\n",
    "Você deve:\n",
    "\n",
    "\n",
    "*   **Para os dados numéricos:** substitua os valores faltantes utilizando a estratégia de média - `mean` (`sklearn.impute.SimpleImputer`). Depois padronize o intervalo dessas variáveis (`sklearn.preprocessing.StandardScaler`)\n",
    "*   **Para os dados categóricos:** substitua os valores faltantes utilizando a estratégia de mais frequentes - `most_frequent` (`sklearn.impute.SimpleImputer`). Depois converta os dados categóricos para uma representação numérica (`sklearn.preprocessing.OneHotEncoder`),\n",
    "\n",
    "Lembre-se de utilizar as classes `sklearn.pipeline.Pipeline` e `sklearn.compose.ColumnTransformer` conforme consta no material complementar. "
   ]
  },
  {
   "cell_type": "code",
   "execution_count": 8,
   "metadata": {
    "id": "8HdIstr-jdFf"
   },
   "outputs": [],
   "source": [
    "from sklearn.pipeline import Pipeline\n",
    "from sklearn.preprocessing import StandardScaler\n",
    "from sklearn.compose import ColumnTransformer\n",
    "from sklearn.impute import SimpleImputer\n",
    "from sklearn.preprocessing import OneHotEncoder\n",
    "import numpy as np\n",
    "\n",
    "def transformar_base(df, features_numericos, features_categoricos):\n",
    "    transformer_numerico = Pipeline(steps=[\n",
    "        ('imputer', SimpleImputer(strategy='mean')),\n",
    "        ('scaler', StandardScaler())])\n",
    "\n",
    "    transformer_categorico = Pipeline(steps=[\n",
    "        ('imputer', SimpleImputer(strategy='most_frequent')),\n",
    "        ('onehot', OneHotEncoder())])\n",
    "\n",
    "    preprocessor = ColumnTransformer(\n",
    "        transformers=[\n",
    "            ('numerico', transformer_numerico, features_numericos),\n",
    "            ('categorico', transformer_categorico, features_categoricos),        \n",
    "        ])\n",
    "    data_t = preprocessor.fit_transform(df)\n",
    "    data_t = np.c_[data_t, df.iloc[:, -1]]\n",
    "    print(data_t.shape)\n",
    "    return data_t"
   ]
  },
  {
   "cell_type": "code",
   "execution_count": 9,
   "metadata": {
    "colab": {
     "base_uri": "https://localhost:8080/"
    },
    "executionInfo": {
     "elapsed": 33,
     "status": "ok",
     "timestamp": 1633227863451,
     "user": {
      "displayName": "Kenzo Miranda Sakiyama",
      "photoUrl": "https://lh3.googleusercontent.com/a/default-user=s64",
      "userId": "17190914206091993570"
     },
     "user_tz": 240
    },
    "id": "UayGnOdlknfq",
    "outputId": "11c259cd-5566-4177-8e39-c7c352cc8480"
   },
   "outputs": [
    {
     "name": "stdout",
     "output_type": "stream",
     "text": [
      "(155, 33)\n"
     ]
    },
    {
     "data": {
      "text/plain": [
       "array([[-0.89419175, -0.36093761, -0.43941439, ...,  1.        ,\n",
       "         0.        ,  1.        ],\n",
       "       [ 0.70257923, -0.44536414,  0.64153471, ...,  1.        ,\n",
       "         0.        ,  1.        ],\n",
       "       [ 2.93805862, -0.61421722, -0.20160559, ...,  1.        ,\n",
       "         0.        ,  1.        ],\n",
       "       ...,\n",
       "       [ 1.58080328, -0.52979068, -0.65560421, ...,  0.        ,\n",
       "         1.        ,  1.        ],\n",
       "       [ 0.94209488,  0.06119507, -0.52589031, ...,  0.        ,\n",
       "         1.        ,  1.        ],\n",
       "       [ 0.14370939, -0.19208454, -0.11512966, ...,  0.        ,\n",
       "         1.        ,  0.        ]])"
      ]
     },
     "execution_count": 9,
     "metadata": {},
     "output_type": "execute_result"
    }
   ],
   "source": [
    "transformar_base(data, features_numericos, features_categoricos)"
   ]
  },
  {
   "cell_type": "markdown",
   "metadata": {
    "id": "ait62uihDkGU"
   },
   "source": [
    "### Questão 04\n",
    "\n",
    "Compare o número de atributos antes e depois do pre-processamento. \n"
   ]
  },
  {
   "cell_type": "markdown",
   "metadata": {
    "id": "LjYXqEDr97H6"
   },
   "source": [
    "Resposta: \n",
    "Sem considerar o atributo classe, temos:\n",
    " - Antes: 19 colunas // Depois: 32 colunas.\n",
    " \n",
    "Logo, o pre-processamento adicionou 13 novas colunas."
   ]
  },
  {
   "cell_type": "markdown",
   "metadata": {
    "id": "uruWctrdED07"
   },
   "source": [
    "### Questão 05\n",
    "\n",
    "Cite uma vantagem e uma desvantagem do pre-processamento realizado"
   ]
  },
  {
   "cell_type": "markdown",
   "metadata": {
    "id": "syBhRzlj9-Qo"
   },
   "source": [
    "Resposta: \n",
    "\n",
    "- Vantagens: Tratamento de valores ausentes facilita análises. Além disto a padronização/normalização de valores é necessária para a boa performance de algorítmos de AM.\n",
    "\n",
    "- Desvantagens: Para valores numéricos, atributos padronizados/normalizados perdem o significado dos seus valores e não podem mais ser interpretados da mesma forma. Dependendo da cardinalidade dos valores categóricos, um grande número de colunas pode ser adicionado ao conjunto de dados o que impacta no armazenamento dos dados e no tempo de treinamento de algorítmos de AM."
   ]
  },
  {
   "cell_type": "code",
   "execution_count": null,
   "metadata": {
    "id": "ersdpLmg9-l_"
   },
   "outputs": [],
   "source": []
  }
 ],
 "metadata": {
  "colab": {
   "collapsed_sections": [],
   "name": "Gabarito_Ex4.ipynb",
   "provenance": [
    {
     "file_id": "1dT0ydaJwyBt6ootKokW8c5IgF92OP0Us",
     "timestamp": 1623817049552
    }
   ]
  },
  "kernelspec": {
   "display_name": "Python 3 (ipykernel)",
   "language": "python",
   "name": "python3"
  },
  "language_info": {
   "codemirror_mode": {
    "name": "ipython",
    "version": 3
   },
   "file_extension": ".py",
   "mimetype": "text/x-python",
   "name": "python",
   "nbconvert_exporter": "python",
   "pygments_lexer": "ipython3",
   "version": "3.9.7"
  }
 },
 "nbformat": 4,
 "nbformat_minor": 1
}
