{
 "cells": [
  {
   "cell_type": "markdown",
   "metadata": {
    "id": "cMljKc-SB0TB"
   },
   "source": [
    "# SCC0275: Introdução a Ciência de Dados - 2o Semestre de 2021\n",
    "# SCC0275 - Exercício 2\n",
    "\n",
    "### Profa. Roseli A. F. Romero\n",
    "\n",
    "### Monitor: Kenzo Sakiyama\n",
    "\n",
    "Nro do grupo:\n",
    "\n",
    "Alunos:\n",
    "\n",
    "\n",
    "1.   Stefan Taiguara Couperus Leal 10414866\n"
   ]
  },
  {
   "cell_type": "markdown",
   "metadata": {
    "id": "TJRza6JiKvwP"
   },
   "source": [
    "\n",
    "## Dados unidimensionais\n",
    " \n",
    "Suponha dois conjuntos de dados, que representam as notas finais em uma dada disciplina de duas salas com 100 alunos. Os dados foram armazenados nos arquivos \"notas_salas01.txt\" e \"notas_salas02.txt\". \n",
    "\n",
    "Imagine que uma pessoa deseje comparar o desempenho das salas de aula. Considera-se que, **quanto mais alunos foram aprovados, melhor o desempenho da sala**. Suponha que para ser aprovado, um aluno deve ter nota maior que 50. \n",
    "\n",
    "Como medida inicial de desempenho, essa pessoa calculou a média dos dados através do código abaixo:"
   ]
  },
  {
   "cell_type": "code",
   "execution_count": 23,
   "metadata": {
    "id": "0Rl_CxITsjsL"
   },
   "outputs": [],
   "source": [
    "import numpy as np\n",
    "import pandas as pd\n",
    "from scipy import stats\n",
    "\n",
    "#//\n",
    "from datetime import datetime, date\n",
    "import matplotlib.pyplot as plt"
   ]
  },
  {
   "cell_type": "code",
   "execution_count": 24,
   "metadata": {
    "colab": {
     "base_uri": "https://localhost:8080/"
    },
    "executionInfo": {
     "elapsed": 730,
     "status": "ok",
     "timestamp": 1621380666957,
     "user": {
      "displayName": "Kenzo Miranda Sakiyama",
      "photoUrl": "",
      "userId": "17190914206091993570"
     },
     "user_tz": 240
    },
    "id": "qq5GloIcKq3j",
    "outputId": "3b5fa151-153a-4388-a2a0-9fafcacd970b"
   },
   "outputs": [
    {
     "name": "stdout",
     "output_type": "stream",
     "text": [
      "--- Sala: 1 ---\n",
      "Média: 60.184709\n",
      "--- Sala: 2 ---\n",
      "Média: 55.184195\n"
     ]
    }
   ],
   "source": [
    "salas = []\n",
    "salas.append(np.loadtxt(\"notas_sala01.txt\"))\n",
    "salas.append(np.loadtxt(\"notas_sala02.txt\"))\n",
    "\n",
    "for i in range(0,2):\n",
    "    print(\"--- Sala: %d ---\" % (i+1))\n",
    "    print(\"Média: %f\" % np.mean(salas[i]))        "
   ]
  },
  {
   "cell_type": "markdown",
   "metadata": {
    "id": "dKP6V_kbK4Tv"
   },
   "source": [
    "**Com base na média, a pessoa concluiu que a sala 1 obteve um melhor desempenho que a sala 2.**\n",
    "\n",
    "### Questão 01. \n",
    "Demonstre o porquê dessa conclusão estar equivocada.\n",
    "   - Sugestão: Transforme as estruturas `salas[0]` e `salas[1]` em estruturas do tipo `DataFrame` da biblioteca **pandas** e utilize as funções de histograma e/ou boxplot."
   ]
  },
  {
   "cell_type": "code",
   "execution_count": 25,
   "metadata": {
    "id": "QKX00e2zKuy8"
   },
   "outputs": [
    {
     "name": "stdout",
     "output_type": "stream",
     "text": [
      "-- Sala: 0 ---\n"
     ]
    },
    {
     "data": {
      "text/plain": [
       "<AxesSubplot:ylabel='Frequency'>"
      ]
     },
     "execution_count": 25,
     "metadata": {},
     "output_type": "execute_result"
    },
    {
     "data": {
      "image/png": "[encoded data removed]",
      "text/plain": [
       "<Figure size 432x288 with 1 Axes>"
      ]
     },
     "metadata": {
      "needs_background": "light"
     },
     "output_type": "display_data"
    },
    {
     "data": {
      "image/png": "[encoded data removed]",
      "text/plain": [
       "<Figure size 432x288 with 1 Axes>"
      ]
     },
     "metadata": {
      "needs_background": "light"
     },
     "output_type": "display_data"
    }
   ],
   "source": [
    "# Seu codigo aqui\n",
    "salas_0 = pd.DataFrame(salas[0])\n",
    "salas_1 = pd.DataFrame(salas[1])\n",
    "\n",
    "print(\"-- Sala: 0 ---\")\n",
    "salas_0.boxplot()\n",
    "salas_0.plot.hist()"
   ]
  },
  {
   "cell_type": "code",
   "execution_count": 26,
   "metadata": {},
   "outputs": [
    {
     "name": "stdout",
     "output_type": "stream",
     "text": [
      "-- Sala: 1 ---\n"
     ]
    },
    {
     "data": {
      "text/plain": [
       "<AxesSubplot:ylabel='Frequency'>"
      ]
     },
     "execution_count": 26,
     "metadata": {},
     "output_type": "execute_result"
    },
    {
     "data": {
      "image/png": "[encoded data removed]",
      "text/plain": [
       "<Figure size 432x288 with 1 Axes>"
      ]
     },
     "metadata": {
      "needs_background": "light"
     },
     "output_type": "display_data"
    },
    {
     "data": {
      "image/png": "[encoded data removed]",
      "text/plain": [
       "<Figure size 432x288 with 1 Axes>"
      ]
     },
     "metadata": {
      "needs_background": "light"
     },
     "output_type": "display_data"
    }
   ],
   "source": [
    "print(\"-- Sala: 1 ---\")\n",
    "\n",
    "salas_1.boxplot()\n",
    "salas_1.plot.hist()\n"
   ]
  },
  {
   "cell_type": "markdown",
   "metadata": {
    "id": "xcf9ShzXLBFb"
   },
   "source": [
    "# Questão 02.\n",
    "Calcule o número de aprovados em cada uma das salas."
   ]
  },
  {
   "cell_type": "code",
   "execution_count": 27,
   "metadata": {
    "id": "uy1U8dEELKjz"
   },
   "outputs": [
    {
     "data": {
      "text/plain": [
       "68"
      ]
     },
     "execution_count": 27,
     "metadata": {},
     "output_type": "execute_result"
    }
   ],
   "source": [
    "def num_alunos_aprovados(notas, media=50):\n",
    "    notas = np.array(notas)\n",
    "    aprovados = 0\n",
    "    for nota in notas:\n",
    "        if (nota >= media):\n",
    "            aprovados +=1\n",
    "    return aprovados\n",
    "num_alunos_aprovados(salas_0)"
   ]
  },
  {
   "cell_type": "markdown",
   "metadata": {
    "id": "y_VnrhDimxHU"
   },
   "source": [
    "### Base Futebol\n",
    "\n",
    "Suponha que uma emissora de televisão te contratou para analisar o perfil dos jogadores do futebol europeu para que os narradores possam dizer estatísticas sobre eles durante os jogos.\n",
    "\n",
    "Os dados estão numa planilha chamada `players_sampled.csv`, onde cada linha contém os dados de um jogador e cada coluna possui um atributo. Essa base foi adaptada do site de competições de ciência de dados chamado [Kaggle](*https*://www.kaggle.com/hugomathien/soccer)."
   ]
  },
  {
   "cell_type": "code",
   "execution_count": 28,
   "metadata": {
    "colab": {
     "base_uri": "https://localhost:8080/"
    },
    "executionInfo": {
     "elapsed": 740,
     "status": "ok",
     "timestamp": 1621380791549,
     "user": {
      "displayName": "Kenzo Miranda Sakiyama",
      "photoUrl": "",
      "userId": "17190914206091993570"
     },
     "user_tz": 240
    },
    "id": "Q4TNT9dxlj0H",
    "outputId": "75875861-13a7-4921-badd-b0410b1c7da6"
   },
   "outputs": [
    {
     "name": "stdout",
     "output_type": "stream",
     "text": [
      "<class 'pandas.core.frame.DataFrame'>\n",
      "RangeIndex: 350 entries, 0 to 349\n",
      "Data columns (total 7 columns):\n",
      " #   Column              Non-Null Count  Dtype  \n",
      "---  ------              --------------  -----  \n",
      " 0   id                  350 non-null    int64  \n",
      " 1   player_api_id       350 non-null    int64  \n",
      " 2   player_name         350 non-null    object \n",
      " 3   player_fifa_api_id  350 non-null    int64  \n",
      " 4   birthday            350 non-null    object \n",
      " 5   height              350 non-null    float64\n",
      " 6   weight              350 non-null    int64  \n",
      "dtypes: float64(1), int64(4), object(2)\n",
      "memory usage: 19.3+ KB\n"
     ]
    }
   ],
   "source": [
    "# Carregando a base\n",
    "df = pd.read_csv('players_sampled.csv')\n",
    "df.info()"
   ]
  },
  {
   "cell_type": "code",
   "execution_count": 29,
   "metadata": {
    "colab": {
     "base_uri": "https://localhost:8080/",
     "height": 363
    },
    "executionInfo": {
     "elapsed": 550,
     "status": "ok",
     "timestamp": 1621380833277,
     "user": {
      "displayName": "Kenzo Miranda Sakiyama",
      "photoUrl": "",
      "userId": "17190914206091993570"
     },
     "user_tz": 240
    },
    "id": "OPIFoITj1Ar2",
    "outputId": "d7a87a3a-080a-47d6-eb29-d6fd4c21cd24"
   },
   "outputs": [
    {
     "data": {
      "text/html": [
       "<div>\n",
       "<style scoped>\n",
       "    .dataframe tbody tr th:only-of-type {\n",
       "        vertical-align: middle;\n",
       "    }\n",
       "\n",
       "    .dataframe tbody tr th {\n",
       "        vertical-align: top;\n",
       "    }\n",
       "\n",
       "    .dataframe thead th {\n",
       "        text-align: right;\n",
       "    }\n",
       "</style>\n",
       "<table border=\"1\" class=\"dataframe\">\n",
       "  <thead>\n",
       "    <tr style=\"text-align: right;\">\n",
       "      <th></th>\n",
       "      <th>id</th>\n",
       "      <th>player_api_id</th>\n",
       "      <th>player_name</th>\n",
       "      <th>player_fifa_api_id</th>\n",
       "      <th>birthday</th>\n",
       "      <th>height</th>\n",
       "      <th>weight</th>\n",
       "    </tr>\n",
       "  </thead>\n",
       "  <tbody>\n",
       "    <tr>\n",
       "      <th>0</th>\n",
       "      <td>530</td>\n",
       "      <td>167285</td>\n",
       "      <td>Alireza Haghighi</td>\n",
       "      <td>191589</td>\n",
       "      <td>1988-05-02 00:00:00</td>\n",
       "      <td>193.04</td>\n",
       "      <td>176</td>\n",
       "    </tr>\n",
       "    <tr>\n",
       "      <th>1</th>\n",
       "      <td>8608</td>\n",
       "      <td>184536</td>\n",
       "      <td>Philippe Coutinho</td>\n",
       "      <td>189242</td>\n",
       "      <td>1992-06-12 00:00:00</td>\n",
       "      <td>170.18</td>\n",
       "      <td>150</td>\n",
       "    </tr>\n",
       "    <tr>\n",
       "      <th>2</th>\n",
       "      <td>7752</td>\n",
       "      <td>38947</td>\n",
       "      <td>Mustapha Jarju Alasan</td>\n",
       "      <td>178374</td>\n",
       "      <td>1986-07-18 00:00:00</td>\n",
       "      <td>182.88</td>\n",
       "      <td>179</td>\n",
       "    </tr>\n",
       "    <tr>\n",
       "      <th>3</th>\n",
       "      <td>11073</td>\n",
       "      <td>36491</td>\n",
       "      <td>Zsolt Low</td>\n",
       "      <td>111191</td>\n",
       "      <td>1979-04-29 00:00:00</td>\n",
       "      <td>180.34</td>\n",
       "      <td>154</td>\n",
       "    </tr>\n",
       "    <tr>\n",
       "      <th>4</th>\n",
       "      <td>8427</td>\n",
       "      <td>27613</td>\n",
       "      <td>Paulinho</td>\n",
       "      <td>164256</td>\n",
       "      <td>1986-01-10 00:00:00</td>\n",
       "      <td>175.26</td>\n",
       "      <td>159</td>\n",
       "    </tr>\n",
       "    <tr>\n",
       "      <th>5</th>\n",
       "      <td>6259</td>\n",
       "      <td>67360</td>\n",
       "      <td>Luca Radice</td>\n",
       "      <td>221640</td>\n",
       "      <td>1987-04-09 00:00:00</td>\n",
       "      <td>180.34</td>\n",
       "      <td>154</td>\n",
       "    </tr>\n",
       "    <tr>\n",
       "      <th>6</th>\n",
       "      <td>3485</td>\n",
       "      <td>37753</td>\n",
       "      <td>Francis Dickoh</td>\n",
       "      <td>130933</td>\n",
       "      <td>1982-12-13 00:00:00</td>\n",
       "      <td>187.96</td>\n",
       "      <td>187</td>\n",
       "    </tr>\n",
       "    <tr>\n",
       "      <th>7</th>\n",
       "      <td>87</td>\n",
       "      <td>495841</td>\n",
       "      <td>Adalberto Penaranda</td>\n",
       "      <td>231638</td>\n",
       "      <td>1997-05-31 00:00:00</td>\n",
       "      <td>182.88</td>\n",
       "      <td>172</td>\n",
       "    </tr>\n",
       "    <tr>\n",
       "      <th>8</th>\n",
       "      <td>10862</td>\n",
       "      <td>67941</td>\n",
       "      <td>Xavier Chen</td>\n",
       "      <td>158260</td>\n",
       "      <td>1983-10-05 00:00:00</td>\n",
       "      <td>175.26</td>\n",
       "      <td>152</td>\n",
       "    </tr>\n",
       "    <tr>\n",
       "      <th>9</th>\n",
       "      <td>3142</td>\n",
       "      <td>199916</td>\n",
       "      <td>Ezequiel Adrian Cirigliano</td>\n",
       "      <td>199666</td>\n",
       "      <td>1992-01-24 00:00:00</td>\n",
       "      <td>172.72</td>\n",
       "      <td>157</td>\n",
       "    </tr>\n",
       "  </tbody>\n",
       "</table>\n",
       "</div>"
      ],
      "text/plain": [
       "      id  player_api_id                 player_name  player_fifa_api_id  \\\n",
       "0    530         167285            Alireza Haghighi              191589   \n",
       "1   8608         184536           Philippe Coutinho              189242   \n",
       "2   7752          38947       Mustapha Jarju Alasan              178374   \n",
       "3  11073          36491                   Zsolt Low              111191   \n",
       "4   8427          27613                    Paulinho              164256   \n",
       "5   6259          67360                 Luca Radice              221640   \n",
       "6   3485          37753              Francis Dickoh              130933   \n",
       "7     87         495841         Adalberto Penaranda              231638   \n",
       "8  10862          67941                 Xavier Chen              158260   \n",
       "9   3142         199916  Ezequiel Adrian Cirigliano              199666   \n",
       "\n",
       "              birthday  height  weight  \n",
       "0  1988-05-02 00:00:00  193.04     176  \n",
       "1  1992-06-12 00:00:00  170.18     150  \n",
       "2  1986-07-18 00:00:00  182.88     179  \n",
       "3  1979-04-29 00:00:00  180.34     154  \n",
       "4  1986-01-10 00:00:00  175.26     159  \n",
       "5  1987-04-09 00:00:00  180.34     154  \n",
       "6  1982-12-13 00:00:00  187.96     187  \n",
       "7  1997-05-31 00:00:00  182.88     172  \n",
       "8  1983-10-05 00:00:00  175.26     152  \n",
       "9  1992-01-24 00:00:00  172.72     157  "
      ]
     },
     "execution_count": 29,
     "metadata": {},
     "output_type": "execute_result"
    }
   ],
   "source": [
    "df.head(10)\n"
   ]
  },
  {
   "cell_type": "markdown",
   "metadata": {
    "id": "UXgKevIdl-Mj"
   },
   "source": [
    "### Questão 03\n",
    "Para cada atributo da base, identifique quais são categoricos/nominais, ordinais, intervalares e racionais. (Não precisa ser em código)\n"
   ]
  },
  {
   "cell_type": "markdown",
   "metadata": {
    "id": "W1LRQU1ftb3F"
   },
   "source": [
    "**Categoricos:** player_api_id, id, player_fifa_api_id, player_name\n",
    "\n",
    "**Ordinais:** \n",
    "\n",
    "**Intervalares:** birthday\n",
    "\n",
    "**Racionais:** height, weight"
   ]
  },
  {
   "cell_type": "markdown",
   "metadata": {
    "id": "aQUKompInIsN"
   },
   "source": [
    "### Questão 4\n",
    "\n",
    "Formule 3 hipóteses sobre a base ou seus atributos que possam ser verificadas com os conceitos apresentados na disciplina.\n",
    "\n",
    "Ex: O atributo altura tem mais valores abaixo da média (obliquidade negativa)\n",
    "\n",
    "\n",
    "-    O atributo altura apresenta um achatamento da função de distribuição (Curtose negativa)\n",
    "\n",
    "-   O atributo peso tem valores bem distribuidos na média (Obliquidade quase nula)\n",
    "\n",
    "-  O atributo idade apresenta um achatamento da função de distribuição (Curtose negativa)\n",
    "\n",
    "\n"
   ]
  },
  {
   "cell_type": "markdown",
   "metadata": {
    "id": "AgG914Mfn3tK"
   },
   "source": [
    "### Questão 5\n",
    "\n",
    "Verifique se suas hipóteses são verdadeiras"
   ]
  },
  {
   "cell_type": "code",
   "execution_count": 30,
   "metadata": {
    "id": "JOHyowfgoEBr"
   },
   "outputs": [
    {
     "name": "stdout",
     "output_type": "stream",
     "text": [
      "-- h1 ---\n",
      "Curtose: -0.4321787984727954\n",
      "\n",
      "-- h2---\n",
      "Obliquidade: 0.03027696608290736\n",
      "\n",
      "-- h3---\n",
      "Curtose: -0.3580084552546188\n"
     ]
    }
   ],
   "source": [
    "# print(f\"Mean: { df.height.mean()}\")\n",
    "# print(f\"Variance: { df.height.var()}\")\n",
    "# print(f\"Obliquidade: { df.height.skew()}\") \n",
    "# print(f\"Curtose: { df.height.kurtosis()}\")\n",
    "# A biblioteca calendar ou a datetime podem te ajudar\n",
    "def calc_idade(df):\n",
    "    birthday = pd.to_datetime(df.birthday)\n",
    "    df['age'] =   datetime.now().year - birthday.dt.year\n",
    "    return df\n",
    "\n",
    "\n",
    "\n",
    "def h1(df):\n",
    "    print(\"-- h1 ---\")\n",
    "    print(f\"Curtose: { df.height.kurtosis()}\") # Os dados estão mais achatados\n",
    "\n",
    "\n",
    "def h2(df):\n",
    "    print(\"\\n-- h2---\")\n",
    "    print(f\"Obliquidade: { df.weight.skew()}\") \n",
    "\n",
    "def h3(df):\n",
    "    print(\"\\n-- h3---\")\n",
    "    calc_idade(df)\n",
    "    print(f\"Curtose: { df.age.kurtosis()}\")\n",
    "\n",
    "h1(df)\n",
    "h2(df)\n",
    "h3(df)\n"
   ]
  },
  {
   "cell_type": "markdown",
   "metadata": {
    "id": "-J0xNb4Tnw6i"
   },
   "source": [
    "### Questão 6\n",
    "- Os pesos dos jogadores foram dados em libras. Transforme os pesos dos jogadores para quilos e substitua o valor antigo da coluna no DataFrame. Dica: 1 lb = 0.45359237 kg\n",
    "\n",
    "- Crie um novo atributo chamado \"age\" (idade) a partir da data de nascimento do jogador. Este atributo deve ser considerado nas próximas questões. A idade deve ser um número inteiro. Bib datetime"
   ]
  },
  {
   "cell_type": "code",
   "execution_count": 31,
   "metadata": {
    "id": "CrvjUHYpoRiL"
   },
   "outputs": [],
   "source": [
    "def lb_para_kg(df):\n",
    "    df.weight = df.weight * 0.45359237\n",
    "\n",
    "lb_para_kg(df)   "
   ]
  },
  {
   "cell_type": "code",
   "execution_count": 32,
   "metadata": {
    "id": "9MZkeB3zjD5g"
   },
   "outputs": [
    {
     "data": {
      "text/html": [
       "<div>\n",
       "<style scoped>\n",
       "    .dataframe tbody tr th:only-of-type {\n",
       "        vertical-align: middle;\n",
       "    }\n",
       "\n",
       "    .dataframe tbody tr th {\n",
       "        vertical-align: top;\n",
       "    }\n",
       "\n",
       "    .dataframe thead th {\n",
       "        text-align: right;\n",
       "    }\n",
       "</style>\n",
       "<table border=\"1\" class=\"dataframe\">\n",
       "  <thead>\n",
       "    <tr style=\"text-align: right;\">\n",
       "      <th></th>\n",
       "      <th>id</th>\n",
       "      <th>player_api_id</th>\n",
       "      <th>player_name</th>\n",
       "      <th>player_fifa_api_id</th>\n",
       "      <th>birthday</th>\n",
       "      <th>height</th>\n",
       "      <th>weight</th>\n",
       "      <th>age</th>\n",
       "    </tr>\n",
       "  </thead>\n",
       "  <tbody>\n",
       "    <tr>\n",
       "      <th>0</th>\n",
       "      <td>530</td>\n",
       "      <td>167285</td>\n",
       "      <td>Alireza Haghighi</td>\n",
       "      <td>191589</td>\n",
       "      <td>1988-05-02 00:00:00</td>\n",
       "      <td>193.04</td>\n",
       "      <td>79.832257</td>\n",
       "      <td>33</td>\n",
       "    </tr>\n",
       "    <tr>\n",
       "      <th>1</th>\n",
       "      <td>8608</td>\n",
       "      <td>184536</td>\n",
       "      <td>Philippe Coutinho</td>\n",
       "      <td>189242</td>\n",
       "      <td>1992-06-12 00:00:00</td>\n",
       "      <td>170.18</td>\n",
       "      <td>68.038855</td>\n",
       "      <td>29</td>\n",
       "    </tr>\n",
       "    <tr>\n",
       "      <th>2</th>\n",
       "      <td>7752</td>\n",
       "      <td>38947</td>\n",
       "      <td>Mustapha Jarju Alasan</td>\n",
       "      <td>178374</td>\n",
       "      <td>1986-07-18 00:00:00</td>\n",
       "      <td>182.88</td>\n",
       "      <td>81.193034</td>\n",
       "      <td>35</td>\n",
       "    </tr>\n",
       "    <tr>\n",
       "      <th>3</th>\n",
       "      <td>11073</td>\n",
       "      <td>36491</td>\n",
       "      <td>Zsolt Low</td>\n",
       "      <td>111191</td>\n",
       "      <td>1979-04-29 00:00:00</td>\n",
       "      <td>180.34</td>\n",
       "      <td>69.853225</td>\n",
       "      <td>42</td>\n",
       "    </tr>\n",
       "    <tr>\n",
       "      <th>4</th>\n",
       "      <td>8427</td>\n",
       "      <td>27613</td>\n",
       "      <td>Paulinho</td>\n",
       "      <td>164256</td>\n",
       "      <td>1986-01-10 00:00:00</td>\n",
       "      <td>175.26</td>\n",
       "      <td>72.121187</td>\n",
       "      <td>35</td>\n",
       "    </tr>\n",
       "    <tr>\n",
       "      <th>...</th>\n",
       "      <td>...</td>\n",
       "      <td>...</td>\n",
       "      <td>...</td>\n",
       "      <td>...</td>\n",
       "      <td>...</td>\n",
       "      <td>...</td>\n",
       "      <td>...</td>\n",
       "      <td>...</td>\n",
       "    </tr>\n",
       "    <tr>\n",
       "      <th>345</th>\n",
       "      <td>10199</td>\n",
       "      <td>7627</td>\n",
       "      <td>Thierno Bah</td>\n",
       "      <td>45269</td>\n",
       "      <td>1982-10-05 00:00:00</td>\n",
       "      <td>175.26</td>\n",
       "      <td>68.038855</td>\n",
       "      <td>39</td>\n",
       "    </tr>\n",
       "    <tr>\n",
       "      <th>346</th>\n",
       "      <td>1216</td>\n",
       "      <td>246330</td>\n",
       "      <td>Benjamin Morel</td>\n",
       "      <td>202753</td>\n",
       "      <td>1987-06-10 00:00:00</td>\n",
       "      <td>180.34</td>\n",
       "      <td>69.853225</td>\n",
       "      <td>34</td>\n",
       "    </tr>\n",
       "    <tr>\n",
       "      <th>347</th>\n",
       "      <td>4262</td>\n",
       "      <td>33793</td>\n",
       "      <td>Hugo Alcantara</td>\n",
       "      <td>14491</td>\n",
       "      <td>1979-07-28 00:00:00</td>\n",
       "      <td>190.50</td>\n",
       "      <td>84.821773</td>\n",
       "      <td>42</td>\n",
       "    </tr>\n",
       "    <tr>\n",
       "      <th>348</th>\n",
       "      <td>5886</td>\n",
       "      <td>173699</td>\n",
       "      <td>Koro Kone</td>\n",
       "      <td>207538</td>\n",
       "      <td>1989-07-05 00:00:00</td>\n",
       "      <td>177.80</td>\n",
       "      <td>74.842741</td>\n",
       "      <td>32</td>\n",
       "    </tr>\n",
       "    <tr>\n",
       "      <th>349</th>\n",
       "      <td>7946</td>\n",
       "      <td>26137</td>\n",
       "      <td>Nicolas Gillet</td>\n",
       "      <td>12489</td>\n",
       "      <td>1976-11-08 00:00:00</td>\n",
       "      <td>185.42</td>\n",
       "      <td>83.914588</td>\n",
       "      <td>45</td>\n",
       "    </tr>\n",
       "  </tbody>\n",
       "</table>\n",
       "<p>350 rows × 8 columns</p>\n",
       "</div>"
      ],
      "text/plain": [
       "        id  player_api_id            player_name  player_fifa_api_id  \\\n",
       "0      530         167285       Alireza Haghighi              191589   \n",
       "1     8608         184536      Philippe Coutinho              189242   \n",
       "2     7752          38947  Mustapha Jarju Alasan              178374   \n",
       "3    11073          36491              Zsolt Low              111191   \n",
       "4     8427          27613               Paulinho              164256   \n",
       "..     ...            ...                    ...                 ...   \n",
       "345  10199           7627            Thierno Bah               45269   \n",
       "346   1216         246330         Benjamin Morel              202753   \n",
       "347   4262          33793         Hugo Alcantara               14491   \n",
       "348   5886         173699              Koro Kone              207538   \n",
       "349   7946          26137         Nicolas Gillet               12489   \n",
       "\n",
       "                birthday  height     weight  age  \n",
       "0    1988-05-02 00:00:00  193.04  79.832257   33  \n",
       "1    1992-06-12 00:00:00  170.18  68.038855   29  \n",
       "2    1986-07-18 00:00:00  182.88  81.193034   35  \n",
       "3    1979-04-29 00:00:00  180.34  69.853225   42  \n",
       "4    1986-01-10 00:00:00  175.26  72.121187   35  \n",
       "..                   ...     ...        ...  ...  \n",
       "345  1982-10-05 00:00:00  175.26  68.038855   39  \n",
       "346  1987-06-10 00:00:00  180.34  69.853225   34  \n",
       "347  1979-07-28 00:00:00  190.50  84.821773   42  \n",
       "348  1989-07-05 00:00:00  177.80  74.842741   32  \n",
       "349  1976-11-08 00:00:00  185.42  83.914588   45  \n",
       "\n",
       "[350 rows x 8 columns]"
      ]
     },
     "execution_count": 32,
     "metadata": {},
     "output_type": "execute_result"
    }
   ],
   "source": [
    "# A biblioteca calendar ou a datetime podem te ajudar\n",
    "def calc_idade(df):\n",
    "    birthday = pd.to_datetime(df.birthday)\n",
    "    df['age'] =   datetime.now().year - birthday.dt.year\n",
    "    return df\n",
    "\n",
    "df = calc_idade(df)\n",
    "df\n"
   ]
  },
  {
   "cell_type": "markdown",
   "metadata": {
    "id": "5NJNcI7_oR_Z"
   },
   "source": [
    "### Questão 7\n",
    "Implemente a função que calcule o percetil de determinado atributo. (Atenção: As bibliotecas Numpy/Pandas possuem a função *quantile* você não deve usá-la em sua função). Os resultados também podem variar dependendo da implementação. Tente seguir a definição dos slides. "
   ]
  },
  {
   "cell_type": "code",
   "execution_count": 33,
   "metadata": {
    "id": "XsgyV9umo_u0"
   },
   "outputs": [],
   "source": [
    "def percentile(df, nome_attr, pct):\n",
    "    '''\n",
    "    Parameters\n",
    "    - df: Dataframe com a base\n",
    "    - attr_name: Nome do atributo que queremos utilizar para computar o percentil\n",
    "    - pct: Percentil. Um número entre 0 e 1.\n",
    "    '''\n",
    "    q1 = np.ceil(pct * len(df) + 1. / 2.) \n",
    "    values = df[nome_attr].sort_values()\n",
    "    return list(values)[int(q1)]"
   ]
  },
  {
   "cell_type": "code",
   "execution_count": null,
   "metadata": {
    "id": "vLKNrI9811v7"
   },
   "outputs": [],
   "source": []
  },
  {
   "cell_type": "markdown",
   "metadata": {
    "id": "8LoHeNtQpsWL"
   },
   "source": [
    "### Questão 08\n",
    "Utilizando sua função, calcule a mediana, 1º quartil, 3º quartil do atributo altura.\n",
    "\n",
    "**Sugestão:** Utilize o método describe do pandas (pra verificação)"
   ]
  },
  {
   "cell_type": "code",
   "execution_count": 34,
   "metadata": {},
   "outputs": [
    {
     "name": "stdout",
     "output_type": "stream",
     "text": [
      "Mediana: 182.88\n",
      "1º quartil: 177.8\n",
      "3º quartil: 185.42\n"
     ]
    }
   ],
   "source": [
    "print(f\"Mediana: {df.height.median()}\")\n",
    "print(f\"1º quartil: {percentile(df, 'height', 0.25)}\")\n",
    "print(f\"3º quartil: {percentile(df, 'height', 0.75)}\")"
   ]
  },
  {
   "cell_type": "markdown",
   "metadata": {
    "id": "bW_923Xp4Lub"
   },
   "source": [
    "# Questão 09\n",
    "\n",
    "Calcule os quatro momentos (média, variância, obliquidade e achatamento) dos atributos onde essas métricas fazem sentido.\n",
    "\n",
    "  - Dica: Utilize as bibliotecas **numpy** para média (mean) e variância (variance) e **Scipy.stats** para obliquidade (skew) e achatamento (kurtosis)."
   ]
  },
  {
   "cell_type": "code",
   "execution_count": 35,
   "metadata": {
    "id": "BIRq-J0G5UVj"
   },
   "outputs": [
    {
     "name": "stdout",
     "output_type": "stream",
     "text": [
      "Mean: 34.58\n",
      "Variance: 26.765787965616045\n",
      "Obliquidade: 0.29936479489165635\n",
      "Curtose: -0.3580084552546188\n"
     ]
    }
   ],
   "source": [
    "def quatro_momentos(df, nome_attr):\n",
    "    print(f\"Mean: { df[nome_attr].mean()}\")\n",
    "    print(f\"Variance: { df[nome_attr].var()}\")\n",
    "    print(f\"Obliquidade: { df[nome_attr].skew()}\") \n",
    "    print(f\"Curtose: { df[nome_attr].kurtosis()}\")\n",
    "\n",
    "quatro_momentos(df, \"age\")"
   ]
  },
  {
   "cell_type": "markdown",
   "metadata": {
    "id": "-FSTKAZF5FSg"
   },
   "source": [
    "### Questão 10\n",
    "\n",
    "- Calcule o histograma e o boxplot dos atributos altura, peso e idade.\n",
    "- A distribuição dos atributos possui curvatura para algum lado ou são centrados?\n",
    "- A partir do Boxplot, verifique se os atributos tem outliers e justifique."
   ]
  },
  {
   "cell_type": "code",
   "execution_count": 36,
   "metadata": {
    "id": "0jkiFH7W5T6-"
   },
   "outputs": [],
   "source": [
    "def hist(df, nome_attr): # Não precisa fazer a função? Somente usar a que já vem pronta\n",
    "                         # Verificar o método de boxplot do pandas\n",
    "    plt.title(str(nome_attr))\n",
    "    plt.grid()\n",
    "    plt.hist(df[nome_attr])\n",
    "    plt.show()\n"
   ]
  },
  {
   "cell_type": "code",
   "execution_count": 37,
   "metadata": {},
   "outputs": [],
   "source": [
    "def boxplot(df, nome_attr):\n",
    "    plt.title(str(nome_attr))\n",
    "    plt.boxplot(df[nome_attr])\n",
    "    plt.grid()\n",
    "    plt.show()\n"
   ]
  },
  {
   "cell_type": "markdown",
   "metadata": {},
   "source": [
    "#### Altura "
   ]
  },
  {
   "cell_type": "code",
   "execution_count": 38,
   "metadata": {},
   "outputs": [
    {
     "data": {
      "image/png": "[encoded data removed]",
      "text/plain": [
       "<Figure size 432x288 with 1 Axes>"
      ]
     },
     "metadata": {
      "needs_background": "light"
     },
     "output_type": "display_data"
    },
    {
     "data": {
      "image/png": "[encoded data removed]",
      "text/plain": [
       "<Figure size 432x288 with 1 Axes>"
      ]
     },
     "metadata": {
      "needs_background": "light"
     },
     "output_type": "display_data"
    },
    {
     "name": "stdout",
     "output_type": "stream",
     "text": [
      "O atributo altura tem mais valores abaixo da média\n"
     ]
    }
   ],
   "source": [
    "hist(df, \"height\")\n",
    "boxplot(df, \"height\")\n",
    "\n",
    "print(\"O atributo altura tem mais valores abaixo da média\")"
   ]
  },
  {
   "cell_type": "markdown",
   "metadata": {},
   "source": [
    "#### Peso"
   ]
  },
  {
   "cell_type": "code",
   "execution_count": 39,
   "metadata": {},
   "outputs": [
    {
     "data": {
      "image/png": "[encoded data removed]",
      "text/plain": [
       "<Figure size 432x288 with 1 Axes>"
      ]
     },
     "metadata": {
      "needs_background": "light"
     },
     "output_type": "display_data"
    },
    {
     "data": {
      "image/png": "[encoded data removed]",
      "text/plain": [
       "<Figure size 432x288 with 1 Axes>"
      ]
     },
     "metadata": {
      "needs_background": "light"
     },
     "output_type": "display_data"
    },
    {
     "name": "stdout",
     "output_type": "stream",
     "text": [
      "O atributo se encontra bem distribuido ao longo da média\n"
     ]
    }
   ],
   "source": [
    "hist(df, \"weight\")\n",
    "boxplot(df, \"weight\")\n",
    "print(\"O atributo se encontra bem distribuido ao longo da média\")"
   ]
  },
  {
   "cell_type": "markdown",
   "metadata": {},
   "source": [
    "#### Idade"
   ]
  },
  {
   "cell_type": "code",
   "execution_count": 40,
   "metadata": {},
   "outputs": [
    {
     "data": {
      "image/png": "[encoded data removed]",
      "text/plain": [
       "<Figure size 432x288 with 1 Axes>"
      ]
     },
     "metadata": {
      "needs_background": "light"
     },
     "output_type": "display_data"
    },
    {
     "data": {
      "image/png": "[encoded data removed]",
      "text/plain": [
       "<Figure size 432x288 with 1 Axes>"
      ]
     },
     "metadata": {
      "needs_background": "light"
     },
     "output_type": "display_data"
    },
    {
     "name": "stdout",
     "output_type": "stream",
     "text": [
      "O atributo idade tem mais valores abaixo da média\n"
     ]
    }
   ],
   "source": [
    "hist(df, \"age\")\n",
    "boxplot(df, \"age\")\n",
    "print(\"O atributo idade tem mais valores abaixo da média\")"
   ]
  },
  {
   "cell_type": "code",
   "execution_count": null,
   "metadata": {},
   "outputs": [],
   "source": []
  }
 ],
 "metadata": {
  "colab": {
   "collapsed_sections": [],
   "name": "Ex2.ipynb",
   "provenance": []
  },
  "kernelspec": {
   "display_name": "Python 3 (ipykernel)",
   "language": "python",
   "name": "python3"
  },
  "language_info": {
   "codemirror_mode": {
    "name": "ipython",
    "version": 3
   },
   "file_extension": ".py",
   "mimetype": "text/x-python",
   "name": "python",
   "nbconvert_exporter": "python",
   "pygments_lexer": "ipython3",
   "version": "3.9.7"
  }
 },
 "nbformat": 4,
 "nbformat_minor": 1
}
