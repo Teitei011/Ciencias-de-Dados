{
 "cells": [
  {
   "cell_type": "markdown",
   "metadata": {
    "id": "cMljKc-SB0TB"
   },
   "source": [
    "# SCC0275: Introdução a Ciência de Dados - 2o Semestre de 2021\n",
    "# SCC0275 - Exercício 2\n",
    "\n",
    "### Profa. Roseli A. F. Romero\n",
    "\n",
    "### Monitor: Kenzo Sakiyama\n",
    "\n",
    "Nro do grupo:\n",
    "\n",
    "Alunos:\n",
    "\n",
    "\n",
    "1.   Stefan Taiguara Couperus Leal 10414866\n"
   ]
  },
  {
   "cell_type": "markdown",
   "metadata": {
    "id": "TJRza6JiKvwP"
   },
   "source": [
    "\n",
    "## Dados unidimensionais\n",
    " \n",
    "Suponha dois conjuntos de dados, que representam as notas finais em uma dada disciplina de duas salas com 100 alunos. Os dados foram armazenados nos arquivos \"notas_salas01.txt\" e \"notas_salas02.txt\". \n",
    "\n",
    "Imagine que uma pessoa deseje comparar o desempenho das salas de aula. Considera-se que, **quanto mais alunos foram aprovados, melhor o desempenho da sala**. Suponha que para ser aprovado, um aluno deve ter nota maior que 50. \n",
    "\n",
    "Como medida inicial de desempenho, essa pessoa calculou a média dos dados através do código abaixo:"
   ]
  },
  {
   "cell_type": "code",
   "execution_count": 23,
   "metadata": {
    "id": "0Rl_CxITsjsL"
   },
   "outputs": [],
   "source": [
    "import numpy as np\n",
    "import pandas as pd\n",
    "from scipy import stats\n",
    "\n",
    "#//\n",
    "from datetime import datetime, date\n",
    "import matplotlib.pyplot as plt"
   ]
  },
  {
   "cell_type": "code",
   "execution_count": 24,
   "metadata": {
    "colab": {
     "base_uri": "https://localhost:8080/"
    },
    "executionInfo": {
     "elapsed": 730,
     "status": "ok",
     "timestamp": 1621380666957,
     "user": {
      "displayName": "Kenzo Miranda Sakiyama",
      "photoUrl": "",
      "userId": "17190914206091993570"
     },
     "user_tz": 240
    },
    "id": "qq5GloIcKq3j",
    "outputId": "3b5fa151-153a-4388-a2a0-9fafcacd970b"
   },
   "outputs": [
    {
     "name": "stdout",
     "output_type": "stream",
     "text": [
      "--- Sala: 1 ---\n",
      "Média: 60.184709\n",
      "--- Sala: 2 ---\n",
      "Média: 55.184195\n"
     ]
    }
   ],
   "source": [
    "salas = []\n",
    "salas.append(np.loadtxt(\"notas_sala01.txt\"))\n",
    "salas.append(np.loadtxt(\"notas_sala02.txt\"))\n",
    "\n",
    "for i in range(0,2):\n",
    "    print(\"--- Sala: %d ---\" % (i+1))\n",
    "    print(\"Média: %f\" % np.mean(salas[i]))        "
   ]
  },
  {
   "cell_type": "markdown",
   "metadata": {
    "id": "dKP6V_kbK4Tv"
   },
   "source": [
    "**Com base na média, a pessoa concluiu que a sala 1 obteve um melhor desempenho que a sala 2.**\n",
    "\n",
    "### Questão 01. \n",
    "Demonstre o porquê dessa conclusão estar equivocada.\n",
    "   - Sugestão: Transforme as estruturas `salas[0]` e `salas[1]` em estruturas do tipo `DataFrame` da biblioteca **pandas** e utilize as funções de histograma e/ou boxplot."
   ]
  },
  {
   "cell_type": "code",
   "execution_count": null,
   "metadata": {
    "id": "QKX00e2zKuy8"
   },
   "outputs": [
    {
     "name": "stdout",
     "output_type": "stream",
     "text": [
      "-- Sala: 0 ---\n"
     ]
    },
    {
     "data": {
      "text/plain": [
       "<AxesSubplot:ylabel='Frequency'>"
      ]
     },
     "execution_count": 25,
     "metadata": {},
     "output_type": "execute_result"
    }
   ],
   "source": [
    "# Seu codigo aqui\n",
    "salas_0 = pd.DataFrame(salas[0])\n",
    "salas_1 = pd.DataFrame(salas[1])\n",
    "\n",
    "print(\"-- Sala: 0 ---\")\n",
    "salas_0.boxplot()\n",
    "salas_0.plot.hist()"
   ]
  },
  {
   "cell_type": "code",
   "execution_count": null,
   "metadata": {},
   "outputs": [],
   "source": [
    "print(\"-- Sala: 1 ---\")\n",
    "\n",
    "salas_1.boxplot()\n",
    "salas_1.plot.hist()\n"
   ]
  },
  {
   "cell_type": "markdown",
   "metadata": {
    "id": "xcf9ShzXLBFb"
   },
   "source": [
    "# Questão 02.\n",
    "Calcule o número de aprovados em cada uma das salas."
   ]
  },
  {
   "cell_type": "code",
   "execution_count": null,
   "metadata": {
    "id": "uy1U8dEELKjz"
   },
   "outputs": [],
   "source": [
    "def num_alunos_aprovados(notas, media=50):\n",
    "    notas = np.array(notas)\n",
    "    aprovados = 0\n",
    "    for nota in notas:\n",
    "        if (nota >= media):\n",
    "            aprovados +=1\n",
    "    return aprovados\n",
    "num_alunos_aprovados(salas_0)"
   ]
  },
  {
   "cell_type": "markdown",
   "metadata": {
    "id": "y_VnrhDimxHU"
   },
   "source": [
    "### Base Futebol\n",
    "\n",
    "Suponha que uma emissora de televisão te contratou para analisar o perfil dos jogadores do futebol europeu para que os narradores possam dizer estatísticas sobre eles durante os jogos.\n",
    "\n",
    "Os dados estão numa planilha chamada `players_sampled.csv`, onde cada linha contém os dados de um jogador e cada coluna possui um atributo. Essa base foi adaptada do site de competições de ciência de dados chamado [Kaggle](*https*://www.kaggle.com/hugomathien/soccer)."
   ]
  },
  {
   "cell_type": "code",
   "execution_count": null,
   "metadata": {
    "colab": {
     "base_uri": "https://localhost:8080/"
    },
    "executionInfo": {
     "elapsed": 740,
     "status": "ok",
     "timestamp": 1621380791549,
     "user": {
      "displayName": "Kenzo Miranda Sakiyama",
      "photoUrl": "",
      "userId": "17190914206091993570"
     },
     "user_tz": 240
    },
    "id": "Q4TNT9dxlj0H",
    "outputId": "75875861-13a7-4921-badd-b0410b1c7da6"
   },
   "outputs": [],
   "source": [
    "# Carregando a base\n",
    "df = pd.read_csv('players_sampled.csv')\n",
    "df.info()"
   ]
  },
  {
   "cell_type": "code",
   "execution_count": null,
   "metadata": {
    "colab": {
     "base_uri": "https://localhost:8080/",
     "height": 363
    },
    "executionInfo": {
     "elapsed": 550,
     "status": "ok",
     "timestamp": 1621380833277,
     "user": {
      "displayName": "Kenzo Miranda Sakiyama",
      "photoUrl": "",
      "userId": "17190914206091993570"
     },
     "user_tz": 240
    },
    "id": "OPIFoITj1Ar2",
    "outputId": "d7a87a3a-080a-47d6-eb29-d6fd4c21cd24"
   },
   "outputs": [],
   "source": [
    "df.head(10)\n"
   ]
  },
  {
   "cell_type": "markdown",
   "metadata": {
    "id": "UXgKevIdl-Mj"
   },
   "source": [
    "### Questão 03\n",
    "Para cada atributo da base, identifique quais são categoricos/nominais, ordinais, intervalares e racionais. (Não precisa ser em código)\n"
   ]
  },
  {
   "cell_type": "markdown",
   "metadata": {
    "id": "W1LRQU1ftb3F"
   },
   "source": [
    "**Categoricos:** player_api_id, id, player_fifa_api_id, player_name\n",
    "\n",
    "**Ordinais:** \n",
    "\n",
    "**Intervalares:** birthday\n",
    "\n",
    "**Racionais:** height, weight"
   ]
  },
  {
   "cell_type": "markdown",
   "metadata": {
    "id": "aQUKompInIsN"
   },
   "source": [
    "### Questão 4\n",
    "\n",
    "Formule 3 hipóteses sobre a base ou seus atributos que possam ser verificadas com os conceitos apresentados na disciplina.\n",
    "\n",
    "Ex: O atributo altura tem mais valores abaixo da média (obliquidade negativa)\n",
    "\n",
    "\n",
    "-    O atributo altura apresenta um achatamento da função de distribuição (Curtose negativa)\n",
    "\n",
    "-   O atributo peso tem valores bem distribuidos na média (Obliquidade quase nula)\n",
    "\n",
    "-  O atributo idade apresenta um achatamento da função de distribuição (Curtose negativa)\n",
    "\n",
    "\n"
   ]
  },
  {
   "cell_type": "markdown",
   "metadata": {
    "id": "AgG914Mfn3tK"
   },
   "source": [
    "### Questão 5\n",
    "\n",
    "Verifique se suas hipóteses são verdadeiras"
   ]
  },
  {
   "cell_type": "code",
   "execution_count": null,
   "metadata": {
    "id": "JOHyowfgoEBr"
   },
   "outputs": [],
   "source": [
    "# print(f\"Mean: { df.height.mean()}\")\n",
    "# print(f\"Variance: { df.height.var()}\")\n",
    "# print(f\"Obliquidade: { df.height.skew()}\") \n",
    "# print(f\"Curtose: { df.height.kurtosis()}\")\n",
    "# A biblioteca calendar ou a datetime podem te ajudar\n",
    "def calc_idade(df):\n",
    "    birthday = pd.to_datetime(df.birthday)\n",
    "    df['age'] =   datetime.now().year - birthday.dt.year\n",
    "    return df\n",
    "\n",
    "\n",
    "\n",
    "def h1(df):\n",
    "    print(\"-- h1 ---\")\n",
    "    print(f\"Curtose: { df.height.kurtosis()}\") # Os dados estão mais achatados\n",
    "\n",
    "\n",
    "def h2(df):\n",
    "    print(\"\\n-- h2---\")\n",
    "    print(f\"Obliquidade: { df.weight.skew()}\") \n",
    "\n",
    "def h3(df):\n",
    "    print(\"\\n-- h3---\")\n",
    "    calc_idade(df)\n",
    "    print(f\"Curtose: { df.age.kurtosis()}\")\n",
    "\n",
    "h1(df)\n",
    "h2(df)\n",
    "h3(df)\n"
   ]
  },
  {
   "cell_type": "markdown",
   "metadata": {
    "id": "-J0xNb4Tnw6i"
   },
   "source": [
    "### Questão 6\n",
    "- Os pesos dos jogadores foram dados em libras. Transforme os pesos dos jogadores para quilos e substitua o valor antigo da coluna no DataFrame. Dica: 1 lb = 0.45359237 kg\n",
    "\n",
    "- Crie um novo atributo chamado \"age\" (idade) a partir da data de nascimento do jogador. Este atributo deve ser considerado nas próximas questões. A idade deve ser um número inteiro. Bib datetime"
   ]
  },
  {
   "cell_type": "code",
   "execution_count": null,
   "metadata": {
    "id": "CrvjUHYpoRiL"
   },
   "outputs": [],
   "source": [
    "def lb_para_kg(df):\n",
    "    df.weight = df.weight * 0.45359237\n",
    "\n",
    "lb_para_kg(df)   "
   ]
  },
  {
   "cell_type": "code",
   "execution_count": null,
   "metadata": {
    "id": "9MZkeB3zjD5g"
   },
   "outputs": [],
   "source": [
    "# A biblioteca calendar ou a datetime podem te ajudar\n",
    "def calc_idade(df):\n",
    "    birthday = pd.to_datetime(df.birthday)\n",
    "    df['age'] =   datetime.now().year - birthday.dt.year\n",
    "    return df\n",
    "\n",
    "df = calc_idade(df)\n",
    "df\n"
   ]
  },
  {
   "cell_type": "markdown",
   "metadata": {
    "id": "5NJNcI7_oR_Z"
   },
   "source": [
    "### Questão 7\n",
    "Implemente a função que calcule o percetil de determinado atributo. (Atenção: As bibliotecas Numpy/Pandas possuem a função *quantile* você não deve usá-la em sua função). Os resultados também podem variar dependendo da implementação. Tente seguir a definição dos slides. "
   ]
  },
  {
   "cell_type": "code",
   "execution_count": null,
   "metadata": {
    "id": "XsgyV9umo_u0"
   },
   "outputs": [],
   "source": [
    "def percentile(df, nome_attr, pct):\n",
    "    '''\n",
    "    Parameters\n",
    "    - df: Dataframe com a base\n",
    "    - attr_name: Nome do atributo que queremos utilizar para computar o percentil\n",
    "    - pct: Percentil. Um número entre 0 e 1.\n",
    "    '''\n",
    "    q1 = np.ceil(pct * len(df) + 1. / 2.) \n",
    "    values = df[nome_attr].sort_values()\n",
    "    return list(values)[int(q1)]"
   ]
  },
  {
   "cell_type": "code",
   "execution_count": null,
   "metadata": {
    "id": "vLKNrI9811v7"
   },
   "outputs": [],
   "source": []
  },
  {
   "cell_type": "markdown",
   "metadata": {
    "id": "8LoHeNtQpsWL"
   },
   "source": [
    "### Questão 08\n",
    "Utilizando sua função, calcule a mediana, 1º quartil, 3º quartil do atributo altura.\n",
    "\n",
    "**Sugestão:** Utilize o método describe do pandas (pra verificação)"
   ]
  },
  {
   "cell_type": "code",
   "execution_count": null,
   "metadata": {},
   "outputs": [],
   "source": [
    "print(f\"Mediana: {df.height.median()}\")\n",
    "print(f\"1º quartil: {percentile(df, 'height', 0.25)}\")\n",
    "print(f\"3º quartil: {percentile(df, 'height', 0.75)}\")"
   ]
  },
  {
   "cell_type": "markdown",
   "metadata": {
    "id": "bW_923Xp4Lub"
   },
   "source": [
    "# Questão 09\n",
    "\n",
    "Calcule os quatro momentos (média, variância, obliquidade e achatamento) dos atributos onde essas métricas fazem sentido.\n",
    "\n",
    "  - Dica: Utilize as bibliotecas **numpy** para média (mean) e variância (variance) e **Scipy.stats** para obliquidade (skew) e achatamento (kurtosis)."
   ]
  },
  {
   "cell_type": "code",
   "execution_count": null,
   "metadata": {
    "id": "BIRq-J0G5UVj"
   },
   "outputs": [],
   "source": [
    "def quatro_momentos(df, nome_attr):\n",
    "    print(f\"Mean: { df[nome_attr].mean()}\")\n",
    "    print(f\"Variance: { df[nome_attr].var()}\")\n",
    "    print(f\"Obliquidade: { df[nome_attr].skew()}\") \n",
    "    print(f\"Curtose: { df[nome_attr].kurtosis()}\")\n",
    "\n",
    "quatro_momentos(df, \"age\")"
   ]
  },
  {
   "cell_type": "markdown",
   "metadata": {
    "id": "-FSTKAZF5FSg"
   },
   "source": [
    "### Questão 10\n",
    "\n",
    "- Calcule o histograma e o boxplot dos atributos altura, peso e idade.\n",
    "- A distribuição dos atributos possui curvatura para algum lado ou são centrados?\n",
    "- A partir do Boxplot, verifique se os atributos tem outliers e justifique."
   ]
  },
  {
   "cell_type": "code",
   "execution_count": null,
   "metadata": {
    "id": "0jkiFH7W5T6-"
   },
   "outputs": [],
   "source": [
    "def hist(df, nome_attr): # Não precisa fazer a função? Somente usar a que já vem pronta\n",
    "                         # Verificar o método de boxplot do pandas\n",
    "    plt.title(str(nome_attr))\n",
    "    plt.grid()\n",
    "    plt.hist(df[nome_attr])\n",
    "    plt.show()\n"
   ]
  },
  {
   "cell_type": "code",
   "execution_count": null,
   "metadata": {},
   "outputs": [],
   "source": [
    "def boxplot(df, nome_attr):\n",
    "    plt.title(str(nome_attr))\n",
    "    plt.boxplot(df[nome_attr])\n",
    "    plt.grid()\n",
    "    plt.show()\n"
   ]
  },
  {
   "cell_type": "markdown",
   "metadata": {},
   "source": [
    "#### Altura "
   ]
  },
  {
   "cell_type": "code",
   "execution_count": null,
   "metadata": {},
   "outputs": [],
   "source": [
    "hist(df, \"height\")\n",
    "boxplot(df, \"height\")\n",
    "\n",
    "print(\"O atributo altura tem mais valores abaixo da média\")"
   ]
  },
  {
   "cell_type": "markdown",
   "metadata": {},
   "source": [
    "#### Peso"
   ]
  },
  {
   "cell_type": "code",
   "execution_count": null,
   "metadata": {},
   "outputs": [],
   "source": [
    "hist(df, \"weight\")\n",
    "boxplot(df, \"weight\")\n",
    "print(\"O atributo se encontra bem distribuido ao longo da média\")"
   ]
  },
  {
   "cell_type": "markdown",
   "metadata": {},
   "source": [
    "#### Idade"
   ]
  },
  {
   "cell_type": "code",
   "execution_count": null,
   "metadata": {},
   "outputs": [],
   "source": [
    "hist(df, \"age\")\n",
    "boxplot(df, \"age\")\n",
    "print(\"O atributo idade tem mais valores abaixo da média\")"
   ]
  },
  {
   "cell_type": "code",
   "execution_count": null,
   "metadata": {},
   "outputs": [],
   "source": []
  }
 ],
 "metadata": {
  "colab": {
   "collapsed_sections": [],
   "name": "Ex2.ipynb",
   "provenance": []
  },
  "kernelspec": {
   "display_name": "Python 3 (ipykernel)",
   "language": "python",
   "name": "python3"
  },
  "language_info": {
   "codemirror_mode": {
    "name": "ipython",
    "version": 3
   },
   "file_extension": ".py",
   "mimetype": "text/x-python",
   "name": "python",
   "nbconvert_exporter": "python",
   "pygments_lexer": "ipython3",
   "version": "3.9.7"
  }
 },
 "nbformat": 4,
 "nbformat_minor": 1
}
