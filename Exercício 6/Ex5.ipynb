{
 "cells": [
  {
   "cell_type": "markdown",
   "metadata": {
    "id": "CI8fNbys1WIN"
   },
   "source": [
    "# SCC0275: Introdução a Ciência de Dados - 2o Semestre de 2021\n",
    "# SCC0275 - Exercício 5\n",
    "\n",
    "### Profa. Roseli A. F. Romero\n",
    "\n",
    "### Monitor: Kenzo Sakiyama\n",
    "\n",
    "Nro do grupo:\n",
    "\n",
    "Alunos:\n",
    "\n",
    "\n",
    "1.  Stefan Taiguara Couperus Leal -  10414866\n"
   ]
  },
  {
   "cell_type": "markdown",
   "metadata": {
    "id": "ae7mLCZI-DjC"
   },
   "source": [
    "---\n"
   ]
  },
  {
   "cell_type": "markdown",
   "metadata": {
    "id": "ugQ3MbYx99I-"
   },
   "source": [
    "## Objetivos da prática:\n",
    "- Entender modelagem de dados;\n",
    "- Entender o processo de avaliação;\n",
    "- Trabalhar com procedimentos de amostragem;\n",
    "- Trabalhar com várias medidas de avaliação."
   ]
  },
  {
   "cell_type": "markdown",
   "metadata": {
    "id": "GD84PKIi1WIR"
   },
   "source": [
    "\n",
    "---\n",
    "\n",
    "**Escolha, entre as opções abaixo, apenas UM dataset para realizar os exercícios.**\n",
    "\n",
    "**Se o dataset escolhido tiver mais de duas classes, transforme ele num problema binário. Isso pode ser feito escolhendo uma classe para representar a classe positiva e o restante a classe negativa.**\n",
    "\n",
    "**Possíveis datasets:**\n",
    "\n",
    "\n",
    "*   **Câncer de mama:** [sklearn.datasets.load_breast_cancer](https://scikit-learn.org/stable/modules/generated/sklearn.datasets.load_breast_cancer.html#sklearn.datasets.load_breast_cancer)\n",
    "*   **Dígitos:** [sklearn.datasets.load_digits](https://scikit-learn.org/stable/modules/generated/sklearn.datasets.load_digits.html#sklearn.datasets.load_digits)\n",
    "*   **Wine:** [sklearn.datasets.load_wine](https://scikit-learn.org/stable/modules/generated/sklearn.datasets.load_wine.html#sklearn.datasets.load_wine)\n",
    "\n",
    "\n",
    "---\n",
    "\n",
    "\n",
    "Após a análise dos dados e um pré-processamento vem a etapa de modelagem dos experimentos. Essa etapa pode requerer voltar no pré-processamento caso perceba-se que algo precisa ser feito. A modelagem visa determinar as etapas da execução dos experimentos. No nosso cenário, experimento é a utilização de algoritmos de classificação, regressão ou agrupamento. Para tanto, é preciso definir, com ajuda da análise dos dados, o tipo do problema (classificação, regressão, ...), os atributos/features a serem utilizados e o processo de avaliação.\n",
    "\n",
    "Essa prática foca mais no processo de avaliação.\n",
    "Para a avaliação é preciso definir qual a função de custo/erro adequada, e qual o estimador para o desempenho.\n",
    "\n",
    "Utilizaremos medidas de desempenho para classificação binária baseadas na matriz de confusão (TFP, TFN, TVP, TVN).\n",
    "\n",
    "Nas aplicações reais, o cliente dita qual a medida de desempenho deve ser utilizada, e muitas vezes não é uma das clássicas. E como essa medida, em geral, tem um impacto grande no treinamento do algoritmo de classificação, muitas vezes o algoritmo precisa ser adaptado e isso não é uma tarefa fácil.\n",
    "\n",
    "Após a definição do tipo do problema e da medida de avaliação, é preciso definir como será estimado o desempenho final.\n",
    "\n",
    "Esse processo está ligado á escolha do algoritmo de classificação bem como a escolha de alguns hiperparâmetros. Uma abordagem muito comum na área é a utilização do 10-fold Cross-Validation. Esse procedimento pode ser utilizado para estimar o desempenho do classificador final, bem como, na escolha de alguns poucos hiperparâmetros.\n",
    "\n",
    "---\n"
   ]
  },
  {
   "cell_type": "markdown",
   "metadata": {
    "id": "Akk5Sv8BM3go"
   },
   "source": [
    "### Questão 01.\n",
    "\n",
    "- Caso a base escolhida tenha mais de 2 classes, transforme-a em um problema binário definindo uma classe como positiva e a outra como negativa. Você pode fazer isso uma vez e depois usar a nova base nas próximas questões.\n",
    "\n",
    "- Outras operações como remoção de atributos podem ser feitas uma vez fora da função de pré-processamento.\n",
    "\n",
    "- Implemente a função de pré-processamento para sua base aplicando as técnicas que achar necessário.\n"
   ]
  },
  {
   "cell_type": "code",
   "execution_count": 10,
   "metadata": {
    "id": "wRDthSyd90j4"
   },
   "outputs": [],
   "source": [
    "# Transforme sua base em binária, isso pode ser feito apenas uma vez antes dos outros experimentos.\n",
    "# usando o Iris como exemplo, mas a resolução seria similar para as outras base\n",
    "\n",
    "from sklearn.datasets import load_breast_cancer\n",
    "from sklearn.model_selection import train_test_split\n",
    "from sklearn.preprocessing import StandardScaler\n",
    "import pandas as pd\n",
    "from math import floor\n",
    "\n",
    "cancer = load_breast_cancer()\n",
    "\n",
    "x_treino, x_teste, y_treino, y_teste = train_test_split(cancer.data, cancer.target,test_size = 0.3,random_state = 0, stratify = cancer.target)"
   ]
  },
  {
   "cell_type": "code",
   "execution_count": null,
   "metadata": {
    "id": "MFHj3PDfNQzJ",
    "scrolled": false
   },
   "outputs": [],
   "source": []
  },
  {
   "cell_type": "code",
   "execution_count": 11,
   "metadata": {
    "id": "MFHj3PDfNQzJ",
    "scrolled": true
   },
   "outputs": [
    {
     "data": {
      "text/plain": [
       "(array([[-0.24995442, -0.41944853, -0.30789852, ..., -0.97718897,\n",
       "         -0.20739477, -0.66832181],\n",
       "        [-0.79719889,  3.42031225, -0.8426786 , ..., -1.27347868,\n",
       "          0.02906671, -0.60716144],\n",
       "        [ 0.12040295,  1.95051371,  0.19721609, ...,  0.85203866,\n",
       "          2.175283  ,  2.81725844],\n",
       "        ...,\n",
       "        [-0.84142066, -0.99846008, -0.81461668, ..., -0.1069885 ,\n",
       "          0.6694832 ,  0.38767659],\n",
       "        [-0.58438159,  1.32930699, -0.56927529, ...,  0.08421472,\n",
       "         -0.48326649, -0.07747892],\n",
       "        [-0.47382716, -0.40772765, -0.44780725, ..., -0.24941232,\n",
       "         -0.1220059 ,  1.56599573]]),\n",
       " array([[ 0.82242363,  1.85909083,  0.77729613, ...,  0.61566933,\n",
       "          0.19163397,  0.3764545 ],\n",
       "        [-0.36880044,  0.76201632, -0.40451172, ..., -0.32062422,\n",
       "         -0.10558497, -0.18072213],\n",
       "        [ 0.04025098,  0.68700268,  0.18478867, ...,  0.96194288,\n",
       "         -0.08095356,  1.64455034],\n",
       "        ...,\n",
       "        [-0.30523164,  0.36585053, -0.33275337, ..., -0.77755475,\n",
       "          0.49706337, -1.09644443],\n",
       "        [ 0.1950272 , -1.05940866,  0.11423298, ..., -0.52778613,\n",
       "         -0.91842128, -1.26084801],\n",
       "        [-1.21177803, -0.2342586 , -1.24596853, ..., -1.72544094,\n",
       "         -1.61631105, -1.02686749]]),\n",
       " array([1, 1, 0, 1, 0, 1, 0, 1, 1, 1, 1, 1, 1, 1, 0, 0, 0, 0, 1, 1, 0, 1,\n",
       "        0, 1, 0, 1, 1, 1, 0, 0, 1, 1, 0, 1, 1, 0, 0, 1, 1, 1, 1, 1, 1, 0,\n",
       "        1, 0, 1, 1, 1, 1, 0, 1, 1, 0, 1, 1, 1, 1, 1, 0, 1, 1, 1, 1, 1, 1,\n",
       "        1, 1, 1, 1, 1, 1, 1, 0, 0, 1, 1, 1, 1, 1, 0, 0, 1, 1, 1, 1, 0, 1,\n",
       "        1, 0, 0, 1, 0, 0, 0, 1, 1, 1, 1, 0, 1, 0, 0, 1, 1, 1, 0, 0, 0, 1,\n",
       "        1, 1, 0, 1, 0, 1, 1, 0, 1, 1, 0, 0, 0, 0, 1, 0, 1, 1, 1, 1, 1, 1,\n",
       "        1, 0, 0, 1, 0, 1, 0, 1, 1, 1, 0, 0, 0, 1, 0, 0, 1, 1, 1, 0, 1, 1,\n",
       "        0, 0, 1, 1, 0, 1, 1, 0, 0, 0, 0, 1, 1, 1, 1, 0, 1, 1, 1, 1, 1, 0,\n",
       "        1, 0, 0, 1, 0, 1, 1, 1, 1, 0, 1, 1, 1, 0, 0, 0, 0, 0, 0, 1, 0, 1,\n",
       "        1, 1, 0, 1, 1, 1, 1, 1, 0, 0, 0, 0, 1, 1, 1, 1, 0, 0, 0, 1, 1, 1,\n",
       "        1, 1, 1, 0, 1, 1, 0, 0, 1, 1, 0, 0, 0, 0, 1, 1, 1, 1, 0, 1, 0, 0,\n",
       "        1, 1, 1, 0, 1, 0, 0, 1, 1, 1, 1, 1, 0, 1, 1, 1, 1, 0, 1, 1, 1, 1,\n",
       "        0, 1, 1, 1, 1, 1, 0, 1, 0, 1, 1, 1, 1, 1, 1, 0, 1, 1, 0, 1, 0, 0,\n",
       "        0, 0, 1, 1, 1, 1, 1, 1, 0, 0, 1, 0, 0, 1, 0, 1, 0, 0, 1, 1, 1, 0,\n",
       "        1, 0, 0, 1, 1, 1, 0, 0, 0, 0, 0, 1, 0, 0, 1, 1, 1, 1, 0, 0, 1, 0,\n",
       "        0, 1, 0, 1, 1, 1, 1, 0, 1, 1, 0, 1, 1, 0, 1, 1, 1, 1, 0, 1, 1, 1,\n",
       "        0, 1, 1, 0, 0, 1, 1, 0, 1, 0, 0, 1, 1, 1, 0, 1, 1, 0, 1, 1, 1, 1,\n",
       "        1, 0, 0, 1, 1, 1, 0, 1, 0, 1, 1, 1, 0, 0, 1, 0, 1, 1, 1, 0, 1, 1,\n",
       "        1, 1]),\n",
       " array([0, 0, 0, 1, 0, 1, 0, 0, 0, 0, 0, 1, 1, 1, 0, 0, 0, 1, 0, 0, 1, 1,\n",
       "        1, 0, 0, 0, 1, 0, 1, 0, 0, 1, 0, 1, 1, 1, 1, 0, 1, 0, 0, 0, 1, 0,\n",
       "        1, 0, 0, 1, 1, 1, 1, 0, 1, 0, 1, 1, 1, 1, 1, 1, 1, 1, 0, 0, 1, 1,\n",
       "        0, 0, 0, 1, 1, 0, 1, 1, 1, 1, 1, 0, 0, 1, 1, 1, 1, 0, 1, 1, 0, 0,\n",
       "        0, 0, 1, 1, 1, 1, 1, 0, 0, 1, 0, 0, 1, 1, 1, 0, 1, 0, 1, 0, 1, 1,\n",
       "        1, 0, 0, 1, 1, 1, 1, 0, 1, 1, 1, 1, 1, 1, 0, 1, 1, 1, 1, 1, 1, 1,\n",
       "        1, 1, 0, 1, 1, 1, 0, 0, 1, 0, 1, 0, 1, 0, 1, 1, 1, 1, 1, 1, 1, 1,\n",
       "        0, 1, 1, 1, 1, 1, 0, 1, 1, 1, 0, 1, 1, 0, 1, 1, 1]))"
      ]
     },
     "execution_count": 11,
     "metadata": {},
     "output_type": "execute_result"
    }
   ],
   "source": [
    "def preprocess(x_treino, x_teste, y_treino, y_teste):\n",
    "    \n",
    "    \n",
    "    sc = StandardScaler()\n",
    "    x_treino_novo = sc.fit_transform(x_treino)\n",
    "    x_teste_novo = sc.transform(x_teste)\n",
    "\n",
    "    y_treino_novo = y_treino \n",
    "    y_teste_novo = y_teste\n",
    "    \n",
    "    return x_treino_novo, x_teste_novo, y_treino_novo, y_teste_novo\n",
    "\n",
    "preprocess(x_treino, x_teste, y_treino, y_teste)"
   ]
  },
  {
   "cell_type": "markdown",
   "metadata": {
    "id": "Jvl_VCC1IkEG"
   },
   "source": [
    "### Questão 02.\n",
    "\n",
    "- Implemente uma função que gere uma matriz de confusão a partir de predições.\n",
    "- Escolha uma métrica dentre as apresentadas durante a aula e implemente-a a partir da matriz confusão."
   ]
  },
  {
   "cell_type": "code",
   "execution_count": 12,
   "metadata": {
    "id": "I8lv96dWnE_H"
   },
   "outputs": [],
   "source": [
    "# Caso de teste. \n",
    "# Você pode usar a matriz de confusão do scikit para comparar com a saida da sua.\n",
    "import numpy as np\n",
    "import seaborn as sns\n",
    "from sklearn.metrics import confusion_matrix as cm\n",
    "import matplotlib.pyplot as plt\n",
    "\n",
    "actual    = np.array([1, 0, 1, 1, 0, 0, 1, 0, 1, 1])\n",
    "predicted = np.array([0, 1, 1, 1, 1, 0, 1, 1, 0, 1])"
   ]
  },
  {
   "cell_type": "code",
   "execution_count": 13,
   "metadata": {},
   "outputs": [],
   "source": [
    "# mudar o nome e parâmetros de acordo com sua métrica\n",
    "def accuracy(conf_mat):\n",
    "    return (sum(np.diagonal(conf_mat))) / (conf_mat.sum())\n",
    "\n",
    "def precision(conf_mat):\n",
    "    return conf_mat[0][0] / (conf_mat[0][0] + conf_mat[1][1])\n",
    "\n",
    "def false_positive_rate(conf_mat):\n",
    "    return conf_mat[0][1] / (conf_mat[0][1] + conf_mat[1][1]) \n",
    "\n",
    "def true_positive_rate(conf_mat):\n",
    "    return conf_mat[0][0] / (conf_mat[0][0] + conf_mat[1][0])\n",
    "\n",
    "def positive_predictive_value(conf_mat):\n",
    "    return conf_mat[0][0] / (conf_mat[0][0] + conf_mat[0][1])\n",
    "\n",
    "def negative_predictive_value(conf_mat):\n",
    "    return conf_mat[0][1] / (conf_mat[0][0] + conf_mat[0][1])"
   ]
  },
  {
   "cell_type": "code",
   "execution_count": 14,
   "metadata": {
    "id": "P3Wap7GsJBkv"
   },
   "outputs": [
    {
     "data": {
      "image/png": "[encoded data removed]",
      "text/plain": [
       "<Figure size 432x288 with 2 Axes>"
      ]
     },
     "metadata": {
      "needs_background": "light"
     },
     "output_type": "display_data"
    },
    {
     "name": "stdout",
     "output_type": "stream",
     "text": [
      "Acurácia: 50.00%\n",
      "Precision: 20.00%\n",
      "False Positive Rate: 42.86%\n",
      "True Positive Rate: 33.33%\n",
      "Positive Predictive Value: 25.00%\n",
      "Negative Predictive Value: 75.00%\n"
     ]
    }
   ],
   "source": [
    "def confusion_matrix(y_test, y_pred):\n",
    "    conf = cm(y_test, y_pred)\n",
    "    \n",
    "    ax = sns.heatmap(conf/np.sum(conf), annot=True, \n",
    "            fmt='.2%', cmap='Blues')\n",
    "\n",
    "    ax.set_title('Seaborn Confusion Matrix with labels\\n\\n');\n",
    "    ax.set_xlabel('\\nPredicted Values')\n",
    "    ax.set_ylabel('Actual Values ');\n",
    "\n",
    "    ## Ticket labels - List must be in alphabetical order\n",
    "    ax.xaxis.set_ticklabels(['False','True'])\n",
    "    ax.yaxis.set_ticklabels(['False','True'])\n",
    "\n",
    "    ## Display the visualization of the Confusion Matrix.\n",
    "    plt.show()\n",
    "    \n",
    "    print(\"Acurácia: {:.2f}%\".format(accuracy(conf)*100))\n",
    "    print(\"Precision: {:.2f}%\".format(precision(conf)*100))\n",
    "    print(\"False Positive Rate: {:.2f}%\".format(false_positive_rate(conf)*100))\n",
    "    print(\"True Positive Rate: {:.2f}%\".format(true_positive_rate(conf)*100))\n",
    "    print(\"Positive Predictive Value: {:.2f}%\".format(positive_predictive_value(conf)*100))\n",
    "    print(\"Negative Predictive Value: {:.2f}%\".format(negative_predictive_value(conf)*100))\n",
    "    \n",
    "    \n",
    "    return conf\n",
    "\n",
    "conf_mat = confusion_matrix(actual, predicted)"
   ]
  },
  {
   "cell_type": "code",
   "execution_count": null,
   "metadata": {
    "id": "Z4ptZrMVJKsP"
   },
   "outputs": [],
   "source": []
  },
  {
   "cell_type": "markdown",
   "metadata": {
    "id": "wtFI7jQQSvhV"
   },
   "source": [
    "Uma boa prática é escolher modelos mais simples, dados dois modelos com desempenho similar a escolha do mais simples é indicada pois com isso há algumas garantias de melhor generalização. Generalização, de maneira geral, é a propriedade que garante que o classificador terá desempenho parecido ao reportado no conjunto de teste.\n",
    "\n",
    "A definição da complexidade de um modelo nem sempre é uma tarefa fácil. Uma maneira de tentar mensurar isso é através do número de parâmetros do modelo, do tipo de função que ele implementa (linear ou não linear, cortes ortogonais no espaço, ...)."
   ]
  },
  {
   "cell_type": "markdown",
   "metadata": {
    "id": "K6f0yT8l86PD"
   },
   "source": [
    "### Questão 03.\n",
    "\n",
    "Complete e execute a função *classificacao* definida no notebook.\n",
    "\n",
    "- Aplique validação cruzada\n",
    "- Use sua função de pré-processamento\n",
    "- Use sua métrica de avaliação\n",
    "- Diga qual o modelo tem o melhor desempenho e explique porque você acha isso.\n",
    "\n",
    "**Sugestão**: Utilize o gabarito do exercício anterior como referência."
   ]
  },
  {
   "cell_type": "code",
   "execution_count": 15,
   "metadata": {
    "id": "WaR7HyvO9zss"
   },
   "outputs": [],
   "source": [
    "from sklearn.tree import DecisionTreeClassifier\n",
    "from sklearn.linear_model import Perceptron\n",
    "from sklearn.model_selection import KFold\n",
    "from matplotlib import pyplot as plt\n",
    "from numpy import mean, std\n",
    "import numpy as np\n",
    "from sklearn.metrics import accuracy_score\n",
    "\n",
    "\n",
    "def classificacao(data, columns, target, preproc_fn, score_fn, score_name,\n",
    "                  folds=5, plot=True,  show=True):\n",
    "    \"\"\"\n",
    "    Executa classificação do conjunto de dados passado\n",
    "    ---------------------------------------------------------------\n",
    "    data:       DataFrame. Conjunto de dados\n",
    "    columns:    Lista de inteiros. Índice das colunas utilizadas no treinamento e teste\n",
    "    target:     Inteiro. Índice da coluna alvo\n",
    "    preproc_fn: Função. Faz o pré-processamento da base já separada em treino e teste \n",
    "    score_fn:   Função. A função que calcula a medida de desempenho desejada. Deve ser uma \n",
    "                função que compara dois vetores, o primeiro vetor são os valores preditos\n",
    "                pelo classificador, o segundo os rótulos reais\n",
    "                Vide exemplo das funções em \n",
    "                http://scikit-learn.org/stable/modules/classes.html#module-sklearn.metrics\n",
    "                como por exemplo, sklearn.metrics.accuracy_score\n",
    "                http://scikit-learn.org/stable/modules/generated/sklearn.metrics.accuracy_score.html\n",
    "    score_name: String. Uma string com o nome da medida de desempenho\n",
    "    folds:      Inteiro. Número de folds na validação cruzada\n",
    "    plot:       Booleano. True para plotar os gráficos False para não plotar\n",
    "    ---------------------------------------------------------------\n",
    "    Realiza a classificação em 2 modelos (perceptron, Árvore de decisão)\n",
    "    Plot o gráfico de desempenho para cada classificador.\n",
    "    Retorna um dicionário com os classificadores treinados, as medidas de desempenho e matriz de confusão\n",
    "    \"\"\"\n",
    "    # inicializa os modelos com os parâmetros solicitados\n",
    "    prcp = Perceptron()\n",
    "    dt = DecisionTreeClassifier(criterion='gini', splitter='best', min_samples_split=int(len(data)*0.1))\n",
    "    \n",
    "    clfs = [prcp, dt]\n",
    "    clfs_names = ['perceptron', 'dt']\n",
    "  \n",
    "    # prepara validação cruzada\n",
    "    # faz divisão do dataset em fold partes\n",
    "    kf = KFold(n_splits=folds)\n",
    "    \n",
    "    \n",
    "    results = {'perceptron':  \n",
    "                   {\n",
    "                    \"accuracy\": [], \n",
    "                    \"precision\": [], \n",
    "                    \"false_positive_rate\": [], \n",
    "                    \"true_positive_rate\": [], \n",
    "                    \"positive_predictive_value\": [], \n",
    "                    \"negative_predictive_value\": [],\n",
    "                    \"value\": []\n",
    "                   },\n",
    "               'dt':\n",
    "                 {\n",
    "                    \"accuracy\": [], \n",
    "                    \"precision\": [], \n",
    "                    \"false_positive_rate\": [], \n",
    "                    \"true_positive_rate\": [], \n",
    "                    \"positive_predictive_value\": [], \n",
    "                    \"negative_predictive_value\": [],\n",
    "                    \"value\": []\n",
    "                     \n",
    "                   }}\n",
    "    \n",
    "    for train_index, test_index in kf.split(data):     \n",
    "\n",
    "\n",
    "        # itera para cada classificador fazendo treino e teste\n",
    "        for c, c_name in zip(clfs, clfs_names):\n",
    "            # para cada split \n",
    "\n",
    "                # separa conjunto de treino e de teste\n",
    "                x_treino, x_teste, y_treino, y_teste = train_test_split(\n",
    "                                                        data[train_index],\n",
    "                                                        target[train_index],\n",
    "                                                        test_size = 0.3,\n",
    "                                                        random_state = 42)\n",
    "\n",
    "\n",
    "                x_train, x_test, y_train, y_test = preproc_fn(x_treino, x_teste, y_treino, y_teste)\n",
    "\n",
    "\n",
    "                # faz o treino do modelo\n",
    "                clf = c.fit(X=x_train, y=y_train)\n",
    "\n",
    "                # valores preditos pelo classificador\n",
    "                y_pred = clf.predict(x_test)\n",
    "                # rótulos verdadeiros convertidos para array\n",
    "                y_test = np.array(y_test)\n",
    "                conf = cm(y_test, y_pred)\n",
    "            \n",
    "                results[c_name][\"accuracy\"].append(accuracy(conf))\n",
    "                results[c_name][\"precision\"].append(precision(conf))\n",
    "                results[c_name][\"false_positive_rate\"].append(false_positive_rate(conf))\n",
    "                results[c_name][\"true_positive_rate\"].append(true_positive_rate(conf))\n",
    "                results[c_name][\"positive_predictive_value\"].append(positive_predictive_value(conf))\n",
    "                results[c_name][\"negative_predictive_value\"].append(negative_predictive_value(conf))\n",
    "                \n",
    "                resultado = accuracy_score( y_test, y_pred)\n",
    "                results[c_name][\"value\"].append(resultado)\n",
    "                \n",
    "    if show:\n",
    "        print_all_the_information(results)\n",
    "\n",
    "    \n",
    "    if not plot:\n",
    "        return {'results': results, 'clfs':clfs}\n",
    "    \n",
    "    \n",
    "    # faz o plot de desempenho dos classificadores\n",
    "    plt.figure(figsize=(8,8))\n",
    "    plt.grid()\n",
    "    plt.bar(range(1, len(clfs)+1), [mean(results[name][\"value\"]) for name in clfs_names], \n",
    "                                yerr=[std(results[name][\"value\"]) for name in clfs_names])\n",
    "    plt.xticks(range(1, len(clfs)+1), clfs_names, rotation=45)\n",
    "    title = 'Desempenho dos classificadores - %s'%(score_name)\n",
    "    plt.title(title)\n",
    "    plt.show()\n",
    "    \n",
    "    return {'results': results, 'clfs':clfs}\n",
    "\n",
    "def print_all_the_information(results):\n",
    "    print(\"---------Percepetron------------\")\n",
    "    print(\"Accuracy: {:.2f}%\".format(100*np.mean(results['perceptron']['accuracy'])))\n",
    "    print(\"Precision: {:.2f}%\".format(100*np.mean(results['perceptron']['precision'])))\n",
    "    print(\"False Positive Rate: {:.2f}%\".format(100*np.mean(results['perceptron']['false_positive_rate'])))\n",
    "    print(\"True Positive Rate: {:.2f}%\".format(100*np.mean(results['perceptron']['true_positive_rate'])))\n",
    "    print(\"Positive Predictive Value: {:.2f}%\".format(100*np.mean(results['perceptron']['positive_predictive_value'])))\n",
    "    print(\"Negative Predictive Value: {:.2f}%\".format(100*np.mean(results['perceptron']['negative_predictive_value'])))\n",
    "\n",
    "\n",
    "    print(\"\\n\\n---------Decision Tree------------\")\n",
    "    print(\"Accuracy: {:.2f}%\".format(100*np.mean(results['dt']['accuracy'])))\n",
    "    print(\"Precision: {:.2f}%\".format(100*np.mean(results['dt']['precision'])))\n",
    "    print(\"False Positive Rate: {:.2f}%\".format(100*np.mean(results['dt']['false_positive_rate'])))\n",
    "    print(\"True Positive Rate: {:.2f}%\".format(100*np.mean(results['dt']['true_positive_rate'])))\n",
    "    print(\"Positive Predictive Value: {:.2f}%\".format(100*np.mean(results['dt']['positive_predictive_value'])))\n",
    "    print(\"Negative Predictive Value: {:.2f}%\".format(100*np.mean(results['dt']['negative_predictive_value'])))\n",
    "\n"
   ]
  },
  {
   "cell_type": "code",
   "execution_count": 8,
   "metadata": {
    "id": "NJWy5TLNrp6T",
    "scrolled": false
   },
   "outputs": [
    {
     "name": "stdout",
     "output_type": "stream",
     "text": [
      "---------Percepetron------------\n"
     ]
    },
    {
     "ename": "KeyError",
     "evalue": "'results'",
     "output_type": "error",
     "traceback": [
      "\u001b[0;31m---------------------------------------------------------------------------\u001b[0m",
      "\u001b[0;31mKeyError\u001b[0m                                  Traceback (most recent call last)",
      "\u001b[0;32m/tmp/ipykernel_18697/1965069939.py\u001b[0m in \u001b[0;36m<module>\u001b[0;34m\u001b[0m\n\u001b[1;32m      1\u001b[0m \u001b[0;31m# Chama a função com suas métricas\u001b[0m\u001b[0;34m\u001b[0m\u001b[0;34m\u001b[0m\u001b[0m\n\u001b[0;32m----> 2\u001b[0;31m results = classificacao(cancer.data, cancer.data, cancer.target, preprocess, accuracy, \"acuracia\",\n\u001b[0m\u001b[1;32m      3\u001b[0m                   folds=5, plot=True, show=True)\n\u001b[1;32m      4\u001b[0m \u001b[0;34m\u001b[0m\u001b[0m\n\u001b[1;32m      5\u001b[0m \u001b[0;34m\u001b[0m\u001b[0m\n",
      "\u001b[0;32m/tmp/ipykernel_18697/4277950802.py\u001b[0m in \u001b[0;36mclassificacao\u001b[0;34m(data, columns, target, preproc_fn, score_fn, score_name, folds, plot, show)\u001b[0m\n\u001b[1;32m    105\u001b[0m \u001b[0;34m\u001b[0m\u001b[0m\n\u001b[1;32m    106\u001b[0m     \u001b[0;32mif\u001b[0m \u001b[0mshow\u001b[0m\u001b[0;34m:\u001b[0m\u001b[0;34m\u001b[0m\u001b[0;34m\u001b[0m\u001b[0m\n\u001b[0;32m--> 107\u001b[0;31m         \u001b[0mprint_all_the_information\u001b[0m\u001b[0;34m(\u001b[0m\u001b[0mresults\u001b[0m\u001b[0;34m)\u001b[0m\u001b[0;34m\u001b[0m\u001b[0;34m\u001b[0m\u001b[0m\n\u001b[0m\u001b[1;32m    108\u001b[0m \u001b[0;34m\u001b[0m\u001b[0m\n\u001b[1;32m    109\u001b[0m \u001b[0;34m\u001b[0m\u001b[0m\n",
      "\u001b[0;32m/tmp/ipykernel_18697/4277950802.py\u001b[0m in \u001b[0;36mprint_all_the_information\u001b[0;34m(results)\u001b[0m\n\u001b[1;32m    126\u001b[0m \u001b[0;32mdef\u001b[0m \u001b[0mprint_all_the_information\u001b[0m\u001b[0;34m(\u001b[0m\u001b[0mresults\u001b[0m\u001b[0;34m)\u001b[0m\u001b[0;34m:\u001b[0m\u001b[0;34m\u001b[0m\u001b[0;34m\u001b[0m\u001b[0m\n\u001b[1;32m    127\u001b[0m     \u001b[0mprint\u001b[0m\u001b[0;34m(\u001b[0m\u001b[0;34m\"---------Percepetron------------\"\u001b[0m\u001b[0;34m)\u001b[0m\u001b[0;34m\u001b[0m\u001b[0;34m\u001b[0m\u001b[0m\n\u001b[0;32m--> 128\u001b[0;31m     \u001b[0mprint\u001b[0m\u001b[0;34m(\u001b[0m\u001b[0;34m\"Accuracy: {:.2f}%\"\u001b[0m\u001b[0;34m.\u001b[0m\u001b[0mformat\u001b[0m\u001b[0;34m(\u001b[0m\u001b[0;36m100\u001b[0m\u001b[0;34m*\u001b[0m\u001b[0mnp\u001b[0m\u001b[0;34m.\u001b[0m\u001b[0mmean\u001b[0m\u001b[0;34m(\u001b[0m\u001b[0mresults\u001b[0m\u001b[0;34m[\u001b[0m\u001b[0;34m'results'\u001b[0m\u001b[0;34m]\u001b[0m\u001b[0;34m[\u001b[0m\u001b[0;34m'perceptron'\u001b[0m\u001b[0;34m]\u001b[0m\u001b[0;34m[\u001b[0m\u001b[0;34m'accuracy'\u001b[0m\u001b[0;34m]\u001b[0m\u001b[0;34m)\u001b[0m\u001b[0;34m)\u001b[0m\u001b[0;34m)\u001b[0m\u001b[0;34m\u001b[0m\u001b[0;34m\u001b[0m\u001b[0m\n\u001b[0m\u001b[1;32m    129\u001b[0m     \u001b[0mprint\u001b[0m\u001b[0;34m(\u001b[0m\u001b[0;34m\"Precision: {:.2f}%\"\u001b[0m\u001b[0;34m.\u001b[0m\u001b[0mformat\u001b[0m\u001b[0;34m(\u001b[0m\u001b[0;36m100\u001b[0m\u001b[0;34m*\u001b[0m\u001b[0mnp\u001b[0m\u001b[0;34m.\u001b[0m\u001b[0mmean\u001b[0m\u001b[0;34m(\u001b[0m\u001b[0mresults\u001b[0m\u001b[0;34m[\u001b[0m\u001b[0;34m'results'\u001b[0m\u001b[0;34m]\u001b[0m\u001b[0;34m[\u001b[0m\u001b[0;34m'perceptron'\u001b[0m\u001b[0;34m]\u001b[0m\u001b[0;34m[\u001b[0m\u001b[0;34m'precision'\u001b[0m\u001b[0;34m]\u001b[0m\u001b[0;34m)\u001b[0m\u001b[0;34m)\u001b[0m\u001b[0;34m)\u001b[0m\u001b[0;34m\u001b[0m\u001b[0;34m\u001b[0m\u001b[0m\n\u001b[1;32m    130\u001b[0m     \u001b[0mprint\u001b[0m\u001b[0;34m(\u001b[0m\u001b[0;34m\"False Positive Rate: {:.2f}%\"\u001b[0m\u001b[0;34m.\u001b[0m\u001b[0mformat\u001b[0m\u001b[0;34m(\u001b[0m\u001b[0;36m100\u001b[0m\u001b[0;34m*\u001b[0m\u001b[0mnp\u001b[0m\u001b[0;34m.\u001b[0m\u001b[0mmean\u001b[0m\u001b[0;34m(\u001b[0m\u001b[0mresults\u001b[0m\u001b[0;34m[\u001b[0m\u001b[0;34m'results'\u001b[0m\u001b[0;34m]\u001b[0m\u001b[0;34m[\u001b[0m\u001b[0;34m'perceptron'\u001b[0m\u001b[0;34m]\u001b[0m\u001b[0;34m[\u001b[0m\u001b[0;34m'false_positive_rate'\u001b[0m\u001b[0;34m]\u001b[0m\u001b[0;34m)\u001b[0m\u001b[0;34m)\u001b[0m\u001b[0;34m)\u001b[0m\u001b[0;34m\u001b[0m\u001b[0;34m\u001b[0m\u001b[0m\n",
      "\u001b[0;31mKeyError\u001b[0m: 'results'"
     ]
    }
   ],
   "source": [
    "# Chama a função com suas métricas\n",
    "results = classificacao(cancer.data, cancer.data, cancer.target, preprocess, accuracy, \"acuracia\",\n",
    "                  folds=5, plot=True, show=True)\n",
    "\n",
    "\n"
   ]
  },
  {
   "cell_type": "markdown",
   "metadata": {
    "id": "njxCEyHt9BH6"
   },
   "source": [
    "---\n",
    "\n",
    "### Questão 04.\n",
    "\n",
    "Utilizar os 2 procedimentos de amostragem para estimação do desempenho:\n",
    "- 10-fold Cross Validation;\n",
    "- Leave-one-out;\n",
    "\n",
    "Para o dataset escolhido, executar os 2 procedimentos acima para estimar o desempenho. Avalie a diferença na variância entre essas abordagens.\n",
    "\n",
    "  * Você pode utilizar a função *classificacao* já disponível apenas ajustando o parâmetro *folds*.\n",
    "\n",
    "Essas execuções podem demorar um pouco, então tenham paciência."
   ]
  },
  {
   "cell_type": "code",
   "execution_count": null,
   "metadata": {
    "id": "9CsPCXyv9yQ2"
   },
   "outputs": [],
   "source": [
    "# Chama a função com 10-fold cross validation\n",
    "results =  classificacao(cancer.data, cancer.data, cancer.target, preprocess, accuracy, \"acuracia\",\n",
    "                  folds=10, plot=True, ,=  show=True)\n",
    "\n"
   ]
  },
  {
   "cell_type": "code",
   "execution_count": null,
   "metadata": {
    "id": "_WwTx3oqlTQr"
   },
   "outputs": [],
   "source": [
    "# Chama a função com leave-one-out\n",
    "# Chama a função com 10-fold cross validation\n",
    "results = classificacao(cancer.data, cancer.data, cancer.target, preprocess, accuracy, \"acuracia\",\n",
    "                  folds=len(cancer.data), plot=True,  show=True)\n",
    "\n"
   ]
  },
  {
   "cell_type": "code",
   "execution_count": null,
   "metadata": {},
   "outputs": [],
   "source": []
  }
 ],
 "metadata": {
  "colab": {
   "collapsed_sections": [],
   "name": "Ex8.ipynb",
   "provenance": [
    {
     "file_id": "1rDUjv2mXomJnKX-xBoU6jWw25p52b0vA",
     "timestamp": 1591284005613
    },
    {
     "file_id": "1vh_baUGNIgEvcwczP8WSdv4Mkhb3aVrC",
     "timestamp": 1591283811719
    }
   ]
  },
  "kernelspec": {
   "display_name": "Python 3 (ipykernel)",
   "language": "python",
   "name": "python3"
  },
  "language_info": {
   "codemirror_mode": {
    "name": "ipython",
    "version": 3
   },
   "file_extension": ".py",
   "mimetype": "text/x-python",
   "name": "python",
   "nbconvert_exporter": "python",
   "pygments_lexer": "ipython3",
   "version": "3.9.7"
  }
 },
 "nbformat": 4,
 "nbformat_minor": 1
}
