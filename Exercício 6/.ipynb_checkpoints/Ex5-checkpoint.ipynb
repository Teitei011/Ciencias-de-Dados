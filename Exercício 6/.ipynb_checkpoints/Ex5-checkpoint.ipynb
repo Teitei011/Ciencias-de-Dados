{
 "cells": [
  {
   "cell_type": "markdown",
   "metadata": {
    "id": "CI8fNbys1WIN"
   },
   "source": [
    "# SCC0275: Introdução a Ciência de Dados - 2o Semestre de 2021\n",
    "# SCC0275 - Exercício 5\n",
    "\n",
    "### Profa. Roseli A. F. Romero\n",
    "\n",
    "### Monitor: Kenzo Sakiyama\n",
    "\n",
    "Nro do grupo:\n",
    "\n",
    "Alunos:\n",
    "\n",
    "\n",
    "1.  Stefan Taiguara Couperus Leal -  10414866\n"
   ]
  },
  {
   "cell_type": "markdown",
   "metadata": {
    "id": "ae7mLCZI-DjC"
   },
   "source": [
    "---\n"
   ]
  },
  {
   "cell_type": "markdown",
   "metadata": {
    "id": "ugQ3MbYx99I-"
   },
   "source": [
    "## Objetivos da prática:\n",
    "- Entender modelagem de dados;\n",
    "- Entender o processo de avaliação;\n",
    "- Trabalhar com procedimentos de amostragem;\n",
    "- Trabalhar com várias medidas de avaliação."
   ]
  },
  {
   "cell_type": "markdown",
   "metadata": {
    "id": "GD84PKIi1WIR"
   },
   "source": [
    "\n",
    "---\n",
    "\n",
    "**Escolha, entre as opções abaixo, apenas UM dataset para realizar os exercícios.**\n",
    "\n",
    "**Se o dataset escolhido tiver mais de duas classes, transforme ele num problema binário. Isso pode ser feito escolhendo uma classe para representar a classe positiva e o restante a classe negativa.**\n",
    "\n",
    "**Possíveis datasets:**\n",
    "\n",
    "\n",
    "*   **Câncer de mama:** [sklearn.datasets.load_breast_cancer](https://scikit-learn.org/stable/modules/generated/sklearn.datasets.load_breast_cancer.html#sklearn.datasets.load_breast_cancer)\n",
    "*   **Dígitos:** [sklearn.datasets.load_digits](https://scikit-learn.org/stable/modules/generated/sklearn.datasets.load_digits.html#sklearn.datasets.load_digits)\n",
    "*   **Wine:** [sklearn.datasets.load_wine](https://scikit-learn.org/stable/modules/generated/sklearn.datasets.load_wine.html#sklearn.datasets.load_wine)\n",
    "\n",
    "\n",
    "---\n",
    "\n",
    "\n",
    "Após a análise dos dados e um pré-processamento vem a etapa de modelagem dos experimentos. Essa etapa pode requerer voltar no pré-processamento caso perceba-se que algo precisa ser feito. A modelagem visa determinar as etapas da execução dos experimentos. No nosso cenário, experimento é a utilização de algoritmos de classificação, regressão ou agrupamento. Para tanto, é preciso definir, com ajuda da análise dos dados, o tipo do problema (classificação, regressão, ...), os atributos/features a serem utilizados e o processo de avaliação.\n",
    "\n",
    "Essa prática foca mais no processo de avaliação.\n",
    "Para a avaliação é preciso definir qual a função de custo/erro adequada, e qual o estimador para o desempenho.\n",
    "\n",
    "Utilizaremos medidas de desempenho para classificação binária baseadas na matriz de confusão (TFP, TFN, TVP, TVN).\n",
    "\n",
    "Nas aplicações reais, o cliente dita qual a medida de desempenho deve ser utilizada, e muitas vezes não é uma das clássicas. E como essa medida, em geral, tem um impacto grande no treinamento do algoritmo de classificação, muitas vezes o algoritmo precisa ser adaptado e isso não é uma tarefa fácil.\n",
    "\n",
    "Após a definição do tipo do problema e da medida de avaliação, é preciso definir como será estimado o desempenho final.\n",
    "\n",
    "Esse processo está ligado á escolha do algoritmo de classificação bem como a escolha de alguns hiperparâmetros. Uma abordagem muito comum na área é a utilização do 10-fold Cross-Validation. Esse procedimento pode ser utilizado para estimar o desempenho do classificador final, bem como, na escolha de alguns poucos hiperparâmetros.\n",
    "\n",
    "---\n"
   ]
  },
  {
   "cell_type": "markdown",
   "metadata": {
    "id": "Akk5Sv8BM3go"
   },
   "source": [
    "### Questão 01.\n",
    "\n",
    "- Caso a base escolhida tenha mais de 2 classes, transforme-a em um problema binário definindo uma classe como positiva e a outra como negativa. Você pode fazer isso uma vez e depois usar a nova base nas próximas questões.\n",
    "\n",
    "- Outras operações como remoção de atributos podem ser feitas uma vez fora da função de pré-processamento.\n",
    "\n",
    "- Implemente a função de pré-processamento para sua base aplicando as técnicas que achar necessário.\n"
   ]
  },
  {
   "cell_type": "code",
   "execution_count": 5,
   "metadata": {
    "id": "wRDthSyd90j4"
   },
   "outputs": [],
   "source": [
    "# Transforme sua base em binária, isso pode ser feito apenas uma vez antes dos outros experimentos.\n",
    "# usando o Iris como exemplo, mas a resolução seria similar para as outras base\n",
    "\n",
    "from sklearn.datasets import load_breast_cancer\n",
    "from sklearn.model_selection import train_test_split\n",
    "from sklearn.preprocessing import StandardScaler\n",
    "import pandas as pd\n",
    "\n",
    "cancer = load_breast_cancer()\n",
    "\n",
    "x_treino, x_teste, y_treino, y_teste = train_test_split(cancer.data, cancer.target,test_size = 0.3,random_state = 0, stratify = cancer.target)\n"
   ]
  },
  {
   "cell_type": "code",
   "execution_count": 8,
   "metadata": {
    "id": "MFHj3PDfNQzJ"
   },
   "outputs": [
    {
     "data": {
      "text/plain": [
       "array([0, 0, 0, 1, 0, 1, 0, 0, 0, 0, 0, 1, 1, 1, 0, 0, 0, 1, 0, 0, 1, 1,\n",
       "       1, 0, 0, 0, 1, 0, 1, 0, 0, 1, 0, 1, 1, 1, 1, 0, 1, 0, 0, 0, 1, 0,\n",
       "       1, 0, 0, 1, 1, 1, 1, 0, 1, 0, 1, 1, 1, 1, 1, 1, 1, 1, 0, 0, 1, 1,\n",
       "       0, 0, 0, 1, 1, 0, 1, 1, 1, 1, 1, 0, 0, 1, 1, 1, 1, 0, 1, 1, 0, 0,\n",
       "       0, 0, 1, 1, 1, 1, 1, 0, 0, 1, 0, 0, 1, 1, 1, 0, 1, 0, 1, 0, 1, 1,\n",
       "       1, 0, 0, 1, 1, 1, 1, 0, 1, 1, 1, 1, 1, 1, 0, 1, 1, 1, 1, 1, 1, 1,\n",
       "       1, 1, 0, 1, 1, 1, 0, 0, 1, 0, 1, 0, 1, 0, 1, 1, 1, 1, 1, 1, 1, 1,\n",
       "       0, 1, 1, 1, 1, 1, 0, 1, 1, 1, 0, 1, 1, 0, 1, 1, 1])"
      ]
     },
     "execution_count": 8,
     "metadata": {},
     "output_type": "execute_result"
    }
   ],
   "source": []
  },
  {
   "cell_type": "code",
   "execution_count": 1,
   "metadata": {
    "id": "MFHj3PDfNQzJ"
   },
   "outputs": [],
   "source": [
    "def preprocess(x_treino, x_teste, y_treino, y_teste):\n",
    "    \n",
    "    \n",
    "    c = StandardScaler()\n",
    "    x_treino_novo = sc.fit_transform(x_treino)\n",
    "    X_teste_novo = sc.transform(x_teste)\n",
    "\n",
    "    y_treino_novo = y_treino \n",
    "    y_teste_novo = y_teste\n",
    "    \n",
    "    return x_treino_novo, x_teste_novo, y_treino_novo, y_teste_novo"
   ]
  },
  {
   "cell_type": "markdown",
   "metadata": {
    "id": "Jvl_VCC1IkEG"
   },
   "source": [
    "### Questão 02.\n",
    "\n",
    "- Implemente uma função que gere uma matriz de confusão a partir de predições.\n",
    "- Escolha uma métrica dentre as apresentadas durante a aula e implemente-a a partir da matriz confusão."
   ]
  },
  {
   "cell_type": "code",
   "execution_count": 21,
   "metadata": {
    "id": "I8lv96dWnE_H"
   },
   "outputs": [],
   "source": [
    "# Caso de teste. \n",
    "# Você pode usar a matriz de confusão do scikit para comparar com a saida da sua.\n",
    "import numpy as np\n",
    "import seaborn as sns\n",
    "from sklearn.metrics import confusion_matrix as cm\n",
    "\n",
    "actual    = np.array([1, 0, 1, 1, 0, 0, 1, 0, 1, 1])\n",
    "predicted = np.array([0, 1, 1, 1, 1, 0, 1, 1, 0, 1])"
   ]
  },
  {
   "cell_type": "code",
   "execution_count": 24,
   "metadata": {
    "id": "P3Wap7GsJBkv"
   },
   "outputs": [
    {
     "name": "stdout",
     "output_type": "stream",
     "text": [
      "[[1 3]\n",
      " [2 4]]\n"
     ]
    }
   ],
   "source": [
    "def confusion_matrix(y_test, y_pred):\n",
    "    \n",
    "    conf = cm(y_test, y_pred)\n",
    "    \n",
    "#     conf = np.zeros((2,2))\n",
    "#     ax = sns.heatmap(cf_matrix/np.sum(cf_matrix), annot=True, \n",
    "#             fmt='.2%', cmap='Blues')\n",
    "\n",
    "#     ax.set_title('Seaborn Confusion Matrix with labels\\n\\n');\n",
    "#     ax.set_xlabel('\\nPredicted Values')\n",
    "#     ax.set_ylabel('Actual Values ');\n",
    "\n",
    "#     ## Ticket labels - List must be in alphabetical order\n",
    "#     ax.xaxis.set_ticklabels(['False','True'])\n",
    "#     ax.yaxis.set_ticklabels(['False','True'])\n",
    "\n",
    "#     ## Display the visualization of the Confusion Matrix.\n",
    "#     plt.show()\n",
    "    \n",
    "    return conf\n",
    "\n",
    "conf_mat = confusion_matrix(actual, predicted)\n",
    "print(conf_mat)"
   ]
  },
  {
   "cell_type": "code",
   "execution_count": 8,
   "metadata": {
    "id": "Z4ptZrMVJKsP"
   },
   "outputs": [
    {
     "ename": "NameError",
     "evalue": "name 'm' is not defined",
     "output_type": "error",
     "traceback": [
      "\u001b[0;31m---------------------------------------------------------------------------\u001b[0m",
      "\u001b[0;31mNameError\u001b[0m                                 Traceback (most recent call last)",
      "\u001b[0;32m/tmp/ipykernel_28021/560456050.py\u001b[0m in \u001b[0;36m<module>\u001b[0;34m\u001b[0m\n\u001b[1;32m      3\u001b[0m     \u001b[0;32mreturn\u001b[0m \u001b[0mm\u001b[0m\u001b[0;34m\u001b[0m\u001b[0;34m\u001b[0m\u001b[0m\n\u001b[1;32m      4\u001b[0m \u001b[0;34m\u001b[0m\u001b[0m\n\u001b[0;32m----> 5\u001b[0;31m \u001b[0mm\u001b[0m \u001b[0;34m=\u001b[0m \u001b[0mmetric\u001b[0m\u001b[0;34m(\u001b[0m\u001b[0;34m)\u001b[0m\u001b[0;34m\u001b[0m\u001b[0;34m\u001b[0m\u001b[0m\n\u001b[0m\u001b[1;32m      6\u001b[0m \u001b[0mprint\u001b[0m\u001b[0;34m(\u001b[0m\u001b[0mm\u001b[0m\u001b[0;34m)\u001b[0m\u001b[0;34m\u001b[0m\u001b[0;34m\u001b[0m\u001b[0m\n",
      "\u001b[0;32m/tmp/ipykernel_28021/560456050.py\u001b[0m in \u001b[0;36mmetric\u001b[0;34m()\u001b[0m\n\u001b[1;32m      1\u001b[0m \u001b[0;31m# mudar o nome e parâmetros de acordo com sua métrica\u001b[0m\u001b[0;34m\u001b[0m\u001b[0;34m\u001b[0m\u001b[0m\n\u001b[1;32m      2\u001b[0m \u001b[0;32mdef\u001b[0m \u001b[0mmetric\u001b[0m\u001b[0;34m(\u001b[0m\u001b[0;34m)\u001b[0m\u001b[0;34m:\u001b[0m\u001b[0;34m\u001b[0m\u001b[0;34m\u001b[0m\u001b[0m\n\u001b[0;32m----> 3\u001b[0;31m     \u001b[0;32mreturn\u001b[0m \u001b[0mm\u001b[0m\u001b[0;34m\u001b[0m\u001b[0;34m\u001b[0m\u001b[0m\n\u001b[0m\u001b[1;32m      4\u001b[0m \u001b[0;34m\u001b[0m\u001b[0m\n\u001b[1;32m      5\u001b[0m \u001b[0mm\u001b[0m \u001b[0;34m=\u001b[0m \u001b[0mmetric\u001b[0m\u001b[0;34m(\u001b[0m\u001b[0;34m)\u001b[0m\u001b[0;34m\u001b[0m\u001b[0;34m\u001b[0m\u001b[0m\n",
      "\u001b[0;31mNameError\u001b[0m: name 'm' is not defined"
     ]
    }
   ],
   "source": [
    "# mudar o nome e parâmetros de acordo com sua métrica\n",
    "def metric():\n",
    "    return m\n",
    "\n",
    "m = metric()\n",
    "print(m)"
   ]
  },
  {
   "cell_type": "markdown",
   "metadata": {
    "id": "wtFI7jQQSvhV"
   },
   "source": [
    "Uma boa prática é escolher modelos mais simples, dados dois modelos com desempenho similar a escolha do mais simples é indicada pois com isso há algumas garantias de melhor generalização. Generalização, de maneira geral, é a propriedade que garante que o classificador terá desempenho parecido ao reportado no conjunto de teste.\n",
    "\n",
    "A definição da complexidade de um modelo nem sempre é uma tarefa fácil. Uma maneira de tentar mensurar isso é através do número de parâmetros do modelo, do tipo de função que ele implementa (linear ou não linear, cortes ortogonais no espaço, ...)."
   ]
  },
  {
   "cell_type": "markdown",
   "metadata": {
    "id": "K6f0yT8l86PD"
   },
   "source": [
    "### Questão 03.\n",
    "\n",
    "Complete e execute a função *classificacao* definida no notebook.\n",
    "\n",
    "- Aplique validação cruzada\n",
    "- Use sua função de pré-processamento\n",
    "- Use sua métrica de avaliação\n",
    "- Diga qual o modelo tem o melhor desempenho e explique porque você acha isso.\n",
    "\n",
    "**Sugestão**: Utilize o gabarito do exercício anterior como referência."
   ]
  },
  {
   "cell_type": "code",
   "execution_count": null,
   "metadata": {
    "id": "WaR7HyvO9zss"
   },
   "outputs": [],
   "source": [
    "from sklearn.tree import DecisionTreeClassifier\n",
    "from sklearn.linear_model import Perceptron\n",
    "from sklearn.model_selection import KFold\n",
    "from matplotlib import pyplot as plt\n",
    "from numpy import mean, std\n",
    "import numpy as np\n",
    "\n",
    "\n",
    "def classificacao(data, columns, target, preproc_fn, score_fn, score_name,\n",
    "                  folds=5, plot=True):\n",
    "    \"\"\"\n",
    "    Executa classificação do conjunto de dados passado\n",
    "    ---------------------------------------------------------------\n",
    "    data:       DataFrame. Conjunto de dados\n",
    "    columns:    Lista de inteiros. Índice das colunas utilizadas no treinamento e teste\n",
    "    target:     Inteiro. Índice da coluna alvo\n",
    "    preproc_fn: Função. Faz o pré-processamento da base já separada em treino e teste \n",
    "    score_fn:   Função. A função que calcula a medida de desempenho desejada. Deve ser uma \n",
    "                função que compara dois vetores, o primeiro vetor são os valores preditos\n",
    "                pelo classificador, o segundo os rótulos reais\n",
    "                Vide exemplo das funções em \n",
    "                http://scikit-learn.org/stable/modules/classes.html#module-sklearn.metrics\n",
    "                como por exemplo, sklearn.metrics.accuracy_score\n",
    "                http://scikit-learn.org/stable/modules/generated/sklearn.metrics.accuracy_score.html\n",
    "    score_name: String. Uma string com o nome da medida de desempenho\n",
    "    folds:      Inteiro. Número de folds na validação cruzada\n",
    "    plot:       Booleano. True para plotar os gráficos False para não plotar\n",
    "    ---------------------------------------------------------------\n",
    "    Realiza a classificação em 2 modelos (perceptron, Árvore de decisão)\n",
    "    Plot o gráfico de desempenho para cada classificador.\n",
    "    Retorna um dicionário com os classificadores treinados, as medidas de desempenho e matriz de confusão\n",
    "    \"\"\"\n",
    "    # inicializa os modelos com os parâmetros solicitados\n",
    "    prcp = Perceptron()\n",
    "    dt = DecisionTreeClassifier(criterion='gini', splitter='best', min_samples_split=int(len(data)*0.1))\n",
    "    \n",
    "    clfs = [prcp, dt]\n",
    "    clfs_names = ['perceptron', 'dt']\n",
    "  \n",
    "    # prepara validação cruzada\n",
    "    # faz divisão do dataset em fold partes\n",
    "    ####\n",
    "    # Seu codigo aqui\n",
    "    ####\n",
    "    \n",
    "    # itera para cada classificador fazendo treino e teste\n",
    "    results = {'perceptron':[], 'dt':[]}\n",
    "    for c, c_name in zip(clfs, clfs_names):\n",
    "        # para cada split \n",
    "            \n",
    "            # separa conjunto de treino e de teste\n",
    "            ####\n",
    "            # Seu codigo aqui\n",
    "            ####\n",
    "            \n",
    "            # preprocessamento\n",
    "            ####\n",
    "            # Seu codigo aqui\n",
    "            ####\n",
    "\n",
    "            # faz o treino do modelo\n",
    "            clf = c.fit(X=x_train, y=y_train)\n",
    "            \n",
    "            # valores preditos pelo classificador\n",
    "            y_pred = clf.predict(x_test)\n",
    "            # rótulos verdadeiros convertidos para array\n",
    "            y_test = np.array(y_test)\n",
    "            \n",
    "            # realiza predição no conjunto de teste e salva o resultado\n",
    "            ####\n",
    "            # Seu codigo aqui\n",
    "            ####\n",
    "            resultado = None\n",
    "            results[c_name].append(resultado)\n",
    "    \n",
    "    if not plot:\n",
    "        return {'results': results, 'clfs':clfs}\n",
    "    # faz o plot de desempenho dos classificadores\n",
    "    plt.figure(figsize=(8,8))\n",
    "    plt.bar(range(1, len(clfs)+1), [mean(results[name]) for name in clfs_names], \n",
    "                                yerr=[std(results[name]) for name in clfs_names])\n",
    "    plt.xticks(range(1, len(clfs)+1), clfs_names, rotation=45)\n",
    "    title = 'Desempenho dos classificadores - %s'%(score_name)\n",
    "    plt.title(title)\n",
    "    plt.show()\n",
    "    \n",
    "    return {'results': results, 'clfs':clfs}"
   ]
  },
  {
   "cell_type": "code",
   "execution_count": null,
   "metadata": {
    "id": "NJWy5TLNrp6T"
   },
   "outputs": [],
   "source": [
    "# Chama a função com suas métricas"
   ]
  },
  {
   "cell_type": "markdown",
   "metadata": {
    "id": "njxCEyHt9BH6"
   },
   "source": [
    "---\n",
    "\n",
    "### Questão 04.\n",
    "\n",
    "Utilizar os 2 procedimentos de amostragem para estimação do desempenho:\n",
    "- 10-fold Cross Validation;\n",
    "- Leave-one-out;\n",
    "\n",
    "Para o dataset escolhido, executar os 2 procedimentos acima para estimar o desempenho. Avalie a diferença na variância entre essas abordagens.\n",
    "\n",
    "  * Você pode utilizar a função *classificacao* já disponível apenas ajustando o parâmetro *folds*.\n",
    "\n",
    "Essas execuções podem demorar um pouco, então tenham paciência."
   ]
  },
  {
   "cell_type": "code",
   "execution_count": null,
   "metadata": {
    "id": "9CsPCXyv9yQ2"
   },
   "outputs": [],
   "source": [
    "# Chama a função com 10-fold cross validation"
   ]
  },
  {
   "cell_type": "code",
   "execution_count": null,
   "metadata": {
    "id": "_WwTx3oqlTQr"
   },
   "outputs": [],
   "source": [
    "# Chama a função com leave-one-out"
   ]
  }
 ],
 "metadata": {
  "colab": {
   "collapsed_sections": [],
   "name": "Ex8.ipynb",
   "provenance": [
    {
     "file_id": "1rDUjv2mXomJnKX-xBoU6jWw25p52b0vA",
     "timestamp": 1591284005613
    },
    {
     "file_id": "1vh_baUGNIgEvcwczP8WSdv4Mkhb3aVrC",
     "timestamp": 1591283811719
    }
   ]
  },
  "kernelspec": {
   "display_name": "Python 3 (ipykernel)",
   "language": "python",
   "name": "python3"
  },
  "language_info": {
   "codemirror_mode": {
    "name": "ipython",
    "version": 3
   },
   "file_extension": ".py",
   "mimetype": "text/x-python",
   "name": "python",
   "nbconvert_exporter": "python",
   "pygments_lexer": "ipython3",
   "version": "3.9.7"
  }
 },
 "nbformat": 4,
 "nbformat_minor": 1
}
