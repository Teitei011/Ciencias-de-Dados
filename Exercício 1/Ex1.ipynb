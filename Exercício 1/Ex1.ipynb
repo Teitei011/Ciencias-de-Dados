{
 "cells": [
  {
   "cell_type": "markdown",
   "metadata": {
    "id": "gkjYMF3lBbF_"
   },
   "source": [
    "# SCC-ICMC-USP - 2o. semestre de 2021\n",
    "# SCC0275. \n",
    "\n",
    "### Profa. Roseli A. F. Romero\n",
    "\n",
    "### Monitor: Kenzo Sakiyama\n",
    "\n",
    "Nro do grupo:\n",
    "\n",
    "Alunos:\n",
    "\n",
    "\n",
    "1.   Stefan Taiguara Couperus Leal 10414866\n",
    "2.   List item\n"
   ]
  },
  {
   "cell_type": "markdown",
   "metadata": {
    "id": "1M7Xvyh0p8f5"
   },
   "source": [
    "## Dados multidimensionais\n",
    "\n",
    "#### 1. Importe as bibliotecas Numpy e Pandas e carregue o conjunto de dados Iris\n",
    "\n"
   ]
  },
  {
   "cell_type": "code",
   "execution_count": 82,
   "metadata": {
    "id": "_2XBWWKfp8DD"
   },
   "outputs": [],
   "source": [
    "# Imports\n",
    "import pandas as pd"
   ]
  },
  {
   "cell_type": "code",
   "execution_count": 83,
   "metadata": {
    "id": "y6xkLXiNqU9I"
   },
   "outputs": [
    {
     "data": {
      "text/html": [
       "<div>\n",
       "<style scoped>\n",
       "    .dataframe tbody tr th:only-of-type {\n",
       "        vertical-align: middle;\n",
       "    }\n",
       "\n",
       "    .dataframe tbody tr th {\n",
       "        vertical-align: top;\n",
       "    }\n",
       "\n",
       "    .dataframe thead th {\n",
       "        text-align: right;\n",
       "    }\n",
       "</style>\n",
       "<table border=\"1\" class=\"dataframe\">\n",
       "  <thead>\n",
       "    <tr style=\"text-align: right;\">\n",
       "      <th></th>\n",
       "      <th>5.1</th>\n",
       "      <th>3.5</th>\n",
       "      <th>1.4</th>\n",
       "      <th>0.2</th>\n",
       "      <th>Iris-setosa</th>\n",
       "    </tr>\n",
       "  </thead>\n",
       "  <tbody>\n",
       "    <tr>\n",
       "      <th>0</th>\n",
       "      <td>4.9</td>\n",
       "      <td>3.0</td>\n",
       "      <td>1.4</td>\n",
       "      <td>0.2</td>\n",
       "      <td>Iris-setosa</td>\n",
       "    </tr>\n",
       "    <tr>\n",
       "      <th>1</th>\n",
       "      <td>4.7</td>\n",
       "      <td>3.2</td>\n",
       "      <td>1.3</td>\n",
       "      <td>0.2</td>\n",
       "      <td>Iris-setosa</td>\n",
       "    </tr>\n",
       "    <tr>\n",
       "      <th>2</th>\n",
       "      <td>4.6</td>\n",
       "      <td>3.1</td>\n",
       "      <td>1.5</td>\n",
       "      <td>0.2</td>\n",
       "      <td>Iris-setosa</td>\n",
       "    </tr>\n",
       "    <tr>\n",
       "      <th>3</th>\n",
       "      <td>5.0</td>\n",
       "      <td>3.6</td>\n",
       "      <td>1.4</td>\n",
       "      <td>0.2</td>\n",
       "      <td>Iris-setosa</td>\n",
       "    </tr>\n",
       "    <tr>\n",
       "      <th>4</th>\n",
       "      <td>5.4</td>\n",
       "      <td>3.9</td>\n",
       "      <td>1.7</td>\n",
       "      <td>0.4</td>\n",
       "      <td>Iris-setosa</td>\n",
       "    </tr>\n",
       "    <tr>\n",
       "      <th>...</th>\n",
       "      <td>...</td>\n",
       "      <td>...</td>\n",
       "      <td>...</td>\n",
       "      <td>...</td>\n",
       "      <td>...</td>\n",
       "    </tr>\n",
       "    <tr>\n",
       "      <th>144</th>\n",
       "      <td>6.7</td>\n",
       "      <td>3.0</td>\n",
       "      <td>5.2</td>\n",
       "      <td>2.3</td>\n",
       "      <td>Iris-virginica</td>\n",
       "    </tr>\n",
       "    <tr>\n",
       "      <th>145</th>\n",
       "      <td>6.3</td>\n",
       "      <td>2.5</td>\n",
       "      <td>5.0</td>\n",
       "      <td>1.9</td>\n",
       "      <td>Iris-virginica</td>\n",
       "    </tr>\n",
       "    <tr>\n",
       "      <th>146</th>\n",
       "      <td>6.5</td>\n",
       "      <td>3.0</td>\n",
       "      <td>5.2</td>\n",
       "      <td>2.0</td>\n",
       "      <td>Iris-virginica</td>\n",
       "    </tr>\n",
       "    <tr>\n",
       "      <th>147</th>\n",
       "      <td>6.2</td>\n",
       "      <td>3.4</td>\n",
       "      <td>5.4</td>\n",
       "      <td>2.3</td>\n",
       "      <td>Iris-virginica</td>\n",
       "    </tr>\n",
       "    <tr>\n",
       "      <th>148</th>\n",
       "      <td>5.9</td>\n",
       "      <td>3.0</td>\n",
       "      <td>5.1</td>\n",
       "      <td>1.8</td>\n",
       "      <td>Iris-virginica</td>\n",
       "    </tr>\n",
       "  </tbody>\n",
       "</table>\n",
       "<p>149 rows × 5 columns</p>\n",
       "</div>"
      ],
      "text/plain": [
       "     5.1  3.5  1.4  0.2     Iris-setosa\n",
       "0    4.9  3.0  1.4  0.2     Iris-setosa\n",
       "1    4.7  3.2  1.3  0.2     Iris-setosa\n",
       "2    4.6  3.1  1.5  0.2     Iris-setosa\n",
       "3    5.0  3.6  1.4  0.2     Iris-setosa\n",
       "4    5.4  3.9  1.7  0.4     Iris-setosa\n",
       "..   ...  ...  ...  ...             ...\n",
       "144  6.7  3.0  5.2  2.3  Iris-virginica\n",
       "145  6.3  2.5  5.0  1.9  Iris-virginica\n",
       "146  6.5  3.0  5.2  2.0  Iris-virginica\n",
       "147  6.2  3.4  5.4  2.3  Iris-virginica\n",
       "148  5.9  3.0  5.1  1.8  Iris-virginica\n",
       "\n",
       "[149 rows x 5 columns]"
      ]
     },
     "execution_count": 83,
     "metadata": {},
     "output_type": "execute_result"
    }
   ],
   "source": [
    "# Carregando base de dados\n",
    "dataframe = pd.read_csv(\"iris.data\")\n",
    "dataframe"
   ]
  },
  {
   "cell_type": "markdown",
   "metadata": {
    "id": "FpaB6u7dqXa5"
   },
   "source": [
    "### [Sobre o Iris ](https://pt.wikipedia.org/wiki/Conjunto_de_dados_flor_Iris)\n",
    "O conjunto de dados consiste em amostras de três espécies de flores Iris ( Iris setosa, Iris virginica e Iris versicolor). Quatro atributos foram medidos em cada amostra: o comprimento e a largura das sépalas e pétalas, em centímetros.\n",
    "\n",
    "A estrutura das variáveis no arquivo é:\n",
    "\n",
    "1. comprimento sépala em cm\n",
    "2. largura sépala em cm\n",
    "3. comprimento da pétala em cm\n",
    "4. largura da pétala em cm\n",
    "5. classe:\n",
    "  - Iris Setosa\n",
    "  - Iris Versicolour\n",
    "  - Iris Virginica"
   ]
  },
  {
   "cell_type": "markdown",
   "metadata": {
    "id": "1B9BsWhIsmgg"
   },
   "source": [
    "#### 2. Coloque nomes nas colunas do DataFrame de acordo com a descrição acima"
   ]
  },
  {
   "cell_type": "code",
   "execution_count": 84,
   "metadata": {
    "id": "v0d7ac3QsvBh"
   },
   "outputs": [
    {
     "data": {
      "text/html": [
       "<div>\n",
       "<style scoped>\n",
       "    .dataframe tbody tr th:only-of-type {\n",
       "        vertical-align: middle;\n",
       "    }\n",
       "\n",
       "    .dataframe tbody tr th {\n",
       "        vertical-align: top;\n",
       "    }\n",
       "\n",
       "    .dataframe thead th {\n",
       "        text-align: right;\n",
       "    }\n",
       "</style>\n",
       "<table border=\"1\" class=\"dataframe\">\n",
       "  <thead>\n",
       "    <tr style=\"text-align: right;\">\n",
       "      <th></th>\n",
       "      <th>comprimento sépala em cm</th>\n",
       "      <th>largura sépala em cm</th>\n",
       "      <th>comprimento da pétala em cm</th>\n",
       "      <th>largura da pétala em cm</th>\n",
       "      <th>classe</th>\n",
       "    </tr>\n",
       "  </thead>\n",
       "  <tbody>\n",
       "    <tr>\n",
       "      <th>0</th>\n",
       "      <td>4.9</td>\n",
       "      <td>3.0</td>\n",
       "      <td>1.4</td>\n",
       "      <td>0.2</td>\n",
       "      <td>Iris-setosa</td>\n",
       "    </tr>\n",
       "    <tr>\n",
       "      <th>1</th>\n",
       "      <td>4.7</td>\n",
       "      <td>3.2</td>\n",
       "      <td>1.3</td>\n",
       "      <td>0.2</td>\n",
       "      <td>Iris-setosa</td>\n",
       "    </tr>\n",
       "    <tr>\n",
       "      <th>2</th>\n",
       "      <td>4.6</td>\n",
       "      <td>3.1</td>\n",
       "      <td>1.5</td>\n",
       "      <td>0.2</td>\n",
       "      <td>Iris-setosa</td>\n",
       "    </tr>\n",
       "    <tr>\n",
       "      <th>3</th>\n",
       "      <td>5.0</td>\n",
       "      <td>3.6</td>\n",
       "      <td>1.4</td>\n",
       "      <td>0.2</td>\n",
       "      <td>Iris-setosa</td>\n",
       "    </tr>\n",
       "    <tr>\n",
       "      <th>4</th>\n",
       "      <td>5.4</td>\n",
       "      <td>3.9</td>\n",
       "      <td>1.7</td>\n",
       "      <td>0.4</td>\n",
       "      <td>Iris-setosa</td>\n",
       "    </tr>\n",
       "    <tr>\n",
       "      <th>...</th>\n",
       "      <td>...</td>\n",
       "      <td>...</td>\n",
       "      <td>...</td>\n",
       "      <td>...</td>\n",
       "      <td>...</td>\n",
       "    </tr>\n",
       "    <tr>\n",
       "      <th>144</th>\n",
       "      <td>6.7</td>\n",
       "      <td>3.0</td>\n",
       "      <td>5.2</td>\n",
       "      <td>2.3</td>\n",
       "      <td>Iris-virginica</td>\n",
       "    </tr>\n",
       "    <tr>\n",
       "      <th>145</th>\n",
       "      <td>6.3</td>\n",
       "      <td>2.5</td>\n",
       "      <td>5.0</td>\n",
       "      <td>1.9</td>\n",
       "      <td>Iris-virginica</td>\n",
       "    </tr>\n",
       "    <tr>\n",
       "      <th>146</th>\n",
       "      <td>6.5</td>\n",
       "      <td>3.0</td>\n",
       "      <td>5.2</td>\n",
       "      <td>2.0</td>\n",
       "      <td>Iris-virginica</td>\n",
       "    </tr>\n",
       "    <tr>\n",
       "      <th>147</th>\n",
       "      <td>6.2</td>\n",
       "      <td>3.4</td>\n",
       "      <td>5.4</td>\n",
       "      <td>2.3</td>\n",
       "      <td>Iris-virginica</td>\n",
       "    </tr>\n",
       "    <tr>\n",
       "      <th>148</th>\n",
       "      <td>5.9</td>\n",
       "      <td>3.0</td>\n",
       "      <td>5.1</td>\n",
       "      <td>1.8</td>\n",
       "      <td>Iris-virginica</td>\n",
       "    </tr>\n",
       "  </tbody>\n",
       "</table>\n",
       "<p>149 rows × 5 columns</p>\n",
       "</div>"
      ],
      "text/plain": [
       "     comprimento sépala em cm  largura sépala em cm  \\\n",
       "0                         4.9                   3.0   \n",
       "1                         4.7                   3.2   \n",
       "2                         4.6                   3.1   \n",
       "3                         5.0                   3.6   \n",
       "4                         5.4                   3.9   \n",
       "..                        ...                   ...   \n",
       "144                       6.7                   3.0   \n",
       "145                       6.3                   2.5   \n",
       "146                       6.5                   3.0   \n",
       "147                       6.2                   3.4   \n",
       "148                       5.9                   3.0   \n",
       "\n",
       "     comprimento da pétala em cm  largura da pétala em cm          classe  \n",
       "0                            1.4                      0.2     Iris-setosa  \n",
       "1                            1.3                      0.2     Iris-setosa  \n",
       "2                            1.5                      0.2     Iris-setosa  \n",
       "3                            1.4                      0.2     Iris-setosa  \n",
       "4                            1.7                      0.4     Iris-setosa  \n",
       "..                           ...                      ...             ...  \n",
       "144                          5.2                      2.3  Iris-virginica  \n",
       "145                          5.0                      1.9  Iris-virginica  \n",
       "146                          5.2                      2.0  Iris-virginica  \n",
       "147                          5.4                      2.3  Iris-virginica  \n",
       "148                          5.1                      1.8  Iris-virginica  \n",
       "\n",
       "[149 rows x 5 columns]"
      ]
     },
     "execution_count": 84,
     "metadata": {},
     "output_type": "execute_result"
    }
   ],
   "source": [
    "def add_column_names(df):\n",
    "    df.columns = [\"comprimento sépala em cm\", \"largura sépala em cm\", \"comprimento da pétala em cm\", \"largura da pétala em cm\", \"classe\"]\n",
    "    return df\n",
    "dataframe = add_column_names(dataframe)\n",
    "dataframe"
   ]
  },
  {
   "cell_type": "markdown",
   "metadata": {
    "id": "PRwETVrfs9BP"
   },
   "source": [
    "#### 3. Usando Pandas, gere um histograma dos valores para cada um dos atributos (colunas)\n",
    "\n"
   ]
  },
  {
   "cell_type": "code",
   "execution_count": 85,
   "metadata": {
    "id": "5ZVDuAEptBK2"
   },
   "outputs": [
    {
     "data": {
      "image/png": "[encoded data removed]",
      "text/plain": [
       "<Figure size 432x288 with 1 Axes>"
      ]
     },
     "metadata": {
      "needs_background": "light"
     },
     "output_type": "display_data"
    },
    {
     "data": {
      "image/png": "[encoded data removed]",
      "text/plain": [
       "<Figure size 432x288 with 1 Axes>"
      ]
     },
     "metadata": {
      "needs_background": "light"
     },
     "output_type": "display_data"
    },
    {
     "data": {
      "image/png": "[encoded data removed]",
      "text/plain": [
       "<Figure size 432x288 with 1 Axes>"
      ]
     },
     "metadata": {
      "needs_background": "light"
     },
     "output_type": "display_data"
    },
    {
     "data": {
      "image/png": "[encoded data removed]",
      "text/plain": [
       "<Figure size 432x288 with 1 Axes>"
      ]
     },
     "metadata": {
      "needs_background": "light"
     },
     "output_type": "display_data"
    }
   ],
   "source": [
    "def show_histograms(df):\n",
    "    attributes = (df.columns).tolist()\n",
    "    attributes = attributes[:-1]\n",
    "    for attribute in attributes:\n",
    "        df.hist(column=attribute)\n",
    "\n",
    "show_histograms(dataframe)"
   ]
  },
  {
   "cell_type": "markdown",
   "metadata": {
    "id": "iV2FT2mKrTxL"
   },
   "source": [
    "#### 4. Mostre o histograma para cada classe de um atributo (recebido por parâmetro)\n",
    "\n",
    "Você deverá filtrar exemplos da classe desejada antes de fazer o plot dos histogramas.\n",
    "\n",
    "---\n",
    "\n",
    "\n",
    "\n"
   ]
  },
  {
   "cell_type": "code",
   "execution_count": 86,
   "metadata": {
    "id": "KL2WGIfJtIO4"
   },
   "outputs": [
    {
     "data": {
      "image/png": "[encoded data removed]",
      "text/plain": [
       "<Figure size 432x288 with 1 Axes>"
      ]
     },
     "metadata": {
      "needs_background": "light"
     },
     "output_type": "display_data"
    }
   ],
   "source": [
    "def show_histogram_per_class(df, attr_name):\n",
    "    df.hist(column=attr_name)\n",
    "show_histogram_per_class(dataframe, \"comprimento sépala em cm\")"
   ]
  },
  {
   "cell_type": "markdown",
   "metadata": {
    "id": "X_bHuB2GtnKE"
   },
   "source": [
    "#### 5. Todas as medições foram feitas em cm, crie uma nova coluna para cada atributo com seus valores em milímetros"
   ]
  },
  {
   "cell_type": "code",
   "execution_count": 87,
   "metadata": {
    "id": "2-5ZxotvtmX8"
   },
   "outputs": [
    {
     "data": {
      "text/html": [
       "<div>\n",
       "<style scoped>\n",
       "    .dataframe tbody tr th:only-of-type {\n",
       "        vertical-align: middle;\n",
       "    }\n",
       "\n",
       "    .dataframe tbody tr th {\n",
       "        vertical-align: top;\n",
       "    }\n",
       "\n",
       "    .dataframe thead th {\n",
       "        text-align: right;\n",
       "    }\n",
       "</style>\n",
       "<table border=\"1\" class=\"dataframe\">\n",
       "  <thead>\n",
       "    <tr style=\"text-align: right;\">\n",
       "      <th></th>\n",
       "      <th>comprimento sépala em cm</th>\n",
       "      <th>largura sépala em cm</th>\n",
       "      <th>comprimento da pétala em cm</th>\n",
       "      <th>largura da pétala em cm</th>\n",
       "      <th>classe</th>\n",
       "      <th>comprimento sépala em mm</th>\n",
       "      <th>largura sépala em mm</th>\n",
       "      <th>comprimento da pétala em mm</th>\n",
       "      <th>largura da pétala em mm</th>\n",
       "    </tr>\n",
       "  </thead>\n",
       "  <tbody>\n",
       "    <tr>\n",
       "      <th>0</th>\n",
       "      <td>4.9</td>\n",
       "      <td>3.0</td>\n",
       "      <td>1.4</td>\n",
       "      <td>0.2</td>\n",
       "      <td>Iris-setosa</td>\n",
       "      <td>49.0</td>\n",
       "      <td>30.0</td>\n",
       "      <td>14.0</td>\n",
       "      <td>2.0</td>\n",
       "    </tr>\n",
       "    <tr>\n",
       "      <th>1</th>\n",
       "      <td>4.7</td>\n",
       "      <td>3.2</td>\n",
       "      <td>1.3</td>\n",
       "      <td>0.2</td>\n",
       "      <td>Iris-setosa</td>\n",
       "      <td>47.0</td>\n",
       "      <td>32.0</td>\n",
       "      <td>13.0</td>\n",
       "      <td>2.0</td>\n",
       "    </tr>\n",
       "    <tr>\n",
       "      <th>2</th>\n",
       "      <td>4.6</td>\n",
       "      <td>3.1</td>\n",
       "      <td>1.5</td>\n",
       "      <td>0.2</td>\n",
       "      <td>Iris-setosa</td>\n",
       "      <td>46.0</td>\n",
       "      <td>31.0</td>\n",
       "      <td>15.0</td>\n",
       "      <td>2.0</td>\n",
       "    </tr>\n",
       "    <tr>\n",
       "      <th>3</th>\n",
       "      <td>5.0</td>\n",
       "      <td>3.6</td>\n",
       "      <td>1.4</td>\n",
       "      <td>0.2</td>\n",
       "      <td>Iris-setosa</td>\n",
       "      <td>50.0</td>\n",
       "      <td>36.0</td>\n",
       "      <td>14.0</td>\n",
       "      <td>2.0</td>\n",
       "    </tr>\n",
       "    <tr>\n",
       "      <th>4</th>\n",
       "      <td>5.4</td>\n",
       "      <td>3.9</td>\n",
       "      <td>1.7</td>\n",
       "      <td>0.4</td>\n",
       "      <td>Iris-setosa</td>\n",
       "      <td>54.0</td>\n",
       "      <td>39.0</td>\n",
       "      <td>17.0</td>\n",
       "      <td>4.0</td>\n",
       "    </tr>\n",
       "    <tr>\n",
       "      <th>...</th>\n",
       "      <td>...</td>\n",
       "      <td>...</td>\n",
       "      <td>...</td>\n",
       "      <td>...</td>\n",
       "      <td>...</td>\n",
       "      <td>...</td>\n",
       "      <td>...</td>\n",
       "      <td>...</td>\n",
       "      <td>...</td>\n",
       "    </tr>\n",
       "    <tr>\n",
       "      <th>144</th>\n",
       "      <td>6.7</td>\n",
       "      <td>3.0</td>\n",
       "      <td>5.2</td>\n",
       "      <td>2.3</td>\n",
       "      <td>Iris-virginica</td>\n",
       "      <td>67.0</td>\n",
       "      <td>30.0</td>\n",
       "      <td>52.0</td>\n",
       "      <td>23.0</td>\n",
       "    </tr>\n",
       "    <tr>\n",
       "      <th>145</th>\n",
       "      <td>6.3</td>\n",
       "      <td>2.5</td>\n",
       "      <td>5.0</td>\n",
       "      <td>1.9</td>\n",
       "      <td>Iris-virginica</td>\n",
       "      <td>63.0</td>\n",
       "      <td>25.0</td>\n",
       "      <td>50.0</td>\n",
       "      <td>19.0</td>\n",
       "    </tr>\n",
       "    <tr>\n",
       "      <th>146</th>\n",
       "      <td>6.5</td>\n",
       "      <td>3.0</td>\n",
       "      <td>5.2</td>\n",
       "      <td>2.0</td>\n",
       "      <td>Iris-virginica</td>\n",
       "      <td>65.0</td>\n",
       "      <td>30.0</td>\n",
       "      <td>52.0</td>\n",
       "      <td>20.0</td>\n",
       "    </tr>\n",
       "    <tr>\n",
       "      <th>147</th>\n",
       "      <td>6.2</td>\n",
       "      <td>3.4</td>\n",
       "      <td>5.4</td>\n",
       "      <td>2.3</td>\n",
       "      <td>Iris-virginica</td>\n",
       "      <td>62.0</td>\n",
       "      <td>34.0</td>\n",
       "      <td>54.0</td>\n",
       "      <td>23.0</td>\n",
       "    </tr>\n",
       "    <tr>\n",
       "      <th>148</th>\n",
       "      <td>5.9</td>\n",
       "      <td>3.0</td>\n",
       "      <td>5.1</td>\n",
       "      <td>1.8</td>\n",
       "      <td>Iris-virginica</td>\n",
       "      <td>59.0</td>\n",
       "      <td>30.0</td>\n",
       "      <td>51.0</td>\n",
       "      <td>18.0</td>\n",
       "    </tr>\n",
       "  </tbody>\n",
       "</table>\n",
       "<p>149 rows × 9 columns</p>\n",
       "</div>"
      ],
      "text/plain": [
       "     comprimento sépala em cm  largura sépala em cm  \\\n",
       "0                         4.9                   3.0   \n",
       "1                         4.7                   3.2   \n",
       "2                         4.6                   3.1   \n",
       "3                         5.0                   3.6   \n",
       "4                         5.4                   3.9   \n",
       "..                        ...                   ...   \n",
       "144                       6.7                   3.0   \n",
       "145                       6.3                   2.5   \n",
       "146                       6.5                   3.0   \n",
       "147                       6.2                   3.4   \n",
       "148                       5.9                   3.0   \n",
       "\n",
       "     comprimento da pétala em cm  largura da pétala em cm          classe  \\\n",
       "0                            1.4                      0.2     Iris-setosa   \n",
       "1                            1.3                      0.2     Iris-setosa   \n",
       "2                            1.5                      0.2     Iris-setosa   \n",
       "3                            1.4                      0.2     Iris-setosa   \n",
       "4                            1.7                      0.4     Iris-setosa   \n",
       "..                           ...                      ...             ...   \n",
       "144                          5.2                      2.3  Iris-virginica   \n",
       "145                          5.0                      1.9  Iris-virginica   \n",
       "146                          5.2                      2.0  Iris-virginica   \n",
       "147                          5.4                      2.3  Iris-virginica   \n",
       "148                          5.1                      1.8  Iris-virginica   \n",
       "\n",
       "     comprimento sépala em mm  largura sépala em mm  \\\n",
       "0                        49.0                  30.0   \n",
       "1                        47.0                  32.0   \n",
       "2                        46.0                  31.0   \n",
       "3                        50.0                  36.0   \n",
       "4                        54.0                  39.0   \n",
       "..                        ...                   ...   \n",
       "144                      67.0                  30.0   \n",
       "145                      63.0                  25.0   \n",
       "146                      65.0                  30.0   \n",
       "147                      62.0                  34.0   \n",
       "148                      59.0                  30.0   \n",
       "\n",
       "     comprimento da pétala em mm  largura da pétala em mm  \n",
       "0                           14.0                      2.0  \n",
       "1                           13.0                      2.0  \n",
       "2                           15.0                      2.0  \n",
       "3                           14.0                      2.0  \n",
       "4                           17.0                      4.0  \n",
       "..                           ...                      ...  \n",
       "144                         52.0                     23.0  \n",
       "145                         50.0                     19.0  \n",
       "146                         52.0                     20.0  \n",
       "147                         54.0                     23.0  \n",
       "148                         51.0                     18.0  \n",
       "\n",
       "[149 rows x 9 columns]"
      ]
     },
     "execution_count": 87,
     "metadata": {},
     "output_type": "execute_result"
    }
   ],
   "source": [
    "def add_mm_cols(df):\n",
    "    attributes = (df.columns).tolist()\n",
    "    attributes = attributes[:-1]\n",
    "    new_df = df.copy()\n",
    "    \n",
    "    for attribute in attributes:\n",
    "        new_attribute = attribute.replace(\"cm\", \"mm\")\n",
    "        new_df[new_attribute] = df[attribute] * 10\n",
    "    \n",
    "    return new_df\n",
    "add_mm_cols(dataframe)"
   ]
  },
  {
   "cell_type": "markdown",
   "metadata": {
    "id": "7OpjoytyuHxJ"
   },
   "source": [
    "### 6.  Conte o número de amostras por classe, retorne uma lista com 3 elementos com a contagem de cada classe\n"
   ]
  },
  {
   "cell_type": "code",
   "execution_count": 88,
   "metadata": {
    "id": "bcRCORe_uUpt"
   },
   "outputs": [
    {
     "name": "stdout",
     "output_type": "stream",
     "text": [
      "classe\n",
      "Iris-setosa        49\n",
      "Iris-versicolor    50\n",
      "Iris-virginica     50\n",
      "dtype: int64\n"
     ]
    }
   ],
   "source": [
    "def count_samples_per_class(df):\n",
    "    print(df.groupby(['classe']).size())\n",
    "\n",
    "count_samples_per_class(dataframe)"
   ]
  },
  {
   "cell_type": "markdown",
   "metadata": {
    "id": "_jBX26yTut9N"
   },
   "source": [
    "#### 7. Dado um atributo, printe qual classe possui o maior e menor valor. Exemplo (não necessáriamente correto): \"A classe Iris-Setosa possui a menor medição de largura de sépala.\""
   ]
  },
  {
   "cell_type": "code",
   "execution_count": 89,
   "metadata": {
    "id": "q3qZwdfYutVM"
   },
   "outputs": [
    {
     "name": "stdout",
     "output_type": "stream",
     "text": [
      "A classe Iris-setosa possui o menor comprimento sépala em cm\n",
      "A classe Iris-virginica possui o maior comprimento sépala em cm\n"
     ]
    }
   ],
   "source": [
    "def min_max(df, attr_name):                            \n",
    "    min_class_name_index = df[attr_name].idxmin()\n",
    "    max_class_name_index = df[attr_name].idxmax()\n",
    "    \n",
    "    min_class_name = df[\"classe\"][min_class_name_index]\n",
    "    max_class_name = df[\"classe\"][max_class_name_index]\n",
    "    \n",
    "    print('A classe {} possui o menor {}'.format(min_class_name, attr_name))\n",
    "    print('A classe {} possui o maior {}'.format(max_class_name, attr_name))\n",
    "    \n",
    "min_max(dataframe, \"comprimento sépala em cm\")\n",
    "# min_max(dataframe, \"largura sépala em cm\")\n",
    "# min_max(dataframe, \"largura da pétala em cm\")\n",
    "# min_max(dataframe, \"comprimento da pétala em cm\")"
   ]
  },
  {
   "cell_type": "code",
   "execution_count": null,
   "metadata": {},
   "outputs": [],
   "source": []
  }
 ],
 "metadata": {
  "colab": {
   "collapsed_sections": [],
   "name": "Ex1.ipynb",
   "provenance": [
    {
     "file_id": "10fUzoZeTHoh6mJLSjcB9VfF1egAITKYQ",
     "timestamp": 1588941004379
    }
   ]
  },
  "kernelspec": {
   "display_name": "Python 3 (ipykernel)",
   "language": "python",
   "name": "python3"
  },
  "language_info": {
   "codemirror_mode": {
    "name": "ipython",
    "version": 3
   },
   "file_extension": ".py",
   "mimetype": "text/x-python",
   "name": "python",
   "nbconvert_exporter": "python",
   "pygments_lexer": "ipython3",
   "version": "3.9.6"
  }
 },
 "nbformat": 4,
 "nbformat_minor": 1
}
