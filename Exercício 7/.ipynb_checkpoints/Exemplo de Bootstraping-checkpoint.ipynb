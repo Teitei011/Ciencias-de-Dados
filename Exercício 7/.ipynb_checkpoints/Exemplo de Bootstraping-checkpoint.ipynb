{
 "cells": [
  {
   "cell_type": "markdown",
   "metadata": {
    "id": "PCEww9wQ_DuR"
   },
   "source": [
    "# Bootstraping no Pandas\n",
    "\n",
    "Esse notebook tem como objetivo ilustrar um exemplo de como a técnica de bootstraping pode ser empregada utilizando a biblioteca `Pandas`.\n",
    "\n",
    "---"
   ]
  },
  {
   "cell_type": "markdown",
   "metadata": {
    "id": "JfbHMx3TAUZ9"
   },
   "source": [
    "## Pré-processamento:\n",
    "\n",
    "Lendo e padronizando os dados:"
   ]
  },
  {
   "cell_type": "code",
   "execution_count": 1,
   "metadata": {
    "id": "-T50DAWgkXNk"
   },
   "outputs": [
    {
     "ename": "AttributeError",
     "evalue": "'numpy.ndarray' object has no attribute 'columns'",
     "output_type": "error",
     "traceback": [
      "\u001b[0;31m-------------------------------------------------------------------------\u001b[0m",
      "\u001b[0;31mAttributeError\u001b[0m                          Traceback (most recent call last)",
      "\u001b[0;32m<ipython-input-1-eeba4577a3f8>\u001b[0m in \u001b[0;36m<module>\u001b[0;34m\u001b[0m\n\u001b[1;32m      6\u001b[0m \u001b[0malvo\u001b[0m \u001b[0;34m=\u001b[0m \u001b[0miris\u001b[0m\u001b[0;34m.\u001b[0m\u001b[0mtarget\u001b[0m\u001b[0;34m\u001b[0m\u001b[0;34m\u001b[0m\u001b[0m\n\u001b[1;32m      7\u001b[0m \u001b[0;34m\u001b[0m\u001b[0m\n\u001b[0;32m----> 8\u001b[0;31m \u001b[0mdados\u001b[0m\u001b[0;34m.\u001b[0m\u001b[0mcolumns\u001b[0m\u001b[0;34m\u001b[0m\u001b[0;34m\u001b[0m\u001b[0m\n\u001b[0m",
      "\u001b[0;31mAttributeError\u001b[0m: 'numpy.ndarray' object has no attribute 'columns'"
     ]
    }
   ],
   "source": [
    "from sklearn.datasets import load_iris\n",
    "from sklearn.preprocessing import StandardScaler\n",
    "\n",
    "iris = load_iris() # variável iris será do tipo bunch\n",
    "dados = iris.data\n",
    "alvo = iris.target\n",
    "\n"
   ]
  },
  {
   "cell_type": "markdown",
   "metadata": {
    "id": "w9vYLTgAxLrO"
   },
   "source": [
    "Transformando o dataset do formato `sklearn.utils.Bunch` para `pandas.DataFrame`:"
   ]
  },
  {
   "cell_type": "code",
   "execution_count": null,
   "metadata": {
    "colab": {
     "base_uri": "https://localhost:8080/",
     "height": 607
    },
    "executionInfo": {
     "elapsed": 2042,
     "status": "ok",
     "timestamp": 1603821879915,
     "user": {
      "displayName": "Guilherme Nardari",
      "photoUrl": "",
      "userId": "04838521268930040889"
     },
     "user_tz": 180
    },
    "id": "wn0_nalrxTrg",
    "outputId": "2e7e626c-e2ac-4b27-ed50-50e8f2e0b796"
   },
   "outputs": [],
   "source": [
    "import pandas as pd\n",
    "import numpy as np\n",
    "from matplotlib import pyplot as plt\n",
    "\n",
    "df = pd.DataFrame(data=np.c_[dados, alvo], columns= iris['feature_names'] + ['target'])\n",
    "\n",
    "plt.rcParams['figure.figsize'] = [15, 10]\n",
    "_ = df.hist()"
   ]
  },
  {
   "cell_type": "markdown",
   "metadata": {
    "id": "7yee1IIjQrD_"
   },
   "source": [
    "Transformando o dataset em um problema binário (ao invés de termos classes tipo 0, tipo 1 e tipo 2, teremos as classes tipo 1 e tipo não 1). Para isso vamos substituir todas as ocorrências da classe 2 para classe 0:"
   ]
  },
  {
   "cell_type": "code",
   "execution_count": null,
   "metadata": {
    "colab": {
     "base_uri": "https://localhost:8080/",
     "height": 659
    },
    "executionInfo": {
     "elapsed": 1646,
     "status": "ok",
     "timestamp": 1603821882644,
     "user": {
      "displayName": "Guilherme Nardari",
      "photoUrl": "",
      "userId": "04838521268930040889"
     },
     "user_tz": 180
    },
    "id": "bzO39iPMQ43H",
    "outputId": "5f869eae-2471-4f57-e86e-57985ef733e7"
   },
   "outputs": [],
   "source": [
    "df.target = df.target.replace(to_replace = 2, value = 0)\n",
    "_ = df.hist()\n",
    "df['target'].value_counts()"
   ]
  },
  {
   "cell_type": "markdown",
   "metadata": {
    "id": "UmSIsiqgye6s"
   },
   "source": [
    "\n",
    "\n",
    "---\n",
    "\n",
    "## Cálculo de acurácia com e sem  Bootstraping"
   ]
  },
  {
   "cell_type": "markdown",
   "metadata": {
    "id": "HxOZuHzzylGi"
   },
   "source": [
    "Vamos utilizar um algoritmo de classificação simples, o KNN para K=5:"
   ]
  },
  {
   "cell_type": "code",
   "execution_count": null,
   "metadata": {
    "id": "PH5yANbly1jS"
   },
   "outputs": [],
   "source": [
    "from sklearn.neighbors import KNeighborsClassifier\n",
    "\n",
    "_5nn = KNeighborsClassifier(n_neighbors=5)"
   ]
  },
  {
   "cell_type": "markdown",
   "metadata": {
    "id": "ydos7h-Ry_wC"
   },
   "source": [
    "Separarando os dados em 80% treino e 20% teste utilizando `train_test_split` e criando um novo dataframe só de instancias de treino, para facilitar o manuseio:"
   ]
  },
  {
   "cell_type": "code",
   "execution_count": null,
   "metadata": {
    "colab": {
     "base_uri": "https://localhost:8080/",
     "height": 659
    },
    "executionInfo": {
     "elapsed": 2146,
     "status": "ok",
     "timestamp": 1603821916128,
     "user": {
      "displayName": "Guilherme Nardari",
      "photoUrl": "",
      "userId": "04838521268930040889"
     },
     "user_tz": 180
    },
    "id": "Eua1fd_qzZf_",
    "outputId": "d0ea9e34-f52d-4e31-c535-99327028ad2f"
   },
   "outputs": [],
   "source": [
    "from sklearn.metrics import balanced_accuracy_score\n",
    "from sklearn.model_selection import train_test_split\n",
    "\n",
    "p_treino = 0.8\n",
    "p_teste = 1 - p_treino\n",
    "\n",
    "X = df.iloc[:, 0:4]\n",
    "y = df.iloc[:, -1]\n",
    "\n",
    "X_train, X_test, y_train, y_test = train_test_split(X, y, stratify=y, test_size=p_teste, random_state=2)\n",
    "\n",
    "ss = StandardScaler()\n",
    "X_train = ss.fit_transform(X_train)\n",
    "X_test = ss.transform(X_test)\n",
    "\n",
    "data_train = pd.DataFrame(data=np.c_[X_train, y_train], columns= iris['feature_names'] + ['target'])\n",
    "_ = data_train.hist()\n",
    "data_train['target'].value_counts()"
   ]
  },
  {
   "cell_type": "markdown",
   "metadata": {
    "id": "vBC9JA8WlJux"
   },
   "source": [
    "Balanceando as classes no conj. de treino"
   ]
  },
  {
   "cell_type": "code",
   "execution_count": null,
   "metadata": {
    "colab": {
     "base_uri": "https://localhost:8080/",
     "height": 69
    },
    "executionInfo": {
     "elapsed": 931,
     "status": "ok",
     "timestamp": 1603821936591,
     "user": {
      "displayName": "Guilherme Nardari",
      "photoUrl": "",
      "userId": "04838521268930040889"
     },
     "user_tz": 180
    },
    "id": "YmCKA99nlCmy",
    "outputId": "f3c2f2d2-f30e-4652-b882-34a3504cb27d"
   },
   "outputs": [],
   "source": [
    "classe_0 = data_train[data_train['target'] == 0]\n",
    "classe_1 = data_train[data_train['target'] == 1]\n",
    "data_train = pd.concat([classe_0, classe_1.sample(n=80, replace=True)])\n",
    "\n",
    "X_train, y_train = data_train.iloc[:, 0:4], data_train.iloc[:, -1]\n",
    "\n",
    "data_train['target'].value_counts()\n"
   ]
  },
  {
   "cell_type": "markdown",
   "metadata": {
    "id": "0i8zRuW0oPlM"
   },
   "source": [
    "Calculando acurácia:"
   ]
  },
  {
   "cell_type": "code",
   "execution_count": null,
   "metadata": {
    "colab": {
     "base_uri": "https://localhost:8080/",
     "height": 34
    },
    "executionInfo": {
     "elapsed": 987,
     "status": "ok",
     "timestamp": 1603821939546,
     "user": {
      "displayName": "Guilherme Nardari",
      "photoUrl": "",
      "userId": "04838521268930040889"
     },
     "user_tz": 180
    },
    "id": "fsQ4ekAIoRqK",
    "outputId": "95db812e-c827-46d7-8b4d-f00c6bfd072c"
   },
   "outputs": [],
   "source": [
    "_5nn.fit(X_train, y_train)  \n",
    "y_pred = _5nn.predict(X_test)\n",
    "acc = balanced_accuracy_score(y_test, y_pred)\n",
    "print(\"Acurácia do classificador na amostra: %.2f%%\" % (acc*100))"
   ]
  },
  {
   "cell_type": "markdown",
   "metadata": {
    "id": "5NSxfvvL4FSL"
   },
   "source": [
    "Será que a acurácia real do modelo é realmente essa? \n",
    "\n",
    "Vamos verificar utilizando Bootstrap de tamanho 1000:"
   ]
  },
  {
   "cell_type": "code",
   "execution_count": null,
   "metadata": {
    "colab": {
     "base_uri": "https://localhost:8080/",
     "height": 34
    },
    "executionInfo": {
     "elapsed": 10630,
     "status": "ok",
     "timestamp": 1603821972357,
     "user": {
      "displayName": "Guilherme Nardari",
      "photoUrl": "",
      "userId": "04838521268930040889"
     },
     "user_tz": 180
    },
    "id": "G4DgtF6x1Rd8",
    "outputId": "075a4134-bdd8-40f2-d7f3-744e79f89f8f",
    "scrolled": true
   },
   "outputs": [],
   "source": [
    "no_exemplos = df.shape[0]\n",
    "p_treino = 0.8\n",
    "p_teste = 1 - p_treino\n",
    "no_bootstrap = 1000\n",
    "\n",
    "scores = []\n",
    "for i in range(0, no_bootstrap):\n",
    "    amostra = df.sample(n = no_exemplos, replace=True) # Obtendo amostra do bootstrap\n",
    "\n",
    "    X = amostra.iloc[:, 0:4] # Separando em dados \n",
    "    y = amostra.iloc[:, -1]  # e variável alvo\n",
    "\n",
    "    X_train, X_test, y_train, y_test = train_test_split(X, y, stratify=y, test_size=p_teste) # Split dos dados de maneira estratificada (mantendo prop. das classes)\n",
    "    ss = StandardScaler()\n",
    "    X_train = ss.fit_transform(X_train)\n",
    "    X_test = ss.transform(X_test)\n",
    "\n",
    "    data_train = pd.DataFrame(data=np.c_[X_train, y_train], columns= iris['feature_names'] + ['target']) # Criando um dataframe com os dados de treino\n",
    "    classe_0 = data_train[data_train['target'] == 0]\n",
    "    classe_1 = data_train[data_train['target'] == 1]\n",
    "    n_elementos_classe_0 = data_train['target'].value_counts()[0] # Coletando o número de exemplos da classe 0 para superamostragem da classe 1  \n",
    "    data_train = pd.concat([classe_0, classe_1.sample(n=n_elementos_classe_0, replace=True)]) # Superamostragem da classe 1 para numero de elementos da classe 0\n",
    "\n",
    "    X_train, y_train = data_train.iloc[:, 0:4], data_train.iloc[:, -1] # reatribuição dos dados pra treino (agora superamostrados)\n",
    "\n",
    "    _5nn.fit(X_train, y_train)  \n",
    "    y_pred = _5nn.predict(X_test)\n",
    "    scores.append(balanced_accuracy_score(y_test, y_pred))\n",
    "\n",
    "print(\"Score do classificador utilizando Bootstrap de tamanho %d: %.2f%%\" % (no_bootstrap, np.mean(scores)*100))"
   ]
  },
  {
   "cell_type": "markdown",
   "metadata": {
    "id": "oX0TYIjTPxU6"
   },
   "source": [
    "Com o bootstrap verificamos que na verdade a acurácia real tende ao valor 95.1%."
   ]
  },
  {
   "cell_type": "markdown",
   "metadata": {
    "id": "qk9PdGCmwEui"
   },
   "source": [
    "\n",
    "\n",
    "---\n",
    "\n",
    "## Matriz de confusão:\n",
    "\n",
    "Podemos calcular a matriz de confusão para cada fold, e soma-las para obter a matriz de confusão da operação de bootstrap:"
   ]
  },
  {
   "cell_type": "code",
   "execution_count": null,
   "metadata": {
    "colab": {
     "base_uri": "https://localhost:8080/",
     "height": 677
    },
    "executionInfo": {
     "elapsed": 11608,
     "status": "ok",
     "timestamp": 1603822029823,
     "user": {
      "displayName": "Guilherme Nardari",
      "photoUrl": "",
      "userId": "04838521268930040889"
     },
     "user_tz": 180
    },
    "id": "iL14QLXLwTn6",
    "outputId": "4f70b9c5-33d5-4edd-9327-3719e4517e43"
   },
   "outputs": [],
   "source": [
    "from sklearn.metrics import confusion_matrix\n",
    "import seaborn as sns\n",
    "import matplotlib.pyplot as plt\n",
    "\n",
    "no_exemplos = df.shape[0]\n",
    "p_treino = 0.8\n",
    "no_bootstrap = 1000\n",
    "\n",
    "matriz_conf = np.array([[0,0], [0,0]])\n",
    "\n",
    "scores = []\n",
    "for i in range(0, no_bootstrap):\n",
    "    amostra = df.sample(n = no_exemplos, replace=True) # Obtendo amostra\n",
    "\n",
    "    X = amostra.iloc[:, 0:4]\n",
    "    y = amostra.iloc[:, -1]\n",
    "\n",
    "    X_train, X_test, y_train, y_test = train_test_split(X, y, stratify=y, test_size=p_teste)\n",
    "    ss = StandardScaler()\n",
    "    X_train = ss.fit_transform(X_train)\n",
    "    X_test = ss.transform(X_test)\n",
    "\n",
    "    data_train = pd.DataFrame(data=np.c_[X_train, y_train], columns= iris['feature_names'] + ['target'])\n",
    "    classe_0 = data_train[data_train['target'] == 0]\n",
    "    classe_1 = data_train[data_train['target'] == 1]\n",
    "\n",
    "    # Coletando o número de exemplos da classe 0 para superamostragem da classe 1  \n",
    "    n_elementos_classe_0 = data_train['target'].value_counts()[0] \n",
    "    # Superamostragem da classe 1 para numero de elementos da classe 0\n",
    "    data_train = pd.concat([classe_0, classe_1.sample(n=n_elementos_classe_0, replace=True)])\n",
    "\n",
    "    X_train, y_train = data_train.iloc[:, 0:4], data_train.iloc[:, -1]\n",
    "\n",
    "    _5nn.fit(X_train, y_train)\n",
    "    y_pred = _5nn.predict(X_test)\n",
    "    scores.append(balanced_accuracy_score(y_test, y_pred))\n",
    "    matriz_conf += confusion_matrix(y_test, y_pred, labels=[0, 1])\n",
    "\n",
    "print(\"Score do classificador utilizando Bootstrap de tamanho %d: %.2f%%\" % (no_bootstrap, np.mean(scores)*100))\n",
    "print(\"Matriz de confusão:\")\n",
    "print(matriz_conf)\n",
    "\n",
    "sns.heatmap(matriz_conf, annot=True, fmt='d', xticklabels=['P','N'], yticklabels=['P','N']).set_title('Classe Predita')\n",
    "plt.show()"
   ]
  },
  {
   "cell_type": "code",
   "execution_count": null,
   "metadata": {
    "id": "27vuM3EeeGRI"
   },
   "outputs": [],
   "source": [
    "vp, vn, fp, fn = matriz_conf[0,0],matriz_conf[1,1],matriz_conf[1,0],matriz_conf[0,1]"
   ]
  },
  {
   "cell_type": "markdown",
   "metadata": {
    "id": "alNpGzh2cjj2"
   },
   "source": [
    "# Sensibilidade ou Revocação (Recall)\n",
    "![Screenshot from 2020-10-26 16-46-37.png](data:image/png;base64,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)"
   ]
  },
  {
   "cell_type": "code",
   "execution_count": null,
   "metadata": {
    "colab": {
     "base_uri": "https://localhost:8080/",
     "height": 34
    },
    "executionInfo": {
     "elapsed": 853,
     "status": "ok",
     "timestamp": 1603743264269,
     "user": {
      "displayName": "Guilherme Nardari",
      "photoUrl": "",
      "userId": "04838521268930040889"
     },
     "user_tz": 180
    },
    "id": "yYBpwboncJrg",
    "outputId": "01e50b9c-14d9-4773-c9a2-af61215107f7"
   },
   "outputs": [],
   "source": [
    "# No Scikit -> sklearn.metrics.recall_score\n",
    "recall = vp / (vp+fn)\n",
    "print(recall) "
   ]
  },
  {
   "cell_type": "markdown",
   "metadata": {
    "id": "TVMHIvlcdFMX"
   },
   "source": [
    "# Especificidade ou Precisão (Precision)\n",
    "\n",
    "![Screenshot from 2020-10-26 16-47-39.png](data:image/png;base64,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)"
   ]
  },
  {
   "cell_type": "code",
   "execution_count": null,
   "metadata": {
    "colab": {
     "base_uri": "https://localhost:8080/",
     "height": 34
    },
    "executionInfo": {
     "elapsed": 585,
     "status": "ok",
     "timestamp": 1603743267622,
     "user": {
      "displayName": "Guilherme Nardari",
      "photoUrl": "",
      "userId": "04838521268930040889"
     },
     "user_tz": 180
    },
    "id": "IjUAjJiGcVpB",
    "outputId": "d7410946-9e85-43a1-9556-597085628290"
   },
   "outputs": [],
   "source": [
    "# No Scikit -> sklearn.metrics.precision_score\n",
    "precision = vn / (vn+fp)\n",
    "print(precision)"
   ]
  },
  {
   "cell_type": "markdown",
   "metadata": {
    "id": "q-JmT6AzdXHU"
   },
   "source": [
    "# Acurácia\n",
    "\n",
    "![Screenshot from 2020-10-26 16-47-49.png](data:image/png;base64,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)"
   ]
  },
  {
   "cell_type": "code",
   "execution_count": null,
   "metadata": {
    "colab": {
     "base_uri": "https://localhost:8080/",
     "height": 34
    },
    "executionInfo": {
     "elapsed": 847,
     "status": "ok",
     "timestamp": 1603743270731,
     "user": {
      "displayName": "Guilherme Nardari",
      "photoUrl": "",
      "userId": "04838521268930040889"
     },
     "user_tz": 180
    },
    "id": "SfjJkOyyccfy",
    "outputId": "e1788452-1ae9-41c0-aef3-97ca816f6d21"
   },
   "outputs": [],
   "source": [
    "# No Scikit -> sklearn.metrics.accuracy_score\n",
    "acc = (vp+vn) / (vp+vn+fp+fn)\n",
    "print(acc)"
   ]
  },
  {
   "cell_type": "markdown",
   "metadata": {
    "id": "JfdtcomXdhr9"
   },
   "source": [
    "# F1-Score\n",
    "\n",
    "![Screenshot from 2020-10-26 16-47-55.png](data:image/png;base64,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)"
   ]
  },
  {
   "cell_type": "code",
   "execution_count": null,
   "metadata": {
    "colab": {
     "base_uri": "https://localhost:8080/",
     "height": 34
    },
    "executionInfo": {
     "elapsed": 862,
     "status": "ok",
     "timestamp": 1603743272407,
     "user": {
      "displayName": "Guilherme Nardari",
      "photoUrl": "",
      "userId": "04838521268930040889"
     },
     "user_tz": 180
    },
    "id": "Tw6o2bYzceSk",
    "outputId": "0223f6aa-2c9a-499e-a1b5-efa8593426dc"
   },
   "outputs": [],
   "source": [
    "# No Scikit -> sklearn.metrics.f1_score\n",
    "f1 = 2 * (precision*recall) / (precision + recall)\n",
    "print(f1)"
   ]
  }
 ],
 "metadata": {
  "colab": {
   "collapsed_sections": [],
   "name": "Copy of Exemplo de Bootstraping.ipynb",
   "provenance": [
    {
     "file_id": "178NzZGummgAfpovedHkrJqBfRsPGy7YZ",
     "timestamp": 1622210105324
    },
    {
     "file_id": "1zDGWwSMakImtKW-uBDyRON9IXBFQN7AB",
     "timestamp": 1603742835370
    }
   ]
  },
  "kernelspec": {
   "display_name": "Python 3",
   "language": "python",
   "name": "python3"
  },
  "language_info": {
   "codemirror_mode": {
    "name": "ipython",
    "version": 3
   },
   "file_extension": ".py",
   "mimetype": "text/x-python",
   "name": "python",
   "nbconvert_exporter": "python",
   "pygments_lexer": "ipython3",
   "version": "3.8.8"
  }
 },
 "nbformat": 4,
 "nbformat_minor": 1
}
